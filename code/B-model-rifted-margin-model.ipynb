{
 "cells": [
  {
   "cell_type": "markdown",
   "metadata": {},
   "source": [
    "# 2D Isostatic gravity inversion - True Model"
   ]
  },
  {
   "cell_type": "markdown",
   "metadata": {},
   "source": [
    "Este [IPython Notebook](http://ipython.org/videos.html#the-ipython-notebook) utiliza a biblioteca de código aberto [Fatiando a Terra](http://fatiando.org/)"
   ]
  },
  {
   "cell_type": "raw",
   "metadata": {},
   "source": [
    "True model of rifted margin. (model B)"
   ]
  },
  {
   "cell_type": "code",
   "execution_count": 1,
   "metadata": {},
   "outputs": [
    {
     "name": "stderr",
     "output_type": "stream",
     "text": [
      "/Users/macelabastos/anaconda2/lib/python2.7/site-packages/fatiando/vis/mpl.py:76: UserWarning: This module will be removed in v0.6. We recommend the use of matplotlib.pyplot module directly. Some of the fatiando specific functions will remain.\n",
      "  \"specific functions will remain.\")\n"
     ]
    }
   ],
   "source": [
    "#%matplotlib inline\n",
    "import numpy as np\n",
    "from scipy.misc import derivative\n",
    "import scipy as spy\n",
    "from scipy import interpolate\n",
    "import matplotlib\n",
    "matplotlib.use('TkAgg', force=True)\n",
    "import matplotlib.pyplot as plt\n",
    "import math\n",
    "import cPickle as pickle\n",
    "import datetime\n",
    "import string as st\n",
    "\n",
    "from scipy.misc import imread\n",
    "\n",
    "from __future__ import division\n",
    "\n",
    "from fatiando import gravmag, mesher, utils, gridder\n",
    "from fatiando.mesher import Prism, Polygon\n",
    "from fatiando.gravmag import prism\n",
    "from fatiando.utils import ang2vec, si2nt, contaminate\n",
    "from fatiando.gridder import regular, profile\n",
    "from fatiando.vis import mpl\n",
    "\n",
    "from numpy.testing import assert_almost_equal\n",
    "from numpy.testing import assert_array_almost_equal\n",
    "from pytest import raises\n",
    "\n",
    "plt.rc('font', size=16)"
   ]
  },
  {
   "cell_type": "code",
   "execution_count": 2,
   "metadata": {
    "collapsed": true
   },
   "outputs": [],
   "source": [
    "import functions as fc"
   ]
  },
  {
   "cell_type": "markdown",
   "metadata": {},
   "source": [
    "## Observation coordinates."
   ]
  },
  {
   "cell_type": "code",
   "execution_count": 3,
   "metadata": {
    "collapsed": true
   },
   "outputs": [],
   "source": [
    "# Model`s limits\n",
    "ymin = 0.0\n",
    "ymax = 380000.0\n",
    "zmin = -1000.0\n",
    "zmax = 40000.0\n",
    "xmin = -100000.0\n",
    "xmax = 100000.0\n",
    "\n",
    "area = [ymin, ymax, zmax, zmin]"
   ]
  },
  {
   "cell_type": "code",
   "execution_count": 4,
   "metadata": {
    "collapsed": true
   },
   "outputs": [],
   "source": [
    "ny = 150 # number of observation datas and number of prisms along the profile\n",
    "# coordinates defining the horizontal boundaries of the\n",
    "# adjacent columns along the profile\n",
    "y = np.linspace(ymin, ymax, ny)"
   ]
  },
  {
   "cell_type": "code",
   "execution_count": 5,
   "metadata": {
    "collapsed": true
   },
   "outputs": [],
   "source": [
    "# coordinates of the center of the columns forming the\n",
    "# interpretation model\n",
    "n = ny - 1\n",
    "dy = (ymax - ymin)/n\n",
    "ycmin = ymin + 0.5*dy\n",
    "ycmax = ymax - 0.5*dy\n",
    "yc = np.reshape(np.linspace(ycmin, ycmax, n),(n,1))\n",
    "x = np.zeros_like(yc)\n",
    "z = np.zeros_like(yc)-150.0"
   ]
  },
  {
   "cell_type": "code",
   "execution_count": 6,
   "metadata": {
    "collapsed": true
   },
   "outputs": [],
   "source": [
    "## Edge extension (observation coordinates)\n",
    "sigma = 2.0\n",
    "edge = sigma*dy*n"
   ]
  },
  {
   "cell_type": "markdown",
   "metadata": {},
   "source": [
    "## Model parameters"
   ]
  },
  {
   "cell_type": "code",
   "execution_count": 7,
   "metadata": {
    "collapsed": true
   },
   "outputs": [],
   "source": [
    "# Model densities\n",
    "# Indices and polygons relationship:\n",
    "# cc = continental crust layer\n",
    "# oc = ocean crust layer\n",
    "# w = water layer\n",
    "# s = sediment layer\n",
    "# m = mantle layer\n",
    "dw = np.array([1030.0])\n",
    "ds0 = np.array([2600.0])\n",
    "ds1 = np.array([2600.0])\n",
    "dcc = np.array([2850.0])\n",
    "doc = np.array([2885.0])\n",
    "dm = np.array([3250.0])\n",
    "#dc = dcc\n",
    "# coordinate defining the horizontal boundaries of the continent-ocean boundary\n",
    "COT = 165000.0\n",
    "# list defining crust density variance\n",
    "dc = np.zeros_like(yc)\n",
    "aux = yc <= COT\n",
    "for i in range(len(yc[aux])):\n",
    "    dc[i] = dcc\n",
    "for i in range(len(yc[aux]),n):\n",
    "    dc[i] = doc    \n",
    "# defining sediments layers density matrix\n",
    "ds = np.vstack((np.reshape(np.repeat(ds0,n),(1,n)),np.reshape(np.repeat(ds1,n),(1,n))))\n",
    "\n",
    "# S0 => isostatic compensation surface (Airy's model)\n",
    "# SR = S0+dS0 => reference Moho (Forward modeling)\n",
    "S0 = np.array([48000.0]) #original\n",
    "dS0 = np.array([5000.0]) #original"
   ]
  },
  {
   "cell_type": "markdown",
   "metadata": {},
   "source": [
    "## For display"
   ]
  },
  {
   "cell_type": "raw",
   "metadata": {
    "collapsed": true
   },
   "source": [
    "img = imread('../manuscript/figures/peron[2013]_fig1_cropped.png')"
   ]
  },
  {
   "cell_type": "raw",
   "metadata": {
    "collapsed": true
   },
   "source": [
    "shape=(71,349)\n",
    "extent = [ymin, ymax, zmax, 0.0]\n",
    "def calculate_aspect(shape,extent):\n",
    "    dx = (abs(extent[1] - extent[0]))/float(shape[1])\n",
    "    dy = (abs(extent[3] - extent[2]))/float(shape[0])\n",
    "    return dx/dy"
   ]
  },
  {
   "cell_type": "markdown",
   "metadata": {},
   "source": [
    "## Water bottom"
   ]
  },
  {
   "cell_type": "code",
   "execution_count": 8,
   "metadata": {
    "collapsed": true
   },
   "outputs": [],
   "source": [
    "bathymetry = np.reshape(np.loadtxt('../data/etopo1-pelotas.txt'),(n,1))\n",
    "tw = 0.0 - bathymetry"
   ]
  },
  {
   "cell_type": "markdown",
   "metadata": {},
   "source": [
    "# Sediments surfaces"
   ]
  },
  {
   "cell_type": "raw",
   "metadata": {},
   "source": [
    "mpl.close('all')\n",
    "\n",
    "axes = mpl.subplot(1,1,1)\n",
    "mpl.ylim(zmax, zmin)\n",
    "mpl.xlim(ymin, ymax)\n",
    "mpl.xticks(fontsize=12)\n",
    "mpl.yticks(fontsize=12)\n",
    "mpl.xlabel('y (km)')\n",
    "mpl.ylabel('z (km)')\n",
    "#mpl.imshow(img, extent=[ymin, ymax, zmax, 0.0], alpha=0.3)\n",
    "mpl.imshow(img, extent=extent, aspect=calculate_aspect(shape,extent), alpha=0.3)\n",
    "mpl.plot(yc, tw, '-b', linewidth=1)\n",
    "#mpl.plot(yc, basement, '-b', linewidth=1)\n",
    "mpl.paths([[ymin, 0.0]], [[ymax, 0.0]], style='og', linewidth=0)\n",
    "mpl.m2km()\n",
    "\n",
    "tos_picks = mpl.draw_polygon(area, axes, marker='.', color='r')"
   ]
  },
  {
   "cell_type": "raw",
   "metadata": {},
   "source": [
    "tos_picks"
   ]
  },
  {
   "cell_type": "code",
   "execution_count": 9,
   "metadata": {
    "collapsed": true
   },
   "outputs": [],
   "source": [
    "tos_picks = np.array([[    766.12903226,     773.55747388],\n",
    "       [  76229.83870968,    1368.17355747],\n",
    "       [  84657.25806452,    2359.20036347],\n",
    "       [ 103427.41935484,    4341.25397547],\n",
    "       [ 236733.87096774,    5332.28078146],\n",
    "       [ 378084.67741935,    5926.89686506]])"
   ]
  },
  {
   "cell_type": "code",
   "execution_count": 10,
   "metadata": {
    "collapsed": true
   },
   "outputs": [],
   "source": [
    "# change the coordinates of the extremum points in order to\n",
    "# avoid problems for constructing the interpolator\n",
    "tos_picks[0,0] = ymin\n",
    "tos_picks[-1,0] = ymax"
   ]
  },
  {
   "cell_type": "code",
   "execution_count": 11,
   "metadata": {
    "collapsed": true
   },
   "outputs": [],
   "source": [
    "tos = fc.surface_interpolate_function(tos_picks,yc)\n",
    "for i in range(len(tos)):\n",
    "    if tos[i] < tw[i]:\n",
    "        tos[i] = tw[i]"
   ]
  },
  {
   "cell_type": "code",
   "execution_count": 12,
   "metadata": {
    "collapsed": true
   },
   "outputs": [],
   "source": [
    "np.savetxt('../data/B-model-rifted-margin-true-tos-surface.txt', tos, fmt='%.18f')"
   ]
  },
  {
   "cell_type": "code",
   "execution_count": 13,
   "metadata": {
    "collapsed": true
   },
   "outputs": [],
   "source": [
    "# layer sediments thickness\n",
    "ts0 = tos - tw"
   ]
  },
  {
   "cell_type": "raw",
   "metadata": {
    "collapsed": true
   },
   "source": [
    "mpl.close('all')\n",
    "\n",
    "axes = mpl.subplot(1,1,1)\n",
    "mpl.ylim(zmax, zmin)\n",
    "mpl.xlim(ymin, ymax)\n",
    "mpl.xticks(fontsize=12)\n",
    "mpl.yticks(fontsize=12)\n",
    "mpl.xlabel('y (km)')\n",
    "mpl.ylabel('z (km)')\n",
    "#mpl.imshow(img, extent=[ymin, ymax, zmax, 0.0], alpha=0.3)\n",
    "mpl.imshow(img, extent=extent, aspect=calculate_aspect(shape,extent), alpha=0.3)\n",
    "mpl.plot(yc, tw, '-b', linewidth=1)\n",
    "mpl.plot(yc, ts0, '-b', linewidth=1)\n",
    "#mpl.plot(yc, true_basement, '-g', linewidth=1)\n",
    "mpl.paths([[ymin, 0.0]], [[ymax, 0.0]], style='og', linewidth=0)\n",
    "mpl.m2km()\n",
    "\n",
    "basement_picks = mpl.draw_polygon(area, axes, marker='.', color='r')"
   ]
  },
  {
   "cell_type": "raw",
   "metadata": {},
   "source": [
    "basement_picks"
   ]
  },
  {
   "cell_type": "code",
   "execution_count": 14,
   "metadata": {
    "collapsed": true
   },
   "outputs": [],
   "source": [
    "basement_picks = np.array([[    766.12903226,    1962.78964107],\n",
    "       [   5745.96774194,    1764.58427987],\n",
    "       [  37157.25806452,    2160.99500227],\n",
    "       [  68185.48387097,    3350.22716947],\n",
    "       [  73548.38709677,    3746.63789187],\n",
    "       [  79677.41935484,    4935.87005906],\n",
    "       [  85040.32258065,    8107.15583826],\n",
    "       [ 100362.90322581,   21981.53112222],\n",
    "       [ 104576.61290323,   24756.40617901],\n",
    "       [ 111471.77419355,   28522.3080418 ],\n",
    "       [ 113387.09677419,   29116.9241254 ],\n",
    "       [ 116834.67741935,   29116.9241254 ],\n",
    "       [ 119133.06451613,   28522.3080418 ],\n",
    "       [ 122197.58064516,   27531.2812358 ],\n",
    "       [ 125645.16129032,   27531.2812358 ],\n",
    "       [ 132540.32258065,   28522.3080418 ],\n",
    "       [ 136754.03225806,   28522.3080418 ],\n",
    "       [ 145564.51612903,   26936.6651522 ],\n",
    "       [ 152459.67741935,   22972.55792821],\n",
    "       [ 158588.70967742,   15837.16492503],\n",
    "       [ 163568.5483871 ,    8899.97728305],\n",
    "       [ 167016.12903226,    7116.12903226],\n",
    "       [ 173528.22580645,    6323.30758746],\n",
    "       [ 222560.48387097,    6323.30758746],\n",
    "       [ 227923.38709677,    7314.33439346],\n",
    "       [ 232137.09677419,    9692.79872785],\n",
    "       [ 237116.93548387,   13062.28986824],\n",
    "       [ 242096.77419355,   15044.34348024],\n",
    "       [ 252056.4516129 ,   15638.95956383],\n",
    "       [ 270826.61290323,   14251.52203544],\n",
    "       [ 278870.96774194,   13260.49522944],\n",
    "       [ 378084.67741935,   13062.28986824]])"
   ]
  },
  {
   "cell_type": "code",
   "execution_count": 15,
   "metadata": {
    "collapsed": true
   },
   "outputs": [],
   "source": [
    "# change the coordinates of the extremum points in order to\n",
    "# avoid problems for constructing the interpolator\n",
    "basement_picks[0,0] = ymin\n",
    "basement_picks[-1,0] = ymax"
   ]
  },
  {
   "cell_type": "code",
   "execution_count": 16,
   "metadata": {},
   "outputs": [],
   "source": [
    "basement = fc.surface_interpolate_function(basement_picks,yc)\n",
    "for i in range(len(basement)):\n",
    "    if basement[i] < tos[i]:\n",
    "        basement[i] = tos[i]"
   ]
  },
  {
   "cell_type": "code",
   "execution_count": 17,
   "metadata": {
    "collapsed": true
   },
   "outputs": [],
   "source": [
    "np.savetxt('../data/B-model-rifted-margin-true-basement-surface.txt', basement, fmt='%.18f')"
   ]
  },
  {
   "cell_type": "code",
   "execution_count": 18,
   "metadata": {
    "collapsed": true
   },
   "outputs": [],
   "source": [
    "# layer igneous thickness\n",
    "ts1 = basement - tos"
   ]
  },
  {
   "cell_type": "code",
   "execution_count": 19,
   "metadata": {
    "collapsed": true
   },
   "outputs": [],
   "source": [
    "# thickness sediments vector\n",
    "ts = np.vstack((np.reshape(ts0,(1,n)),np.reshape(ts1,(1,n))))"
   ]
  },
  {
   "cell_type": "markdown",
   "metadata": {},
   "source": [
    "## Moho surface"
   ]
  },
  {
   "cell_type": "raw",
   "metadata": {
    "collapsed": true
   },
   "source": [
    "mpl.close('all')\n",
    "\n",
    "axes = mpl.subplot(1,1,1)\n",
    "mpl.ylim(zmax, zmin)\n",
    "mpl.xlim(ymin, ymax)\n",
    "mpl.xticks(fontsize=12)\n",
    "mpl.yticks(fontsize=12)\n",
    "mpl.xlabel('y (km)')\n",
    "mpl.ylabel('z (km)')\n",
    "#mpl.imshow(img, extent=[ymin, ymax, zmax, 0.0], alpha=0.3)\n",
    "mpl.imshow(img, extent=extent, aspect=calculate_aspect(shape,extent), alpha=0.3)\n",
    "mpl.plot(yc, tos, '-b', linewidth=1)\n",
    "mpl.plot(yc, basement, '-b', linewidth=1)\n",
    "#mpl.plot(yc, true_moho, '-g', linewidth=1)\n",
    "#mpl.plot(yc, moho, '-g', linewidth=1)\n",
    "mpl.paths([[ymin, 0.0]], [[ymax, 0.0]], style='og', linewidth=0)\n",
    "mpl.m2km()\n",
    "#area2 = [ymin, ymax, zmax+10000., zmin]\n",
    "moho_picks = mpl.draw_polygon(area, axes, marker='.', color='r')"
   ]
  },
  {
   "cell_type": "raw",
   "metadata": {},
   "source": [
    "moho_picks"
   ]
  },
  {
   "cell_type": "code",
   "execution_count": 20,
   "metadata": {
    "collapsed": true
   },
   "outputs": [],
   "source": [
    "#picks do modelo vulcanico\n",
    "moho_picks = np.array([[   1518.33556011,   37872.3690103 ],\n",
    "       [   9985.48495019,   37967.53246753],\n",
    "       [  18981.83117715,   37586.8786386 ],\n",
    "       [  34857.73628355,   36349.75369458],\n",
    "       [  56554.80659562,   34160.99417824],\n",
    "       [  75076.69588642,   32543.21540528],\n",
    "       [  88306.61680842,   31686.74429019],\n",
    "       [ 104182.52191482,   30830.2731751 ],\n",
    "       [ 118470.83651057,   29402.82131661],\n",
    "       [ 127996.37957441,   27309.2252575 ],\n",
    "       [ 138580.31631201,   24073.6677116 ],\n",
    "       [ 148105.85937585,   23313.92745186],\n",
    "       [ 192558.39367376,   23122.03313927],\n",
    "       [ 207375.9051064 ,   23026.86968204],\n",
    "       [ 213726.26714896,   22360.72548142],\n",
    "       [ 221135.02286527,   21028.43708016],\n",
    "       [ 226426.99123407,   20267.1294223 ],\n",
    "       [ 231189.76276599,   20267.1294223 ],\n",
    "       [ 236481.73113479,   20647.78325123],\n",
    "       [ 242832.09317735,   21409.09090909],\n",
    "       [ 249182.45521991,   21409.09090909],\n",
    "       [ 253945.22675183,   21789.74473802],\n",
    "       [ 259237.19512063,   22265.56202418],\n",
    "       [ 271408.72236887,   22265.56202418],\n",
    "       [ 275642.2970639 ,   21789.74473802],\n",
    "       [ 278817.47808518,   21028.43708016],\n",
    "       [ 283580.2496171 ,   20933.27362293],\n",
    "       [ 289401.41482278,   19791.31213614],\n",
    "       [ 295751.77686534,   18459.02373489],\n",
    "       [ 299456.1547235 ,   18268.69682042],\n",
    "       [ 304748.1230923 ,   18839.67756382],\n",
    "       [ 312686.0756455 ,   19600.98522167],\n",
    "       [ 321682.42187246,   19886.47559337],\n",
    "       [ 332795.55544693,   19791.31213614],\n",
    "       [ 337029.13014197,   19600.98522167],\n",
    "       [ 342321.09851077,   18363.86027765],\n",
    "       [ 345496.27953205,   17412.22570533],\n",
    "       [ 380423.27076613,   17031.5718764 ]])"
   ]
  },
  {
   "cell_type": "code",
   "execution_count": 21,
   "metadata": {
    "collapsed": true
   },
   "outputs": [],
   "source": [
    "# change the coordinates of the extremum points in order to\n",
    "# avoid problems for constructing the interpolator\n",
    "moho_picks[0,0] = ymin\n",
    "moho_picks[-1,0] = ymax"
   ]
  },
  {
   "cell_type": "code",
   "execution_count": 22,
   "metadata": {
    "collapsed": true
   },
   "outputs": [],
   "source": [
    "moho = fc.surface_interpolate_function(moho_picks,yc) + 10000.0\n",
    "for i in range(len(moho)):\n",
    "    if moho[i] < basement[i]:\n",
    "        moho[i] = basement[i]"
   ]
  },
  {
   "cell_type": "code",
   "execution_count": 23,
   "metadata": {
    "collapsed": true
   },
   "outputs": [],
   "source": [
    "# layer mantle thickness\n",
    "tm = S0 - moho\n",
    "\n",
    "# layer crust thickness\n",
    "toc = moho - tw - ts0 - ts1"
   ]
  },
  {
   "cell_type": "code",
   "execution_count": 24,
   "metadata": {
    "collapsed": true
   },
   "outputs": [],
   "source": [
    "np.savetxt('../data/B-model-rifted-margin-true-moho-surface.txt', moho, fmt='%.18f')"
   ]
  },
  {
   "cell_type": "markdown",
   "metadata": {},
   "source": [
    "## Known depths (basement)"
   ]
  },
  {
   "cell_type": "code",
   "execution_count": 25,
   "metadata": {
    "scrolled": true
   },
   "outputs": [
    {
     "name": "stdout",
     "output_type": "stream",
     "text": [
      "[ 14026.8456376 , 1869.0890218 ],\n",
      "[ 57382.5503356 , 2936.17848552 ],\n",
      "[ 200201.342282 , 6323.30758746 ],\n",
      "[ 286912.751678 , 13244.7339327 ],\n"
     ]
    }
   ],
   "source": [
    "print '[', np.reshape(yc,(n,))[5], ',' , np.reshape(basement,(n,))[5], '],'\n",
    "print '[', np.reshape(yc,(n,))[22], ',' , np.reshape(basement,(n,))[22], '],'\n",
    "#print '[', np.reshape(yc,(n,))[40], ',' , np.reshape(basement,(n,))[40], '],'\n",
    "#print '[', np.reshape(yc,(n,))[58], ',' , np.reshape(basement,(n,))[58], '],'\n",
    "print '[', np.reshape(yc,(n,))[78], ',' , np.reshape(basement,(n,))[78], '],'\n",
    "print '[', np.reshape(yc,(n,))[112], ',' , np.reshape(basement,(n,))[112], '],'"
   ]
  },
  {
   "cell_type": "code",
   "execution_count": 26,
   "metadata": {
    "collapsed": true
   },
   "outputs": [],
   "source": [
    "# Basement surface known values\n",
    "basement_known = np.array([[ 14026.8456376 , 1869.0890218 ],\n",
    "[ 57382.5503356 , 2936.17848552 ],\n",
    "[ 200201.342282 , 6323.30758746 ],\n",
    "[ 286912.751678 , 13244.7339327 ]])\n",
    "\n",
    "#np.savetxt('../data/B-model-rifted-margin-basement-known-depths.txt', basement_known, fmt='%.18f')"
   ]
  },
  {
   "cell_type": "code",
   "execution_count": 27,
   "metadata": {},
   "outputs": [
    {
     "name": "stdout",
     "output_type": "stream",
     "text": [
      "[ 14026.8456376 , 1869.0890218 ],\n",
      "[ 57382.5503356 , 2936.17848552 ],\n",
      "[ 103288.590604 , 23908.1984893 ],\n",
      "[ 149194.630872 , 24849.6705958 ],\n",
      "[ 200201.342282 , 6323.30758746 ],\n",
      "[ 286912.751678 , 13244.7339327 ],\n"
     ]
    }
   ],
   "source": [
    "print '[', np.reshape(yc,(n,))[5], ',' , np.reshape(basement,(n,))[5], '],'\n",
    "print '[', np.reshape(yc,(n,))[22], ',' , np.reshape(basement,(n,))[22], '],'\n",
    "print '[', np.reshape(yc,(n,))[40], ',' , np.reshape(basement,(n,))[40], '],'\n",
    "print '[', np.reshape(yc,(n,))[58], ',' , np.reshape(basement,(n,))[58], '],'\n",
    "print '[', np.reshape(yc,(n,))[78], ',' , np.reshape(basement,(n,))[78], '],'\n",
    "print '[', np.reshape(yc,(n,))[112], ',' , np.reshape(basement,(n,))[112], '],'"
   ]
  },
  {
   "cell_type": "code",
   "execution_count": 28,
   "metadata": {
    "collapsed": true
   },
   "outputs": [],
   "source": [
    "# Basement surface known values\n",
    "basement_known_more = np.array([[ 14026.8456376 , 1869.0890218 ],\n",
    "[ 57382.5503356 , 2936.17848552 ],\n",
    "[ 103288.590604 , 23908.1984893 ],\n",
    "[ 149194.630872 , 24849.6705958 ],\n",
    "[ 200201.342282 , 6323.30758746 ],\n",
    "[ 286912.751678 , 13244.7339327 ]])\n",
    "\n",
    "#np.savetxt('../data/B-model-rifted-margin-basement-more-known-depths.txt', basement_known_more, fmt='%.18f')\n",
    "\n",
    "#Basement surface known values\n",
    "basement_known_new = np.array([\n",
    "[ 103288.590604 , 23908.1984893 ],\n",
    "[ 149194.630872 , 24849.6705958 ]])\n",
    "\n",
    "#np.savetxt('../data/B-model-rifted-margin-basement-new-known-depths.txt', basement_known_new, fmt='%.18f')"
   ]
  },
  {
   "cell_type": "markdown",
   "metadata": {},
   "source": [
    "## Known depths (moho)"
   ]
  },
  {
   "cell_type": "code",
   "execution_count": 39,
   "metadata": {},
   "outputs": [
    {
     "name": "stdout",
     "output_type": "stream",
     "text": [
      "[ 57382.5503356 , 44088.6956005 ],\n",
      "[ 200201.342282 , 33072.9473386 ],\n",
      "[ 286912.751678 , 30279.5232356 ]\n"
     ]
    }
   ],
   "source": [
    "print '[', np.reshape(yc,(n,))[22], ',' , np.reshape(moho,(n,))[22], '],'\n",
    "print '[', np.reshape(yc,(n,))[78], ',' , np.reshape(moho,(n,))[78], '],'\n",
    "print '[', np.reshape(yc,(n,))[112], ',' , np.reshape(moho,(n,))[112], ']'"
   ]
  },
  {
   "cell_type": "code",
   "execution_count": 30,
   "metadata": {
    "collapsed": true
   },
   "outputs": [],
   "source": [
    "# Moho surface known values\n",
    "moho_known = np.array([[ 57382.5503356 , 44088.6956005 ],\n",
    "[ 200201.342282 , 33072.9473386 ],\n",
    "[ 286912.751678 , 30279.5232356 ]])\n",
    "\n",
    "#np.savetxt('../data/B-model-rifted-margin-moho-known-depths.txt', moho_known, fmt='%.18f')"
   ]
  },
  {
   "cell_type": "markdown",
   "metadata": {},
   "source": [
    "## Synthetic data"
   ]
  },
  {
   "cell_type": "code",
   "execution_count": 31,
   "metadata": {},
   "outputs": [],
   "source": [
    "# parameters vector\n",
    "psyn = []\n",
    "psyn = np.vstack((ts1, tm, dS0))"
   ]
  },
  {
   "cell_type": "code",
   "execution_count": 32,
   "metadata": {
    "collapsed": true
   },
   "outputs": [],
   "source": [
    "# prisms calculation by Fatiando a Terra\n",
    "prism_w_syn = fc.prism_w_function(xmax,xmin,dy,edge,dw,dcc,tw,yc)\n",
    "prism_s_syn = fc.prism_s_function(xmax,xmin,dy,edge,ds,dcc,tw,psyn,yc,ts0,two_layers=True)\n",
    "prism_c_syn = fc.prism_c_function(xmax,xmin,dy,edge,S0,dcc,dc,tw,psyn,yc,ts0,two_layers=True)\n",
    "prism_m_syn = fc.prism_m_function(xmax,xmin,dy,edge,S0,dcc,dm,psyn,yc)"
   ]
  },
  {
   "cell_type": "code",
   "execution_count": 33,
   "metadata": {
    "collapsed": true
   },
   "outputs": [],
   "source": [
    "# z component of gravity calculation by Fatiando a Terra\n",
    "gzw_syn = prism.gz(np.reshape(x,(n,)),np.reshape(yc,(n,)),np.reshape(z,(n,)),prism_w_syn)\n",
    "gzs0_syn = prism.gz(np.reshape(x,(n,)),np.reshape(yc,(n,)),np.reshape(z,(n,)),prism_s_syn[1])\n",
    "gzs1_syn = prism.gz(np.reshape(x,(n,)),np.reshape(yc,(n,)),np.reshape(z,(n,)),prism_s_syn[2])\n",
    "gzc_syn = prism.gz(np.reshape(x,(n,)),np.reshape(yc,(n,)),np.reshape(z,(n,)),prism_c_syn)\n",
    "gzm_syn = prism.gz(np.reshape(x,(n,)),np.reshape(yc,(n,)),np.reshape(z,(n,)),prism_m_syn)\n",
    "\n",
    "#Observed data calculation:\n",
    "gsyn = gzw_syn + gzs0_syn + gzs1_syn + gzc_syn + gzm_syn\n",
    "#gsyn = fc.g_function(x,yc,z,gzw_syn,prism_s_syn,prism_c_syn,prism_m_syn)"
   ]
  },
  {
   "cell_type": "code",
   "execution_count": 34,
   "metadata": {
    "collapsed": true
   },
   "outputs": [],
   "source": [
    "np.savetxt('../data/B-model-rifted-margin-synthetic-gravity-data.txt', gsyn, fmt='%.18f')"
   ]
  },
  {
   "cell_type": "code",
   "execution_count": 35,
   "metadata": {
    "collapsed": true
   },
   "outputs": [],
   "source": [
    "sgm = 9.81*(10**(-6))*(dw*tw + ds0*ts0 + ds1*ts1 + dc*(S0-tw-ts0-ts1-tm)+dm*tm)"
   ]
  },
  {
   "cell_type": "markdown",
   "metadata": {},
   "source": [
    "## Model plot"
   ]
  },
  {
   "cell_type": "code",
   "execution_count": 36,
   "metadata": {
    "collapsed": true
   },
   "outputs": [],
   "source": [
    "polygons_water = []\n",
    "for (yi, twi) in zip(yc, tw):\n",
    "    y1 = yi - 0.5*dy\n",
    "    y2 = yi + 0.5*dy\n",
    "\n",
    "    polygons_water.append(Polygon(np.array([[y1, y2, y2, y1], \n",
    "                                            [0.0, 0.0, twi, twi]]).T,\n",
    "                                               props={'density': dw - dcc}))\n",
    "polygons_sediments0 = []\n",
    "for (yi, twi, s0i) in zip(yc, np.reshape(tw,(n,)), np.reshape(tos,(n,))):\n",
    "    y1 = yi - 0.5*dy\n",
    "    y2 = yi + 0.5*dy\n",
    "\n",
    "    polygons_sediments0.append(Polygon(np.array([[y1, y2, y2, y1], \n",
    "                                                [twi, twi, s0i, s0i]]).T,\n",
    "                                                    props={'density': ds0 - dcc}))\n",
    "    \n",
    "polygons_sediments1 = []\n",
    "for (yi, s0i, s1i) in zip(yc, np.reshape(tos,(n,)), np.reshape(basement,(n,))):\n",
    "    y1 = yi - 0.5*dy\n",
    "    y2 = yi + 0.5*dy\n",
    "\n",
    "    polygons_sediments1.append(Polygon(np.array([[y1, y2, y2, y1], \n",
    "                                                [s0i, s0i, s1i, s1i]]).T,\n",
    "                                                   props={'density': ds1 - dcc}))\n",
    "    \n",
    "polygons_crust = []\n",
    "for (yi, si, Si, dci) in zip(yc, np.reshape(basement,(n,)), np.reshape(moho,(n,)), dc):\n",
    "    y1 = yi - 0.5*dy\n",
    "    y2 = yi + 0.5*dy\n",
    "\n",
    "    polygons_crust.append(Polygon(np.array([[y1, y2, y2, y1], \n",
    "                                            [si, si, Si, Si]]).T,\n",
    "                                                props={'density': dci - dcc})) \n",
    "\n",
    "polygons_mantle = []\n",
    "for (yi, Si) in zip(yc, np.reshape(moho,(n,))):\n",
    "    y1 = yi - 0.5*dy\n",
    "    y2 = yi + 0.5*dy\n",
    "\n",
    "    polygons_mantle.append(Polygon(np.array([[y1, y2, y2, y1], \n",
    "                                                [Si, Si, S0+dS0, S0+dS0]]).T,\n",
    "                                                    props={'density': dm - dcc}))"
   ]
  },
  {
   "cell_type": "raw",
   "metadata": {},
   "source": [
    "aux2 = yc <= COT\n",
    "aux3 = yc >= COT-(dy)\n",
    "ybottom = ((moho[n-len(yc[aux3])]/zmax) - 1.)*(-1) - 0.02\n",
    "ytop = ((basement[n-len(yc[aux3])]/zmax) - 1.)*(-1) - 0.03\n",
    "print ybottom\n",
    "print ytop"
   ]
  },
  {
   "cell_type": "code",
   "execution_count": null,
   "metadata": {
    "collapsed": true
   },
   "outputs": [],
   "source": []
  },
  {
   "cell_type": "code",
   "execution_count": 37,
   "metadata": {},
   "outputs": [
    {
     "data": {
      "image/png": "[encoded data removed]",
      "text/plain": [
       "<matplotlib.figure.Figure at 0x10a284210>"
      ]
     },
     "metadata": {},
     "output_type": "display_data"
    }
   ],
   "source": [
    "%matplotlib inline\n",
    "plt.close('all')\n",
    "fig = plt.figure(figsize=(12,13))\n",
    "\n",
    "import matplotlib.gridspec as gridspec\n",
    "heights = [8, 8, 8, 1]\n",
    "gs = gridspec.GridSpec(4, 1, height_ratios=heights)\n",
    "ax3 = plt.subplot(gs[0])\n",
    "ax6 = plt.subplot(gs[1])\n",
    "ax4 = plt.subplot(gs[2])\n",
    "ax5 = plt.subplot(gs[3])\n",
    "\n",
    "ax3.axhline(y=0.0, xmin=ymin, xmax=ymax, color='k', linestyle='--', linewidth=1)\n",
    "#ax3.plot(0.001*yc, gobs, 'or', mfc='none', markersize=8, label='observed data')\n",
    "ax3.plot(0.001*yc, gsyn, '-g', linewidth=2, label='simulated data')\n",
    "ax3.set_xlim(0.001*ymin, 0.001*ymax)\n",
    "ax3.set_ylabel('gravity disturbance (mGal)', fontsize=16)\n",
    "ax3.set_xticklabels(['%g'% (l) for l in ax3.get_xticks()], fontsize=14)\n",
    "ax3.set_yticklabels(['%g'% (l) for l in ax3.get_yticks()], fontsize=14)\n",
    "ax3.legend(loc='best', fontsize=14, facecolor='silver')\n",
    "\n",
    "ax6.plot(0.001*yc, sgm, '-g', linewidth=2, label='lithostatic stress')\n",
    "ax6.set_xlim(0.001*ymin, 0.001*ymax)\n",
    "ax6.set_ylim(1290,1380)\n",
    "ax6.set_ylabel('Lithostatic Stress (MPa)', fontsize=16)\n",
    "ax6.set_xticklabels(['%g'% (l) for l in ax6.get_xticks()], fontsize=14)\n",
    "ax6.set_yticklabels(['%g'% (l) for l in ax6.get_yticks()], fontsize=14)\n",
    "ax6.legend(loc='best', fontsize=14, facecolor='silver')\n",
    "\n",
    "ax4.axhline(y=0.0, xmin=ymin, xmax=ymax, color='k', linestyle='-', linewidth=1)\n",
    "aux = yc <= COT\n",
    "for (pwi) in (polygons_water):\n",
    "    tmpx = [x for x in pwi.x]\n",
    "    tmpx.append(pwi.x[0])\n",
    "    tmpy = [y for y in pwi.y]\n",
    "    tmpy.append(pwi.y[0])\n",
    "    ax4.plot(tmpx, tmpy, linestyle='None')\n",
    "    ax4.fill(tmpx, tmpy, color='lightskyblue')\n",
    "for (ps0i) in (polygons_sediments0):\n",
    "    tmpx = [x for x in ps0i.x]\n",
    "    tmpx.append(ps0i.x[0])\n",
    "    tmpy = [y for y in ps0i.y]\n",
    "    tmpy.append(ps0i.y[0])\n",
    "    ax4.plot(tmpx, tmpy, linestyle='None')\n",
    "    ax4.fill(tmpx, tmpy, color='tan')\n",
    "for (ps1i) in (polygons_sediments1):\n",
    "    tmpx = [x for x in ps1i.x]\n",
    "    tmpx.append(ps1i.x[0])\n",
    "    tmpy = [y for y in ps1i.y]\n",
    "    tmpy.append(ps1i.y[0])\n",
    "    ax4.plot(tmpx, tmpy, linestyle='None')\n",
    "    ax4.fill(tmpx, tmpy, color='tan')\n",
    "for (pci) in (polygons_crust[:len(yc[aux])]):\n",
    "    tmpx = [x for x in pci.x]\n",
    "    tmpx.append(pci.x[0])\n",
    "    tmpy = [y for y in pci.y]\n",
    "    tmpy.append(pci.y[0])\n",
    "    ax4.plot(tmpx, tmpy, linestyle='None')\n",
    "    ax4.fill(tmpx, tmpy, color='orange')\n",
    "for (pcoi) in (polygons_crust[len(yc[aux]):n]):\n",
    "    tmpx = [x for x in pcoi.x]\n",
    "    tmpx.append(pcoi.x[0])\n",
    "    tmpy = [y for y in pcoi.y]\n",
    "    tmpy.append(pcoi.y[0])\n",
    "    ax4.plot(tmpx, tmpy, linestyle='None')\n",
    "    ax4.fill(tmpx, tmpy, color='olive')\n",
    "for (pmi) in (polygons_mantle):\n",
    "    tmpx = [x for x in pmi.x]\n",
    "    tmpx.append(pmi.x[0])\n",
    "    tmpy = [y for y in pmi.y]\n",
    "    tmpy.append(pmi.y[0])\n",
    "    ax4.plot(tmpx, tmpy, linestyle='None')\n",
    "    ax4.fill(tmpx, tmpy, color='pink')\n",
    "\n",
    "#ax4.axhline(y=S0, xmin=ymin, xmax=ymax, color='w', linestyle='--', linewidth=3)\n",
    "#ax4.axvline(x=COT, ymin=ybottom, ymax=ytop, linestyle=':', color='w', linewidth=3, label='COT')\n",
    "ax4.plot(yc, tw, '-k', linewidth=3)\n",
    "#ax4.plot(yc, tos, '-k', linewidth=3)\n",
    "ax4.plot(yc, basement, '-k', linewidth=3, label='true surfaces')\n",
    "ax4.plot(yc, moho, '-k', linewidth=3)\n",
    "ax4.axhline(y=S0+dS0, xmin=ymin, xmax=ymax, color='k', linestyle='-', linewidth=3)\n",
    "#ax4.set_ylim((S0+dS0), zmin)\n",
    "ax4.set_ylim((57500.0), zmin)\n",
    "ax4.set_xlim(ymin, ymax)\n",
    "ax4.set_xlabel('y (km)', fontsize=16)\n",
    "ax4.set_ylabel('z (km)', fontsize=16)\n",
    "ax4.set_xticklabels(['%g'% (0.001*l) for l in ax4.get_xticks()], fontsize=14)\n",
    "ax4.set_yticklabels(['%g'% (0.001*l) for l in ax4.get_yticks()], fontsize=14)\n",
    "#ax4.legend(loc='lower right', fontsize=14, facecolor='silver')    \n",
    "\n",
    "X, Y = fig.get_dpi()*fig.get_size_inches()\n",
    "plt.title('Density (kg/m$^{3}$)', fontsize=18)\n",
    "ax5.axis('off')\n",
    "\n",
    "layers_list1 = ['water', 'sediment', 'continental', 'oceanic', 'mantle']\n",
    "layers_list2 = ['', '', 'crust', 'crust', '']\n",
    "colors_list = ['lightskyblue', 'tan', 'orange', 'olive', 'pink']\n",
    "density_list = ['1030', '2600', '2850', '2885', '3250']\n",
    "\n",
    "ncols = len(colors_list)\n",
    "nrows = 1\n",
    "h = Y / nrows\n",
    "w = X / (ncols + 1)\n",
    "\n",
    "i=ncols-1\n",
    "for color, density, layers1, layers2 in zip(colors_list, density_list, layers_list1, layers_list2):\n",
    "    col = i // nrows\n",
    "    row = i % nrows\n",
    "    x = X - (col*w) - w\n",
    "    \n",
    "    yi_line = Y\n",
    "    yf_line = Y - Y*0.15\n",
    "    yi_text1 = Y - Y*0.2\n",
    "    yi_text2 = Y - Y*0.32\n",
    "    yi_text3 = Y - Y*0.08\n",
    "    \n",
    "    i-=1\n",
    "    poly = Polygon(np.array([[x, x+w*0.75, x+w*0.75, x], [yi_line, yi_line, yf_line, yf_line]]).T)\n",
    "    tmpx = [x for x in poly.x]\n",
    "    tmpx.append(poly.x[0])\n",
    "    tmpy = [y for y in poly.y]\n",
    "    tmpy.append(poly.y[0])\n",
    "    ax5.plot(tmpx, tmpy, linestyle='-', color='k', linewidth=1)\n",
    "    ax5.fill(tmpx, tmpy, color=color)\n",
    "    ax5.text(x+w*0.375, yi_text1, layers1, fontsize=(w*0.14), horizontalalignment='center', verticalalignment='top')\n",
    "    ax5.text(x+w*0.375, yi_text2, layers2, fontsize=(w*0.14), horizontalalignment='center', verticalalignment='top')\n",
    "    ax5.text(x+w*0.375, yi_text3, density, fontsize=(w*0.14), horizontalalignment='center', verticalalignment='center')\n",
    "\n",
    "plt.tight_layout()    \n",
    "    \n",
    "#mpl.savefig('../manuscript/figures/B-model-rifted-margin-true-model-grafics.png', dpi='figure', bbox_inches='tight')\n",
    "plt.show()      "
   ]
  },
  {
   "cell_type": "code",
   "execution_count": 38,
   "metadata": {},
   "outputs": [
    {
     "data": {
      "image/png": "[encoded data removed]",
      "text/plain": [
       "<matplotlib.figure.Figure at 0x180ded6510>"
      ]
     },
     "metadata": {},
     "output_type": "display_data"
    }
   ],
   "source": [
    "%matplotlib inline\n",
    "plt.close('all')\n",
    "fig = plt.figure(figsize=(12,7))\n",
    "\n",
    "import matplotlib.gridspec as gridspec\n",
    "heights = [8, 1]\n",
    "gs = gridspec.GridSpec(2, 1, height_ratios=heights)\n",
    "ax1 = plt.subplot(gs[0])\n",
    "ax2 = plt.subplot(gs[1])\n",
    "\n",
    "ax1.axhline(y=0.0, xmin=ymin, xmax=ymax, color='k', linestyle='-', linewidth=1)\n",
    "aux = yc <= COT\n",
    "for (pwi) in (polygons_water):\n",
    "    tmpx = [x for x in pwi.x]\n",
    "    tmpx.append(pwi.x[0])\n",
    "    tmpy = [y for y in pwi.y]\n",
    "    tmpy.append(pwi.y[0])\n",
    "    ax1.plot(tmpx, tmpy, linestyle='None')\n",
    "    ax1.fill(tmpx, tmpy, color='lightskyblue')\n",
    "for (ps0i) in (polygons_sediments0):\n",
    "    tmpx = [x for x in ps0i.x]\n",
    "    tmpx.append(ps0i.x[0])\n",
    "    tmpy = [y for y in ps0i.y]\n",
    "    tmpy.append(ps0i.y[0])\n",
    "    ax1.plot(tmpx, tmpy, linestyle='None')\n",
    "    ax1.fill(tmpx, tmpy, color='tan')\n",
    "for (ps1i) in (polygons_sediments1):\n",
    "    tmpx = [x for x in ps1i.x]\n",
    "    tmpx.append(ps1i.x[0])\n",
    "    tmpy = [y for y in ps1i.y]\n",
    "    tmpy.append(ps1i.y[0])\n",
    "    ax1.plot(tmpx, tmpy, linestyle='None')\n",
    "    ax1.fill(tmpx, tmpy, color='tan')\n",
    "for (pci) in (polygons_crust[:len(yc[aux])]):\n",
    "    tmpx = [x for x in pci.x]\n",
    "    tmpx.append(pci.x[0])\n",
    "    tmpy = [y for y in pci.y]\n",
    "    tmpy.append(pci.y[0])\n",
    "    ax1.plot(tmpx, tmpy, linestyle='None')\n",
    "    ax1.fill(tmpx, tmpy, color='orange')\n",
    "for (pcoi) in (polygons_crust[len(yc[aux]):n]):\n",
    "    tmpx = [x for x in pcoi.x]\n",
    "    tmpx.append(pcoi.x[0])\n",
    "    tmpy = [y for y in pcoi.y]\n",
    "    tmpy.append(pcoi.y[0])\n",
    "    ax1.plot(tmpx, tmpy, linestyle='None')\n",
    "    ax1.fill(tmpx, tmpy, color='olive')\n",
    "for (pmi) in (polygons_mantle):\n",
    "    tmpx = [x for x in pmi.x]\n",
    "    tmpx.append(pmi.x[0])\n",
    "    tmpy = [y for y in pmi.y]\n",
    "    tmpy.append(pmi.y[0])\n",
    "    ax1.plot(tmpx, tmpy, linestyle='None')\n",
    "    ax1.fill(tmpx, tmpy, color='pink')\n",
    "\n",
    "#ax1.axhline(y=S0, xmin=ymin, xmax=ymax, color='w', linestyle='--', linewidth=3)\n",
    "#ax1.axvline(x=COT, ymin=ybottom, ymax=ytop, linestyle=':', color='w', linewidth=3, label='COT')\n",
    "ax1.plot(yc, tw, '-k', linewidth=3)\n",
    "#ax1.plot(yc, tos, '-k', linewidth=3)\n",
    "ax1.plot(yc, basement, '-k', linewidth=3, label='true surfaces')\n",
    "ax1.plot(yc, moho, '-k', linewidth=3)\n",
    "ax1.axhline(y=S0+dS0, xmin=ymin, xmax=ymax, color='k', linestyle='-', linewidth=3)\n",
    "#ax1.set_ylim((S0+dS0), zmin)\n",
    "ax1.set_ylim((57500.0), zmin)\n",
    "ax1.set_xlim(ymin, ymax)\n",
    "ax1.set_xlabel('y (km)', fontsize=16)\n",
    "ax1.set_ylabel('z (km)', fontsize=16)\n",
    "ax1.set_xticklabels(['%g'% (0.001*l) for l in ax4.get_xticks()], fontsize=14)\n",
    "ax1.set_yticklabels(['%g'% (0.001*l) for l in ax4.get_yticks()], fontsize=14)\n",
    "#ax1.legend(loc='lower right', fontsize=14, facecolor='silver')    \n",
    "\n",
    "X, Y = fig.get_dpi()*fig.get_size_inches()\n",
    "plt.title('Density (kg/m$^{3}$)', fontsize=18)\n",
    "ax2.axis('off')\n",
    "\n",
    "layers_list1 = ['water', 'sediment', 'continental', 'oceanic', 'mantle']\n",
    "layers_list2 = ['', '', 'crust', 'crust', '']\n",
    "colors_list = ['lightskyblue', 'tan', 'orange', 'olive', 'pink']\n",
    "density_list = ['1030', '2600', '2850', '2885', '3250']\n",
    "ncols = len(colors_list)\n",
    "nrows = 1\n",
    "h = Y / nrows\n",
    "w = X / (ncols + 1)\n",
    "\n",
    "i=ncols-1\n",
    "for color, density, layers1, layers2 in zip(colors_list, density_list, layers_list1, layers_list2):\n",
    "    col = i // nrows\n",
    "    row = i % nrows\n",
    "    x = X - (col*w) - w\n",
    "    \n",
    "    yi_line = Y\n",
    "    yf_line = Y - Y*0.15\n",
    "    yi_text1 = Y - Y*0.2\n",
    "    yi_text2 = Y - Y*0.27\n",
    "    yi_text3 = Y - Y*0.08\n",
    "    \n",
    "    i-=1\n",
    "    poly = Polygon(np.array([[x, x+w*0.75, x+w*0.75, x], [yi_line, yi_line, yf_line, yf_line]]).T)\n",
    "    tmpx = [x for x in poly.x]\n",
    "    tmpx.append(poly.x[0])\n",
    "    tmpy = [y for y in poly.y]\n",
    "    tmpy.append(poly.y[0])\n",
    "    ax2.plot(tmpx, tmpy, linestyle='-', color='k', linewidth=1)\n",
    "    ax2.fill(tmpx, tmpy, color=color)\n",
    "    ax2.text(x+w*0.375, yi_text1, layers1, fontsize=(w*0.14), horizontalalignment='center', verticalalignment='top')\n",
    "    ax2.text(x+w*0.375, yi_text2, layers2, fontsize=(w*0.14), horizontalalignment='center', verticalalignment='top')\n",
    "    ax2.text(x+w*0.375, yi_text3, density, fontsize=(w*0.14), horizontalalignment='center', verticalalignment='center')\n",
    "\n",
    "plt.tight_layout()\n",
    "    \n",
    "#mpl.savefig('../manuscript/figures/B-model-rifted-margin-true-model.png', dpi='figure', bbox_inches='tight')\n",
    "plt.show()      "
   ]
  },
  {
   "cell_type": "code",
   "execution_count": null,
   "metadata": {
    "collapsed": true
   },
   "outputs": [],
   "source": []
  }
 ],
 "metadata": {
  "anaconda-cloud": {},
  "kernelspec": {
   "display_name": "Python 2",
   "language": "python",
   "name": "python2"
  },
  "language_info": {
   "codemirror_mode": {
    "name": "ipython",
    "version": 2
   },
   "file_extension": ".py",
   "mimetype": "text/x-python",
   "name": "python",
   "nbconvert_exporter": "python",
   "pygments_lexer": "ipython2",
   "version": "2.7.13"
  }
 },
 "nbformat": 4,
 "nbformat_minor": 2
}
