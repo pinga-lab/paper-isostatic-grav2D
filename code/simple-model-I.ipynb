{
 "cells": [
  {
   "cell_type": "markdown",
   "metadata": {},
   "source": [
    "# 2D Isostatic gravity inversion - True Model"
   ]
  },
  {
   "cell_type": "markdown",
   "metadata": {},
   "source": [
    "Este [IPython Notebook](http://ipython.org/videos.html#the-ipython-notebook) utiliza a biblioteca de código aberto [Fatiando a Terra](http://fatiando.org/)"
   ]
  },
  {
   "cell_type": "raw",
   "metadata": {},
   "source": [
    "True model of simple model I."
   ]
  },
  {
   "cell_type": "code",
   "execution_count": 1,
   "metadata": {},
   "outputs": [
    {
     "name": "stderr",
     "output_type": "stream",
     "text": [
      "/Users/macelabastos/anaconda2/lib/python2.7/site-packages/fatiando/vis/mpl.py:76: UserWarning: This module will be removed in v0.6. We recommend the use of matplotlib.pyplot module directly. Some of the fatiando specific functions will remain.\n",
      "  \"specific functions will remain.\")\n"
     ]
    }
   ],
   "source": [
    "#%matplotlib inline\n",
    "import numpy as np\n",
    "from scipy.misc import derivative\n",
    "import scipy as spy\n",
    "from scipy import interpolate\n",
    "import matplotlib\n",
    "matplotlib.use('TkAgg', force=True)\n",
    "import matplotlib.pyplot as plt\n",
    "import math\n",
    "import cPickle as pickle\n",
    "import datetime\n",
    "import string as st\n",
    "\n",
    "from scipy.misc import imread\n",
    "\n",
    "from __future__ import division\n",
    "\n",
    "from fatiando import gravmag, mesher, utils, gridder\n",
    "from fatiando.mesher import Prism, Polygon\n",
    "from fatiando.gravmag import prism\n",
    "from fatiando.utils import ang2vec, si2nt, contaminate\n",
    "from fatiando.gridder import regular\n",
    "from fatiando.vis import mpl\n",
    "\n",
    "from numpy.testing import assert_almost_equal\n",
    "from numpy.testing import assert_array_almost_equal\n",
    "from pytest import raises\n",
    "\n",
    "plt.rc('font', size=16)"
   ]
  },
  {
   "cell_type": "code",
   "execution_count": 2,
   "metadata": {
    "collapsed": true
   },
   "outputs": [],
   "source": [
    "import functions as fc"
   ]
  },
  {
   "cell_type": "markdown",
   "metadata": {},
   "source": [
    "## Observation coordinates."
   ]
  },
  {
   "cell_type": "code",
   "execution_count": 3,
   "metadata": {
    "collapsed": true
   },
   "outputs": [],
   "source": [
    "# Model`s limits\n",
    "ymin = 0.0\n",
    "ymax = 195000.0\n",
    "zmin = -1000.0\n",
    "zmax = 37400.0\n",
    "xmin = -100000.0\n",
    "xmax = 100000.0\n",
    "\n",
    "area = [ymin, ymax, zmax, zmin]"
   ]
  },
  {
   "cell_type": "code",
   "execution_count": 4,
   "metadata": {
    "collapsed": true
   },
   "outputs": [],
   "source": [
    "ny = 150 # number of observation datas and number of prisms along the profile\n",
    "# coordinates defining the horizontal boundaries of the\n",
    "# adjacent columns along the profile\n",
    "y = np.linspace(ymin, ymax, ny)"
   ]
  },
  {
   "cell_type": "code",
   "execution_count": 5,
   "metadata": {
    "collapsed": true
   },
   "outputs": [],
   "source": [
    "# coordinates of the center of the columns forming the\n",
    "# interpretation model\n",
    "n = ny - 1\n",
    "dy = (ymax - ymin)/n\n",
    "ycmin = ymin + 0.5*dy\n",
    "ycmax = ymax - 0.5*dy\n",
    "yc = np.reshape(np.linspace(ycmin, ycmax, n),(n,1))\n",
    "x = np.zeros_like(yc)\n",
    "z = np.zeros_like(yc)-150.0"
   ]
  },
  {
   "cell_type": "code",
   "execution_count": 6,
   "metadata": {
    "collapsed": true
   },
   "outputs": [],
   "source": [
    "## Edge extension (observation coordinates)\n",
    "sigma = 2.0\n",
    "edge = sigma*dy*n"
   ]
  },
  {
   "cell_type": "markdown",
   "metadata": {},
   "source": [
    "## Model parameters"
   ]
  },
  {
   "cell_type": "code",
   "execution_count": 7,
   "metadata": {
    "collapsed": true
   },
   "outputs": [],
   "source": [
    "# Model densities\n",
    "# Indices and polygons relationship:\n",
    "# cc = continental crust layer\n",
    "# oc = ocean crust layer\n",
    "# w = water layer\n",
    "# s = sediment layer\n",
    "# m = mantle layer\n",
    "dw = np.array([1030.0])\n",
    "ds = np.array([2550.0])\n",
    "dcc = np.array([2670.0])\n",
    "doc = np.array([2840.0])\n",
    "dm = np.array([3200.0])\n",
    "#dc = dcc\n",
    "# coordinate defining the horizontal boundaries of the continent-ocean boundary\n",
    "COT = 117000.0\n",
    "\n",
    "# list defining crust density variance\n",
    "dc = np.zeros_like(yc)\n",
    "aux = yc <= COT\n",
    "for i in range(len(yc[aux])):\n",
    "    dc[i] = dcc\n",
    "for i in range(len(yc[aux]),n):\n",
    "    dc[i] = doc\n",
    "# defining sediments layers density vector\n",
    "ds = np.reshape(np.repeat(ds,n),(n,1))\n",
    "    \n",
    "# S0 => isostatic compensation surface (Airy's model)\n",
    "# SR = S0+dS0 => reference Moho (Forward modeling)\n",
    "S0 = np.array([26500.0])\n",
    "dS0 = np.array([500.0])"
   ]
  },
  {
   "cell_type": "markdown",
   "metadata": {},
   "source": [
    "## For display"
   ]
  },
  {
   "cell_type": "raw",
   "metadata": {},
   "source": [
    "img = imread('../data/fig/zalan[2011]_fig4_cropped.png')"
   ]
  },
  {
   "cell_type": "raw",
   "metadata": {
    "collapsed": true
   },
   "source": [
    "shape=(286,661)\n",
    "extent = [ymin, ymax, zmax, 0.0]\n",
    "def calculate_aspect(shape,extent):\n",
    "    dx = (abs(extent[1] - extent[0]))/float(shape[1])\n",
    "    dy = (abs(extent[3] - extent[2]))/float(shape[0])\n",
    "    return dx/dy"
   ]
  },
  {
   "cell_type": "markdown",
   "metadata": {},
   "source": [
    "## Water bottom"
   ]
  },
  {
   "cell_type": "raw",
   "metadata": {},
   "source": [
    "mpl.close('all')\n",
    "\n",
    "axes = mpl.subplot(1,1,1)\n",
    "mpl.ylim(zmax, zmin)\n",
    "mpl.xlim(ymin, ymax)\n",
    "mpl.xticks(fontsize=12)\n",
    "mpl.yticks(fontsize=12)\n",
    "mpl.xlabel('y (km)')\n",
    "mpl.ylabel('z (km)')\n",
    "mpl.paths([[ymin, 0.0]], [[ymax, 0.0]], style='og', linewidth=0)\n",
    "mpl.imshow(img, extent=extent, aspect=calculate_aspect(shape,extent), alpha=0.3)\n",
    "#mpl.imshow(img, extent=[ymin, ymax, zmax, 0.0], alpha=0.3)\n",
    "mpl.m2km()\n",
    "\n",
    "bath_picks = mpl.draw_polygon(area, axes, color='r')"
   ]
  },
  {
   "cell_type": "raw",
   "metadata": {},
   "source": [
    "bath_picks"
   ]
  },
  {
   "cell_type": "code",
   "execution_count": 8,
   "metadata": {
    "collapsed": true
   },
   "outputs": [],
   "source": [
    "bath_picks = np.array([[  3.93145161e+02,   1.36801334e+02],\n",
    "       [  2.75201613e+03,   4.85343517e+02],\n",
    "       [  6.68346774e+03,   1.00815679e+03],\n",
    "       [  9.82862903e+03,   1.18242788e+03],\n",
    "       [  1.94606855e+04,   1.44383452e+03],\n",
    "       [  3.38104839e+04,   1.79237671e+03],\n",
    "       [  5.16985887e+04,   1.96664780e+03],\n",
    "       [  7.07661290e+04,   2.05378334e+03],\n",
    "       [  8.86542339e+04,   2.14091889e+03],\n",
    "       [  9.39616935e+04,   2.22805444e+03],\n",
    "       [  1.14012097e+05,   2.48946107e+03],\n",
    "       [  1.26003024e+05,   2.40232553e+03],\n",
    "       [  1.34259073e+05,   2.31518998e+03],\n",
    "       [  1.37207661e+05,   2.48946107e+03],\n",
    "       [  1.42711694e+05,   2.66373217e+03],\n",
    "       [  1.65514113e+05,   2.83800326e+03],\n",
    "       [  1.94606855e+05,   2.83800326e+03]])"
   ]
  },
  {
   "cell_type": "code",
   "execution_count": 9,
   "metadata": {
    "collapsed": true
   },
   "outputs": [],
   "source": [
    "# change the coordinates of the extremum points in order to\n",
    "# avoid problems for constructing the interpolator\n",
    "bath_picks[0,0] = ymin\n",
    "bath_picks[-1,0] = ymax"
   ]
  },
  {
   "cell_type": "code",
   "execution_count": 10,
   "metadata": {
    "collapsed": true
   },
   "outputs": [],
   "source": [
    "bathymetry = fc.surface_interpolate_function(bath_picks,yc)"
   ]
  },
  {
   "cell_type": "code",
   "execution_count": 11,
   "metadata": {
    "collapsed": true
   },
   "outputs": [],
   "source": [
    "np.savetxt('../data/simple-model-I-bathymetry.txt', bathymetry, fmt='%.18f')"
   ]
  },
  {
   "cell_type": "code",
   "execution_count": 12,
   "metadata": {
    "collapsed": true
   },
   "outputs": [],
   "source": [
    "# layer water thickness\n",
    "tw = np.reshape(bathymetry,(n,1))"
   ]
  },
  {
   "cell_type": "markdown",
   "metadata": {},
   "source": [
    "# Sediments sufaces"
   ]
  },
  {
   "cell_type": "raw",
   "metadata": {
    "collapsed": true
   },
   "source": [
    "mpl.close('all')\n",
    "\n",
    "axes = mpl.subplot(1,1,1)\n",
    "mpl.ylim(zmax, zmin)\n",
    "mpl.xlim(ymin, ymax)\n",
    "mpl.xticks(fontsize=12)\n",
    "mpl.yticks(fontsize=12)\n",
    "mpl.xlabel('y (km)')\n",
    "mpl.ylabel('z (km)')\n",
    "mpl.paths([[ymin, 0.0]], [[ymax, 0.0]], style='og', linewidth=0)\n",
    "mpl.imshow(img, extent=extent, aspect=calculate_aspect(shape,extent), alpha=0.3)\n",
    "#mpl.imshow(img, extent=[ymin, ymax, zmax, 0.0], alpha=0.3)\n",
    "mpl.m2km()\n",
    "\n",
    "sed_picks = mpl.draw_polygon(area, axes, color='r')"
   ]
  },
  {
   "cell_type": "raw",
   "metadata": {},
   "source": [
    "sed_picks"
   ]
  },
  {
   "cell_type": "code",
   "execution_count": 13,
   "metadata": {
    "collapsed": true
   },
   "outputs": [],
   "source": [
    "sed_picks = np.array([[    589.71774194,    1863.8278536 ],\n",
    "       [   2162.2983871 ,    2125.23449132],\n",
    "       [   4914.31451613,    2125.23449132],\n",
    "       [   5897.17741935,    3083.72549628],\n",
    "       [  10811.49193548,    3170.86104218],\n",
    "       [  12384.07258065,    2822.31885856],\n",
    "       [  25357.86290323,    4565.02977667],\n",
    "       [  28503.02419355,    5610.65632754],\n",
    "       [  31451.61290323,    5697.79187345],\n",
    "       [  35383.06451613,    7353.36724566],\n",
    "       [  38331.65322581,    7701.90942928],\n",
    "       [  40887.09677419,    8311.85825062],\n",
    "       [  44032.25806452,    7091.96060794],\n",
    "       [  52484.87903226,    8573.26488834],\n",
    "       [  53467.74193548,    9706.02698511],\n",
    "       [  58382.05645161,   11448.73790323],\n",
    "       [  62510.08064516,   10751.65353598],\n",
    "       [  70569.55645161,   12842.90663772],\n",
    "       [  72731.85483871,   12494.36445409],\n",
    "       [  74894.15322581,   11187.33126551],\n",
    "       [  78039.31451613,   10925.92462779],\n",
    "       [  82953.62903226,   12320.09336228],\n",
    "       [  86885.08064516,   11535.87344913],\n",
    "       [  91406.25      ,   10664.51799007],\n",
    "       [ 100645.16129032,   10490.24689826],\n",
    "       [ 108704.63709677,    9880.29807692],\n",
    "       [ 115388.10483871,   10664.51799007],\n",
    "       [ 118533.26612903,    8747.53598015],\n",
    "       [ 194213.70967742,    8747.53598015]])"
   ]
  },
  {
   "cell_type": "code",
   "execution_count": 14,
   "metadata": {
    "collapsed": true
   },
   "outputs": [],
   "source": [
    "# change the coordinates of the extremum points in order to\n",
    "# avoid problems for constructing the interpolator\n",
    "sed_picks[0,0] = ymin\n",
    "sed_picks[-1,0] = ymax"
   ]
  },
  {
   "cell_type": "code",
   "execution_count": 15,
   "metadata": {
    "collapsed": true
   },
   "outputs": [],
   "source": [
    "basement = fc.surface_interpolate_function(sed_picks,yc)\n",
    "for i in range(len(basement)):\n",
    "    if basement[i] < bathymetry[i]:\n",
    "        basement[i] = bathymetry[i]"
   ]
  },
  {
   "cell_type": "code",
   "execution_count": 16,
   "metadata": {
    "collapsed": true
   },
   "outputs": [],
   "source": [
    "# layer sediments thickness\n",
    "ts = basement - tw"
   ]
  },
  {
   "cell_type": "code",
   "execution_count": 17,
   "metadata": {
    "collapsed": true,
    "scrolled": true
   },
   "outputs": [],
   "source": [
    "np.savetxt('../data/simple-model-I-true-basement-surface.txt', basement, fmt='%.18f')"
   ]
  },
  {
   "cell_type": "markdown",
   "metadata": {},
   "source": [
    "## Moho surface"
   ]
  },
  {
   "cell_type": "raw",
   "metadata": {},
   "source": [
    "# mpl.close('all')\n",
    "\n",
    "axes = mpl.subplot(1,1,1)\n",
    "mpl.ylim(zmax, zmin)\n",
    "mpl.xlim(0.0, 195000.0)\n",
    "mpl.xticks(fontsize=12)\n",
    "mpl.yticks(fontsize=12)\n",
    "mpl.xlabel('y (km)')\n",
    "mpl.ylabel('z (km)')\n",
    "mpl.paths([[ymin, 0.0]], [[ymax, 0.0]], style='og', linewidth=0)\n",
    "mpl.imshow(img, extent=extent, aspect=calculate_aspect(shape,extent), alpha=0.3)\n",
    "#mpl.imshow(img, extent=[ymin, ymax, zmax, 0.0], alpha=0.3)\n",
    "mpl.plot(yc, tw, '-b', linewidth=1)\n",
    "mpl.plot(yc, basement, '-b', linewidth=1)\n",
    "#mpl.plot(yc, moho, '-b', linewidth=1)\n",
    "\n",
    "\n",
    "mpl.m2km()\n",
    "moho_picks = mpl.draw_polygon(area, axes, color='r')"
   ]
  },
  {
   "cell_type": "raw",
   "metadata": {},
   "source": [
    "moho_picks"
   ]
  },
  {
   "cell_type": "code",
   "execution_count": 18,
   "metadata": {
    "collapsed": true
   },
   "outputs": [],
   "source": [
    "moho_picks = np.array([[    589.71774194,   26016.05846774],\n",
    "       [   3734.87903226,   25406.1096464 ],\n",
    "       [   8649.19354839,   24796.16082506],\n",
    "       [  13170.36290323,   24186.21200372],\n",
    "       [  18870.96774194,   23489.12763648],\n",
    "       [  25161.29032258,   22704.90772333],\n",
    "       [  29485.88709677,   21920.68781017],\n",
    "       [  35383.06451613,   20700.79016749],\n",
    "       [  41869.95967742,   19045.21479529],\n",
    "       [  45015.12096774,   17825.31715261],\n",
    "       [  47767.13709677,   16344.01287221],\n",
    "       [  49929.43548387,   15385.52186725],\n",
    "       [  52091.73387097,   14775.57304591],\n",
    "       [  54843.75      ,   14252.75977047],\n",
    "       [  57792.33870968,   14252.75977047],\n",
    "       [  60740.92741935,   14427.03086228],\n",
    "       [  64082.66129032,   14688.4375    ],\n",
    "       [  66638.10483871,   14949.84413772],\n",
    "       [  70766.12903226,   14862.70859181],\n",
    "       [  74501.00806452,   14688.4375    ],\n",
    "       [  76663.30645161,   14775.57304591],\n",
    "       [  79218.75      ,   15124.11522953],\n",
    "       [  81381.0483871 ,   16082.60623449],\n",
    "       [  83936.49193548,   16692.55505583],\n",
    "       [  86885.08064516,   17215.36833127],\n",
    "       [  91602.82258065,   17651.04606079],\n",
    "       [  97500.        ,   17476.77496898],\n",
    "       [ 106542.33870968,   17302.50387717],\n",
    "       [ 115388.10483871,   17215.36833127],\n",
    "       [ 128951.61290323,   17128.23278536],\n",
    "       [ 137207.66129032,   16692.55505583],\n",
    "       [ 147036.29032258,   16344.01287221],\n",
    "       [ 150574.59677419,   16344.01287221],\n",
    "       #[ 155685.48387097,   15995.47068859],\n",
    "       #[ 160010.08064516,   15559.79295906],\n",
    "       #[ 166890.12096774,   15211.25077543],\n",
    "       #[ 172590.72580645,   15211.25077543],\n",
    "       #[ 178881.0483871 ,   15385.52186725],\n",
    "       #[ 185957.66129032,   15211.25077543],\n",
    "       #[ 191658.26612903,   15124.11522953],\n",
    "       #[ 194213.70967742,   14862.70859181]])\n",
    "        [ 194213.70967742,   16344.01287221]])"
   ]
  },
  {
   "cell_type": "code",
   "execution_count": 19,
   "metadata": {
    "collapsed": true
   },
   "outputs": [],
   "source": [
    "# change the coordinates of the extremum points in order to\n",
    "# avoid problems for constructing the interpolator\n",
    "moho_picks[0,0] = ymin\n",
    "moho_picks[-1,0] = ymax"
   ]
  },
  {
   "cell_type": "code",
   "execution_count": 20,
   "metadata": {
    "collapsed": true
   },
   "outputs": [],
   "source": [
    "moho = fc.surface_interpolate_function(moho_picks,yc)\n",
    "for i in range(len(moho)):\n",
    "    if moho[i] < basement[i]:\n",
    "        moho[i] = basement[i]"
   ]
  },
  {
   "cell_type": "code",
   "execution_count": 21,
   "metadata": {
    "collapsed": true
   },
   "outputs": [],
   "source": [
    "# layer mantle thickness\n",
    "tm = S0 - moho\n",
    "\n",
    "# layer crust thickness\n",
    "toc = moho - tw - ts"
   ]
  },
  {
   "cell_type": "code",
   "execution_count": 22,
   "metadata": {
    "collapsed": true,
    "scrolled": true
   },
   "outputs": [],
   "source": [
    "np.savetxt('../data/simple-model-I-true-moho-surface.txt', moho, fmt='%.18f')"
   ]
  },
  {
   "cell_type": "markdown",
   "metadata": {},
   "source": [
    "## Known depths"
   ]
  },
  {
   "cell_type": "code",
   "execution_count": 23,
   "metadata": {
    "scrolled": true
   },
   "outputs": [
    {
     "name": "stdout",
     "output_type": "stream",
     "text": [
      "[ 15050.3355705 , 3180.46597728 ],\n",
      "[ 55620.8053691 , 10469.5448961 ],\n",
      "[ 92265.1006711 , 10648.3177215 ],\n",
      "[ 124983.221477 , 8747.53598015 ],\n"
     ]
    }
   ],
   "source": [
    "print '[', np.reshape(yc,(n,))[11], ',' , np.reshape(basement,(n,))[11], '],'\n",
    "print '[', np.reshape(yc,(n,))[42], ',' , np.reshape(basement,(n,))[42], '],'\n",
    "print '[', np.reshape(yc,(n,))[70], ',' , np.reshape(basement,(n,))[70], '],'\n",
    "print '[', np.reshape(yc,(n,))[95], ',' , np.reshape(basement,(n,))[95], '],'\n",
    "#print '[', np.reshape(yc,(n,))[135], ',' , np.reshape(basement,(n,))[135], ']'"
   ]
  },
  {
   "cell_type": "code",
   "execution_count": 24,
   "metadata": {
    "collapsed": true
   },
   "outputs": [],
   "source": [
    "# Basement surface known values\n",
    "base_known = np.array([[ 15050.3355705 , 3180.46597728 ],\n",
    "[ 55620.8053691 , 10469.5448961 ],\n",
    "[ 92265.1006711 , 10648.3177215 ],\n",
    "[ 124983.221477 , 8747.53598015 ]])\n",
    "\n",
    "np.savetxt('../data/simple-model-I-base-known-depths.txt', base_known, fmt='%.18f')"
   ]
  },
  {
   "cell_type": "code",
   "execution_count": 25,
   "metadata": {},
   "outputs": [
    {
     "name": "stdout",
     "output_type": "stream",
     "text": [
      "[ 26828.8590604 , 22402.5117593 ],\n",
      "[ 68708.0536913 , 14906.15105 ],\n",
      "[ 111895.973154 , 17249.7677034 ]\n"
     ]
    }
   ],
   "source": [
    "print '[', np.reshape(yc,(n,))[20], ',' , np.reshape(moho,(n,))[20], '],'\n",
    "print '[', np.reshape(yc,(n,))[52], ',' , np.reshape(moho,(n,))[52], '],'\n",
    "print '[', np.reshape(yc,(n,))[85], ',' , np.reshape(moho,(n,))[85], ']'"
   ]
  },
  {
   "cell_type": "code",
   "execution_count": 26,
   "metadata": {
    "collapsed": true
   },
   "outputs": [],
   "source": [
    "# Moho surface known values\n",
    "moho_known = np.array([[ 26828.8590604 , 22402.5117593 ],\n",
    "[ 68708.0536913 , 14906.15105 ],\n",
    "[ 111895.973154 , 17249.7677034 ]])\n",
    "\n",
    "np.savetxt('../data/simple-model-I-moho-known-depths.txt', moho_known, fmt='%.18f')"
   ]
  },
  {
   "cell_type": "markdown",
   "metadata": {},
   "source": [
    "## Synthetic data"
   ]
  },
  {
   "cell_type": "code",
   "execution_count": 27,
   "metadata": {
    "collapsed": true
   },
   "outputs": [],
   "source": [
    "# parameters vector\n",
    "psyn = []\n",
    "psyn = np.vstack((ts, tm, dS0))"
   ]
  },
  {
   "cell_type": "code",
   "execution_count": 28,
   "metadata": {
    "collapsed": true
   },
   "outputs": [],
   "source": [
    "# prisms calculation by Fatiando a Terra\n",
    "prism_w_syn = fc.prism_w_function(xmax,xmin,dy,edge,dw,dcc,tw,yc)\n",
    "prism_s_syn = fc.prism_s_function(xmax,xmin,dy,edge,ds,dcc,tw,psyn,yc)\n",
    "prism_c_syn = fc.prism_c_function(xmax,xmin,dy,edge,S0,dcc,dc,tw,psyn,yc)\n",
    "prism_m_syn = fc.prism_m_function(xmax,xmin,dy,edge,S0,dcc,dm,psyn,yc)"
   ]
  },
  {
   "cell_type": "code",
   "execution_count": 29,
   "metadata": {
    "collapsed": true
   },
   "outputs": [],
   "source": [
    "# z component of gravity calculation by Fatiando a Terra\n",
    "gzw_syn = prism.gz(np.reshape(x,(n,)),np.reshape(yc,(n,)),np.reshape(z,(n,)),prism_w_syn)\n",
    "gzs_syn = prism.gz(np.reshape(x,(n,)),np.reshape(yc,(n,)),np.reshape(z,(n,)),prism_s_syn[0])\n",
    "gzc_syn = prism.gz(np.reshape(x,(n,)),np.reshape(yc,(n,)),np.reshape(z,(n,)),prism_c_syn)\n",
    "gzm_syn = prism.gz(np.reshape(x,(n,)),np.reshape(yc,(n,)),np.reshape(z,(n,)),prism_m_syn)\n",
    "\n",
    "#Observed data calculation:\n",
    "gsyn = gzw_syn + gzs_syn + gzc_syn + gzm_syn\n",
    "#gsyn = fc.g_function(x,yc,z,gzw_syn,prism_s_syn,prism_c_syn,prism_m_syn)"
   ]
  },
  {
   "cell_type": "code",
   "execution_count": 30,
   "metadata": {
    "collapsed": true
   },
   "outputs": [],
   "source": [
    "np.savetxt('../data/simple-model-I-synthetic-gravity-data.txt', gsyn, fmt='%.18f')"
   ]
  },
  {
   "cell_type": "markdown",
   "metadata": {},
   "source": [
    "## Model plot"
   ]
  },
  {
   "cell_type": "code",
   "execution_count": 31,
   "metadata": {
    "collapsed": true
   },
   "outputs": [],
   "source": [
    "polygons_water = []\n",
    "for (yi, twi) in zip(yc, bathymetry):\n",
    "    y1 = yi - 0.5*dy\n",
    "    y2 = yi + 0.5*dy\n",
    "\n",
    "    polygons_water.append(Polygon(np.array([[y1, y2, y2, y1], \n",
    "                                            [0.0, 0.0, twi, twi]]).T,\n",
    "                                               props={'density': dw - dcc}))\n",
    "polygons_sediments = []\n",
    "for (yi, twi, si, dsi) in zip(yc, np.reshape(bathymetry,(n,)), np.reshape(basement,(n,)), ds):\n",
    "    y1 = yi - 0.5*dy\n",
    "    y2 = yi + 0.5*dy\n",
    "\n",
    "    polygons_sediments.append(Polygon(np.array([[y1, y2, y2, y1], \n",
    "                                                [twi, twi, si, si]]).T,\n",
    "                                                    props={'density': ds - dcc}))\n",
    "\n",
    "polygons_crust = []\n",
    "for (yi, si, Si, dci) in zip(yc, np.reshape(basement,(n,)), np.reshape(moho,(n,)), dc):\n",
    "    y1 = yi - 0.5*dy\n",
    "    y2 = yi + 0.5*dy\n",
    "\n",
    "    polygons_crust.append(Polygon(np.array([[y1, y2, y2, y1], \n",
    "                                            [si, si, Si, Si]]).T,\n",
    "                                                props={'density': dci - dcc})) \n",
    "\n",
    "polygons_mantle = []\n",
    "for (yi, Si) in zip(yc, np.reshape(moho,(n,))):\n",
    "    y1 = yi - 0.5*dy\n",
    "    y2 = yi + 0.5*dy\n",
    "\n",
    "    polygons_mantle.append(Polygon(np.array([[y1, y2, y2, y1], \n",
    "                                                [Si, Si, S0+dS0, S0+dS0]]).T,\n",
    "                                                    props={'density': dm - dcc}))"
   ]
  },
  {
   "cell_type": "code",
   "execution_count": 32,
   "metadata": {},
   "outputs": [
    {
     "data": {
      "image/png": "[encoded data removed]",
      "text/plain": [
       "<matplotlib.figure.Figure at 0x1817f39c90>"
      ]
     },
     "metadata": {},
     "output_type": "display_data"
    }
   ],
   "source": [
    "%matplotlib inline\n",
    "plt.close('all')\n",
    "fig = plt.figure(figsize=(12,7))\n",
    "\n",
    "import matplotlib.gridspec as gridspec\n",
    "heights = [8, 1]\n",
    "gs = gridspec.GridSpec(2, 1, height_ratios=heights)\n",
    "ax1 = plt.subplot(gs[0])\n",
    "ax2 = plt.subplot(gs[1])\n",
    "\n",
    "ax1.axhline(y=0.0, xmin=ymin, xmax=ymax, color='k', linestyle='-', linewidth=1)\n",
    "aux = yc <= COT\n",
    "for (pwi) in (polygons_water):\n",
    "    tmpx = [x for x in pwi.x]\n",
    "    tmpx.append(pwi.x[0])\n",
    "    tmpy = [y for y in pwi.y]\n",
    "    tmpy.append(pwi.y[0])\n",
    "    ax1.plot(tmpx, tmpy, linestyle='None')\n",
    "    ax1.fill(tmpx, tmpy, color='aqua')\n",
    "for (psi) in (polygons_sediments):\n",
    "    tmpx = [x for x in psi.x]\n",
    "    tmpx.append(psi.x[0])\n",
    "    tmpy = [y for y in psi.y]\n",
    "    tmpy.append(psi.y[0])\n",
    "    ax1.plot(tmpx, tmpy, linestyle='None')\n",
    "    ax1.fill(tmpx, tmpy, color='tan')\n",
    "for (pci) in (polygons_crust[:len(yc[aux])]):\n",
    "    tmpx = [x for x in pci.x]\n",
    "    tmpx.append(pci.x[0])\n",
    "    tmpy = [y for y in pci.y]\n",
    "    tmpy.append(pci.y[0])\n",
    "    ax1.plot(tmpx, tmpy, linestyle='None')\n",
    "    ax1.fill(tmpx, tmpy, color='orange')\n",
    "for (pcoi) in (polygons_crust[len(yc[aux]):n]):\n",
    "    tmpx = [x for x in pcoi.x]\n",
    "    tmpx.append(pcoi.x[0])\n",
    "    tmpy = [y for y in pcoi.y]\n",
    "    tmpy.append(pcoi.y[0])\n",
    "    ax1.plot(tmpx, tmpy, linestyle='None')\n",
    "    ax1.fill(tmpx, tmpy, color='orangered')\n",
    "for (pmi) in (polygons_mantle):\n",
    "    tmpx = [x for x in pmi.x]\n",
    "    tmpx.append(pmi.x[0])\n",
    "    tmpy = [y for y in pmi.y]\n",
    "    tmpy.append(pmi.y[0])\n",
    "    ax1.plot(tmpx, tmpy, linestyle='None')\n",
    "    ax1.fill(tmpx, tmpy, color='plum')\n",
    "\n",
    "ax1.axhline(y=S0, xmin=ymin, xmax=ymax, color='w', linestyle='--', linewidth=2)\n",
    "#ax1.axvline(x=COT, ymin=ybottom, ymax=ytop, linestyle=':', color='w', linewidth=3, label='COT')\n",
    "ax1.plot(yc, tw, '--w', linewidth=2)\n",
    "ax1.plot(yc, basement, '--w', linewidth=2, label='true surfaces')\n",
    "ax1.plot(yc, moho, '--w', linewidth=2)\n",
    "ax1.set_ylim((S0+dS0), zmin)\n",
    "ax1.set_xlim(ymin, ymax)\n",
    "ax1.set_xlabel('y (km)', fontsize=16)\n",
    "ax1.set_ylabel('z (km)', fontsize=16)\n",
    "ax1.set_xticklabels(['%g'% (0.001*l) for l in ax1.get_xticks()], fontsize=14)\n",
    "ax1.set_yticklabels(['%g'% (0.001*l) for l in ax1.get_yticks()], fontsize=14)\n",
    "ax1.legend(loc='lower right', fontsize=13, facecolor='silver')    \n",
    "\n",
    "X, Y = fig.get_dpi()*fig.get_size_inches()\n",
    "plt.title('Density (kg/m$^{3}$)', fontsize=18)\n",
    "ax2.axis('off')\n",
    "\n",
    "layers_list1 = ['water', 'sediment', 'continental', 'oceanic', 'mantle']\n",
    "layers_list2 = ['', '', 'crust', 'crust', '']\n",
    "colors_list = ['aqua', 'tan', 'orange', 'orangered', 'plum']\n",
    "density_list = ['1030.0', '2550.0', '2670.0', '2840.0', '3200.0']\n",
    "ncols = len(colors_list)\n",
    "nrows = 1\n",
    "h = Y / nrows\n",
    "w = X / (ncols + 1)\n",
    "\n",
    "i=ncols-1\n",
    "for color, density, layers1, layers2 in zip(colors_list, density_list, layers_list1, layers_list2):\n",
    "    col = i // nrows\n",
    "    row = i % nrows\n",
    "    x = X - (col*w) - w\n",
    "    \n",
    "    yi_line = Y\n",
    "    yf_line = Y - Y*0.15\n",
    "    yi_text1 = Y - Y*0.2\n",
    "    yi_text2 = Y - Y*0.27\n",
    "    yi_text3 = Y - Y*0.075\n",
    "    \n",
    "    i-=1\n",
    "    poly = Polygon(np.array([[x, x+w*0.75, x+w*0.75, x], [yi_line, yi_line, yf_line, yf_line]]).T)\n",
    "    tmpx = [x for x in poly.x]\n",
    "    tmpx.append(poly.x[0])\n",
    "    tmpy = [y for y in poly.y]\n",
    "    tmpy.append(poly.y[0])\n",
    "    ax2.plot(tmpx, tmpy, linestyle='-', color='k', linewidth=1)\n",
    "    ax2.fill(tmpx, tmpy, color=color)\n",
    "    ax2.text(x+w*0.375, yi_text1, layers1, fontsize=(w*0.11), horizontalalignment='center', verticalalignment='top')\n",
    "    ax2.text(x+w*0.375, yi_text2, layers2, fontsize=(w*0.11), horizontalalignment='center', verticalalignment='top')\n",
    "    ax2.text(x+w*0.375, yi_text3, density, fontsize=(w*0.11), horizontalalignment='center', verticalalignment='center')\n",
    "\n",
    "plt.tight_layout()    \n",
    "    \n",
    "#mpl.savefig('../data/fig/simple-model-I-true-model.png', dpi='figure', bbox_inches='tight')\n",
    "plt.show()      "
   ]
  },
  {
   "cell_type": "code",
   "execution_count": 33,
   "metadata": {},
   "outputs": [
    {
     "data": {
      "image/png": "[encoded data removed]",
      "text/plain": [
       "<matplotlib.figure.Figure at 0x181bc77c50>"
      ]
     },
     "metadata": {},
     "output_type": "display_data"
    }
   ],
   "source": [
    "%matplotlib inline\n",
    "plt.close('all')\n",
    "fig = plt.figure(figsize=(12,13))\n",
    "\n",
    "import matplotlib.gridspec as gridspec\n",
    "heights = [8, 8, 1]\n",
    "gs = gridspec.GridSpec(3, 1, height_ratios=heights)\n",
    "ax3 = plt.subplot(gs[0])\n",
    "ax4 = plt.subplot(gs[1])\n",
    "ax5 = plt.subplot(gs[2])\n",
    "\n",
    "ax3.axhline(y=0.0, xmin=ymin, xmax=ymax, color='k', linestyle='--', linewidth=1)\n",
    "ax3.plot(0.001*yc, gsyn, '-g', label='simulated data')\n",
    "ax3.set_xlim(0.001*ymin, 0.001*ymax)\n",
    "ax3.set_ylabel('gravity disturbance (mGal)', fontsize=16)\n",
    "ax3.set_xticklabels(['%g'% (l) for l in ax3.get_xticks()], fontsize=14)\n",
    "ax3.set_yticklabels(['%g'% (l) for l in ax3.get_yticks()], fontsize=14)\n",
    "ax3.legend(loc='best', fontsize=13, facecolor='silver')\n",
    "\n",
    "ax4.axhline(y=0.0, xmin=ymin, xmax=ymax, color='k', linestyle='-', linewidth=1)\n",
    "aux = yc <= COT\n",
    "for (pwi) in (polygons_water):\n",
    "    tmpx = [x for x in pwi.x]\n",
    "    tmpx.append(pwi.x[0])\n",
    "    tmpy = [y for y in pwi.y]\n",
    "    tmpy.append(pwi.y[0])\n",
    "    ax4.plot(tmpx, tmpy, linestyle='None')\n",
    "    ax4.fill(tmpx, tmpy, color='aqua')\n",
    "for (psi) in (polygons_sediments):\n",
    "    tmpx = [x for x in psi.x]\n",
    "    tmpx.append(psi.x[0])\n",
    "    tmpy = [y for y in psi.y]\n",
    "    tmpy.append(psi.y[0])\n",
    "    ax4.plot(tmpx, tmpy, linestyle='None')\n",
    "    ax4.fill(tmpx, tmpy, color='tan')\n",
    "for (pci) in (polygons_crust[:len(yc[aux])]):\n",
    "    tmpx = [x for x in pci.x]\n",
    "    tmpx.append(pci.x[0])\n",
    "    tmpy = [y for y in pci.y]\n",
    "    tmpy.append(pci.y[0])\n",
    "    ax4.plot(tmpx, tmpy, linestyle='None')\n",
    "    ax4.fill(tmpx, tmpy, color='orange')\n",
    "for (pcoi) in (polygons_crust[len(yc[aux]):n]):\n",
    "    tmpx = [x for x in pcoi.x]\n",
    "    tmpx.append(pcoi.x[0])\n",
    "    tmpy = [y for y in pcoi.y]\n",
    "    tmpy.append(pcoi.y[0])\n",
    "    ax4.plot(tmpx, tmpy, linestyle='None')\n",
    "    ax4.fill(tmpx, tmpy, color='orangered')\n",
    "for (pmi) in (polygons_mantle):\n",
    "    tmpx = [x for x in pmi.x]\n",
    "    tmpx.append(pmi.x[0])\n",
    "    tmpy = [y for y in pmi.y]\n",
    "    tmpy.append(pmi.y[0])\n",
    "    ax4.plot(tmpx, tmpy, linestyle='None')\n",
    "    ax4.fill(tmpx, tmpy, color='plum')\n",
    "\n",
    "ax4.axhline(y=S0, xmin=ymin, xmax=ymax, color='w', linestyle='--', linewidth=2)\n",
    "#ax4.axvline(x=COT, ymin=ybottom, ymax=ytop, linestyle=':', color='w', linewidth=3, label='COT')\n",
    "ax4.plot(yc, tw, '--w', linewidth=2)\n",
    "ax4.plot(yc, basement, '--w', linewidth=2, label='true surfaces')\n",
    "ax4.plot(yc, moho, '--w', linewidth=2)\n",
    "ax4.set_ylim((S0+dS0), zmin)\n",
    "ax4.set_xlim(ymin, ymax)\n",
    "ax4.set_xlabel('y (km)', fontsize=16)\n",
    "ax4.set_ylabel('z (km)', fontsize=16)\n",
    "ax4.set_xticklabels(['%g'% (0.001*l) for l in ax2.get_xticks()], fontsize=14)\n",
    "ax4.set_yticklabels(['%g'% (0.001*l) for l in ax2.get_yticks()], fontsize=14)\n",
    "ax4.legend(loc='lower right', fontsize=13, facecolor='silver')    \n",
    "\n",
    "X, Y = fig.get_dpi()*fig.get_size_inches()\n",
    "plt.title('Density (kg/m$^{3}$)', fontsize=18)\n",
    "ax5.axis('off')\n",
    "\n",
    "layers_list1 = ['water', 'sediment', 'continental', 'oceanic', 'mantle']\n",
    "layers_list2 = ['', '', 'crust', 'crust', '']\n",
    "colors_list = ['aqua', 'tan', 'orange', 'orangered', 'plum']\n",
    "density_list = ['1030.0', '2550.0', '2670.0', '2840.0', '3200.0']\n",
    "ncols = len(colors_list)\n",
    "nrows = 1\n",
    "h = Y / nrows\n",
    "w = X / (ncols + 1)\n",
    "\n",
    "i=ncols-1\n",
    "for color, density, layers1, layers2 in zip(colors_list, density_list, layers_list1, layers_list2):\n",
    "    col = i // nrows\n",
    "    row = i % nrows\n",
    "    x = X - (col*w) - w\n",
    "    \n",
    "    yi_line = Y\n",
    "    yf_line = Y - Y*0.15\n",
    "    yi_text1 = Y - Y*0.2\n",
    "    yi_text2 = Y - Y*0.27\n",
    "    yi_text3 = Y - Y*0.075\n",
    "    \n",
    "    i-=1\n",
    "    poly = Polygon(np.array([[x, x+w*0.75, x+w*0.75, x], [yi_line, yi_line, yf_line, yf_line]]).T)\n",
    "    tmpx = [x for x in poly.x]\n",
    "    tmpx.append(poly.x[0])\n",
    "    tmpy = [y for y in poly.y]\n",
    "    tmpy.append(poly.y[0])\n",
    "    ax5.plot(tmpx, tmpy, linestyle='-', color='k', linewidth=1)\n",
    "    ax5.fill(tmpx, tmpy, color=color)\n",
    "    ax5.text(x+w*0.375, yi_text1, layers1, fontsize=(w*0.11), horizontalalignment='center', verticalalignment='top')\n",
    "    ax5.text(x+w*0.375, yi_text2, layers2, fontsize=(w*0.11), horizontalalignment='center', verticalalignment='top')\n",
    "    ax5.text(x+w*0.375, yi_text3, density, fontsize=(w*0.11), horizontalalignment='center', verticalalignment='center')\n",
    "\n",
    "plt.tight_layout()    \n",
    "    \n",
    "#mpl.savefig('../data/fig/simple-model-I-true-model-grafics.png', dpi='figure', bbox_inches='tight')\n",
    "plt.show()      "
   ]
  },
  {
   "cell_type": "code",
   "execution_count": null,
   "metadata": {
    "collapsed": true
   },
   "outputs": [],
   "source": []
  }
 ],
 "metadata": {
  "anaconda-cloud": {},
  "kernelspec": {
   "display_name": "Python 2",
   "language": "python",
   "name": "python2"
  },
  "language_info": {
   "codemirror_mode": {
    "name": "ipython",
    "version": 2
   },
   "file_extension": ".py",
   "mimetype": "text/x-python",
   "name": "python",
   "nbconvert_exporter": "python",
   "pygments_lexer": "ipython2",
   "version": "2.7.13"
  }
 },
 "nbformat": 4,
 "nbformat_minor": 2
}
