{
 "cells": [
  {
   "cell_type": "markdown",
   "metadata": {},
   "source": [
    "# 2D Isostatic gravity inversion - Initial Guess Model"
   ]
  },
  {
   "cell_type": "markdown",
   "metadata": {},
   "source": [
    "Este [IPython Notebook](http://ipython.org/videos.html#the-ipython-notebook) utiliza a biblioteca de código aberto [Fatiando a Terra](http://fatiando.org/)"
   ]
  },
  {
   "cell_type": "raw",
   "metadata": {},
   "source": [
    "Initial Guess model of Pelotas Basin."
   ]
  },
  {
   "cell_type": "code",
   "execution_count": 1,
   "metadata": {},
   "outputs": [
    {
     "name": "stderr",
     "output_type": "stream",
     "text": [
      "/Users/macelabastos/anaconda2/lib/python2.7/site-packages/fatiando/vis/mpl.py:76: UserWarning: This module will be removed in v0.6. We recommend the use of matplotlib.pyplot module directly. Some of the fatiando specific functions will remain.\n",
      "  \"specific functions will remain.\")\n"
     ]
    }
   ],
   "source": [
    "#%matplotlib inline\n",
    "import numpy as np\n",
    "from scipy.misc import derivative\n",
    "import scipy as spy\n",
    "from scipy import interpolate\n",
    "import matplotlib\n",
    "matplotlib.use('TkAgg', force=True)\n",
    "import matplotlib.pyplot as plt\n",
    "import math\n",
    "import cPickle as pickle\n",
    "import datetime\n",
    "import string as st\n",
    "\n",
    "from scipy.misc import imread\n",
    "\n",
    "from __future__ import division\n",
    "\n",
    "from fatiando import gravmag, mesher, utils, gridder\n",
    "from fatiando.mesher import Prism, Polygon\n",
    "from fatiando.gravmag import prism\n",
    "from fatiando.utils import ang2vec, si2nt, contaminate\n",
    "from fatiando.gridder import regular\n",
    "from fatiando.vis import mpl\n",
    "\n",
    "from numpy.testing import assert_almost_equal\n",
    "from numpy.testing import assert_array_almost_equal\n",
    "from pytest import raises\n",
    "\n",
    "plt.rc('font', size=16)"
   ]
  },
  {
   "cell_type": "code",
   "execution_count": 2,
   "metadata": {
    "collapsed": true
   },
   "outputs": [],
   "source": [
    "import functions as fc"
   ]
  },
  {
   "cell_type": "markdown",
   "metadata": {},
   "source": [
    "## Observation coordinates."
   ]
  },
  {
   "cell_type": "code",
   "execution_count": 3,
   "metadata": {
    "collapsed": true
   },
   "outputs": [],
   "source": [
    "# Model`s limits\n",
    "ymin = 0.0\n",
    "ymax = 383000.0\n",
    "zmin = -1000.0\n",
    "zmax = 45000.0\n",
    "#zmax = 40000.0\n",
    "xmin = -100000.0\n",
    "xmax = 100000.0\n",
    "\n",
    "area = [ymin, ymax, zmax, zmin]"
   ]
  },
  {
   "cell_type": "code",
   "execution_count": 4,
   "metadata": {
    "collapsed": true
   },
   "outputs": [],
   "source": [
    "ny = 150 # number of observation datas and number of prisms along the profile\n",
    "# coordinates defining the horizontal boundaries of the\n",
    "# adjacent columns along the profile\n",
    "y = np.linspace(ymin, ymax, ny)"
   ]
  },
  {
   "cell_type": "code",
   "execution_count": 5,
   "metadata": {
    "collapsed": true
   },
   "outputs": [],
   "source": [
    "# coordinates of the center of the columns forming the\n",
    "# interpretation model\n",
    "n = ny - 1\n",
    "dy = (ymax - ymin)/n\n",
    "ycmin = ymin + 0.5*dy\n",
    "ycmax = ymax - 0.5*dy\n",
    "yc = np.reshape(np.linspace(ycmin, ycmax, n),(n,1))\n",
    "x = np.zeros_like(yc)\n",
    "z = np.zeros_like(yc)-150.0"
   ]
  },
  {
   "cell_type": "code",
   "execution_count": 6,
   "metadata": {
    "collapsed": true
   },
   "outputs": [],
   "source": [
    "## Edge extension (observation coordinates)\n",
    "sigma = 2.0\n",
    "edge = sigma*dy*n"
   ]
  },
  {
   "cell_type": "markdown",
   "metadata": {},
   "source": [
    "## Model parameters"
   ]
  },
  {
   "cell_type": "code",
   "execution_count": 7,
   "metadata": {
    "collapsed": true
   },
   "outputs": [],
   "source": [
    "# Model densities\n",
    "# Indices and polygons relationship:\n",
    "# cc = continental crust layer\n",
    "# oc = ocean crust layer\n",
    "# w = water layer\n",
    "# s = sediment layer\n",
    "# m = mantle layer\n",
    "dw = np.array([1030.0])\n",
    "#ds0 = np.array([2350.0])\n",
    "#ds1 = np.array([2855.0])\n",
    "dcc = np.array([2870.0])\n",
    "doc = np.array([2885.0])\n",
    "dm = np.array([3240.0])\n",
    "ds0 = np.array([2425.0])\n",
    "ds1 = np.array([2835.0])\n",
    "#dc = dcc\n",
    "# coordinate defining the horizontal boundaries of the continent-ocean boundary\n",
    "COT = 350000.0\n",
    "# list defining crust density variance\n",
    "dc = np.zeros_like(yc)\n",
    "aux = yc <= COT\n",
    "for i in range(len(yc[aux])):\n",
    "    dc[i] = dcc\n",
    "for i in range(len(yc[aux]),n):\n",
    "    dc[i] = doc    \n",
    "# defining sediments layers density matrix\n",
    "ds = np.vstack((np.reshape(np.repeat(ds0,n),(1,n)),np.reshape(np.repeat(ds1,n),(1,n))))\n",
    "\n",
    "# S0 => isostatic compensation surface (Airy's model)\n",
    "# SR = S0+dS0 => reference Moho (Forward modeling)\n",
    "S0 = np.array([41000.0])\n",
    "dS0 = np.array([1000.0])"
   ]
  },
  {
   "cell_type": "markdown",
   "metadata": {},
   "source": [
    "## Observed and synthetic data"
   ]
  },
  {
   "cell_type": "code",
   "execution_count": 8,
   "metadata": {
    "collapsed": true
   },
   "outputs": [],
   "source": [
    "gsyn = np.loadtxt('../data/pelotas-profile-synthetic-gravity-data.txt')"
   ]
  },
  {
   "cell_type": "code",
   "execution_count": 9,
   "metadata": {
    "collapsed": true
   },
   "outputs": [],
   "source": [
    "gobs = np.reshape(np.loadtxt('../data/pelotas-profile-gz.txt'),(n,1))"
   ]
  },
  {
   "cell_type": "markdown",
   "metadata": {},
   "source": [
    "## For display"
   ]
  },
  {
   "cell_type": "raw",
   "metadata": {
    "collapsed": true
   },
   "source": [
    "img = imread('../../../../Desktop/L130.jpeg')"
   ]
  },
  {
   "cell_type": "raw",
   "metadata": {
    "collapsed": true
   },
   "source": [
    "shape=(719,1238)\n",
    "extent = [ymin, ymax, zmax, 0.0]\n",
    "def calculate_aspect(shape,extent):\n",
    "    dx = (abs(extent[1] - extent[0]))/float(shape[1])\n",
    "    dy = (abs(extent[3] - extent[2]))/float(shape[0])\n",
    "    return dx/dy"
   ]
  },
  {
   "cell_type": "markdown",
   "metadata": {},
   "source": [
    "## Water bottom"
   ]
  },
  {
   "cell_type": "code",
   "execution_count": 10,
   "metadata": {
    "collapsed": true
   },
   "outputs": [],
   "source": [
    "bathymetry = np.reshape(np.loadtxt('../data/etopo1-pelotas.txt'),(n,1))\n",
    "tw = 0.0 - bathymetry"
   ]
  },
  {
   "cell_type": "markdown",
   "metadata": {},
   "source": [
    "## Interpreted surfaces"
   ]
  },
  {
   "cell_type": "code",
   "execution_count": 11,
   "metadata": {
    "collapsed": true
   },
   "outputs": [],
   "source": [
    "toi = np.reshape(np.loadtxt('../data/pelotas-profile-interpreted-toi-surface.txt'),(n,1))\n",
    "\n",
    "interpreted_basement = np.reshape(np.loadtxt('../data/pelotas-profile-interpreted-basement-surface.txt'),(n,1))\n",
    "\n",
    "interpreted_moho = np.reshape(np.loadtxt('../data/pelotas-profile-interpreted-moho-surface.txt'),(n,1))\n",
    "\n",
    "# reference moho surface (SR = S0+dS0)\n",
    "true_dS0 = np.array([2200.0])"
   ]
  },
  {
   "cell_type": "markdown",
   "metadata": {},
   "source": [
    "# Initial guess surfaces"
   ]
  },
  {
   "cell_type": "markdown",
   "metadata": {},
   "source": [
    "### Basement surface"
   ]
  },
  {
   "cell_type": "raw",
   "metadata": {
    "collapsed": true
   },
   "source": [
    "mpl.close('all')\n",
    "#plt.figure(figsize=(12,10))\n",
    "\n",
    "#mpl.subplot(2,1,1)\n",
    "#mpl.title('Gravity disturbance data', fontsize=14)\n",
    "#mpl.paths([[ymin, 0.]], [[ymax, 0.]], style='--k', linewidth=1)\n",
    "#mpl.plot(0.001*yc, gobs, label='obs')\n",
    "#mpl.xlim(0.001*ymin, 0.001*ymax)\n",
    "#mpl.ylabel('gravity disturbance (mGal)', fontsize=16)\n",
    "#mpl.xticks(fontsize=12)\n",
    "#mpl.yticks(fontsize=12)\n",
    "#mpl.legend(loc='best')\n",
    "\n",
    "axes = mpl.subplot(1,1,1)\n",
    "mpl.ylim(zmax, zmin)\n",
    "mpl.xlim(ymin, ymax)\n",
    "mpl.xticks(fontsize=12)\n",
    "mpl.yticks(fontsize=12)\n",
    "mpl.xlabel('y (m)')\n",
    "mpl.ylabel('z (m)')\n",
    "mpl.paths([[ymin, 0.0]], [[ymax, 0.0]], style='-k', linewidth=1)\n",
    "mpl.imshow(img, extent=extent, aspect=calculate_aspect(shape,extent), alpha=1.0)\n",
    "mpl.plot(yc, tw, '-b', linewidth=1)\n",
    "mpl.plot(yc, toi, '-b', linewidth=1)\n",
    "mpl.plot(yc, interpreted_basement, '--b', linewidth=1)\n",
    "mpl.m2km()\n",
    "\n",
    "basement_picks = mpl.draw_polygon(area, axes, marker='.', color='r')"
   ]
  },
  {
   "cell_type": "raw",
   "metadata": {},
   "source": [
    "basement_picks"
   ]
  },
  {
   "cell_type": "code",
   "execution_count": 12,
   "metadata": {
    "collapsed": true
   },
   "outputs": [],
   "source": [
    "basement_picks = np.array([[   1422.64201445,    4191.22257053],\n",
    "       [  10332.51817002,    3247.05179878],\n",
    "       [  18393.83469173,    2817.88326616],\n",
    "       [  23485.19249491,    3161.21809225],\n",
    "       [  26030.87139651,    3847.88774444],\n",
    "       [  29000.83011503,    5049.55963577],\n",
    "       [  35789.30718594,    8139.57307061],\n",
    "       [  45972.02279231,   13032.09434244],\n",
    "       [  53609.05949709,   16465.44260337],\n",
    "       [  60397.536568  ,   18954.62009255],\n",
    "       [  66761.73382198,   20156.29198388],\n",
    "       [  75671.60997755,   20499.62680997],\n",
    "       [  82460.08704847,   19984.62457083],\n",
    "       [  88400.00448552,   18868.78638603],\n",
    "       [  91794.24302097,   18182.11673384],\n",
    "       [  93067.08247177,   18010.44932079],\n",
    "       [  97309.88064109,   18439.61785341],\n",
    "       [ 104522.63752893,   19727.12345126],\n",
    "       [ 107492.59624746,   20070.45827735],\n",
    "       [ 110886.83478291,   19898.79086431],\n",
    "       [ 114281.07331837,   19040.45379907],\n",
    "       [ 120645.27057235,   19641.28974474],\n",
    "       [ 124463.78892474,   19812.95715778],\n",
    "       [ 132100.82562951,   18439.61785341],\n",
    "       [ 138040.74306656,   18868.78638603],\n",
    "       [ 140586.42196816,   18868.78638603],\n",
    "       [ 142707.82105282,   18353.78414689],\n",
    "       [ 147374.89903907,   15607.10553814],\n",
    "       [ 151193.41739146,   14662.93476638],\n",
    "       [ 156284.77519464,   14577.10105986],\n",
    "       [ 164770.37153328,   15177.93700552],\n",
    "       [ 166467.49080101,   15263.77071205],\n",
    "       [ 172831.68805499,   14662.93476638],\n",
    "       [ 187257.20183068,   15607.10553814],\n",
    "       [ 193197.11926773,   15263.77071205],\n",
    "       [ 209744.03212808,   17066.27854904],\n",
    "       [ 215259.66974819,   17237.94596208],\n",
    "       [ 219502.46791751,   16894.61113599],\n",
    "       [ 222472.42663604,   16293.77519033],\n",
    "       [ 229260.90370695,   16465.44260337],\n",
    "       [ 237322.22022866,   15435.43812509],\n",
    "       [ 245383.53675037,   16207.9414838 ],\n",
    "       [ 251323.45418742,   15607.10553814],\n",
    "       [ 265748.96796311,   15950.44036423],\n",
    "       [ 275507.40375254,   14062.09882072],\n",
    "       [ 283144.44045732,   15006.26959248],\n",
    "       [ 289508.6377113 ,   15092.103299  ],\n",
    "       [ 295872.83496528,   16722.94372294],\n",
    "       [ 300115.6331346 ,   17237.94596208],\n",
    "       [ 304358.43130392,   17237.94596208],\n",
    "       [ 308601.22947324,   16808.77742947],\n",
    "       [ 312419.74782563,   15692.93924466],\n",
    "       [ 319632.50471348,   12173.75727721],\n",
    "       [ 324299.58269973,   11572.92133154],\n",
    "       [ 328118.10105212,   11401.2539185 ],\n",
    "       [ 354423.4497019 ,   11229.58650545],\n",
    "       [ 366303.284576  ,    9512.91237498],\n",
    "       [ 379455.95890089,    9512.91237498]])"
   ]
  },
  {
   "cell_type": "code",
   "execution_count": 13,
   "metadata": {
    "collapsed": true
   },
   "outputs": [],
   "source": [
    "# change the coordinates of the extremum points in order to\n",
    "# avoid problems for constructing the interpolator\n",
    "basement_picks[0,0] = ymin\n",
    "basement_picks[-1,0] = ymax"
   ]
  },
  {
   "cell_type": "code",
   "execution_count": 14,
   "metadata": {
    "collapsed": true
   },
   "outputs": [],
   "source": [
    "basement = fc.surface_interpolate_function(basement_picks,yc)\n",
    "for i in range(len(basement)):\n",
    "    if basement[i] < toi[i]:\n",
    "        basement[i] = toi[i]"
   ]
  },
  {
   "cell_type": "code",
   "execution_count": 15,
   "metadata": {
    "collapsed": true
   },
   "outputs": [],
   "source": [
    "# layer sediments thickness\n",
    "ts0 = toi - tw"
   ]
  },
  {
   "cell_type": "code",
   "execution_count": 16,
   "metadata": {
    "collapsed": true
   },
   "outputs": [],
   "source": [
    "# layer igneous thickness\n",
    "ts1 = basement - toi"
   ]
  },
  {
   "cell_type": "raw",
   "metadata": {
    "collapsed": true
   },
   "source": [
    "np.savetxt('../data/pelotas-profile-initial-basement-surface.txt', basement, fmt='%.18f')"
   ]
  },
  {
   "cell_type": "code",
   "execution_count": 17,
   "metadata": {
    "collapsed": true
   },
   "outputs": [],
   "source": [
    "# thickness sediments vector\n",
    "ts = np.vstack((np.reshape(ts0,(1,n)),np.reshape(ts1,(1,n))))"
   ]
  },
  {
   "cell_type": "markdown",
   "metadata": {},
   "source": [
    "### Moho surface"
   ]
  },
  {
   "cell_type": "raw",
   "metadata": {
    "collapsed": true
   },
   "source": [
    "mpl.close('all')\n",
    "\n",
    "#mpl.subplot(2,1,1)\n",
    "#mpl.title('Gravity disturbance data', fontsize=14)\n",
    "#mpl.paths([[ymin, 0.]], [[ymax, 0.]], style='--k', linewidth=1)\n",
    "#mpl.plot(0.001*yc, gobs, label='obs')\n",
    "#mpl.xlim(0.001*ymin, 0.001*ymax)\n",
    "#mpl.ylabel('gravity disturbance (mGal)', fontsize=16)\n",
    "#mpl.xticks(fontsize=12)\n",
    "#mpl.yticks(fontsize=12)\n",
    "#mpl.legend(loc='best')\n",
    "\n",
    "axes = mpl.subplot(1,1,1)\n",
    "mpl.ylim(zmax, zmin)\n",
    "mpl.xlim(ymin, ymax)\n",
    "mpl.xticks(fontsize=12)\n",
    "mpl.yticks(fontsize=12)\n",
    "mpl.xlabel('y (m)')\n",
    "mpl.ylabel('z (m)')\n",
    "mpl.paths([[ymin, 0.0]], [[ymax, 0.0]], style='-k', linewidth=1)\n",
    "mpl.imshow(img, extent=extent, aspect=calculate_aspect(shape,extent), alpha=1.0)\n",
    "mpl.plot(yc, tw, '-b', linewidth=1)\n",
    "mpl.plot(yc, toi, '-r', linewidth=1)\n",
    "mpl.plot(yc, basement, '-b', linewidth=1)\n",
    "#mpl.plot(yc, interpreted_basement, '--r', linewidth=1)\n",
    "mpl.m2km()\n",
    "\n",
    "moho_picks = mpl.draw_polygon(area, axes, color='r')"
   ]
  },
  {
   "cell_type": "raw",
   "metadata": {},
   "source": [
    "moho_picks"
   ]
  },
  {
   "cell_type": "code",
   "execution_count": 18,
   "metadata": {
    "collapsed": true
   },
   "outputs": [],
   "source": [
    "moho_picks = np.array([[   3458.72396201,   31550.90311987],\n",
    "       [  14945.40824487,   29485.29631288],\n",
    "       [  40045.94056668,   28720.25675474],\n",
    "       [  63444.74188363,   29638.30422451],\n",
    "       [  74080.56066406,   26884.1618152 ],\n",
    "       [  93225.03446883,   27343.18555008],\n",
    "       [ 102159.12224439,   25201.07478728],\n",
    "       [ 111944.07552239,   24130.01940588],\n",
    "       [ 117900.13403943,   24665.54709658],\n",
    "       [ 130663.11657594,   27419.6895059 ],\n",
    "       [ 141724.36810759,   28184.72906404],\n",
    "       [ 150658.45588315,   24053.51545007],\n",
    "       [ 158741.67815628,   19998.80579191],\n",
    "       [ 170228.36243914,   20763.84535005],\n",
    "       [ 176609.8537074 ,   19463.27810121],\n",
    "       [ 184267.64322931,   19922.30183609],\n",
    "       [ 195328.89476095,   21758.39677564],\n",
    "       [ 206390.1462926 ,   21146.36512912],\n",
    "       [ 217025.96507303,   21681.89281982],\n",
    "       [ 227661.78385346,   20610.83743842],\n",
    "       [ 234043.27512172,   20534.33348261],\n",
    "       [ 242126.49739484,   20304.82161517],\n",
    "       [ 249784.28691675,   19004.25436632],\n",
    "       [ 257016.64368745,   19080.75832214],\n",
    "       [ 269779.62622396,   20840.34930587],\n",
    "       [ 275310.25198978,   20457.8295268 ],\n",
    "       [ 280840.87775561,   20610.83743842],\n",
    "       [ 291476.69653604,   21911.40468727],\n",
    "       [ 297007.32230186,   20534.33348261],\n",
    "       [ 311472.03584324,   20610.83743842],\n",
    "       [ 321682.42187246,   18545.23063144],\n",
    "       [ 329765.64414558,   17321.16733841],\n",
    "       [ 334445.40440897,   17091.65547097],\n",
    "       [ 340401.46292601,   18239.21480818],\n",
    "       [ 345506.65594062,   17780.19107329],\n",
    "       [ 354440.74371618,   18086.20689655],\n",
    "       [ 360822.23498444,   18621.73458725],\n",
    "       [ 368480.02450635,   16479.62382445],\n",
    "       [ 381668.43979408,   15944.09613375]])"
   ]
  },
  {
   "cell_type": "code",
   "execution_count": 19,
   "metadata": {
    "collapsed": true
   },
   "outputs": [],
   "source": [
    "# change the coordinates of the extremum points in order to\n",
    "# avoid problems for constructing the interpolator\n",
    "moho_picks[0,0] = ymin\n",
    "moho_picks[-1,0] = ymax"
   ]
  },
  {
   "cell_type": "code",
   "execution_count": 20,
   "metadata": {
    "collapsed": true
   },
   "outputs": [],
   "source": [
    "moho = fc.surface_interpolate_function(moho_picks,yc)\n",
    "for i in range(len(moho)):\n",
    "    if moho[i] < basement[i]:\n",
    "        moho[i] = basement[i]"
   ]
  },
  {
   "cell_type": "code",
   "execution_count": 21,
   "metadata": {
    "collapsed": true
   },
   "outputs": [],
   "source": [
    "# layer mantle thickness\n",
    "tm = S0 - moho\n",
    "\n",
    "# layer crust thickness\n",
    "toc = moho - tw - ts0 - ts1"
   ]
  },
  {
   "cell_type": "raw",
   "metadata": {
    "collapsed": true
   },
   "source": [
    "np.savetxt('../data/pelotas-profile-initial-moho-surface.txt', moho, fmt='%.18f')"
   ]
  },
  {
   "cell_type": "markdown",
   "metadata": {},
   "source": [
    "## Known depths"
   ]
  },
  {
   "cell_type": "raw",
   "metadata": {
    "collapsed": true
   },
   "source": [
    "mpl.close('all')\n",
    "\n",
    "axes = mpl.subplot(1,1,1)\n",
    "mpl.ylim(zmax, zmin)\n",
    "mpl.xlim(ymin, ymax)\n",
    "mpl.xticks(fontsize=12)\n",
    "mpl.yticks(fontsize=12)\n",
    "mpl.xlabel('y (m)')\n",
    "mpl.ylabel('z (m)')\n",
    "mpl.paths([[ymin, 0.0]], [[ymax, 0.0]], style='-k', linewidth=1)\n",
    "#mpl.imshow(img, extent=extent, aspect=calculate_aspect(shape,extent), alpha=1.0)\n",
    "mpl.plot(base_known[:,0], base_known[:,1], 'vc', markersize=9.5, label='known depths (basement)')\n",
    "mpl.plot(yc, tw, '-b', linewidth=1)\n",
    "mpl.plot(yc, toi, '-b', linewidth=1)\n",
    "mpl.plot(yc, interpreted_basement, '-b', linewidth=1)\n",
    "mpl.plot(yc, basement, '-r', linewidth=1)\n",
    "mpl.m2km()\n",
    "\n",
    "base_picks = mpl.draw_polygon(area, axes, color='r')"
   ]
  },
  {
   "cell_type": "raw",
   "metadata": {},
   "source": [
    "base_picks"
   ]
  },
  {
   "cell_type": "raw",
   "metadata": {
    "scrolled": true
   },
   "source": [
    "for i in range(len(base_picks)):\n",
    "    j = int((base_picks[i][0] - ymin)/dy)\n",
    "    print '[', np.reshape(yc,(n,))[j], ',' , np.reshape(basement,(n,))[j], '],'"
   ]
  },
  {
   "cell_type": "raw",
   "metadata": {},
   "source": [
    "print '[', np.reshape(yc,(n,))[3], ',' , np.reshape(basement,(n,))[3], '],'\n",
    "print '[', np.reshape(yc,(n,))[9], ',' , np.reshape(basement,(n,))[9], '],'\n",
    "print '[', np.reshape(yc,(n,))[42], ',' , np.reshape(basement,(n,))[42], '],'\n",
    "#print '[', np.reshape(yc,(n,))[59], ',' , np.reshape(basement,(n,))[59], '],'\n",
    "#print '[', np.reshape(yc,(n,))[67], ',' , np.reshape(basement,(n,))[67], '],'\n",
    "print '[', np.reshape(yc,(n,))[89], ',' , np.reshape(basement,(n,))[89], '],'\n",
    "print '[', np.reshape(yc,(n,))[112], ',' , np.reshape(basement,(n,))[112], '],'\n",
    "print '[', np.reshape(yc,(n,))[128], ',' , np.reshape(basement,(n,))[128], ']'"
   ]
  },
  {
   "cell_type": "code",
   "execution_count": 22,
   "metadata": {
    "collapsed": true
   },
   "outputs": [],
   "source": [
    "# Basement surface known values\n",
    "base_known = np.array([[ 8996.6442953 , 3369.12204792 ],\n",
    "[ 24419.4630872 , 3413.2275905 ],\n",
    "[ 109244.966443 , 19981.8301933 ],\n",
    "[ 230057.04698 , 16363.7183832 ],\n",
    "[ 289177.852349 , 15087.6420083 ],\n",
    "[ 330305.369128 , 11386.9799145 ]\n",
    "])\n",
    "\n",
    "#np.savetxt('../data/pelotas-profile-basement-known-depths.txt', base_known, fmt='%.18f')"
   ]
  },
  {
   "cell_type": "raw",
   "metadata": {
    "collapsed": true
   },
   "source": [
    "# Basement surface known values\n",
    "base_known_more = np.array([[ 8996.6442953 , 3369.12204792 ],\n",
    "[ 24419.4630872 , 3413.2275905 ],\n",
    "#[ 39842.2818792 , 10086.9185202 ],\n",
    "[ 52694.6308725 , 16054.3470372 ],\n",
    "[ 109244.966443 , 19981.8301933 ],\n",
    "[ 152942.95302 , 14633.4398588 ],\n",
    "#[ 176077.181208 , 14875.3569943 ],\n",
    "[ 230057.04698 , 16363.7183832 ],\n",
    "[ 289177.852349 , 15087.6420083 ],\n",
    "[ 330305.369128 , 11386.9799145 ]\n",
    "])\n",
    "\n",
    "\n",
    "#np.savetxt('../data/pelotas-profile-basement-more-known-depths.txt', base_known_more, fmt='%.18f')\n",
    "#np.savetxt('../data/pelotas-profile-basement-few-more-known-depths.txt', base_known_more, fmt='%.18f')"
   ]
  },
  {
   "cell_type": "raw",
   "metadata": {},
   "source": [
    "# Basement surface known values\n",
    "base_known_old = np.array([\n",
    "[ 39842.2818792 , 10086.9185202 ],\n",
    "[ 52694.6308725 , 16054.3470372 ],\n",
    "[ 152942.95302 , 14633.4398588 ],\n",
    "[ 176077.181208 , 14875.3569943 ]\n",
    "])\n",
    "\n",
    "base_known_new = np.array([\n",
    "[ 39842.2818792 , 10086.9185202 ],\n",
    "[ 52694.6308725 , 16054.3470372 ],\n",
    "[ 152942.95302 , 14633.4398588 ],\n",
    "[ 176077.181208 , 14875.3569943 ]\n",
    "])\n",
    "\n",
    "#np.savetxt('../data/pelotas-profile-basement-new-known-depths.txt', base_known_new, fmt='%.18f')\n",
    "#np.savetxt('../data/pelotas-profile-basement-few-new-known-depths.txt', base_known_new, fmt='%.18f')"
   ]
  },
  {
   "cell_type": "raw",
   "metadata": {},
   "source": [
    "mpl.close('all')\n",
    "\n",
    "axes = mpl.subplot(1,1,1)\n",
    "mpl.ylim(zmax, zmin)\n",
    "mpl.xlim(ymin, ymax)\n",
    "mpl.xticks(fontsize=12)\n",
    "mpl.yticks(fontsize=12)\n",
    "mpl.xlabel('y (m)')\n",
    "mpl.ylabel('z (m)')\n",
    "mpl.paths([[ymin, 0.0]], [[ymax, 0.0]], style='-k', linewidth=1)\n",
    "mpl.imshow(img, extent=extent, aspect=calculate_aspect(shape,extent), alpha=1.0)\n",
    "mpl.plot(yc, tw, '-b', linewidth=1)\n",
    "mpl.plot(yc, toi, '-b', linewidth=1)\n",
    "mpl.plot(yc, interpreted_moho, '-b', linewidth=1)\n",
    "mpl.plot(yc, moho, '-r', linewidth=1)\n",
    "mpl.m2km()\n",
    "\n",
    "moho_picks = mpl.draw_polygon(area, axes, color='r')"
   ]
  },
  {
   "cell_type": "raw",
   "metadata": {},
   "source": [
    "moho_picks"
   ]
  },
  {
   "cell_type": "raw",
   "metadata": {},
   "source": [
    "for i in range(len(moho_picks)):\n",
    "    j = int((moho_picks[i][0] - ymin)/dy)\n",
    "    print '[', np.reshape(yc,(n,))[j], ',' , np.reshape(moho,(n,))[j], '],'"
   ]
  },
  {
   "cell_type": "raw",
   "metadata": {},
   "source": [
    "print '[', np.reshape(yc,(n,))[60], ',' , np.reshape(moho,(n,))[60], '],'\n",
    "print '[', np.reshape(yc,(n,))[85], ',' , np.reshape(moho,(n,))[85], '],'\n",
    "print '[', np.reshape(yc,(n,))[133], ',' , np.reshape(moho,(n,))[133], ']'"
   ]
  },
  {
   "cell_type": "code",
   "execution_count": 23,
   "metadata": {
    "collapsed": true
   },
   "outputs": [],
   "source": [
    "# Moho surface known values\n",
    "moho_known = np.array([[ 155513.422819 , 21618.1647126 ],\n",
    "[ 219775.167785 , 21405.0407579 ],\n",
    "[ 343157.718121 , 17991.3913566 ]])\n",
    "\n",
    "#np.savetxt('../data/pelotas-profile-moho-known-depths.txt', moho_known, fmt='%.18f')"
   ]
  },
  {
   "cell_type": "markdown",
   "metadata": {},
   "source": [
    "## Initial guess data"
   ]
  },
  {
   "cell_type": "code",
   "execution_count": 24,
   "metadata": {
    "collapsed": true
   },
   "outputs": [],
   "source": [
    "# initial guess parameters vector\n",
    "p0 = []\n",
    "p0 = np.vstack((ts1, tm, dS0))"
   ]
  },
  {
   "cell_type": "code",
   "execution_count": 25,
   "metadata": {
    "collapsed": true
   },
   "outputs": [],
   "source": [
    "# prisms calculation by Fatiando a Terra\n",
    "prism_w = fc.prism_w_function(xmax,xmin,dy,edge,dw,dcc,tw,yc)\n",
    "prism_s = fc.prism_s_function(xmax,xmin,dy,edge,ds,dcc,tw,p0,yc,ts0,two_layers=True)\n",
    "prism_c = fc.prism_c_function(xmax,xmin,dy,edge,S0,dcc,dc,tw,p0,yc,ts0,two_layers=True)\n",
    "prism_m = fc.prism_m_function(xmax,xmin,dy,edge,S0,dcc,dm,p0,yc)"
   ]
  },
  {
   "cell_type": "code",
   "execution_count": 26,
   "metadata": {
    "collapsed": true
   },
   "outputs": [],
   "source": [
    "# z component of gravity calculation by Fatiando a Terra\n",
    "gzw = prism.gz(np.reshape(x,(n,)),np.reshape(yc,(n,)),np.reshape(z,(n,)),prism_w)\n",
    "gzs0 = prism.gz(np.reshape(x,(n,)),np.reshape(yc,(n,)),np.reshape(z,(n,)),prism_s[1])\n",
    "gzs1 = prism.gz(np.reshape(x,(n,)),np.reshape(yc,(n,)),np.reshape(z,(n,)),prism_s[2])\n",
    "gzc = prism.gz(np.reshape(x,(n,)),np.reshape(yc,(n,)),np.reshape(z,(n,)),prism_c)\n",
    "gzm = prism.gz(np.reshape(x,(n,)),np.reshape(yc,(n,)),np.reshape(z,(n,)),prism_m)\n",
    "\n",
    "#Observed data calculation:\n",
    "#g0 = fc.g_function(x,yc,z,gzw,prism_s,prism_c,prism_m)\n",
    "g0 = gzw + gzs0 + gzs1 + gzc + gzm"
   ]
  },
  {
   "cell_type": "raw",
   "metadata": {
    "collapsed": true
   },
   "source": [
    "np.savetxt('../data/pelotas-profile-initial-guess-gravity-data.txt', g0, fmt='%.18f')"
   ]
  },
  {
   "cell_type": "raw",
   "metadata": {
    "collapsed": true
   },
   "source": [
    "np.savetxt('../data/pelotas-profile-initial-guess-gravity-data-T5-dsed-SDR.txt', g0, fmt='%.18f')"
   ]
  },
  {
   "cell_type": "markdown",
   "metadata": {},
   "source": [
    "## Model plot"
   ]
  },
  {
   "cell_type": "code",
   "execution_count": 28,
   "metadata": {
    "collapsed": true
   },
   "outputs": [],
   "source": [
    "polygons_water = []\n",
    "for (yi, twi) in zip(yc, tw):\n",
    "    y1 = yi - 0.5*dy\n",
    "    y2 = yi + 0.5*dy\n",
    "\n",
    "    polygons_water.append(Polygon(np.array([[y1, y2, y2, y1], \n",
    "                                            [0.0, 0.0, twi, twi]]).T,\n",
    "                                               props={'density': dw - dcc}))\n",
    "polygons_sediments0 = []\n",
    "for (yi, twi, s0i) in zip(yc, np.reshape(tw,(n,)), np.reshape(toi,(n,))):\n",
    "    y1 = yi - 0.5*dy\n",
    "    y2 = yi + 0.5*dy\n",
    "\n",
    "    polygons_sediments0.append(Polygon(np.array([[y1, y2, y2, y1], \n",
    "                                                [twi, twi, s0i, s0i]]).T,\n",
    "                                                    props={'density': ds0 - dcc}))\n",
    "    \n",
    "polygons_sediments1 = []\n",
    "for (yi, s0i, s1i) in zip(yc, np.reshape(toi,(n,)), np.reshape(basement,(n,))):\n",
    "    y1 = yi - 0.5*dy\n",
    "    y2 = yi + 0.5*dy\n",
    "\n",
    "    polygons_sediments1.append(Polygon(np.array([[y1, y2, y2, y1], \n",
    "                                                [s0i, s0i, s1i, s1i]]).T,\n",
    "                                                   props={'density': ds1 - dcc}))\n",
    "    \n",
    "polygons_crust = []\n",
    "for (yi, si, Si, dci) in zip(yc, np.reshape(basement,(n,)), np.reshape(moho,(n,)), dc):\n",
    "    y1 = yi - 0.5*dy\n",
    "    y2 = yi + 0.5*dy\n",
    "\n",
    "    polygons_crust.append(Polygon(np.array([[y1, y2, y2, y1], \n",
    "                                            [si, si, Si, Si]]).T,\n",
    "                                                props={'density': dci - dcc})) \n",
    "\n",
    "polygons_mantle = []\n",
    "for (yi, Si) in zip(yc, np.reshape(moho,(n,))):\n",
    "    y1 = yi - 0.5*dy\n",
    "    y2 = yi + 0.5*dy\n",
    "\n",
    "    polygons_mantle.append(Polygon(np.array([[y1, y2, y2, y1], \n",
    "                                                [Si, Si, S0+dS0, S0+dS0]]).T,\n",
    "                                                    props={'density': dm - dcc}))"
   ]
  },
  {
   "cell_type": "code",
   "execution_count": 30,
   "metadata": {},
   "outputs": [
    {
     "data": {
      "image/png": "[encoded data removed]",
      "text/plain": [
       "<matplotlib.figure.Figure at 0x18145a5850>"
      ]
     },
     "metadata": {},
     "output_type": "display_data"
    }
   ],
   "source": [
    "%matplotlib inline\n",
    "plt.close('all')\n",
    "fig = plt.figure(figsize=(12,13))\n",
    "\n",
    "import matplotlib.gridspec as gridspec\n",
    "heights = [8, 8, 1]\n",
    "gs = gridspec.GridSpec(3, 1, height_ratios=heights)\n",
    "ax3 = plt.subplot(gs[0])\n",
    "ax4 = plt.subplot(gs[1])\n",
    "ax5 = plt.subplot(gs[2])\n",
    "\n",
    "ax3.axhline(y=0.0, xmin=ymin, xmax=ymax, color='k', linestyle='--', linewidth=1)\n",
    "#ax3.plot(0.001*yc, gsyn, '-g', label='simulated data')\n",
    "ax3.plot(0.001*yc, gobs, 'or', mfc='none', markersize=7, label='observed data')\n",
    "ax3.plot(0.001*yc, g0, '-b', label='initial guess data')\n",
    "ax3.set_xlim(0.001*ymin, 0.001*ymax)\n",
    "ax3.set_ylabel('gravity disturbance (mGal)', fontsize=16)\n",
    "ax3.set_xticklabels(['%g'% (l) for l in ax3.get_xticks()], fontsize=14)\n",
    "ax3.set_yticklabels(['%g'% (l) for l in ax3.get_yticks()], fontsize=14)\n",
    "ax3.legend(loc='best', fontsize=14, facecolor='silver')\n",
    "\n",
    "ax4.axhline(y=0.0, xmin=ymin, xmax=ymax, color='k', linestyle='-', linewidth=1)\n",
    "aux = yc <= COT\n",
    "for (pwi) in (polygons_water):\n",
    "    tmpx = [x for x in pwi.x]\n",
    "    tmpx.append(pwi.x[0])\n",
    "    tmpy = [y for y in pwi.y]\n",
    "    tmpy.append(pwi.y[0])\n",
    "    ax4.plot(tmpx, tmpy, linestyle='None')\n",
    "    ax4.fill(tmpx, tmpy, color='lightskyblue')\n",
    "for (ps0i) in (polygons_sediments0):\n",
    "    tmpx = [x for x in ps0i.x]\n",
    "    tmpx.append(ps0i.x[0])\n",
    "    tmpy = [y for y in ps0i.y]\n",
    "    tmpy.append(ps0i.y[0])\n",
    "    ax4.plot(tmpx, tmpy, linestyle='None')\n",
    "    ax4.fill(tmpx, tmpy, color='tan')\n",
    "for (ps1i) in (polygons_sediments1):\n",
    "    tmpx = [x for x in ps1i.x]\n",
    "    tmpx.append(ps1i.x[0])\n",
    "    tmpy = [y for y in ps1i.y]\n",
    "    tmpy.append(ps1i.y[0])\n",
    "    ax4.plot(tmpx, tmpy, linestyle='None')\n",
    "    ax4.fill(tmpx, tmpy, color='rosybrown')\n",
    "for (pci) in (polygons_crust[:len(yc[aux])]):\n",
    "    tmpx = [x for x in pci.x]\n",
    "    tmpx.append(pci.x[0])\n",
    "    tmpy = [y for y in pci.y]\n",
    "    tmpy.append(pci.y[0])\n",
    "    ax4.plot(tmpx, tmpy, linestyle='None')\n",
    "    ax4.fill(tmpx, tmpy, color='orange')\n",
    "for (pcoi) in (polygons_crust[len(yc[aux]):n]):\n",
    "    tmpx = [x for x in pcoi.x]\n",
    "    tmpx.append(pcoi.x[0])\n",
    "    tmpy = [y for y in pcoi.y]\n",
    "    tmpy.append(pcoi.y[0])\n",
    "    ax4.plot(tmpx, tmpy, linestyle='None')\n",
    "    ax4.fill(tmpx, tmpy, color='olive')\n",
    "for (pmi) in (polygons_mantle):\n",
    "    tmpx = [x for x in pmi.x]\n",
    "    tmpx.append(pmi.x[0])\n",
    "    tmpy = [y for y in pmi.y]\n",
    "    tmpy.append(pmi.y[0])\n",
    "    ax4.plot(tmpx, tmpy, linestyle='None')\n",
    "    ax4.fill(tmpx, tmpy, color='pink')\n",
    "\n",
    "#ax4.axhline(y=S0, xmin=ymin, xmax=ymax, color='w', linestyle='--', linewidth=2)\n",
    "ax4.plot(yc, tw, '-k', linewidth=3)\n",
    "ax4.plot(yc, toi, '-k', linewidth=3)\n",
    "ax4.plot(yc, interpreted_basement, '-k', linewidth=3, label='alternative interpretation surfaces')\n",
    "ax4.plot(yc, interpreted_moho, '-k', linewidth=3)\n",
    "ax4.plot(yc, basement, '-.b', linewidth=3, label='initial guess surfaces')\n",
    "ax4.plot(yc, moho, '-.b', linewidth=3)\n",
    "ax4.axhline(y=S0+true_dS0, xmin=ymin, xmax=ymax, color='k', linestyle='-', linewidth=3)\n",
    "ax4.axhline(y=S0+dS0, xmin=ymin, xmax=ymax, color='b', linestyle='-.', linewidth=3)\n",
    "ax4.plot(base_known[:,0], base_known[:,1], 'v', color = 'yellow', markersize=15, label='known depths (basement)')\n",
    "#ax4.plot(base_known_old[:,0], base_known_old[:,1], 'v', color = 'yellow', markersize=15, label='known depths (basement)')\n",
    "#ax4.plot(base_known_new[:,0], base_known_new[:,1], 'v', color = 'magenta', markersize=15, label='more known depths (basement)')\n",
    "ax4.plot(moho_known[:,0], moho_known[:,1], 'D', color = 'lime', markersize=15, label='known depths (moho)')\n",
    "ax4.set_ylim((S0+dS0), zmin)\n",
    "ax4.set_ylim((50500.0), zmin)\n",
    "ax4.set_xlim(ymin, ymax)\n",
    "ax4.set_xlabel('y (km)', fontsize=16)\n",
    "ax4.set_ylabel('z (km)', fontsize=16)\n",
    "ax4.set_xticklabels(['%g'% (0.001*l) for l in ax4.get_xticks()], fontsize=14)\n",
    "ax4.set_yticklabels(['%g'% (0.001*l) for l in ax4.get_yticks()], fontsize=14)\n",
    "ax4.legend(loc='lower right', fontsize=14, facecolor='silver')    \n",
    "\n",
    "X, Y = fig.get_dpi()*fig.get_size_inches()\n",
    "plt.title('Density contrast (kg/m$^{3}$)', fontsize=18)\n",
    "ax5.axis('off')\n",
    "\n",
    "layers_list1 = ['water', 'sediment', 'SDR', 'continental', 'oceanic', 'mantle']\n",
    "layers_list2 = ['', '', '', 'crust', 'crust', '']\n",
    "colors_list = ['lightskyblue', 'tan', 'rosybrown', 'orange', 'olive', 'pink']\n",
    "#density_list = ['-1840', '-520', '-15', '0', '15', '370'] #original\n",
    "density_list = ['-1840', '-445', '-35', '0', '15', '370']\n",
    "#density_list = ['1030', '2350', '2855', '2870', '2885', '3240']\n",
    "ncols = len(colors_list)\n",
    "nrows = 1\n",
    "h = Y / nrows\n",
    "w = X / (ncols + 1)\n",
    "\n",
    "i=ncols-1\n",
    "for color, density, layers1, layers2 in zip(colors_list, density_list, layers_list1, layers_list2):\n",
    "    col = i // nrows\n",
    "    row = i % nrows\n",
    "    x = X - (col*w) - w\n",
    "    \n",
    "    yi_line = Y\n",
    "    yf_line = Y - Y*0.15\n",
    "    yi_text1 = Y - Y*0.2\n",
    "    yi_text2 = Y - Y*0.27\n",
    "    yi_text3 = Y - Y*0.08\n",
    "    \n",
    "    i-=1\n",
    "    poly = Polygon(np.array([[x, x+w*0.75, x+w*0.75, x], [yi_line, yi_line, yf_line, yf_line]]).T)\n",
    "    tmpx = [x for x in poly.x]\n",
    "    tmpx.append(poly.x[0])\n",
    "    tmpy = [y for y in poly.y]\n",
    "    tmpy.append(poly.y[0])\n",
    "    ax5.plot(tmpx, tmpy, linestyle='-', color='k', linewidth=1)\n",
    "    ax5.fill(tmpx, tmpy, color=color)\n",
    "    ax5.text(x+w*0.375, yi_text1, layers1, fontsize=(w*0.14), horizontalalignment='center', verticalalignment='top')\n",
    "    ax5.text(x+w*0.375, yi_text2, layers2, fontsize=(w*0.14), horizontalalignment='center', verticalalignment='top')\n",
    "    ax5.text(x+w*0.375, yi_text3, density, fontsize=(w*0.14), horizontalalignment='center', verticalalignment='center')\n",
    "\n",
    "plt.tight_layout()    \n",
    "    \n",
    "#mpl.savefig('../manuscript/figures/pelotas-profile-initial-guess-model-grafics.png', dpi='figure', bbox_inches='tight')\n",
    "#mpl.savefig('../manuscript/figures/pelotas-profile-initial-guess-model-grafics-T5-dsed-SDR.png', dpi='figure', bbox_inches='tight')\n",
    "plt.show()      "
   ]
  },
  {
   "cell_type": "raw",
   "metadata": {},
   "source": [
    "%matplotlib inline\n",
    "plt.close('all')\n",
    "fig = plt.figure(figsize=(12,7))\n",
    "\n",
    "import matplotlib.gridspec as gridspec\n",
    "heights = [8, 1]\n",
    "gs = gridspec.GridSpec(2, 1, height_ratios=heights)\n",
    "ax1 = plt.subplot(gs[0])\n",
    "ax2 = plt.subplot(gs[1])\n",
    "\n",
    "ax1.axhline(y=0.0, xmin=ymin, xmax=ymax, color='k', linestyle='-', linewidth=1)\n",
    "aux = yc <= COT\n",
    "for (pwi) in (polygons_water):\n",
    "    tmpx = [x for x in pwi.x]\n",
    "    tmpx.append(pwi.x[0])\n",
    "    tmpy = [y for y in pwi.y]\n",
    "    tmpy.append(pwi.y[0])\n",
    "    ax1.plot(tmpx, tmpy, linestyle='None')\n",
    "    ax1.fill(tmpx, tmpy, color='lightskyblue')\n",
    "for (ps0i) in (polygons_sediments0):\n",
    "    tmpx = [x for x in ps0i.x]\n",
    "    tmpx.append(ps0i.x[0])\n",
    "    tmpy = [y for y in ps0i.y]\n",
    "    tmpy.append(ps0i.y[0])\n",
    "    ax1.plot(tmpx, tmpy, linestyle='None')\n",
    "    ax1.fill(tmpx, tmpy, color='tan')\n",
    "for (ps1i) in (polygons_sediments1):\n",
    "    tmpx = [x for x in ps1i.x]\n",
    "    tmpx.append(ps1i.x[0])\n",
    "    tmpy = [y for y in ps1i.y]\n",
    "    tmpy.append(ps1i.y[0])\n",
    "    ax1.plot(tmpx, tmpy, linestyle='None')\n",
    "    ax1.fill(tmpx, tmpy, color='rosybrown')\n",
    "for (pci) in (polygons_crust[:len(yc[aux])]):\n",
    "    tmpx = [x for x in pci.x]\n",
    "    tmpx.append(pci.x[0])\n",
    "    tmpy = [y for y in pci.y]\n",
    "    tmpy.append(pci.y[0])\n",
    "    ax1.plot(tmpx, tmpy, linestyle='None')\n",
    "    ax1.fill(tmpx, tmpy, color='orange')\n",
    "for (pcoi) in (polygons_crust[len(yc[aux]):n]):\n",
    "    tmpx = [x for x in pcoi.x]\n",
    "    tmpx.append(pcoi.x[0])\n",
    "    tmpy = [y for y in pcoi.y]\n",
    "    tmpy.append(pcoi.y[0])\n",
    "    ax1.plot(tmpx, tmpy, linestyle='None')\n",
    "    ax1.fill(tmpx, tmpy, color='olive')\n",
    "for (pmi) in (polygons_mantle):\n",
    "    tmpx = [x for x in pmi.x]\n",
    "    tmpx.append(pmi.x[0])\n",
    "    tmpy = [y for y in pmi.y]\n",
    "    tmpy.append(pmi.y[0])\n",
    "    ax1.plot(tmpx, tmpy, linestyle='None')\n",
    "    ax1.fill(tmpx, tmpy, color='pink')\n",
    "\n",
    "#ax1.axhline(y=S0, xmin=ymin, xmax=ymax, color='w', linestyle='--', linewidth=2)\n",
    "ax1.plot(yc, tw, '-k', linewidth=3)\n",
    "ax1.plot(yc, toi, '-k', linewidth=3)\n",
    "ax1.plot(yc, interpreted_basement, '-k', linewidth=3, label='alternative interpretation surfaces')\n",
    "ax1.plot(yc, interpreted_moho, '-k', linewidth=3)\n",
    "ax1.plot(yc, basement, '-.b', linewidth=3, label='initial guess surfaces')\n",
    "ax1.plot(yc, moho, '-.b', linewidth=3)\n",
    "ax1.axhline(y=S0+true_dS0, xmin=ymin, xmax=ymax, color='k', linestyle='-', linewidth=3)\n",
    "ax1.axhline(y=S0+dS0, xmin=ymin, xmax=ymax, color='b', linestyle='-.', linewidth=3)\n",
    "ax1.plot(base_known[:,0], base_known[:,1], 'v', color = 'yellow', markersize=15, label='known depths (basement)')\n",
    "#ax1.plot(base_known_old[:,0], base_known_old[:,1], 'v', color = 'yellow', markersize=15, label='known depths (basement)')\n",
    "#ax1.plot(base_known_new[:,0], base_known_new[:,1], 'v', color = 'magenta', markersize=15, label='more known depths (basement)')\n",
    "ax1.plot(moho_known[:,0], moho_known[:,1], 'D', color = 'lime', markersize=15, label='known depths (moho)')\n",
    "ax1.set_ylim((S0+dS0), zmin)\n",
    "ax1.set_ylim((50500.0), zmin)\n",
    "ax1.set_xlim(ymin, ymax)\n",
    "ax1.set_xlabel('y (km)', fontsize=16)\n",
    "ax1.set_ylabel('z (km)', fontsize=16)\n",
    "ax1.set_xticklabels(['%g'% (0.001*l) for l in ax1.get_xticks()], fontsize=14)\n",
    "ax1.set_yticklabels(['%g'% (0.001*l) for l in ax1.get_yticks()], fontsize=14)\n",
    "ax1.legend(loc='lower right', fontsize=14, facecolor='silver')    \n",
    "\n",
    "X, Y = fig.get_dpi()*fig.get_size_inches()\n",
    "plt.title('Density contrast (kg/m$^{3}$)', fontsize=18)\n",
    "ax2.axis('off')\n",
    "\n",
    "layers_list1 = ['water', 'sediment', 'SDR', 'continental', 'oceanic', 'mantle']\n",
    "layers_list2 = ['', '', '', 'crust', 'crust', '']\n",
    "colors_list = ['lightskyblue', 'tan', 'rosybrown', 'orange', 'olive', 'pink']\n",
    "density_list = ['-1840', '-520', '-15', '0', '15', '370'] #original\n",
    "#density_list = ['-1840', '-430', '-40', '0', '15', '370']\n",
    "#density_list = ['1030', '2350', '2855', '2870', '2885', '3240']\n",
    "\n",
    "ncols = len(colors_list)\n",
    "nrows = 1\n",
    "h = Y / nrows\n",
    "w = X / (ncols + 1)\n",
    "\n",
    "i=ncols-1\n",
    "for color, density, layers1, layers2 in zip(colors_list, density_list, layers_list1, layers_list2):\n",
    "    col = i // nrows\n",
    "    row = i % nrows\n",
    "    x = X - (col*w) - w\n",
    "    \n",
    "    yi_line = Y\n",
    "    yf_line = Y - Y*0.15\n",
    "    yi_text1 = Y - Y*0.2\n",
    "    yi_text2 = Y - Y*0.27\n",
    "    yi_text3 = Y - Y*0.08\n",
    "    \n",
    "    i-=1\n",
    "    poly = Polygon(np.array([[x, x+w*0.75, x+w*0.75, x], [yi_line, yi_line, yf_line, yf_line]]).T)\n",
    "    tmpx = [x for x in poly.x]\n",
    "    tmpx.append(poly.x[0])\n",
    "    tmpy = [y for y in poly.y]\n",
    "    tmpy.append(poly.y[0])\n",
    "    ax2.plot(tmpx, tmpy, linestyle='-', color='k', linewidth=1)\n",
    "    ax2.fill(tmpx, tmpy, color=color)\n",
    "    ax2.text(x+w*0.375, yi_text1, layers1, fontsize=(w*0.14), horizontalalignment='center', verticalalignment='top')\n",
    "    ax2.text(x+w*0.375, yi_text2, layers2, fontsize=(w*0.14), horizontalalignment='center', verticalalignment='top')\n",
    "    ax2.text(x+w*0.375, yi_text3, density, fontsize=(w*0.14), horizontalalignment='center', verticalalignment='center')\n",
    "\n",
    "plt.tight_layout()    \n",
    "    \n",
    "#mpl.savefig('../manuscript/figures/pelotas-profile-initial-guess-model.png', dpi='figure', bbox_inches='tight')\n",
    "plt.show()      "
   ]
  },
  {
   "cell_type": "code",
   "execution_count": null,
   "metadata": {
    "collapsed": true
   },
   "outputs": [],
   "source": []
  },
  {
   "cell_type": "code",
   "execution_count": null,
   "metadata": {
    "collapsed": true
   },
   "outputs": [],
   "source": []
  }
 ],
 "metadata": {
  "anaconda-cloud": {},
  "kernelspec": {
   "display_name": "Python 2",
   "language": "python",
   "name": "python2"
  },
  "language_info": {
   "codemirror_mode": {
    "name": "ipython",
    "version": 2
   },
   "file_extension": ".py",
   "mimetype": "text/x-python",
   "name": "python",
   "nbconvert_exporter": "python",
   "pygments_lexer": "ipython2",
   "version": "2.7.13"
  }
 },
 "nbformat": 4,
 "nbformat_minor": 2
}
