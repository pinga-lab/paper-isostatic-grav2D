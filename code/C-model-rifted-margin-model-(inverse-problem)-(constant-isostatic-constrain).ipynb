{
 "cells": [
  {
   "cell_type": "markdown",
   "metadata": {},
   "source": [
    "# 2D Isostatic gravity inversion - Inverse Problem"
   ]
  },
  {
   "cell_type": "markdown",
   "metadata": {},
   "source": [
    "Este [IPython Notebook](http://ipython.org/videos.html#the-ipython-notebook) utiliza a biblioteca de código aberto [Fatiando a Terra](http://fatiando.org/)"
   ]
  },
  {
   "cell_type": "raw",
   "metadata": {},
   "source": [
    "Inverse problem - rifted margin. (model C)"
   ]
  },
  {
   "cell_type": "code",
   "execution_count": 1,
   "metadata": {},
   "outputs": [
    {
     "name": "stderr",
     "output_type": "stream",
     "text": [
      "/Users/macelabastos/anaconda2/lib/python2.7/site-packages/fatiando/vis/mpl.py:76: UserWarning: This module will be removed in v0.6. We recommend the use of matplotlib.pyplot module directly. Some of the fatiando specific functions will remain.\n",
      "  \"specific functions will remain.\")\n"
     ]
    }
   ],
   "source": [
    "%matplotlib inline\n",
    "import numpy as np\n",
    "from scipy.misc import derivative\n",
    "import scipy as spy\n",
    "from scipy import interpolate\n",
    "import matplotlib\n",
    "#matplotlib.use('TkAgg', force=True)\n",
    "import matplotlib.pyplot as plt\n",
    "from matplotlib.ticker import MaxNLocator\n",
    "import math\n",
    "import cPickle as pickle\n",
    "import datetime\n",
    "import string as st\n",
    "\n",
    "from scipy.misc import imread\n",
    "\n",
    "from __future__ import division\n",
    "\n",
    "from fatiando import gravmag, mesher, utils, gridder\n",
    "from fatiando.mesher import Prism, Polygon\n",
    "from fatiando.gravmag import prism\n",
    "from fatiando.utils import ang2vec, si2nt, contaminate\n",
    "from fatiando.gridder import regular\n",
    "from fatiando.vis import mpl\n",
    "\n",
    "from numpy.testing import assert_almost_equal\n",
    "from numpy.testing import assert_array_almost_equal\n",
    "from pytest import raises\n",
    "\n",
    "plt.rc('font', size=16)"
   ]
  },
  {
   "cell_type": "code",
   "execution_count": 2,
   "metadata": {
    "collapsed": true
   },
   "outputs": [],
   "source": [
    "import functions as fc"
   ]
  },
  {
   "cell_type": "markdown",
   "metadata": {},
   "source": [
    "## Observation coordinates."
   ]
  },
  {
   "cell_type": "code",
   "execution_count": 3,
   "metadata": {
    "collapsed": true
   },
   "outputs": [],
   "source": [
    "# Model`s limits\n",
    "ymin = 0.0\n",
    "ymax = 195000.0\n",
    "zmin = -1000.0\n",
    "zmax = 37400.0\n",
    "xmin = -100000.0\n",
    "xmax =  100000.0\n",
    "\n",
    "area = [ymin, ymax, zmax, zmin]"
   ]
  },
  {
   "cell_type": "code",
   "execution_count": 4,
   "metadata": {
    "collapsed": true
   },
   "outputs": [],
   "source": [
    "ny = 150 # number of observation datas and number of prisms along the profile\n",
    "# coordinates defining the horizontal boundaries of the\n",
    "# adjacent columns along the profile\n",
    "y = np.linspace(ymin, ymax, ny)"
   ]
  },
  {
   "cell_type": "code",
   "execution_count": 5,
   "metadata": {
    "collapsed": true
   },
   "outputs": [],
   "source": [
    "# coordinates of the center of the columns forming the\n",
    "# interpretation model\n",
    "n = ny - 1\n",
    "dy = (ymax - ymin)/n\n",
    "ycmin = ymin + 0.5*dy\n",
    "ycmax = ymax - 0.5*dy\n",
    "yc = np.reshape(np.linspace(ycmin, ycmax, n),(n,1))\n",
    "x = np.zeros_like(yc)\n",
    "z = np.zeros_like(yc)-150.0"
   ]
  },
  {
   "cell_type": "code",
   "execution_count": 6,
   "metadata": {
    "collapsed": true
   },
   "outputs": [],
   "source": [
    "## Edge extension (observation coordinates)\n",
    "sigma = 2.0\n",
    "edge = sigma*dy*n"
   ]
  },
  {
   "cell_type": "markdown",
   "metadata": {},
   "source": [
    "## Model parameters"
   ]
  },
  {
   "cell_type": "code",
   "execution_count": 7,
   "metadata": {
    "collapsed": true
   },
   "outputs": [],
   "source": [
    "# Model densities\n",
    "# Indices and polygons relationship:\n",
    "# cc = continental crust layer\n",
    "# oc = ocean crust layer\n",
    "# w = water layer\n",
    "# s = sediment layer\n",
    "# m = mantle layer\n",
    "dw = np.array([1030.0])\n",
    "ds = np.array([2600.0])\n",
    "dcc = np.array([2790.0])\n",
    "doc = np.array([2850.0])\n",
    "dm = np.array([3250.0])\n",
    "#dc = dcc\n",
    "# coordinate defining the horizontal boundaries of the continent-ocean boundary\n",
    "COT = 117000.0\n",
    "\n",
    "# list defining crust density variance\n",
    "dc = np.zeros_like(yc)\n",
    "aux = yc <= COT\n",
    "for i in range(len(yc[aux])):\n",
    "    dc[i] = dcc\n",
    "for i in range(len(yc[aux]),n):\n",
    "    dc[i] = doc\n",
    "# defining sediments layers density vector\n",
    "ds = np.reshape(np.repeat(ds,n),(n,1))\n",
    "\n",
    "# S0 => isostatic compensation surface (Airy's model)\n",
    "S0 = np.array([29500.0])"
   ]
  },
  {
   "cell_type": "raw",
   "metadata": {},
   "source": [
    "# contrastes de densidade\n",
    "print 'ddw = ', dw - dcc\n",
    "print 'dds0 = ', ds[0] - dcc\n",
    "print 'ddcc = ', dcc - dcc\n",
    "print 'ddoc = ', doc - dcc\n",
    "print 'ddm = ', dm - dcc"
   ]
  },
  {
   "cell_type": "markdown",
   "metadata": {},
   "source": [
    "## Synthetic data"
   ]
  },
  {
   "cell_type": "code",
   "execution_count": 8,
   "metadata": {
    "collapsed": true
   },
   "outputs": [],
   "source": [
    "gsyn = np.reshape(np.loadtxt('../data/C-model-rifted-margin-synthetic-gravity-data.txt'),(n,1))"
   ]
  },
  {
   "cell_type": "markdown",
   "metadata": {},
   "source": [
    "## Water bottom"
   ]
  },
  {
   "cell_type": "code",
   "execution_count": 9,
   "metadata": {
    "collapsed": true
   },
   "outputs": [],
   "source": [
    "tw = np.reshape(np.loadtxt('../data/C-model-rifted-margin-bathymetry.txt'),(n,1))"
   ]
  },
  {
   "cell_type": "markdown",
   "metadata": {},
   "source": [
    "## True surfaces"
   ]
  },
  {
   "cell_type": "code",
   "execution_count": 10,
   "metadata": {
    "collapsed": true
   },
   "outputs": [],
   "source": [
    "true_basement = np.reshape(np.loadtxt('../data/C-model-rifted-margin-true-basement-surface.txt'),(n,1))\n",
    "\n",
    "true_moho = np.reshape(np.loadtxt('../data/C-model-rifted-margin-true-moho-surface.txt'),(n,1))\n",
    "\n",
    "# True reference moho surface (SR = S0+dS0)\n",
    "true_S0 = np.array([29500.0])\n",
    "true_dS0 = np.array([1200.0])"
   ]
  },
  {
   "cell_type": "code",
   "execution_count": 11,
   "metadata": {
    "collapsed": true
   },
   "outputs": [],
   "source": [
    "# True layer sediments thickness\n",
    "true_ts = true_basement - tw\n",
    "\n",
    "# True layer mantle thickness\n",
    "true_tm = S0 - true_moho\n",
    "\n",
    "# true parameters vector\n",
    "ptrue = np.vstack((true_ts, true_tm, true_dS0))"
   ]
  },
  {
   "cell_type": "markdown",
   "metadata": {},
   "source": [
    "## Initial guess surfaces"
   ]
  },
  {
   "cell_type": "code",
   "execution_count": 12,
   "metadata": {
    "collapsed": true
   },
   "outputs": [],
   "source": [
    "# initial guess basement surface\n",
    "ini_basement = np.reshape(np.loadtxt('../data/C-model-rifted-margin-initial-basement-surface.txt'),(n,1))\n",
    "\n",
    "# initial guess moho surface\n",
    "ini_moho = np.reshape(np.loadtxt('../data/C-model-rifted-margin-initial-moho-surface.txt'),(n,1))\n",
    "\n",
    "# initial guess reference moho surface (SR = S0+dS0)\n",
    "ini_dS0 = np.array([6900.0])\n",
    "ini_RM = S0 + ini_dS0"
   ]
  },
  {
   "cell_type": "code",
   "execution_count": 13,
   "metadata": {
    "collapsed": true
   },
   "outputs": [],
   "source": [
    "# initial guess layer sediments thickness\n",
    "ini_ts = ini_basement - tw\n",
    "# initial guess layer mantle thickness\n",
    "ini_tm = S0 - ini_moho\n",
    "# initial guess parameters vector\n",
    "p0 = np.vstack((ini_ts, ini_tm, ini_dS0))"
   ]
  },
  {
   "cell_type": "markdown",
   "metadata": {},
   "source": [
    "## Known depths"
   ]
  },
  {
   "cell_type": "code",
   "execution_count": 14,
   "metadata": {
    "collapsed": true
   },
   "outputs": [],
   "source": [
    "# Known values: basement and moho surfaces\n",
    "\n",
    "base_known = np.loadtxt('../data/C-model-rifted-margin-basement-known-depths.txt', ndmin=2)\n",
    "\n",
    "moho_known = np.loadtxt('../data/C-model-rifted-margin-moho-known-depths.txt', ndmin=2)"
   ]
  },
  {
   "cell_type": "code",
   "execution_count": 15,
   "metadata": {
    "collapsed": true
   },
   "outputs": [],
   "source": [
    "(rs,index_rs) = fc.base_known_function(dy,tw,yc,base_known)"
   ]
  },
  {
   "cell_type": "code",
   "execution_count": 16,
   "metadata": {
    "collapsed": true
   },
   "outputs": [],
   "source": [
    "(rm,index_rm) = fc.moho_known_function(dy,yc,S0,moho_known)"
   ]
  },
  {
   "cell_type": "code",
   "execution_count": 17,
   "metadata": {
    "collapsed": true
   },
   "outputs": [],
   "source": [
    "index_base = index_rs\n",
    "index_moho = index_rm - n\n",
    "\n",
    "assert_almost_equal(base_known[:,0], yc[index_base][:,0], decimal=6)\n",
    "\n",
    "assert_almost_equal(moho_known[:,0], yc[index_moho][:,0], decimal=6)\n",
    "\n",
    "assert_almost_equal(true_ts[index_base][:,0], rs[:,0], decimal=6)\n",
    "\n",
    "assert_almost_equal((true_tm[index_moho][:,0]), rm[:,0], decimal=6)"
   ]
  },
  {
   "cell_type": "markdown",
   "metadata": {},
   "source": [
    "## Initial guess data"
   ]
  },
  {
   "cell_type": "code",
   "execution_count": 18,
   "metadata": {
    "collapsed": true
   },
   "outputs": [],
   "source": [
    "g0 = np.reshape(np.loadtxt('../data/C-model-rifted-margin-initial-guess-gravity-data.txt'),(n,1))"
   ]
  },
  {
   "cell_type": "markdown",
   "metadata": {
    "collapsed": true
   },
   "source": [
    "### parameters vector box limits"
   ]
  },
  {
   "cell_type": "code",
   "execution_count": 19,
   "metadata": {},
   "outputs": [
    {
     "name": "stdout",
     "output_type": "stream",
     "text": [
      "ts => 1396.73017012 - 10664.5469659\n",
      "tm => 3590.80646175 - 15247.2402295\n",
      "dS0 => [ 1200.]\n"
     ]
    }
   ],
   "source": [
    "# true thickness vector limits\n",
    "print 'ts =>', np.min(ptrue[0:n]),'-', np.max(ptrue[0:n])\n",
    "print 'tm =>', np.min(ptrue[n:n+n]),'-', np.max(ptrue[n:n+n])\n",
    "print 'dS0 =>', ptrue[n+n]"
   ]
  },
  {
   "cell_type": "code",
   "execution_count": 20,
   "metadata": {},
   "outputs": [
    {
     "name": "stdout",
     "output_type": "stream",
     "text": [
      "ts => 5287.56068051 - 9211.22622696\n",
      "tm => 4084.54458293 - 8369.08843238\n",
      "dS0 => [ 6900.]\n"
     ]
    }
   ],
   "source": [
    "# initial guess thickness vector limits\n",
    "print 'ts =>', np.min(p0[0:n]),'-', np.max(p0[0:n])\n",
    "print 'tm =>', np.min(p0[n:n+n]),'-', np.max(p0[n:n+n])\n",
    "print 'dS0 =>', p0[n+n]"
   ]
  },
  {
   "cell_type": "code",
   "execution_count": 21,
   "metadata": {
    "collapsed": true
   },
   "outputs": [],
   "source": [
    "# defining parameters values limits\n",
    "pjmin = np.zeros((len(ptrue),1))\n",
    "pjmax = np.zeros((len(ptrue),1))\n",
    "pjmin[0:n] = 0.\n",
    "pjmax[0:n] = 18000.\n",
    "pjmin[n:n+n] = 0.\n",
    "pjmax[n:n+n] = 20000.\n",
    "pjmin[n+n] = 0.\n",
    "pjmax[n+n] = 12000."
   ]
  },
  {
   "cell_type": "markdown",
   "metadata": {},
   "source": [
    "### Inversion code"
   ]
  },
  {
   "cell_type": "code",
   "execution_count": 22,
   "metadata": {
    "collapsed": true
   },
   "outputs": [],
   "source": [
    "#Parametros internos para implementacao da funcao (convergencia, numero de iteracoes, etc.)\n",
    "beta = 10**(-3)\n",
    "itmax = 50\n",
    "itmax_marq = 10\n",
    "lamb = 1.\n",
    "mi = 10**(-3)\n",
    "dmi = 10.\n",
    "dp1 = 1.\n",
    "dp2 = 1."
   ]
  },
  {
   "cell_type": "code",
   "execution_count": 23,
   "metadata": {
    "collapsed": true
   },
   "outputs": [],
   "source": [
    "#inicializacao de variaveis\n",
    "ymin = area[0]\n",
    "ymax = area[1]\n",
    "x = np.zeros_like(yc)\n",
    "z = np.zeros_like(yc)-150.0\n",
    "n = len(yc) # numero de dados observados\n",
    "m = 2*n+1 # numero de parametros a inverter\n",
    "    \n",
    "# calculo da contribuicao dos prismas que formam a camada de agua.\n",
    "prism_w = fc.prism_w_function(xmax,xmin,dy,edge,dw,dcc,tw,yc)\n",
    "gzw = prism.gz(np.reshape(x,(n,)),np.reshape(yc,(n,)),np.reshape(z,(n,)),prism_w)"
   ]
  },
  {
   "cell_type": "code",
   "execution_count": 24,
   "metadata": {
    "collapsed": true
   },
   "outputs": [],
   "source": [
    "# matrizes\n",
    "I = np.identity(m)\n",
    "W0 = np.identity(n-1)\n",
    "R = fc.R_matrix_function(n)\n",
    "Sa = fc.Sa_matrix_function(n)\n",
    "Sb = fc.Sb_matrix_function(n)\n",
    "C = fc.C_matrix_function(ds,dm,dc)\n",
    "D = fc.D_matrix_function(dw,dc)\n",
    "A = fc.A_matrix_function(n,rs,index_rs)\n",
    "B = fc.B_matrix_function(n,rm,index_rm)\n",
    "G0 = fc.G_matrix_function(xmax,xmin,dy,edge,dp1,dp2,S0,dw,ds,dm,dcc,dc,tw,p0,yc)\n",
    "\n",
    "# Hessianas\n",
    "Hess_phi = (2/n)*G0.T.dot(G0)\n",
    "Hess_psi0 = 2*C.T.dot(R.T.dot(W0.T.dot(W0.dot(R.dot(C)))))\n",
    "Hess_psi1 = 2*Sa.T.dot(Sa)\n",
    "Hess_psi2 = 2*Sb.T.dot(Sb)\n",
    "Hess_psi3 = 2*A.T.dot(A)\n",
    "Hess_psi4 = 2*B.T.dot(B)"
   ]
  },
  {
   "cell_type": "code",
   "execution_count": 25,
   "metadata": {},
   "outputs": [
    {
     "name": "stdout",
     "output_type": "stream",
     "text": [
      "2.69260354668e-08 250000.0 4.0 4.0 2.0 2.0\n"
     ]
    }
   ],
   "source": [
    "# Normalizacao dos vinculos\n",
    "diag_phi = np.diag(Hess_phi)\n",
    "diag_psi0 = np.diag(Hess_psi0)\n",
    "diag_psi1 = np.diag(Hess_psi1)\n",
    "diag_psi2 = np.diag(Hess_psi2)\n",
    "diag_psi3 = np.diag(Hess_psi3)\n",
    "diag_psi4 = np.diag(Hess_psi4)\n",
    "\n",
    "f_phi = np.median(diag_phi)\n",
    "f_psi0 = np.median(diag_psi0)\n",
    "#f_psi1 = np.median(diag_psi1)\n",
    "#f_psi2 = np.median(diag_psi2)\n",
    "#f_psi3 = np.median(diag_psi3)\n",
    "#f_psi4 = np.median(diag_psi4)\n",
    "f_psi1 = 4.\n",
    "f_psi2 = 4.\n",
    "f_psi3 = 2.\n",
    "f_psi4 = 2.\n",
    "print f_phi, f_psi0, f_psi1, f_psi2, f_psi3, f_psi4"
   ]
  },
  {
   "cell_type": "code",
   "execution_count": 26,
   "metadata": {},
   "outputs": [
    {
     "name": "stdout",
     "output_type": "stream",
     "text": [
      "0.0 6.7315088667e-08 6.7315088667e-08 1.34630177334e-07 1.34630177334e-07\n"
     ]
    }
   ],
   "source": [
    "# coeficientes dos vinculos\n",
    "alpha0 = 0*(f_phi/f_psi0)*10**(2) # vinculo isostatico\n",
    "alpha1 = (f_phi/f_psi1)*10**(1) # vinculo suavidade embasamento\n",
    "alpha2 = (f_phi/f_psi2)*10**(1) # vinculo suavidade Moho\n",
    "alpha3 = (f_phi/f_psi3)*10**(1) # vinculo de igualdade espessura sedimento\n",
    "alpha4 = (f_phi/f_psi4)*10**(1) # vinculo de igualdade espessura (S0 - tm)\n",
    "print alpha0, alpha1, alpha2, alpha3, alpha4"
   ]
  },
  {
   "cell_type": "code",
   "execution_count": 27,
   "metadata": {},
   "outputs": [
    {
     "name": "stdout",
     "output_type": "stream",
     "text": [
      "k1= 0\n",
      "212.89799439\n",
      "thicknesses= 20379.3927836\n",
      "k1= 1\n",
      "38.5165514062\n",
      "thicknesses= 21350.4760773\n",
      "k0= 0\n",
      "k1= 2\n",
      "3.29146412824\n",
      "thicknesses= 21608.3069749\n",
      "k0= 1\n",
      "k1= 3\n",
      "2.39262836117\n",
      "thicknesses= 21706.0680418\n",
      "k0= 2\n",
      "k1= 4\n",
      "2.0578340291\n",
      "thicknesses= 21752.7506087\n",
      "k0= 3\n",
      "k1= 5\n",
      "1.8087679598\n",
      "thicknesses= 21777.0999249\n",
      "k0= 4\n",
      "k1= 6\n",
      "1.61042372405\n",
      "thicknesses= 21790.2049469\n",
      "k0= 5\n",
      "k1= 7\n",
      "1.44558095984\n",
      "thicknesses= 21797.1540243\n",
      "k0= 6\n",
      "k1= 8\n",
      "1.30622925683\n",
      "thicknesses= 21800.5666736\n",
      "k0= 7\n",
      "k1= 9\n",
      "1.18731640199\n",
      "thicknesses= 21801.9000713\n",
      "k0= 8\n",
      "k1= 10\n",
      "1.08520126244\n",
      "thicknesses= 21802.0123679\n",
      "k0= 9\n",
      "k1= 11\n",
      "0.997067696535\n",
      "thicknesses= 21801.4306717\n",
      "k0= 10\n",
      "k1= 12\n",
      "0.920660635833\n",
      "thicknesses= 21800.488693\n",
      "k0= 11\n",
      "k1= 13\n",
      "0.854142199316\n",
      "thicknesses= 21799.401892\n",
      "k0= 12\n",
      "k1= 14\n",
      "0.795999992917\n",
      "thicknesses= 21798.3106285\n",
      "k0= 13\n",
      "k1= 15\n",
      "0.744982019634\n",
      "thicknesses= 21797.3060396\n",
      "k0= 14\n",
      "k1= 16\n",
      "0.700047392765\n",
      "thicknesses= 21796.4461698\n",
      "k0= 15\n",
      "k1= 17\n",
      "0.660327648871\n",
      "thicknesses= 21795.7663786\n",
      "k0= 16\n",
      "k1= 18\n",
      "0.625095789212\n",
      "thicknesses= 21795.2862644\n",
      "k0= 17\n",
      "k1= 19\n",
      "0.593741246185\n",
      "thicknesses= 21795.014396\n",
      "k0= 18\n",
      "k1= 20\n",
      "0.565749525646\n",
      "thicknesses= 21794.9516209\n",
      "k0= 19\n",
      "k1= 21\n",
      "0.540685598089\n",
      "thicknesses= 21795.0934191\n",
      "k0= 20\n",
      "k1= 22\n",
      "0.518180319055\n",
      "thicknesses= 21795.4316024\n",
      "k0= 21\n",
      "k1= 23\n",
      "0.49791930877\n",
      "thicknesses= 21795.9555532\n",
      "k0= 22\n",
      "k1= 24\n",
      "0.479633832551\n",
      "thicknesses= 21796.6531309\n",
      "k0= 23\n",
      "k1= 25\n",
      "0.463093309897\n",
      "thicknesses= 21797.5113395\n",
      "k0= 24\n",
      "k1= 26\n",
      "0.448099151021\n",
      "thicknesses= 21798.5168154\n",
      "k0= 25\n",
      "k1= 27\n",
      "0.434479675971\n",
      "thicknesses= 21799.6561824\n",
      "k0= 26\n",
      "k1= 28\n",
      "0.422085916813\n",
      "thicknesses= 21800.9163081\n",
      "k0= 27\n",
      "k1= 29\n",
      "0.410788141323\n",
      "thicknesses= 21802.2844833\n",
      "k0= 28\n",
      "k1= 30\n",
      "0.400472966523\n",
      "thicknesses= 21803.7485449\n",
      "k0= 29\n",
      "k1= 31\n",
      "0.391040955361\n",
      "thicknesses= 21805.2969576\n",
      "k0= 30\n",
      "k1= 32\n",
      "0.382404609667\n",
      "thicknesses= 21806.9188597\n",
      "k0= 31\n",
      "k1= 33\n",
      "0.374486688891\n",
      "thicknesses= 21808.604088\n",
      "k0= 32\n",
      "k1= 34\n",
      "0.367218797454\n",
      "thicknesses= 21810.3431821\n",
      "k0= 33\n",
      "k1= 35\n",
      "0.360540193257\n",
      "thicknesses= 21826.2734087\n",
      "k0= 34\n",
      "k1= 36\n",
      "0.354396780146\n",
      "thicknesses= 21867.6866176\n",
      "k0= 35\n",
      "k1= 37\n",
      "0.348740252263\n",
      "thicknesses= 21907.3157378\n",
      "k0= 36\n",
      "k1= 38\n",
      "0.34352736548\n",
      "thicknesses= 21945.247744\n",
      "k0= 37\n",
      "k1= 39\n",
      "0.338719314593\n",
      "thicknesses= 21981.5647423\n",
      "k0= 38\n",
      "k1= 40\n",
      "0.334281199176\n",
      "thicknesses= 22016.3442811\n",
      "k0= 39\n",
      "k1= 41\n",
      "0.330181563975\n",
      "thicknesses= 22049.6596394\n",
      "k0= 40\n",
      "k1= 42\n",
      "0.326392002005\n",
      "thicknesses= 22081.5800954\n",
      "k0= 41\n",
      "k1= 43\n",
      "0.322886810902\n",
      "thicknesses= 22112.1711757\n",
      "k0= 42\n",
      "k1= 44\n",
      "0.319642694139\n",
      "thicknesses= 22141.4948887\n",
      "k0= 43\n",
      "k1= 45\n",
      "0.316638500659\n",
      "thicknesses= 22169.6099417\n",
      "k0= 44\n",
      "k1= 46\n",
      "0.313854997214\n",
      "thicknesses= 22196.5719407\n",
      "k0= 45\n",
      "k1= 47\n",
      "0.311274668695\n",
      "thicknesses= 22222.4335803\n",
      "k0= 46\n",
      "k1= 48\n",
      "0.308881542598\n",
      "thicknesses= 22247.244817\n",
      "k0= 47\n",
      "k1= 49\n",
      "0.306661034244\n",
      "thicknesses= 22271.0530333\n"
     ]
    }
   ],
   "source": [
    "p1 = p0.copy()\n",
    "g1 = g0.copy()\n",
    "\n",
    "gama1 = fc.gama_function(alpha0,alpha1,alpha2,alpha3,alpha4,lamb,S0,tw,gsyn,g1,p1,rs,rm,W0,R,C,D,Sa,Sb,A,B)\n",
    "gama_list = [gama1]\n",
    "\n",
    "k0=0\n",
    "k1=0\n",
    "\n",
    "#implementacao da funcao\n",
    "for it in range (itmax):\n",
    "\n",
    "    p1_hat = - np.log((pjmax - p1)/(p1-pjmin))\n",
    "    G1 = fc.G_matrix_function(xmax,xmin,dy,edge,dp1,dp2,S0,dw,ds,dm,dcc,dc,tw,p1,yc)\n",
    "    \n",
    "    grad_phi = (-2/n)*G1.T.dot(gsyn - g1)\n",
    "    Hess_phi = (2/n)*G1.T.dot(G1)\n",
    "        \n",
    "    grad_psi0 = fc.grad_psi_iso_function(S0,tw,p1,W0,R,C,D)\n",
    "    grad_psi1 = fc.grad_psi_tk1_function(p1,Sa)\n",
    "    grad_psi2 = fc.grad_psi_tk1_function(p1,Sb)\n",
    "    grad_psi3 = fc.grad_psi_eq_function(p1,rs,A)\n",
    "    grad_psi4 = fc.grad_psi_eq_function(p1,rm,B)\n",
    "    \n",
    "    grad_gama = grad_phi + lamb*(alpha0*grad_psi0+alpha1*grad_psi1+alpha2*grad_psi2+alpha3*grad_psi3+alpha4*grad_psi4)\n",
    "    Hess_gama = Hess_phi+lamb*(alpha0*Hess_psi0+alpha1*Hess_psi1+alpha2*Hess_psi2+alpha3*Hess_psi3+alpha4*Hess_psi4)\n",
    "    \n",
    "    T = fc.T_matrix_function(pjmin, pjmax, p1)\n",
    "        \n",
    "    for it_marq in range(itmax_marq):\n",
    "            \n",
    "        deltap = np.linalg.solve((Hess_gama.dot(T) + mi*I), -grad_gama)\n",
    "        p2_hat = p1_hat + deltap\n",
    "        p2 = pjmin + ((pjmax - pjmin)/(1 + np.exp(-p2_hat)))\n",
    "\n",
    "        #Calculo do vetor de dados preditos e da funcao phi\n",
    "        prism_s = fc.prism_s_function(xmax,xmin,dy,edge,ds,dcc,tw,p2,yc)\n",
    "        prism_c = fc.prism_c_function(xmax,xmin,dy,edge,S0,dcc,dc,tw,p2,yc)\n",
    "        prism_m = fc.prism_m_function(xmax,xmin,dy,edge,S0,dcc,dm,p2,yc)\n",
    "        \n",
    "        g2 = np.reshape(fc.g_function(np.reshape(x,(n,)),np.reshape(yc,(n,)),np.reshape(z,(n,)),gzw,prism_s,prism_c,prism_m),(n,1))\n",
    "        gama2 = fc.gama_function(alpha0,alpha1,alpha2,alpha3,alpha4,lamb,S0,tw,gsyn,g2,p2,rs,rm,W0,R,C,D,Sa,Sb,A,B)\n",
    "        \n",
    "        #Verificando se a funcao phi esta diminuindo\n",
    "        dgama = gama2 - gama1\n",
    "        if dgama > 0.:\n",
    "            mi *= dmi\n",
    "            print 'k0=',k0\n",
    "            k0 += 1\n",
    "            \n",
    "        else:\n",
    "            mi /= dmi\n",
    "            break\n",
    "    \n",
    "    #Testando convergencia da funcao phi\n",
    "    if (dgama < 0.) & (abs(gama1 - gama2) < beta):\n",
    "    #if fc.convergence_function(gama1, gama2, beta):\n",
    "        print 'convergence achieved'\n",
    "        break\n",
    "        \n",
    "    #Atualizando variaveis\n",
    "    else:\n",
    "        print 'k1=',k1\n",
    "        k1 += 1       \n",
    "        #gama1 = gama2.copy()\n",
    "        print gama1\n",
    "        gama_list.append(gama1)\n",
    "\n",
    "    thicknesses = tw + p2[0:n] + p2[n:n+n]\n",
    "    print 'thicknesses=', np.max(thicknesses)\n",
    "\n",
    "    p = p1.copy()\n",
    "    g = g1.copy()\n",
    "        \n",
    "    p1 = p2.copy()\n",
    "    g1 = g2.copy()\n",
    "    gama1 = gama2.copy()\n",
    "        \n",
    "assert np.alltrue(thicknesses <= S0), 'sum of the thicknesses shall be less than or equal to isostatic compensation surface'\n",
    "    \n",
    "p = p2.copy()\n",
    "g = g2.copy()\n",
    "gama_list.append(gama2)"
   ]
  },
  {
   "cell_type": "code",
   "execution_count": 33,
   "metadata": {},
   "outputs": [
    {
     "data": {
      "image/png": "[encoded data removed]",
      "text/plain": [
       "<matplotlib.figure.Figure at 0x116562a10>"
      ]
     },
     "metadata": {},
     "output_type": "display_data"
    }
   ],
   "source": [
    "it = [i for i in range(len(gama_list))]\n",
    "#plt.figure(figsize=(8,8))\n",
    "ax = plt.figure(figsize=(8,8)).gca()\n",
    "ax.xaxis.set_major_locator(MaxNLocator(integer=True))\n",
    "plt.plot(gama_list,'ko')\n",
    "plt.yscale('log')\n",
    "plt.xlabel('$k$', fontsize=18)\n",
    "plt.ylabel('$\\Gamma(\\mathbf{p})$', fontsize=18)\n",
    "plt.grid()\n",
    "#plt.xlim(-1,50)\n",
    "#plt.xlim(-1, len(gama_list)+5)\n",
    "plt.ylim(np.min(gama_list)-3*np.min(gama_list),np.max(gama_list)+3*np.min(gama_list))\n",
    "#mpl.savefig('../manuscript/figures/C-model-rifted-margin-gama-list-alphas_X_1_1_1_1-5e3pts.png', dpi='figure', bbox_inches='tight')\n",
    "plt.show()"
   ]
  },
  {
   "cell_type": "markdown",
   "metadata": {},
   "source": [
    "## Lithostatic Stress"
   ]
  },
  {
   "cell_type": "code",
   "execution_count": 29,
   "metadata": {
    "collapsed": true
   },
   "outputs": [],
   "source": [
    "sgm_true = 9.81*(10**(-6))*(dw*tw + ds*true_ts + dc*(S0-tw-true_ts-true_tm)+dm*true_tm)\n",
    "\n",
    "sgm = 9.81*(10**(-6))*(dw*tw + ds*p[0:n] + dc*(S0-tw-p[0:n]-p[n:n+n])+dm*p[n:n+n])"
   ]
  },
  {
   "cell_type": "markdown",
   "metadata": {},
   "source": [
    "## Inversion model plot"
   ]
  },
  {
   "cell_type": "code",
   "execution_count": 30,
   "metadata": {},
   "outputs": [
    {
     "name": "stdout",
     "output_type": "stream",
     "text": [
      "[ 1200.] [ 1594.30256658]\n"
     ]
    }
   ],
   "source": [
    "# Inverrsion results\n",
    "RM = S0 + p[n+n]\n",
    "basement = tw + p[0:n]\n",
    "moho = S0 - p[n:n+n]\n",
    "\n",
    "print ptrue[n+n], p[n+n]"
   ]
  },
  {
   "cell_type": "code",
   "execution_count": 31,
   "metadata": {
    "collapsed": true
   },
   "outputs": [],
   "source": [
    "polygons_water = []\n",
    "for (yi, twi) in zip(yc, tw):\n",
    "    y1 = yi - 0.5*dy\n",
    "    y2 = yi + 0.5*dy\n",
    "\n",
    "    polygons_water.append(Polygon(np.array([[y1, y2, y2, y1], \n",
    "                                            [0.0, 0.0, twi, twi]]).T,\n",
    "                                               props={'density': dw - dcc}))\n",
    "polygons_sediments = []\n",
    "for (yi, twi, si, dsi) in zip(yc, np.reshape(tw,(n,)), np.reshape(basement,(n,)), ds):\n",
    "    y1 = yi - 0.5*dy\n",
    "    y2 = yi + 0.5*dy\n",
    "\n",
    "    polygons_sediments.append(Polygon(np.array([[y1, y2, y2, y1], \n",
    "                                                [twi, twi, si, si]]).T,\n",
    "                                                    props={'density': ds - dcc}))\n",
    "\n",
    "polygons_crust = []\n",
    "for (yi, si, Si, dci) in zip(yc, np.reshape(basement,(n,)), np.reshape(moho,(n,)), dc):\n",
    "    y1 = yi - 0.5*dy\n",
    "    y2 = yi + 0.5*dy\n",
    "\n",
    "    polygons_crust.append(Polygon(np.array([[y1, y2, y2, y1], \n",
    "                                            [si, si, Si, Si]]).T,\n",
    "                                                props={'density': dci - dcc})) \n",
    "\n",
    "polygons_mantle = []\n",
    "for (yi, Si) in zip(yc, np.reshape(moho,(n,))):\n",
    "    y1 = yi - 0.5*dy\n",
    "    y2 = yi + 0.5*dy\n",
    "\n",
    "    polygons_mantle.append(Polygon(np.array([[y1, y2, y2, y1], \n",
    "                                                [Si, Si, S0+p[n+n], S0+p[n+n]]]).T,\n",
    "                                                    props={'density': dm - dcc}))"
   ]
  },
  {
   "cell_type": "code",
   "execution_count": 34,
   "metadata": {},
   "outputs": [
    {
     "data": {
      "image/png": "[encoded data removed]",
      "text/plain": [
       "<matplotlib.figure.Figure at 0x1182cc7d0>"
      ]
     },
     "metadata": {},
     "output_type": "display_data"
    }
   ],
   "source": [
    "%matplotlib inline\n",
    "plt.close('all')\n",
    "fig = plt.figure(figsize=(12,16))\n",
    "\n",
    "import matplotlib.gridspec as gridspec\n",
    "heights = [8, 8, 8, 1]\n",
    "gs = gridspec.GridSpec(4, 1, height_ratios=heights)\n",
    "ax1 = plt.subplot(gs[0])\n",
    "ax2 = plt.subplot(gs[1])\n",
    "ax3 = plt.subplot(gs[2])\n",
    "ax4 = plt.subplot(gs[3])\n",
    "\n",
    "ax1.axhline(y=0.0, xmin=ymin, xmax=ymax, color='k', linestyle='--', linewidth=1)\n",
    "ax1.plot(0.001*yc, gsyn, 'or', mfc='none', markersize=8, label='simulated data')\n",
    "ax1.plot(0.001*yc, g0, '-b', linewidth=2, label='initial guess data')\n",
    "ax1.plot(0.001*yc, g, '-g', linewidth=2, label='predicted data')\n",
    "ax1.set_xlim(0.001*ymin, 0.001*ymax)\n",
    "ax1.set_ylabel('gravity disturbance (mGal)', fontsize=16)\n",
    "ax1.set_xticklabels(['%g'% (l) for l in ax1.get_xticks()], fontsize=14)\n",
    "ax1.set_yticklabels(['%g'% (l) for l in ax1.get_yticks()], fontsize=14)\n",
    "ax1.legend(loc='best', fontsize=14, facecolor='silver')\n",
    "\n",
    "ax2.plot(0.001*yc, sgm_true, 'or', mfc='none', markersize=8, label='simulated lithostatic stress')\n",
    "ax2.plot(0.001*yc, sgm, '-g', linewidth=2, label='predicted lithostatic stress')\n",
    "ax2.set_xlim(0.001*ymin, 0.001*ymax)\n",
    "ax2.set_ylim(770,860)\n",
    "ax2.set_ylabel('lithostatic stress (MPa)', fontsize=16)\n",
    "ax2.set_xticklabels(['%g'% (l) for l in ax2.get_xticks()], fontsize=14)\n",
    "ax2.set_yticklabels(['%g'% (l) for l in ax2.get_yticks()], fontsize=14)\n",
    "ax2.legend(loc='best', fontsize=14, facecolor='silver')\n",
    "\n",
    "ax3.axhline(y=0.0, xmin=ymin, xmax=ymax, color='k', linestyle='-', linewidth=1)\n",
    "aux = yc <= COT\n",
    "for (pwi) in (polygons_water):\n",
    "    tmpx = [x for x in pwi.x]\n",
    "    tmpx.append(pwi.x[0])\n",
    "    tmpy = [y for y in pwi.y]\n",
    "    tmpy.append(pwi.y[0])\n",
    "    ax3.plot(tmpx, tmpy, linestyle='None')\n",
    "    ax3.fill(tmpx, tmpy, color='lightskyblue')\n",
    "for (psi) in (polygons_sediments):\n",
    "    tmpx = [x for x in psi.x]\n",
    "    tmpx.append(psi.x[0])\n",
    "    tmpy = [y for y in psi.y]\n",
    "    tmpy.append(psi.y[0])\n",
    "    ax3.plot(tmpx, tmpy, linestyle='None')\n",
    "    ax3.fill(tmpx, tmpy, color='tan')\n",
    "for (pci) in (polygons_crust[:len(yc[aux])]):\n",
    "    tmpx = [x for x in pci.x]\n",
    "    tmpx.append(pci.x[0])\n",
    "    tmpy = [y for y in pci.y]\n",
    "    tmpy.append(pci.y[0])\n",
    "    ax3.plot(tmpx, tmpy, linestyle='None')\n",
    "    ax3.fill(tmpx, tmpy, color='orange')\n",
    "for (pcoi) in (polygons_crust[len(yc[aux]):n]):\n",
    "    tmpx = [x for x in pcoi.x]\n",
    "    tmpx.append(pcoi.x[0])\n",
    "    tmpy = [y for y in pcoi.y]\n",
    "    tmpy.append(pcoi.y[0])\n",
    "    ax3.plot(tmpx, tmpy, linestyle='None')\n",
    "    ax3.fill(tmpx, tmpy, color='olive')\n",
    "for (pmi) in (polygons_mantle):\n",
    "    tmpx = [x for x in pmi.x]\n",
    "    tmpx.append(pmi.x[0])\n",
    "    tmpy = [y for y in pmi.y]\n",
    "    tmpy.append(pmi.y[0])\n",
    "    ax3.plot(tmpx, tmpy, linestyle='None')\n",
    "    ax3.fill(tmpx, tmpy, color='pink')\n",
    "\n",
    "ax3.plot(yc, tw, '-k', linewidth=3)\n",
    "ax3.plot(yc, true_basement, '-k', linewidth=3, label='true surfaces')\n",
    "ax3.plot(yc, true_moho, '-k', linewidth=3)\n",
    "ax3.plot(yc, ini_basement, '-.b', linewidth=3, label='initial guess surfaces')\n",
    "ax3.plot(yc, ini_moho, '-.b', linewidth=3)\n",
    "ax3.plot(yc, basement, '--w', linewidth=3, label='estimated surfaces')\n",
    "ax3.plot(yc, moho, '--w', linewidth=3)\n",
    "ax3.axhline(y=true_S0+true_dS0, xmin=ymin, xmax=ymax, color='k', linestyle='-', linewidth=3)\n",
    "ax3.axhline(y=S0+ini_dS0, xmin=ymin, xmax=ymax, color='b', linestyle='-.', linewidth=3)\n",
    "ax3.axhline(y=S0+p[n+n], xmin=ymin, xmax=ymax, color='w', linestyle='--', linewidth=3)\n",
    "ax3.plot(base_known[:,0], base_known[:,1], 'v', color = 'yellow', markersize=15, label='known depths (basement)')\n",
    "ax3.plot(moho_known[:,0], moho_known[:,1], 'D', color = 'lime', markersize=15, label='known depths (moho)')\n",
    "#ax3.set_ylim((S0+p[n+n]), zmin)\n",
    "ax3.set_ylim((39000.0), zmin)\n",
    "ax3.set_xlim(ymin, ymax)\n",
    "ax3.set_xlabel('y (km)', fontsize=16)\n",
    "ax3.set_ylabel('z (km)', fontsize=16)\n",
    "ax3.set_xticklabels(['%g'% (0.001*l) for l in ax3.get_xticks()], fontsize=14)\n",
    "ax3.set_yticklabels(['%g'% (0.001*l) for l in ax3.get_yticks()], fontsize=14)\n",
    "ax3.legend(loc='lower right', fontsize=14, facecolor='silver')    \n",
    "\n",
    "X, Y = fig.get_dpi()*fig.get_size_inches()\n",
    "plt.title('Density contrast (kg/m$^{3}$)', fontsize=17)\n",
    "ax4.axis('off')\n",
    "\n",
    "layers_list1 = ['water', 'sediment', 'continental', 'oceanic', 'mantle']\n",
    "layers_list2 = ['', '', 'crust', 'crust', '']\n",
    "colors_list = ['lightskyblue', 'tan', 'orange', 'olive', 'pink']\n",
    "density_list = ['-1760', '-190', '0', '60', '460']\n",
    "ncols = len(colors_list)\n",
    "nrows = 1\n",
    "h = Y / nrows\n",
    "w = X / (ncols + 1)\n",
    "\n",
    "i=ncols-1\n",
    "for color, density, layers1, layers2 in zip(colors_list, density_list, layers_list1, layers_list2):\n",
    "    col = i // nrows\n",
    "    row = i % nrows\n",
    "    x = X - (col*w) - w\n",
    "    \n",
    "    yi_line = Y\n",
    "    yf_line = Y - Y*0.15\n",
    "    yi_text1 = Y - Y*0.2\n",
    "    yi_text2 = Y - Y*0.28\n",
    "    yi_text3 = Y - Y*0.08\n",
    "    \n",
    "    i-=1\n",
    "    poly = Polygon(np.array([[x, x+w*0.75, x+w*0.75, x], [yi_line, yi_line, yf_line, yf_line]]).T)\n",
    "    tmpx = [x for x in poly.x]\n",
    "    tmpx.append(poly.x[0])\n",
    "    tmpy = [y for y in poly.y]\n",
    "    tmpy.append(poly.y[0])\n",
    "    ax4.plot(tmpx, tmpy, linestyle='-', color='k', linewidth=1)\n",
    "    ax4.fill(tmpx, tmpy, color=color)\n",
    "    ax4.text(x+w*0.375, yi_text1, layers1, fontsize=(w*0.14), horizontalalignment='center', verticalalignment='top')\n",
    "    ax4.text(x+w*0.375, yi_text2, layers2, fontsize=(w*0.14), horizontalalignment='center', verticalalignment='top')\n",
    "    ax4.text(x+w*0.375, yi_text3, density, fontsize=(w*0.14), horizontalalignment='center', verticalalignment='center')\n",
    "\n",
    "plt.tight_layout()    \n",
    "    \n",
    "#mpl.savefig('../manuscript/figures/C-model-rifted-margin-grafics-estimated-model-alphas_X_1_1_1_1-5e3pts.png', dpi='figure', bbox_inches='tight')\n",
    "plt.show()      "
   ]
  },
  {
   "cell_type": "code",
   "execution_count": null,
   "metadata": {
    "collapsed": true
   },
   "outputs": [],
   "source": []
  },
  {
   "cell_type": "raw",
   "metadata": {
    "collapsed": true
   },
   "source": [
    "np.savetxt('../data/C-model-rifted-margin-parameter-vector-alphas_-11(2)_-8(1)_-8(1)_-7(1)_-7(1)-5e3pts.txt', p, fmt='%.18f')\n",
    "np.savetxt('../data/C-model-rifted-margin-predicted-gravity-data-alphas_-11(2)_-8(1)_-8(1)_-7(1)_-7(1)-5e3pts.txt', g, fmt='%.18f')\n",
    "np.savetxt('../data/C-model-rifted-margin-gama-list-alphas_-11(2)_-8(1)_-8(1)_-7(1)_-7(1)-5e3pts.txt', gama_list, fmt='%.18f')"
   ]
  },
  {
   "cell_type": "raw",
   "metadata": {
    "collapsed": true
   },
   "source": [
    "np.savetxt('../data/C-model-rifted-margin-parameter-vector-alphas_X_-8(1)_-8(1)_-7(1)_-7(1)-5e3pts.txt', p, fmt='%.18f')\n",
    "np.savetxt('../data/C-model-rifted-margin-predicted-gravity-data-alphas_X_-8(1)_-8(1)_-7(1)_-7(1)-5e3pts.txt', g, fmt='%.18f')\n",
    "np.savetxt('../data/C-model-rifted-margin-gama-list-alphas_X_-8(1)_-8(1)_-7(1)_-7(1)-5e3pts.txt', gama_list, fmt='%.18f')"
   ]
  },
  {
   "cell_type": "code",
   "execution_count": null,
   "metadata": {
    "collapsed": true
   },
   "outputs": [],
   "source": []
  },
  {
   "cell_type": "code",
   "execution_count": null,
   "metadata": {
    "collapsed": true
   },
   "outputs": [],
   "source": []
  },
  {
   "cell_type": "code",
   "execution_count": null,
   "metadata": {
    "collapsed": true
   },
   "outputs": [],
   "source": []
  }
 ],
 "metadata": {
  "anaconda-cloud": {},
  "kernelspec": {
   "display_name": "Python 2",
   "language": "python",
   "name": "python2"
  },
  "language_info": {
   "codemirror_mode": {
    "name": "ipython",
    "version": 2
   },
   "file_extension": ".py",
   "mimetype": "text/x-python",
   "name": "python",
   "nbconvert_exporter": "python",
   "pygments_lexer": "ipython2",
   "version": "2.7.13"
  }
 },
 "nbformat": 4,
 "nbformat_minor": 1
}
