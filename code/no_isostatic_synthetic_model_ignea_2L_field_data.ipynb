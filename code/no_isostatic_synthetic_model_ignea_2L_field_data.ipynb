{
 "cells": [
  {
   "cell_type": "markdown",
   "metadata": {},
   "source": [
    "# 2D Isostatic gravity inversion - Synthetic Model"
   ]
  },
  {
   "cell_type": "markdown",
   "metadata": {},
   "source": [
    "Este [IPython Notebook](http://ipython.org/videos.html#the-ipython-notebook) utiliza a biblioteca de código aberto [Fatiando a Terra](http://fatiando.org/)"
   ]
  },
  {
   "cell_type": "raw",
   "metadata": {},
   "source": [
    "Modelo sintético não isostático com inclusão de ignea - 2 camadas"
   ]
  },
  {
   "cell_type": "code",
   "execution_count": 1,
   "metadata": {},
   "outputs": [
    {
     "name": "stderr",
     "output_type": "stream",
     "text": [
      "/Users/macelabastos/anaconda2/lib/python2.7/site-packages/fatiando/vis/mpl.py:76: UserWarning: This module will be removed in v0.6. We recommend the use of matplotlib.pyplot module directly. Some of the fatiando specific functions will remain.\n",
      "  \"specific functions will remain.\")\n"
     ]
    }
   ],
   "source": [
    "#%matplotlib inline\n",
    "import numpy as np\n",
    "from scipy.misc import derivative\n",
    "import scipy as spy\n",
    "from scipy import interpolate\n",
    "import matplotlib\n",
    "matplotlib.use('TkAgg', force=True)\n",
    "#from mpl_toolkits.basemap import Basemap\n",
    "import matplotlib.pyplot as plt\n",
    "import math\n",
    "import cPickle as pickle\n",
    "import datetime\n",
    "#from IPython.display import Image as img\n",
    "#from IPython.display import Markdown as md\n",
    "#from IPython.display import display as dp\n",
    "import string as st\n",
    "\n",
    "from scipy.misc import imread\n",
    "\n",
    "from __future__ import division\n",
    "\n",
    "from fatiando import gravmag, mesher, utils, gridder\n",
    "from fatiando.mesher import Prism, Polygon\n",
    "from fatiando.gravmag import prism\n",
    "from fatiando.utils import ang2vec, si2nt, contaminate\n",
    "from fatiando.gridder import regular, profile\n",
    "from fatiando.vis import mpl\n",
    "\n",
    "from numpy.testing import assert_almost_equal\n",
    "from numpy.testing import assert_array_almost_equal\n",
    "from pytest import raises\n",
    "\n",
    "plt.rc('font', size=16)"
   ]
  },
  {
   "cell_type": "code",
   "execution_count": 2,
   "metadata": {
    "collapsed": true
   },
   "outputs": [],
   "source": [
    "import functions as fc"
   ]
  },
  {
   "cell_type": "markdown",
   "metadata": {},
   "source": [
    "## Model parameters"
   ]
  },
  {
   "cell_type": "code",
   "execution_count": 3,
   "metadata": {
    "collapsed": true
   },
   "outputs": [],
   "source": [
    "# Model`s limits\n",
    "ymin = 0.0\n",
    "ymax = 383000.0\n",
    "zmin = -1000.0\n",
    "#zmax = 45000.0\n",
    "zmax = 40000.0\n",
    "xmin = -100000.0\n",
    "xmax = 100000.0\n",
    "\n",
    "area = [ymin, ymax, zmax, zmin]"
   ]
  },
  {
   "cell_type": "markdown",
   "metadata": {},
   "source": [
    "## Prisms coordenates."
   ]
  },
  {
   "cell_type": "code",
   "execution_count": 4,
   "metadata": {
    "collapsed": true
   },
   "outputs": [],
   "source": [
    "ny = 150 # number of observation datas and number of prisms along the profile\n",
    "# coordinates defining the horizontal boundaries of the\n",
    "# adjacent columns along the profile\n",
    "y = np.linspace(ymin, ymax, ny)"
   ]
  },
  {
   "cell_type": "markdown",
   "metadata": {},
   "source": [
    "## Observation coordinates."
   ]
  },
  {
   "cell_type": "code",
   "execution_count": 5,
   "metadata": {
    "collapsed": true
   },
   "outputs": [],
   "source": [
    "# coordinates of the center of the columns forming the\n",
    "# interpretation model\n",
    "n = ny - 1\n",
    "dy = (ymax - ymin)/n\n",
    "ycmin = ymin + 0.5*dy\n",
    "ycmax = ymax - 0.5*dy\n",
    "yc = np.reshape(np.linspace(ycmin, ycmax, n),(n,1))\n",
    "x = np.zeros_like(yc)\n",
    "z = np.zeros_like(yc)-150.0"
   ]
  },
  {
   "cell_type": "code",
   "execution_count": 6,
   "metadata": {
    "collapsed": true
   },
   "outputs": [],
   "source": [
    "## Edge extension (observation coordinates)\n",
    "sigma = 2.0\n",
    "edge = sigma*dy*n"
   ]
  },
  {
   "cell_type": "markdown",
   "metadata": {},
   "source": [
    "## Model parameters"
   ]
  },
  {
   "cell_type": "code",
   "execution_count": 7,
   "metadata": {},
   "outputs": [
    {
     "name": "stdout",
     "output_type": "stream",
     "text": [
      "130\n"
     ]
    }
   ],
   "source": [
    "# Model densities\n",
    "# Indices and polygons relationship:\n",
    "# cc = continental crust layer\n",
    "# oc = ocean crust layer\n",
    "# w = water layer\n",
    "# s = sediment layer\n",
    "# m = mantle layer\n",
    "dw = np.array([1030.0])\n",
    "ds0 = np.array([2350.0])\n",
    "ds1 = np.array([2850.0])\n",
    "dcc = np.array([2870.0])\n",
    "doc = np.array([2885.0])\n",
    "dm = np.array([3230.0])\n",
    "#dc = dcc\n",
    "# coordinate defining the horizontal boundaries of the continent-ocean boundary\n",
    "COT = 334000.0\n",
    "# list defining crust density variance\n",
    "dc = np.zeros_like(yc)\n",
    "aux = yc <= COT\n",
    "for i in range(len(yc[aux])):\n",
    "    dc[i] = dcc\n",
    "for i in range(len(yc[aux]),n):\n",
    "    dc[i] = doc    \n",
    "# defining sediments layers density matrix\n",
    "ds = np.vstack((np.reshape(np.repeat(ds0,n),(1,n)),np.reshape(np.repeat(ds1,n),(1,n))))\n",
    "\n",
    "# S0 => isostatic compensation surface (Airy's model)\n",
    "# SR = S0+dS0 => reference Moho (Forward modeling)\n",
    "S0 = np.array([38000.0])\n",
    "dS0 = np.array([5700.0])\n",
    "print len(yc[aux])"
   ]
  },
  {
   "cell_type": "markdown",
   "metadata": {},
   "source": [
    "## Surface water"
   ]
  },
  {
   "cell_type": "raw",
   "metadata": {
    "collapsed": true
   },
   "source": [
    "img = imread('../data/fig/zalan[2015]_fig2_cropped.png')"
   ]
  },
  {
   "cell_type": "raw",
   "metadata": {
    "collapsed": true
   },
   "source": [
    "shape=(499,1320)\n",
    "extent = [ymin, ymax, zmax, 0.0]\n",
    "def calculate_aspect(shape,extent):\n",
    "    dx = (abs(extent[1] - extent[0]))/float(shape[1])\n",
    "    dy = (abs(extent[3] - extent[2]))/float(shape[0])\n",
    "    return dx/dy"
   ]
  },
  {
   "cell_type": "raw",
   "metadata": {
    "collapsed": true
   },
   "source": [
    "img = imread('../data/fig/L130.jpeg')"
   ]
  },
  {
   "cell_type": "raw",
   "metadata": {
    "collapsed": true
   },
   "source": [
    "shape=(719,1238)\n",
    "extent = [ymin, ymax, zmax, 0.0]\n",
    "def calculate_aspect(shape,extent):\n",
    "    dx = (abs(extent[1] - extent[0]))/float(shape[1])\n",
    "    dy = (abs(extent[3] - extent[2]))/float(shape[0])\n",
    "    return dx/dy"
   ]
  },
  {
   "cell_type": "raw",
   "metadata": {
    "collapsed": true
   },
   "source": [
    "mpl.close('all')\n",
    "\n",
    "axes = mpl.subplot(1,1,1)\n",
    "mpl.ylim(zmax, zmin)\n",
    "mpl.xlim(ymin, ymax)\n",
    "mpl.xticks(fontsize=12)\n",
    "mpl.yticks(fontsize=12)\n",
    "mpl.xlabel('y (km)')\n",
    "mpl.ylabel('z (km)')\n",
    "#mpl.imshow(img, extent=[ymin, ymax, zmax, 0.0], alpha=0.3)\n",
    "mpl.imshow(img, extent=extent, aspect=calculate_aspect(shape,extent), alpha=0.3)\n",
    "mpl.paths([[ymin, 0.0]], [[ymax, 0.0]], style='-k', linewidth=0)\n",
    "mpl.m2km()\n",
    "\n",
    "bath_picks = mpl.draw_polygon(area, axes, marker='.', color='r')"
   ]
  },
  {
   "cell_type": "raw",
   "metadata": {},
   "source": [
    "bath_picks"
   ]
  },
  {
   "cell_type": "raw",
   "metadata": {
    "collapsed": true
   },
   "source": [
    "bath_picks = np.array([[  1.15826613e+03,   3.08550569e+02],\n",
    "       [  1.57524194e+05,   9.08540872e+02],\n",
    "       [  1.62929435e+05,   1.02853893e+03],\n",
    "       [  1.70265121e+05,   1.38853311e+03],\n",
    "       [  1.77214718e+05,   1.86852536e+03],\n",
    "       [  1.88411290e+05,   2.10852148e+03],\n",
    "       [  2.06943548e+05,   2.58851372e+03],\n",
    "       [  2.54432460e+05,   2.82850984e+03],\n",
    "       [  2.75667339e+05,   2.94850790e+03],\n",
    "       [  2.94199597e+05,   3.18850402e+03],\n",
    "       [  3.10801411e+05,   3.30850208e+03],\n",
    "       [  3.32422379e+05,   3.78849433e+03],\n",
    "       [  3.81455645e+05,   3.90849239e+03]])"
   ]
  },
  {
   "cell_type": "raw",
   "metadata": {
    "collapsed": true
   },
   "source": [
    "# change the coordinates of the extremum points in order to\n",
    "# avoid problems for constructing the interpolator\n",
    "bath_picks[0,0] = ymin\n",
    "bath_picks[-1,0] = ymax"
   ]
  },
  {
   "cell_type": "raw",
   "metadata": {
    "collapsed": true
   },
   "source": [
    "bathymetry = fc.surface_interpolate_function(bath_picks,yc)\n",
    "#print bathymetry.shape"
   ]
  },
  {
   "cell_type": "raw",
   "metadata": {
    "collapsed": true
   },
   "source": [
    "np.savetxt('../data/noiso_pelotas_bathymetry.txt', bathymetry, fmt='%.18f')"
   ]
  },
  {
   "cell_type": "raw",
   "metadata": {
    "collapsed": true
   },
   "source": [
    "# layer water thickness\n",
    "tw = np.reshape(bathymetry,(n,1))"
   ]
  },
  {
   "cell_type": "code",
   "execution_count": 10,
   "metadata": {
    "collapsed": true
   },
   "outputs": [],
   "source": [
    "# layer water thickness\n",
    "bathymetry = np.reshape(np.loadtxt('../data/etopo1_pelotas.txt'),(n,1))\n",
    "tw = 0.0 - bathymetry\n",
    "#for i in range(n):\n",
    "#    print bathymetry[i], tw[i]"
   ]
  },
  {
   "cell_type": "markdown",
   "metadata": {},
   "source": [
    "# Sediments layers"
   ]
  },
  {
   "cell_type": "raw",
   "metadata": {},
   "source": [
    "mpl.close('all')\n",
    "\n",
    "axes = mpl.subplot(1,1,1)\n",
    "mpl.ylim(zmax, zmin)\n",
    "mpl.xlim(ymin, ymax)\n",
    "mpl.xticks(fontsize=12)\n",
    "mpl.yticks(fontsize=12)\n",
    "mpl.xlabel('y (km)')\n",
    "mpl.ylabel('z (km)')\n",
    "#mpl.imshow(img, extent=[ymin, ymax, zmax, 0.0], alpha=0.3)\n",
    "mpl.imshow(img, extent=extent, aspect=calculate_aspect(shape,extent), alpha=1.0)\n",
    "mpl.plot(yc, tw, '-b', linewidth=1)\n",
    "mpl.plot(yc, toi_old, '-b', linewidth=1)\n",
    "#mpl.plot(yc, toi_new, '-b', linewidth=1)\n",
    "mpl.paths([[ymin, 0.0]], [[ymax, 0.0]], style='og', linewidth=0)\n",
    "mpl.m2km()\n",
    "\n",
    "toi_picks = mpl.draw_polygon(area, axes, marker='.', color='r')"
   ]
  },
  {
   "cell_type": "raw",
   "metadata": {},
   "source": [
    "toi_picks"
   ]
  },
  {
   "cell_type": "code",
   "execution_count": 11,
   "metadata": {
    "collapsed": true
   },
   "outputs": [],
   "source": [
    "toi_picks = np.array([[   1544.35483871,    3462.69959273],\n",
    "       [   8880.04032258,    2262.71898636],\n",
    "       [  15057.45967742,    1422.7325619 ],\n",
    "       [  23551.41129032,    1302.73450126],\n",
    "       [  33203.62903226,    1542.73062254],\n",
    "       [  69882.05645161,    4662.68019911],\n",
    "       [ 120073.58870968,    5142.67244166],\n",
    "       [ 143238.91129032,    7662.63171504],\n",
    "       [ 220842.74193548,    7062.64141186],\n",
    "       [ 380683.46774194,    6822.64529058]])"
   ]
  },
  {
   "cell_type": "raw",
   "metadata": {
    "collapsed": true
   },
   "source": [
    "#Zalan\n",
    "toi_picks = np.array([[   2182.42570836,    3091.43155695],\n",
    "       [   8563.91697661,    2020.37617555],\n",
    "       [  21752.33226435,     872.81683833],\n",
    "       [  40471.3733179 ,    1255.33661741],\n",
    "       [  59190.41437146,    2555.90386625],\n",
    "       [  80887.48468353,    4085.98298253],\n",
    "       [ 138320.90609785,    5004.03045231],\n",
    "       [ 155763.64889776,    6381.10165696],\n",
    "       [ 214898.80131694,    6763.62143604],\n",
    "       [ 377839.54503312,    6993.13330348]])"
   ]
  },
  {
   "cell_type": "code",
   "execution_count": 12,
   "metadata": {
    "collapsed": true
   },
   "outputs": [],
   "source": [
    "# change the coordinates of the extremum points in order to\n",
    "# avoid problems for constructing the interpolator\n",
    "toi_picks[0,0] = ymin\n",
    "toi_picks[-1,0] = ymax"
   ]
  },
  {
   "cell_type": "code",
   "execution_count": 13,
   "metadata": {
    "collapsed": true
   },
   "outputs": [],
   "source": [
    "toi = fc.surface_interpolate_function(toi_picks,yc)\n",
    "for i in range(len(toi)):\n",
    "    if toi[i] < tw[i]:\n",
    "        toi[i] = tw[i]"
   ]
  },
  {
   "cell_type": "raw",
   "metadata": {
    "collapsed": true
   },
   "source": [
    "np.savetxt('../data/pelotas_true_toi_surface.txt', toi, fmt='%.18f')"
   ]
  },
  {
   "cell_type": "code",
   "execution_count": 14,
   "metadata": {
    "collapsed": true
   },
   "outputs": [],
   "source": [
    "# layer sediments thickness\n",
    "ts0 = toi - tw"
   ]
  },
  {
   "cell_type": "raw",
   "metadata": {
    "collapsed": true
   },
   "source": [
    "mpl.close('all')\n",
    "\n",
    "axes = mpl.subplot(1,1,1)\n",
    "mpl.ylim(zmax, zmin)\n",
    "mpl.xlim(ymin, ymax)\n",
    "mpl.xticks(fontsize=12)\n",
    "mpl.yticks(fontsize=12)\n",
    "mpl.xlabel('y (km)')\n",
    "mpl.ylabel('z (km)')\n",
    "#mpl.imshow(img, extent=[ymin, ymax, zmax, 0.0], alpha=0.3)\n",
    "mpl.imshow(img, extent=extent, aspect=calculate_aspect(shape,extent), alpha=1.0)\n",
    "mpl.plot(yc, toi, '-b', linewidth=1)\n",
    "mpl.plot(yc, basement, '--b', linewidth=1)\n",
    "mpl.plot(yc, moho, '-b', linewidth=1)\n",
    "mpl.paths([[ymin, 0.0]], [[ymax, 0.0]], style='og', linewidth=0)\n",
    "mpl.m2km()\n",
    "\n",
    "basement_picks = mpl.draw_polygon(area, axes, marker='.', color='r')"
   ]
  },
  {
   "cell_type": "raw",
   "metadata": {
    "collapsed": true
   },
   "source": [
    "basement_picks"
   ]
  },
  {
   "cell_type": "code",
   "execution_count": 15,
   "metadata": {
    "collapsed": true
   },
   "outputs": [],
   "source": [
    "basement_picks = np.array([[   1331.56020592,    4085.98298253],\n",
    "       [   6862.18597174,    3320.94342439],\n",
    "       [  12818.24448879,    3091.43155695],\n",
    "       [  16221.70649852,    2632.40782206],\n",
    "       [  19625.16850826,    2708.91177788],\n",
    "       [  24304.92877165,    2938.42364532],\n",
    "       [  29835.55453747,    5463.05418719],\n",
    "       [  42598.53707399,   15867.59217794],\n",
    "       [  49830.89384468,   21146.36512912],\n",
    "       [  60466.71262511,   24436.03522914],\n",
    "       [  68549.93489824,   26578.14599194],\n",
    "       [  72804.26241041,   27113.67368264],\n",
    "       [  78334.88817623,   23977.01149425],\n",
    "       [  84290.94669327,   24895.05896402],\n",
    "       [  89821.57245909,   24742.0510524 ],\n",
    "       [ 100882.82399074,   19157.26227795],\n",
    "       [ 107689.74801022,   19922.30183609],\n",
    "       [ 111518.64277117,   19386.77414539],\n",
    "       [ 119176.43229308,   17933.19898492],\n",
    "       [ 122579.89430282,   17015.15151515],\n",
    "       [ 129386.81832229,   12807.43394536],\n",
    "       [ 135342.87683933,   13113.44976862],\n",
    "       [ 137470.04059542,   12654.42603374],\n",
    "       [ 140873.50260516,   12654.42603374],\n",
    "       [ 146829.5611222 ,   13419.46559188],\n",
    "       [ 148956.72487828,   13266.45768025],\n",
    "       [ 154061.91789289,   12654.42603374],\n",
    "       [ 158741.67815628,   12654.42603374],\n",
    "       [ 165123.16942453,   13572.47350351],\n",
    "       [ 167675.76593184,   13648.97745932],\n",
    "       [ 171079.22794158,   13113.44976862],\n",
    "       [ 180438.74846835,   13266.45768025],\n",
    "       [ 187671.10523905,   14184.50515002],\n",
    "       [ 191500.        ,   14108.00119421],\n",
    "       [ 197030.62576582,   14337.51306165],\n",
    "       [ 202135.81878043,   15102.55261979],\n",
    "       [ 209368.17555112,   16632.63173608],\n",
    "       [ 212346.20480964,   17321.16733841],\n",
    "       [ 217876.83057547,   17091.65547097],\n",
    "       [ 221705.72533642,   15714.58426631],\n",
    "       [ 224683.75459494,   15714.58426631],\n",
    "       [ 228938.08210711,   16097.10404538],\n",
    "       [ 232766.97686807,   16173.60800119],\n",
    "       [ 238297.60263389,   16938.64755934],\n",
    "       [ 241275.63189241,   16862.14360352],\n",
    "       [ 247657.12316067,   15332.06448724],\n",
    "       [ 250209.71966797,   14567.02492909],\n",
    "       [ 254038.61442893,   14490.52097328],\n",
    "       [ 255314.91268258,   14796.53679654],\n",
    "       [ 260420.10569718,   14031.49723839],\n",
    "       [ 262972.70220449,   14261.00910584],\n",
    "       [ 267652.46246787,   15485.07239887],\n",
    "       [ 271481.35722883,   16173.60800119],\n",
    "       [ 273608.52098492,   16097.10404538],\n",
    "       [ 279564.57950196,   14567.02492909],\n",
    "       [ 283818.90701413,   12730.92998955],\n",
    "       [ 291902.12928725,   15638.08031049],\n",
    "       [ 297858.18780429,   16173.60800119],\n",
    "       [ 307643.14108229,   16479.62382445],\n",
    "       [ 318278.95986272,   15485.07239887],\n",
    "       [ 324235.01837976,   14720.03284072],\n",
    "       [ 329765.64414558,   12730.92998955],\n",
    "       [ 333169.10615532,    9670.77175698],\n",
    "       [ 336147.13541384,    5080.53440812],\n",
    "       [ 377839.54503312,    5310.04627556]])"
   ]
  },
  {
   "cell_type": "raw",
   "metadata": {
    "collapsed": true
   },
   "source": [
    "#Zalan\n",
    "basement_picks = np.array([[   1158.26612903,    3000.00],\n",
    "       [   8880.04032258,    2588.51372099],\n",
    "       [  14671.37096774,    1748.52729653],\n",
    "       [  18918.34677419,    1988.5234178 ],\n",
    "       [  26640.12096774,    3548.49820609],\n",
    "       [  43241.93548387,   13628.33529963],\n",
    "       [  55982.86290323,   20348.22669533],\n",
    "       [  63318.5483871 ,   23228.18015062],\n",
    "       [  70654.23387097,   25388.1452421 ],\n",
    "       [  76059.47580645,   24428.160757  ],\n",
    "       [  81850.80645161,   25988.13554528],\n",
    "       [  86483.87096774,   26348.1297272 ],\n",
    "       [  89958.66935484,   25628.14136337],\n",
    "       [  99996.97580645,   18908.24996768],\n",
    "       [ 103085.68548387,   19028.24802831],\n",
    "       [ 106560.48387097,   20108.23057405],\n",
    "       [ 110421.37096774,   20108.23057405],\n",
    "       [ 113896.16935484,   19028.24802831],\n",
    "       [ 122004.03225806,   16868.28293684],\n",
    "       [ 129725.80645161,   12548.35275389],\n",
    "       [ 132814.51612903,   12788.34887517],\n",
    "       [ 134744.95967742,   13028.34499644],\n",
    "       [ 137447.58064516,   12308.35663262],\n",
    "       [ 141694.55645161,   12548.35275389],\n",
    "       [ 146713.70967742,   13388.33917836],\n",
    "       [ 149030.24193548,   13508.33723899],\n",
    "       [ 152891.12903226,   12788.34887517],\n",
    "       [ 155979.83870968,   12668.35081453],\n",
    "       [ 157910.28225806,   12668.35081453],\n",
    "       [ 162929.43548387,   13508.33723899],\n",
    "       [ 167562.5       ,   13748.33336027],\n",
    "       [ 169879.03225806,   13148.34305708],\n",
    "       [ 176828.62903226,   13148.34305708],\n",
    "       [ 181075.60483871,   13148.34305708],\n",
    "       [ 188025.2016129 ,   14108.32754218],\n",
    "       [ 191113.91129032,   14108.32754218],\n",
    "       [ 195360.88709677,   14348.32366346],\n",
    "       [ 200380.04032258,   14828.31590601],\n",
    "       [ 203854.83870968,   15548.30426983],\n",
    "       [ 205399.19354839,   15068.31202728],\n",
    "       [ 207715.72580645,   16268.29263365],\n",
    "       [ 210418.34677419,   17228.27711875],\n",
    "       [ 213120.96774194,   17348.27517939],\n",
    "       [ 217367.94354839,   17228.27711875],\n",
    "       [ 221614.91935484,   15548.30426983],\n",
    "       [ 223545.36290323,   15548.30426983],\n",
    "       [ 228950.60483871,   16148.29457302],\n",
    "       [ 232039.31451613,   16388.29069429],\n",
    "       [ 234355.84677419,   16268.29263365],\n",
    "       [ 237444.55645161,   17108.27905812],\n",
    "       [ 239375.        ,   17108.27905812],\n",
    "       [ 245166.33064516,   16028.29651238],\n",
    "       [ 248641.12903226,   15068.31202728],\n",
    "       [ 250957.66129032,   13868.33142091],\n",
    "       [ 252888.10483871,   13988.32948154],\n",
    "       [ 255976.81451613,   14948.31396664],\n",
    "       [ 262154.23387097,   13508.33723899],\n",
    "       [ 265629.03225806,   15068.31202728],\n",
    "       [ 268331.65322581,   15668.30233047],\n",
    "       [ 274122.98387097,   16148.29457302],\n",
    "       [ 276825.60483871,   15428.30620919],\n",
    "       [ 280686.49193548,   13748.33336027],\n",
    "       [ 283389.11290323,   12188.35857198],\n",
    "       [ 286863.91129032,   14468.32172409],\n",
    "       [ 293041.33064516,   15908.29845174],\n",
    "       [ 300763.10483871,   16508.28875493],\n",
    "       [ 309643.14516129,   16268.29263365],\n",
    "       [ 321997.98387097,   15188.31008792],\n",
    "       [ 328947.58064516,   13148.34305708],\n",
    "       [ 332036.29032258,   10988.37796561],\n",
    "       [ 333966.73387097,    7628.43226776],\n",
    "       [ 334352.82258065,    4988.47493374],\n",
    "       [ 382613.91129032,    5108.47299438]])"
   ]
  },
  {
   "cell_type": "code",
   "execution_count": 16,
   "metadata": {
    "collapsed": true
   },
   "outputs": [],
   "source": [
    "# change the coordinates of the extremum points in order to\n",
    "# avoid problems for constructing the interpolator\n",
    "basement_picks[0,0] = ymin\n",
    "basement_picks[-1,0] = ymax"
   ]
  },
  {
   "cell_type": "code",
   "execution_count": 17,
   "metadata": {
    "collapsed": true
   },
   "outputs": [],
   "source": [
    "basement = fc.surface_interpolate_function(basement_picks,yc)\n",
    "for i in range(len(basement)):\n",
    "    if basement[i] < toi[i]:\n",
    "        basement[i] = toi[i]"
   ]
  },
  {
   "cell_type": "raw",
   "metadata": {
    "collapsed": true
   },
   "source": [
    "np.savetxt('../data/pelotas_true_basement_surface.txt', basement, fmt='%.18f')"
   ]
  },
  {
   "cell_type": "code",
   "execution_count": 18,
   "metadata": {
    "collapsed": true
   },
   "outputs": [],
   "source": [
    "# layer igneous thickness\n",
    "ts1 = basement - toi"
   ]
  },
  {
   "cell_type": "code",
   "execution_count": 19,
   "metadata": {
    "collapsed": true
   },
   "outputs": [],
   "source": [
    "# thickness sediments vector\n",
    "ts = np.vstack((np.reshape(ts0,(1,n)),np.reshape(ts1,(1,n))))"
   ]
  },
  {
   "cell_type": "markdown",
   "metadata": {},
   "source": [
    "## Surface mantle"
   ]
  },
  {
   "cell_type": "raw",
   "metadata": {},
   "source": [
    "mpl.close('all')\n",
    "\n",
    "axes = mpl.subplot(1,1,1)\n",
    "mpl.ylim(zmax+10000., zmin)\n",
    "mpl.xlim(ymin, ymax)\n",
    "mpl.xticks(fontsize=12)\n",
    "mpl.yticks(fontsize=12)\n",
    "mpl.xlabel('y (km)')\n",
    "mpl.ylabel('z (km)')\n",
    "#mpl.imshow(img, extent=[ymin, ymax, zmax, 0.0], alpha=0.3)\n",
    "mpl.imshow(img, extent=extent, aspect=calculate_aspect(shape,extent), alpha=1.0)\n",
    "mpl.plot(yc, toi, '-b', linewidth=1)\n",
    "mpl.plot(yc, basement, '-g', linewidth=1)\n",
    "mpl.plot(yc, moho, '--g', linewidth=1)\n",
    "mpl.plot(yc, moho_new, '--b', linewidth=1)\n",
    "mpl.paths([[ymin, 0.0]], [[ymax, 0.0]], style='og', linewidth=0)\n",
    "mpl.m2km()\n",
    "area2 = [ymin, ymax, zmax+10000., zmin]\n",
    "moho_picks = mpl.draw_polygon(area2, axes, marker='.', color='r')"
   ]
  },
  {
   "cell_type": "raw",
   "metadata": {
    "collapsed": true
   },
   "source": [
    "moho_picks"
   ]
  },
  {
   "cell_type": "code",
   "execution_count": 20,
   "metadata": {
    "collapsed": true
   },
   "outputs": [],
   "source": [
    "moho_picks = np.array([[   1518.33556011,   37872.3690103 ],\n",
    "       [   9985.48495019,   37967.53246753],\n",
    "       [  18981.83117715,   37586.8786386 ],\n",
    "       [  34857.73628355,   36349.75369458],\n",
    "       [  56554.80659562,   34160.99417824],\n",
    "       [  75076.69588642,   32543.21540528],\n",
    "       [  88306.61680842,   31686.74429019],\n",
    "       [ 104182.52191482,   30830.2731751 ],\n",
    "       [ 118470.83651057,   29402.82131661],\n",
    "       [ 127996.37957441,   27309.2252575 ],\n",
    "       [ 138580.31631201,   24073.6677116 ],\n",
    "       [ 148105.85937585,   21313.92745186],\n",
    "       [ 151810.23723401,   20647.78325123],\n",
    "       [ 153927.02458153,   20362.29287953],\n",
    "       [ 159748.18978721,   20076.80250784],\n",
    "       [ 163981.76448225,   20457.45633677],\n",
    "       [ 173507.30754608,   21884.90819525],\n",
    "       [ 181445.26009928,   22931.70622481],\n",
    "       [ 192558.39367376,   23122.03313927],\n",
    "       [ 201554.73990072,   23217.19659651],\n",
    "       [ 207375.9051064 ,   23026.86968204],\n",
    "       [ 213726.26714896,   22360.72548142],\n",
    "       [ 221135.02286527,   21028.43708016],\n",
    "       [ 226426.99123407,   20267.1294223 ],\n",
    "       [ 231189.76276599,   20267.1294223 ],\n",
    "       [ 236481.73113479,   20647.78325123],\n",
    "       [ 242832.09317735,   21409.09090909],\n",
    "       [ 249182.45521991,   21409.09090909],\n",
    "       [ 253945.22675183,   21789.74473802],\n",
    "       [ 259237.19512063,   22265.56202418],\n",
    "       [ 271408.72236887,   22265.56202418],\n",
    "       [ 275642.2970639 ,   21789.74473802],\n",
    "       [ 278817.47808518,   21028.43708016],\n",
    "       [ 283580.2496171 ,   20933.27362293],\n",
    "       [ 289401.41482278,   19791.31213614],\n",
    "       [ 295751.77686534,   18459.02373489],\n",
    "       [ 299456.1547235 ,   18268.69682042],\n",
    "       [ 304748.1230923 ,   18839.67756382],\n",
    "       [ 312686.0756455 ,   19600.98522167],\n",
    "       [ 321682.42187246,   19886.47559337],\n",
    "       [ 332795.55544693,   19791.31213614],\n",
    "       [ 337029.13014197,   19600.98522167],\n",
    "       [ 342321.09851077,   18363.86027765],\n",
    "       [ 345496.27953205,   17412.22570533],\n",
    "       [ 380423.27076613,   17031.5718764 ]])"
   ]
  },
  {
   "cell_type": "raw",
   "metadata": {
    "collapsed": true
   },
   "source": [
    "#Zalan\n",
    "moho_picks = np.array([[   1544.35483871,   37500.0 ],\n",
    "       [  29342.74193548,   36268.05021333],\n",
    "       [  67179.43548387,   35068.06960696],\n",
    "       [  74515.12096774,   34708.07542504],\n",
    "       [  81078.62903226,   33988.08706122],\n",
    "       [  90730.84677419,   32068.11809102],\n",
    "       [  96908.26612903,   30628.14136337],\n",
    "       [ 122004.03225806,   24508.24027086],\n",
    "       [ 135131.0483871 ,   21628.28681557],\n",
    "       [ 140922.37903226,   20548.30426983],\n",
    "       [ 147871.97580645,   19828.31590601],\n",
    "       [ 154435.48387097,   19468.32172409],\n",
    "       [ 160226.81451613,   19468.32172409],\n",
    "       [ 166790.32258065,   19948.31396664],\n",
    "       [ 175670.36290323,   21748.2848762 ],\n",
    "       [ 180303.42741935,   22468.27324003],\n",
    "       [ 184550.40322581,   22708.2693613 ],\n",
    "       [ 196905.24193548,   22708.2693613 ],\n",
    "       [ 207329.63709677,   22108.27905812],\n",
    "       [ 213507.05645161,   21268.29263365],\n",
    "       [ 221614.91935484,   20068.31202728],\n",
    "       [ 223931.4516129 ,   19708.31784537],\n",
    "       [ 227792.33870968,   19348.32366346],\n",
    "       [ 232039.31451613,   19588.31978473],\n",
    "       [ 237444.55645161,   20668.30233047],\n",
    "       [ 242463.70967742,   21268.29263365],\n",
    "       [ 245166.33064516,   21268.29263365],\n",
    "       [ 247868.9516129 ,   20788.3003911 ],\n",
    "       [ 251343.75      ,   20548.30426983],\n",
    "       [ 254818.5483871 ,   20668.30233047],\n",
    "       [ 259065.52419355,   21628.28681557],\n",
    "       [ 263312.5       ,   22108.27905812],\n",
    "       [ 265242.94354839,   22228.27711875],\n",
    "       [ 267945.56451613,   21748.2848762 ],\n",
    "       [ 268717.74193548,   21508.28875493],\n",
    "       [ 272192.54032258,   21148.29457302],\n",
    "       [ 274509.07258065,   21148.29457302],\n",
    "       [ 277597.78225806,   20548.30426983],\n",
    "       [ 279142.13709677,   20548.30426983],\n",
    "       [ 282616.93548387,   20548.30426983],\n",
    "       [ 286091.73387097,   19708.31784537],\n",
    "       [ 292269.15322581,   18148.34305708],\n",
    "       [ 296130.04032258,   17308.35663262],\n",
    "       [ 300377.01612903,   17308.35663262],\n",
    "       [ 302307.45967742,   17428.35469326],\n",
    "       [ 307326.61290323,   18148.34305708],\n",
    "       [ 311187.5       ,   18388.33917836],\n",
    "       [ 315820.56451613,   18388.33917836],\n",
    "       [ 320453.62903226,   18268.34111772],\n",
    "       [ 324314.51612903,   18628.33529963],\n",
    "       [ 327017.13709677,   18628.33529963],\n",
    "       [ 329333.66935484,   18148.34305708],\n",
    "       [ 333194.55645161,   17068.36051135],\n",
    "       [ 336669.35483871,   16228.37408688],\n",
    "       [ 341302.41935484,   15868.37990497],\n",
    "       [ 380683.46774194,   15868.37990497]])"
   ]
  },
  {
   "cell_type": "code",
   "execution_count": 21,
   "metadata": {
    "collapsed": true
   },
   "outputs": [],
   "source": [
    "# change the coordinates of the extremum points in order to\n",
    "# avoid problems for constructing the interpolator\n",
    "moho_picks[0,0] = ymin\n",
    "moho_picks[-1,0] = ymax"
   ]
  },
  {
   "cell_type": "code",
   "execution_count": 22,
   "metadata": {
    "collapsed": true
   },
   "outputs": [],
   "source": [
    "S = fc.surface_interpolate_function(moho_picks,yc)\n",
    "for i in range(len(S)):\n",
    "    if S[i] < basement[i]:\n",
    "        S[i] = basement[i]"
   ]
  },
  {
   "cell_type": "code",
   "execution_count": 23,
   "metadata": {
    "collapsed": true
   },
   "outputs": [],
   "source": [
    "# layer mantle thickness\n",
    "tm = S0 - S\n",
    "\n",
    "# layer crust thickness\n",
    "toc = S - tw - ts0 - ts1"
   ]
  },
  {
   "cell_type": "raw",
   "metadata": {
    "collapsed": true
   },
   "source": [
    "np.savetxt('../data/pelotas_true_moho_surface.txt', S, fmt='%.18f')"
   ]
  },
  {
   "cell_type": "markdown",
   "metadata": {},
   "source": [
    "## Synthetic data"
   ]
  },
  {
   "cell_type": "code",
   "execution_count": 24,
   "metadata": {
    "collapsed": true
   },
   "outputs": [],
   "source": [
    "# parameters vector\n",
    "psyn = []\n",
    "psyn = np.vstack((ts1, tm, dS0))"
   ]
  },
  {
   "cell_type": "code",
   "execution_count": 25,
   "metadata": {
    "collapsed": true
   },
   "outputs": [],
   "source": [
    "# prisms calculation by Fatiando a Terra\n",
    "prism_w_syn = fc.prism_w_function(xmax,xmin,dy,edge,dw,dcc,tw,yc)\n",
    "prism_s_syn = fc.prism_s_function(xmax,xmin,dy,edge,ds,dcc,tw,psyn,yc,ts0,two_layers=True)\n",
    "prism_c_syn = fc.prism_c_function(xmax,xmin,dy,edge,S0,dcc,dc,tw,psyn,yc,ts0,two_layers=True)\n",
    "prism_m_syn = fc.prism_m_function(xmax,xmin,dy,edge,S0,dcc,dm,psyn,yc)"
   ]
  },
  {
   "cell_type": "code",
   "execution_count": 26,
   "metadata": {
    "collapsed": true
   },
   "outputs": [],
   "source": [
    "# z component of gravity calculation by Fatiando a Terra\n",
    "gzw_syn = prism.gz(np.reshape(x,(n,)),np.reshape(yc,(n,)),np.reshape(z,(n,)),prism_w_syn)\n",
    "gzs0_syn = prism.gz(np.reshape(x,(n,)),np.reshape(yc,(n,)),np.reshape(z,(n,)),prism_s_syn[1])\n",
    "gzs1_syn = prism.gz(np.reshape(x,(n,)),np.reshape(yc,(n,)),np.reshape(z,(n,)),prism_s_syn[2])\n",
    "gzc_syn = prism.gz(np.reshape(x,(n,)),np.reshape(yc,(n,)),np.reshape(z,(n,)),prism_c_syn)\n",
    "gzm_syn = prism.gz(np.reshape(x,(n,)),np.reshape(yc,(n,)),np.reshape(z,(n,)),prism_m_syn)\n",
    "\n",
    "#Observed data calculation:\n",
    "gsyn = gzw_syn + gzs0_syn + gzs1_syn + gzc_syn + gzm_syn\n",
    "#gsyn = fc.g_function(x,yc,z,gzw_syn,prism_s_syn,prism_c_syn,prism_m_syn)"
   ]
  },
  {
   "cell_type": "raw",
   "metadata": {
    "collapsed": true
   },
   "source": [
    "np.savetxt('../data/pelotas_synthetic_gravity_data.txt', gsyn, fmt='%.18f')"
   ]
  },
  {
   "cell_type": "markdown",
   "metadata": {},
   "source": [
    "## Observed data"
   ]
  },
  {
   "cell_type": "raw",
   "metadata": {},
   "source": [
    "#xcoord = np.reshape(np.loadtxt('../data/EIGEN-6C4_santos_campos_pelotas_2km_51w_x.txt'),(648852,1))\n",
    "ycoord = np.loadtxt('../data/EIGEN-6C4_campos_pelotas_2km_ang2coord_51w_x.txt')\n",
    "xcoord = np.loadtxt('../data/EIGEN-6C4_campos_pelotas_2km_ang2coord_51w_y.txt')\n",
    "gz_xy = np.loadtxt('../data/EIGEN-6C4_campos_pelotas_2km_ang2coord_51w_gz.txt')"
   ]
  },
  {
   "cell_type": "raw",
   "metadata": {
    "collapsed": true
   },
   "source": [
    "point1 = [6930713.2906511000, 773335.4440998170]\n",
    "point2 = [6703542.0000000000, 1086594.000000000]"
   ]
  },
  {
   "cell_type": "raw",
   "metadata": {
    "collapsed": true
   },
   "source": [
    "gz_profile = profile(xcoord, ycoord, gz_xy, point1, point2, n, extrapolate=False)"
   ]
  },
  {
   "cell_type": "raw",
   "metadata": {
    "collapsed": true
   },
   "source": [
    "gobs = np.reshape(gz_profile[3],(n,1))"
   ]
  },
  {
   "cell_type": "raw",
   "metadata": {
    "collapsed": true
   },
   "source": [
    "#np.savetxt('../data/pelotas_gz_profile_x.txt', gz_profile[0], fmt='%.18f')\n",
    "#np.savetxt('../data/pelotas_gz_profile_y.txt', gz_profile[1], fmt='%.18f')\n",
    "np.savetxt('../data/pelotas_gz_profile_gz.txt', gz_profile[3], fmt='%.18f')"
   ]
  },
  {
   "cell_type": "code",
   "execution_count": 27,
   "metadata": {
    "collapsed": true
   },
   "outputs": [],
   "source": [
    "gobs = np.reshape(np.loadtxt('../data/pelotas_gz_profile_gz.txt'),(n,1))"
   ]
  },
  {
   "cell_type": "markdown",
   "metadata": {},
   "source": [
    "## Synthetic model plot"
   ]
  },
  {
   "cell_type": "code",
   "execution_count": 28,
   "metadata": {
    "collapsed": true
   },
   "outputs": [],
   "source": [
    "polygons_water = []\n",
    "for (yi, twi) in zip(yc, tw):\n",
    "    y1 = yi - 0.5*dy\n",
    "    y2 = yi + 0.5*dy\n",
    "\n",
    "    polygons_water.append(Polygon(np.array([[y1, y2, y2, y1], \n",
    "                                            [0.0, 0.0, twi, twi]]).T,\n",
    "                                               props={'density': dw - dcc}))\n",
    "polygons_sediments0 = []\n",
    "for (yi, twi, s0i) in zip(yc, np.reshape(tw,(n,)), np.reshape(toi,(n,))):\n",
    "    y1 = yi - 0.5*dy\n",
    "    y2 = yi + 0.5*dy\n",
    "\n",
    "    polygons_sediments0.append(Polygon(np.array([[y1, y2, y2, y1], \n",
    "                                                [twi, twi, s0i, s0i]]).T,\n",
    "                                                    props={'density': ds0 - dcc}))\n",
    "    \n",
    "polygons_sediments1 = []\n",
    "for (yi, s0i, s1i) in zip(yc, np.reshape(toi,(n,)), np.reshape(basement,(n,))):\n",
    "    y1 = yi - 0.5*dy\n",
    "    y2 = yi + 0.5*dy\n",
    "\n",
    "    polygons_sediments1.append(Polygon(np.array([[y1, y2, y2, y1], \n",
    "                                                [s0i, s0i, s1i, s1i]]).T,\n",
    "                                                   props={'density': ds1 - dcc}))\n",
    "    \n",
    "polygons_crust = []\n",
    "for (yi, si, Si, dci) in zip(yc, np.reshape(basement,(n,)), np.reshape(S,(n,)), dc):\n",
    "    y1 = yi - 0.5*dy\n",
    "    y2 = yi + 0.5*dy\n",
    "\n",
    "    polygons_crust.append(Polygon(np.array([[y1, y2, y2, y1], \n",
    "                                            [si, si, Si, Si]]).T,\n",
    "                                                props={'density': dci - dcc})) \n",
    "\n",
    "polygons_mantle = []\n",
    "for (yi, Si) in zip(yc, np.reshape(S,(n,))):\n",
    "    y1 = yi - 0.5*dy\n",
    "    y2 = yi + 0.5*dy\n",
    "\n",
    "    polygons_mantle.append(Polygon(np.array([[y1, y2, y2, y1], \n",
    "                                                [Si, Si, 50000., 50000.]]).T,\n",
    "                                                    props={'density': dm - dcc}))"
   ]
  },
  {
   "cell_type": "code",
   "execution_count": 29,
   "metadata": {},
   "outputs": [
    {
     "data": {
      "image/png": "[encoded data removed]",
      "text/plain": [
       "<matplotlib.figure.Figure at 0x109c6d350>"
      ]
     },
     "metadata": {},
     "output_type": "display_data"
    },
    {
     "data": {
      "image/png": "[encoded data removed]",
      "text/plain": [
       "<matplotlib.figure.Figure at 0x180f462890>"
      ]
     },
     "metadata": {},
     "output_type": "display_data"
    }
   ],
   "source": [
    "%matplotlib inline\n",
    "plt.close('all')\n",
    "plt.figure(figsize=(12,5))\n",
    "#plt.figure(figsize=(12,10))\n",
    "\n",
    "#plt.subplot(2,1,1)\n",
    "#plt.title('Synthetic gravity disturbance', fontsize=18)\n",
    "#mpl.paths([[ymin, 0.]], [[ymax, 0.]], style='--k', linewidth=1)\n",
    "#plt.plot(0.001*yc, gsyn, '-g', label='synthetic data')\n",
    "#plt.plot(0.001*yc, gobs, 'or', label='observed data')\n",
    "#plt.xlim(0.001*ymin, 0.001*ymax)\n",
    "#plt.ylabel('gravity disturbance (mGal)', fontsize=16)\n",
    "#plt.xticks(fontsize=14)\n",
    "#plt.yticks(fontsize=14)\n",
    "#plt.legend(loc='best')\n",
    "\n",
    "#plt.subplot(2,1,2)\n",
    "#plt.title('Sedimentary basin', fontsize=18)\n",
    "\n",
    "mpl.paths([[ymin, 0.0]], [[ymax, 0.0]], style='-k', linewidth=1)\n",
    "aux = yc <= COT\n",
    "for (pwi) in (polygons_water):\n",
    "    mpl.polygon(pwi, style='-k', linewidth=1, fill='aqua')\n",
    "for (ps0i) in (polygons_sediments0):\n",
    "    mpl.polygon(ps0i, style='-k', linewidth=1, fill='tan')\n",
    "for (ps1i) in (polygons_sediments1):\n",
    "    mpl.polygon(ps1i, style='-k', linewidth=1, fill='sienna')\n",
    "for (pci) in (polygons_crust[:len(yc[aux])]):\n",
    "    mpl.polygon(pci, style='-k', linewidth=1, fill='orange')\n",
    "for (pcoi) in (polygons_crust[len(yc[aux]):n]):\n",
    "    mpl.polygon(pcoi, style='-k', linewidth=1, fill='orangered')\n",
    "for (pmi) in (polygons_mantle):\n",
    "    mpl.polygon(pmi, style='-k', linewidth=1, fill='plum')\n",
    "\n",
    "mpl.paths([[ymin, S0]], [[ymax, S0]], style='--w', linewidth=1, label='isostatic compensation surface')\n",
    "mpl.paths([[ymin, S0+dS0]], [[ymax, S0+dS0]], style='--r', linewidth=1, label='reference Moho')\n",
    "#plt.plot(yc, tw, label='etopo1')\n",
    "#plt.plot(yc, bathymetry, label='bathy_picks')\n",
    "plt.ylim(50000., zmin)\n",
    "plt.xlim(ymin, ymax)\n",
    "plt.xlabel('y (km)', fontsize=16)\n",
    "plt.ylabel('z (km)', fontsize=16)\n",
    "plt.xticks(fontsize=14)\n",
    "plt.yticks(fontsize=14)\n",
    "mpl.m2km()\n",
    "plt.tight_layout()\n",
    "plt.legend(loc='lower right', fontsize='medium', facecolor='silver')\n",
    "\n",
    "fig, ax = plt.subplots(figsize=(12,1))\n",
    "plt.title('Density (kg/m$^{3}$)', fontsize=18)\n",
    "\n",
    "cmaps_list = ['aqua','tan','sienna','orange','orangered','plum']\n",
    "ncols = len(cmaps_list)\n",
    "nrows = 1\n",
    "dens = [dw[0], ds[0,0], ds[1,0], dcc[0], doc[0], dm[0]]\n",
    "\n",
    "X, Y = fig.get_dpi()*fig.get_size_inches()\n",
    "h = Y / nrows\n",
    "w = X / (ncols + 1)\n",
    "i=ncols-1\n",
    "for name, name_dens in zip(cmaps_list, dens):\n",
    "    col = i // nrows\n",
    "    row = i % nrows\n",
    "    x = X - (col*w) - w\n",
    "    \n",
    "    yi_line = Y - h*(row + 0.01)\n",
    "    yf_line = Y - h*(row + 0.5)\n",
    "    yi_text = Y - h*(row + 0.15)\n",
    "    \n",
    "    ax.text(x + w*0.0001, yi_text, name_dens, fontsize=(w*0.1), horizontalalignment='center', verticalalignment='top')\n",
    "    ax.vlines(x + w*0.001, yi_line, yf_line, colors=name, linewidth=(w*0.7))\n",
    "    i-=1\n",
    "    \n",
    "ax.set_xlim(0,X)\n",
    "ax.set_ylim(0,Y)\n",
    "ax.set_axis_off()\n",
    "\n",
    "fig.subplots_adjust(left=0, right=1, top=1, bottom=0, hspace=0, wspace=0)\n",
    "\n",
    "#mpl.savefig('model-airy-synthetic_201_38000x4200.png', dpi=600)\n",
    "plt.show()"
   ]
  },
  {
   "cell_type": "code",
   "execution_count": 30,
   "metadata": {
    "collapsed": true
   },
   "outputs": [],
   "source": [
    "ini_basement = np.reshape(np.loadtxt('../data/pelotas_initial_basement_surface.txt'),(n,1))\n",
    "ini_moho = np.reshape(np.loadtxt('../data/pelotas_initial_moho_surface.txt'),(n,1))\n",
    "base_known = np.loadtxt('../data/pelotas_basement_known_depths.txt')\n",
    "moho_known = np.loadtxt('../data/pelotas_moho_known_depths.txt')"
   ]
  },
  {
   "cell_type": "code",
   "execution_count": 31,
   "metadata": {},
   "outputs": [
    {
     "name": "stdout",
     "output_type": "stream",
     "text": [
      "(149,) (149,) (149,) (149,) (149,)\n"
     ]
    }
   ],
   "source": [
    "yc = np.reshape(yc,(n,))\n",
    "tw = np.reshape(tw,(n,))\n",
    "toi = np.reshape(toi,(n,))\n",
    "basement = np.reshape(basement,(n,))\n",
    "S = np.reshape(S,(n,))\n",
    "print yc.shape, tw.shape, toi.shape, basement.shape, S.shape"
   ]
  },
  {
   "cell_type": "code",
   "execution_count": 80,
   "metadata": {},
   "outputs": [
    {
     "name": "stdout",
     "output_type": "stream",
     "text": [
      "149\n"
     ]
    }
   ],
   "source": [
    "aux2 = yc <= COT\n",
    "aux3 = yc >= COT-(0.5*dy)\n",
    "print len(yc[aux3])+ n-len(yc[aux3])"
   ]
  },
  {
   "cell_type": "code",
   "execution_count": 82,
   "metadata": {},
   "outputs": [
    {
     "name": "stdout",
     "output_type": "stream",
     "text": [
      "0.505307428304 0.751638564581\n"
     ]
    }
   ],
   "source": [
    "#ybottom = ((basement[n-len(yc[aux3])]/zmax) - 1.)*(-1)\n",
    "#ytop = ((S[n-len(yc[aux3])]/zmax) - 1.)*(-1)\n",
    "ybottom = ((S[n-len(yc[aux3])]/zmax) - 1.)*(-1)\n",
    "ytop = ((basement[n-len(yc[aux3])]/zmax) - 1.)*(-1)\n",
    "print ybottom, ytop"
   ]
  },
  {
   "cell_type": "code",
   "execution_count": 101,
   "metadata": {},
   "outputs": [
    {
     "data": {
      "image/png": "[encoded data removed]",
      "text/plain": [
       "<matplotlib.figure.Figure at 0x180d3b2390>"
      ]
     },
     "metadata": {},
     "output_type": "display_data"
    }
   ],
   "source": [
    "mpl.close('all')\n",
    "\n",
    "plt.figure(figsize=(12,15))\n",
    "\n",
    "plt.subplot(2,1,1)\n",
    "zeros = np.zeros_like(yc)\n",
    "plt.ylim(zmax, zmin)\n",
    "plt.xlim(ymin, ymax)\n",
    "plt.xticks(fontsize=14)\n",
    "plt.yticks(fontsize=14)\n",
    "plt.xlabel('y (km)', fontsize=16)\n",
    "plt.ylabel('z (km)', fontsize=16)\n",
    "#plt.imshow(img, extent=[ymin, ymax, zmax, 0.0], alpha=0.3)\n",
    "#plt.imshow(img, extent=extent, aspect=calculate_aspect(shape,extent), alpha=0.2)\n",
    "plt.plot(yc, tw, '-k', linewidth=1)\n",
    "plt.plot(yc, toi, '-k', linewidth=1)\n",
    "plt.plot(yc, basement, '-k', linewidth=1)\n",
    "plt.plot(yc, S, '-k', linewidth=1)\n",
    "plt.plot(yc, ini_basement, '--w', linewidth=2, label='initial guess surfaces')\n",
    "plt.plot(yc, ini_moho, '--w', linewidth=2)#, label='initial moho surface')\n",
    "plt.axvline(x=COT, ymin=ybottom, ymax=ytop, linestyle=':', color='w', linewidth=2, label='COT')\n",
    "plt.plot(base_known[:,0], base_known[:,1], 'vw', markersize=8.5, label='basement known values')\n",
    "plt.plot(moho_known[:,0], moho_known[:,1], 'Dw', markersize=8.5, label='moho known values')\n",
    "plt.fill_between(yc, 0.0, tw, facecolor='black', alpha=0.3)\n",
    "plt.fill_between(yc, tw, toi, facecolor='black', alpha=0.45)\n",
    "plt.fill_between(yc, toi, basement, facecolor='black', alpha=0.55)\n",
    "plt.fill_between(yc, basement, S, where=aux2, facecolor='black', alpha=0.6)\n",
    "plt.fill_between(yc, basement, S, where=aux3, facecolor='black', alpha=0.65)\n",
    "plt.fill_between(yc, S, ymax, facecolor='black', alpha=0.73)\n",
    "plt.plot(yc, zeros, '-k', linewidth=1)\n",
    "plt.legend(loc='best', fontsize=13, facecolor='silver')\n",
    "mpl.m2km()\n",
    "\n",
    "plt.subplot(2,1,2)\n",
    "X, Y = fig.get_dpi()*fig.get_size_inches()\n",
    "plt.axis('off')\n",
    "\n",
    "layers_list1 = ['water', 'sediment', 'SDR', 'continental', 'oceanic', 'mantle']\n",
    "layers_list2 = ['', '', '', 'crust', 'crust', '']\n",
    "alpha_list = [0.3, 0.45, 0.55, 0.6, 0.65, 0.73]\n",
    "ncols = len(alpha_list)\n",
    "nrows = 1\n",
    "h = Y / nrows\n",
    "w = X / (ncols + 1)\n",
    "\n",
    "i=ncols-1\n",
    "for alpha, layers1, layers2 in zip(alpha_list, layers_list1, layers_list2):\n",
    "    col = i // nrows\n",
    "    row = i % nrows\n",
    "    x = X - (col*w) - w\n",
    "    \n",
    "    yi_line = Y\n",
    "    yf_line1 = Y - Y*0.1\n",
    "    yf_line2 = Y - Y*0.2\n",
    "    yf_line3 = Y - Y*0.3\n",
    "    yf_line4 = Y - Y*0.4\n",
    "    yf_line5 = Y - Y*0.5\n",
    "    yf_line6 = Y - Y*0.6\n",
    "    yf_line7 = Y - Y*0.7\n",
    "    yf_line8 = Y - Y*0.8\n",
    "    yf_line9 = Y - Y*0.9\n",
    "    yf_line10 = Y - Y*1.0\n",
    "    yi_text1 = Y - Y*0.12\n",
    "    yi_text2 = Y - Y*0.17\n",
    "    \n",
    "    plt.text(x+w*0.375, yi_text1, layers1, fontsize=(w*0.14), horizontalalignment='center', verticalalignment='top')\n",
    "    plt.text(x+w*0.375, yi_text2, layers2, fontsize=(w*0.14), horizontalalignment='center', verticalalignment='top')\n",
    "    i-=1\n",
    "    poly1 = Polygon(np.array([[x, x+w*0.75, x+w*0.75, x], [yi_line, yi_line, yf_line1, yf_line1]]).T)\n",
    "    poly2 = Polygon(np.array([[x, x+w*0.75, x+w*0.75, x], [yf_line1, yf_line1, yf_line2, yf_line2]]).T)\n",
    "    poly3 = Polygon(np.array([[x, x+w*0.75, x+w*0.75, x], [yf_line2, yf_line2, yf_line3, yf_line3]]).T)\n",
    "    poly4 = Polygon(np.array([[x, x+w*0.75, x+w*0.75, x], [yf_line3, yf_line3, yf_line4, yf_line4]]).T)\n",
    "    poly5 = Polygon(np.array([[x, x+w*0.75, x+w*0.75, x], [yf_line4, yf_line4, yf_line5, yf_line5]]).T)\n",
    "    poly6 = Polygon(np.array([[x, x+w*0.75, x+w*0.75, x], [yf_line5, yf_line5, yf_line6, yf_line6]]).T)\n",
    "    poly7 = Polygon(np.array([[x, x+w*0.75, x+w*0.75, x], [yf_line6, yf_line6, yf_line7, yf_line7]]).T)\n",
    "    poly8 = Polygon(np.array([[x, x+w*0.75, x+w*0.75, x], [yf_line7, yf_line7, yf_line8, yf_line8]]).T)\n",
    "    poly9 = Polygon(np.array([[x, x+w*0.75, x+w*0.75, x], [yf_line8, yf_line8, yf_line9, yf_line9]]).T)\n",
    "    poly10 = Polygon(np.array([[x, x+w*0.75, x+w*0.75, x], [yf_line9, yf_line9, yf_line10, yf_line10]]).T)\n",
    "    mpl.polygon(poly1, style='None', linewidth=1, fill='black', alpha=alpha)\n",
    "    mpl.polygon(poly2, style='None', linewidth=0, fill='white', alpha=alpha)\n",
    "    mpl.polygon(poly3, style='None', linewidth=0, fill='white', alpha=alpha)\n",
    "    mpl.polygon(poly4, style='None', linewidth=0, fill='white', alpha=alpha)\n",
    "    mpl.polygon(poly5, style='None', linewidth=0, fill='white', alpha=alpha)\n",
    "    mpl.polygon(poly6, style='None', linewidth=0, fill='white', alpha=alpha)\n",
    "    mpl.polygon(poly7, style='None', linewidth=0, fill='white', alpha=alpha)\n",
    "    mpl.polygon(poly8, style='None', linewidth=0, fill='white', alpha=alpha)\n",
    "    mpl.polygon(poly9, style='None', linewidth=0, fill='white', alpha=alpha)\n",
    "    mpl.polygon(poly10, style='None', linewidth=0, fill='white', alpha=alpha)\n",
    "    \n",
    "plt.tight_layout()\n",
    "\n",
    "#mpl.savefig('../data/fig/model-simple_II.png', dpi='figure')\n",
    "plt.show()      \n"
   ]
  },
  {
   "cell_type": "code",
   "execution_count": null,
   "metadata": {
    "collapsed": true
   },
   "outputs": [],
   "source": []
  },
  {
   "cell_type": "code",
   "execution_count": null,
   "metadata": {
    "collapsed": true
   },
   "outputs": [],
   "source": []
  }
 ],
 "metadata": {
  "anaconda-cloud": {},
  "kernelspec": {
   "display_name": "Python 2",
   "language": "python",
   "name": "python2"
  },
  "language_info": {
   "codemirror_mode": {
    "name": "ipython",
    "version": 2
   },
   "file_extension": ".py",
   "mimetype": "text/x-python",
   "name": "python",
   "nbconvert_exporter": "python",
   "pygments_lexer": "ipython2",
   "version": "2.7.13"
  }
 },
 "nbformat": 4,
 "nbformat_minor": 2
}
