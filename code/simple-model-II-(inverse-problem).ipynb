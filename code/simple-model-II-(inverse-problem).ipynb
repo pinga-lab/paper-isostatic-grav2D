{
 "cells": [
  {
   "cell_type": "markdown",
   "metadata": {},
   "source": [
    "# 2D Isostatic gravity inversion - Inverse Problem"
   ]
  },
  {
   "cell_type": "markdown",
   "metadata": {},
   "source": [
    "Este [IPython Notebook](http://ipython.org/videos.html#the-ipython-notebook) utiliza a biblioteca de código aberto [Fatiando a Terra](http://fatiando.org/)"
   ]
  },
  {
   "cell_type": "raw",
   "metadata": {},
   "source": [
    "Inverse problem - simple model II."
   ]
  },
  {
   "cell_type": "code",
   "execution_count": 1,
   "metadata": {},
   "outputs": [
    {
     "name": "stderr",
     "output_type": "stream",
     "text": [
      "/Users/macelabastos/anaconda2/lib/python2.7/site-packages/fatiando/vis/mpl.py:76: UserWarning: This module will be removed in v0.6. We recommend the use of matplotlib.pyplot module directly. Some of the fatiando specific functions will remain.\n",
      "  \"specific functions will remain.\")\n"
     ]
    }
   ],
   "source": [
    "%matplotlib inline\n",
    "import numpy as np\n",
    "from scipy.misc import derivative\n",
    "import scipy as spy\n",
    "from scipy import interpolate\n",
    "import matplotlib\n",
    "#matplotlib.use('TkAgg', force=True)\n",
    "import matplotlib.pyplot as plt\n",
    "from matplotlib.ticker import MaxNLocator\n",
    "import math\n",
    "import cPickle as pickle\n",
    "import datetime\n",
    "\n",
    "import string as st\n",
    "\n",
    "from scipy.misc import imread\n",
    "\n",
    "from __future__ import division\n",
    "\n",
    "from fatiando import gravmag, mesher, utils, gridder\n",
    "from fatiando.mesher import Prism, Polygon\n",
    "from fatiando.gravmag import prism\n",
    "from fatiando.utils import ang2vec, si2nt, contaminate\n",
    "from fatiando.gridder import regular\n",
    "from fatiando.vis import mpl\n",
    "\n",
    "from numpy.testing import assert_almost_equal\n",
    "from numpy.testing import assert_array_almost_equal\n",
    "from pytest import raises\n",
    "\n",
    "plt.rc('font', size=16)"
   ]
  },
  {
   "cell_type": "code",
   "execution_count": 2,
   "metadata": {
    "collapsed": true
   },
   "outputs": [],
   "source": [
    "import functions as fc"
   ]
  },
  {
   "cell_type": "markdown",
   "metadata": {},
   "source": [
    "## Observation coordinates."
   ]
  },
  {
   "cell_type": "code",
   "execution_count": 3,
   "metadata": {
    "collapsed": true
   },
   "outputs": [],
   "source": [
    "# Model`s limits\n",
    "ymin = 0.0\n",
    "ymax = 195000.0\n",
    "zmin = -1000.0\n",
    "zmax = 37400.0\n",
    "xmin = -100000.0\n",
    "xmax =  100000.0\n",
    "\n",
    "area = [ymin, ymax, zmax, zmin]"
   ]
  },
  {
   "cell_type": "code",
   "execution_count": 4,
   "metadata": {
    "collapsed": true
   },
   "outputs": [],
   "source": [
    "ny = 150 # number of observation datas and number of prisms along the profile\n",
    "# coordinates defining the horizontal boundaries of the\n",
    "# adjacent columns along the profile\n",
    "y = np.linspace(ymin, ymax, ny)"
   ]
  },
  {
   "cell_type": "code",
   "execution_count": 5,
   "metadata": {
    "collapsed": true
   },
   "outputs": [],
   "source": [
    "# coordinates of the center of the columns forming the\n",
    "# interpretation model\n",
    "n = ny - 1\n",
    "dy = (ymax - ymin)/n\n",
    "ycmin = ymin + 0.5*dy\n",
    "ycmax = ymax - 0.5*dy\n",
    "yc = np.reshape(np.linspace(ycmin, ycmax, n),(n,1))\n",
    "x = np.zeros_like(yc)\n",
    "z = np.zeros_like(yc)-150.0"
   ]
  },
  {
   "cell_type": "code",
   "execution_count": 6,
   "metadata": {
    "collapsed": true
   },
   "outputs": [],
   "source": [
    "## Edge extension (observation coordinates)\n",
    "sigma = 2.0\n",
    "edge = sigma*dy*n"
   ]
  },
  {
   "cell_type": "markdown",
   "metadata": {},
   "source": [
    "## Model parameters"
   ]
  },
  {
   "cell_type": "code",
   "execution_count": 7,
   "metadata": {
    "collapsed": true
   },
   "outputs": [],
   "source": [
    "# Model densities\n",
    "# Indices and polygons relationship:\n",
    "# cc = continental crust layer\n",
    "# oc = ocean crust layer\n",
    "# w = water layer\n",
    "# s = sediment layer\n",
    "# m = mantle layer\n",
    "dw = np.array([1030.0])\n",
    "ds = np.array([2550.0])\n",
    "dcc = np.array([2670.0])\n",
    "doc = np.array([2840.0])\n",
    "dm = np.array([3200.0])\n",
    "#dc = dcc\n",
    "# coordinate defining the horizontal boundaries of the continent-ocean boundary\n",
    "COT = 117000.0\n",
    "\n",
    "# list defining crust density variance\n",
    "dc = np.zeros_like(yc)\n",
    "aux = yc <= COT\n",
    "for i in range(len(yc[aux])):\n",
    "    dc[i] = dcc\n",
    "for i in range(len(yc[aux]),n):\n",
    "    dc[i] = doc\n",
    "# defining sediments layers density vector\n",
    "ds = np.reshape(np.repeat(ds,n),(n,1))\n",
    "\n",
    "# S0 => isostatic compensation surface (Airy's model)\n",
    "S0 = np.array([29500.0])"
   ]
  },
  {
   "cell_type": "markdown",
   "metadata": {},
   "source": [
    "## Synthetic data"
   ]
  },
  {
   "cell_type": "code",
   "execution_count": 8,
   "metadata": {
    "collapsed": true
   },
   "outputs": [],
   "source": [
    "gsyn = np.reshape(np.loadtxt('../data/simple-model-II-synthetic-gravity-data.txt'),(n,1))"
   ]
  },
  {
   "cell_type": "markdown",
   "metadata": {},
   "source": [
    "## Water bottom"
   ]
  },
  {
   "cell_type": "code",
   "execution_count": 9,
   "metadata": {
    "collapsed": true
   },
   "outputs": [],
   "source": [
    "tw = np.reshape(np.loadtxt('../data/simple-model-II-bathymetry.txt'),(n,1))"
   ]
  },
  {
   "cell_type": "markdown",
   "metadata": {},
   "source": [
    "## True surfaces"
   ]
  },
  {
   "cell_type": "code",
   "execution_count": 10,
   "metadata": {
    "collapsed": true
   },
   "outputs": [],
   "source": [
    "true_basement = np.reshape(np.loadtxt('../data/simple-model-II-true-basement-surface.txt'),(n,1))\n",
    "\n",
    "true_moho = np.reshape(np.loadtxt('../data/simple-model-II-true-moho-surface.txt'),(n,1))\n",
    "\n",
    "# True reference moho surface (SR = S0+dS0)\n",
    "true_dS0 = np.array([500.0])"
   ]
  },
  {
   "cell_type": "code",
   "execution_count": 11,
   "metadata": {
    "collapsed": true
   },
   "outputs": [],
   "source": [
    "# True layer sediments thickness\n",
    "true_ts = true_basement - tw\n",
    "\n",
    "# True layer mantle thickness\n",
    "true_tm = S0 - true_moho\n",
    "\n",
    "# true parameters vector\n",
    "ptrue = np.vstack((true_ts, true_tm, true_dS0))"
   ]
  },
  {
   "cell_type": "markdown",
   "metadata": {},
   "source": [
    "## Initial guess surfaces"
   ]
  },
  {
   "cell_type": "code",
   "execution_count": 12,
   "metadata": {
    "collapsed": true
   },
   "outputs": [],
   "source": [
    "# initial guess basement surface\n",
    "ini_basement = np.reshape(np.loadtxt('../data/simple-model-II-initial-basement-surface.txt'),(n,1))\n",
    "\n",
    "# initial guess moho surface\n",
    "ini_moho = np.reshape(np.loadtxt('../data/simple-model-II-initial-moho-surface.txt'),(n,1))\n",
    "\n",
    "# initial guess reference moho surface (SR = S0+dS0)\n",
    "ini_dS0 = np.array([1800.0])\n",
    "ini_RM = S0 + ini_dS0"
   ]
  },
  {
   "cell_type": "code",
   "execution_count": 13,
   "metadata": {
    "collapsed": true
   },
   "outputs": [],
   "source": [
    "# initial guess layer sediments thickness\n",
    "ini_ts = ini_basement - tw\n",
    "# initial guess layer mantle thickness\n",
    "ini_tm = S0 - ini_moho\n",
    "# initial guess parameters vector\n",
    "p0 = np.vstack((ini_ts, ini_tm, ini_dS0))"
   ]
  },
  {
   "cell_type": "markdown",
   "metadata": {},
   "source": [
    "## Known depths"
   ]
  },
  {
   "cell_type": "code",
   "execution_count": 14,
   "metadata": {
    "collapsed": true
   },
   "outputs": [],
   "source": [
    "# Known values: basement and moho surfaces\n",
    "\n",
    "base_known = np.loadtxt('../data/simple-model-II-base-known-depths.txt')\n",
    "\n",
    "moho_known = np.loadtxt('../data/simple-model-II-moho-known-depths.txt')"
   ]
  },
  {
   "cell_type": "code",
   "execution_count": 15,
   "metadata": {
    "collapsed": true
   },
   "outputs": [],
   "source": [
    "(rs,index_rs) = fc.base_known_function(dy,tw,yc,base_known)"
   ]
  },
  {
   "cell_type": "code",
   "execution_count": 16,
   "metadata": {
    "collapsed": true
   },
   "outputs": [],
   "source": [
    "(rm,index_rm) = fc.moho_known_function(dy,yc,S0,moho_known)"
   ]
  },
  {
   "cell_type": "code",
   "execution_count": 17,
   "metadata": {
    "collapsed": true
   },
   "outputs": [],
   "source": [
    "index_base = index_rs\n",
    "index_moho = index_rm - n\n",
    "\n",
    "assert_almost_equal(base_known[:,0], yc[index_base][:,0], decimal=6)\n",
    "\n",
    "assert_almost_equal(moho_known[:,0], yc[index_moho][:,0], decimal=6)\n",
    "\n",
    "assert_almost_equal(true_ts[index_base][:,0], rs[:,0], decimal=6)\n",
    "\n",
    "assert_almost_equal((true_tm[index_moho][:,0]), rm[:,0], decimal=6)"
   ]
  },
  {
   "cell_type": "markdown",
   "metadata": {},
   "source": [
    "## Initial guess data"
   ]
  },
  {
   "cell_type": "code",
   "execution_count": 18,
   "metadata": {
    "collapsed": true
   },
   "outputs": [],
   "source": [
    "g0 = np.reshape(np.loadtxt('../data/simple-model-II-initial-guess-gravity-data.txt'),(n,1))"
   ]
  },
  {
   "cell_type": "markdown",
   "metadata": {
    "collapsed": true
   },
   "source": [
    "### parameters vector box limits"
   ]
  },
  {
   "cell_type": "code",
   "execution_count": 19,
   "metadata": {},
   "outputs": [
    {
     "name": "stdout",
     "output_type": "stream",
     "text": [
      "ts => 1830.62007802 - 14588.5613529\n",
      "tm => 890.134771508 - 13430.8972468\n",
      "dS0 => [ 500.]\n"
     ]
    }
   ],
   "source": [
    "# true thickness vector limits\n",
    "print 'ts =>', np.min(ptrue[0:n]),'-', np.max(ptrue[0:n])\n",
    "print 'tm =>', np.min(ptrue[n:n+n]),'-', np.max(ptrue[n:n+n])\n",
    "print 'dS0 =>', ptrue[n+n]"
   ]
  },
  {
   "cell_type": "code",
   "execution_count": 20,
   "metadata": {},
   "outputs": [
    {
     "name": "stdout",
     "output_type": "stream",
     "text": [
      "ts => 5287.56068051 - 9211.22622696\n",
      "tm => 4084.54458293 - 8369.08843238\n",
      "dS0 => [ 1800.]\n"
     ]
    }
   ],
   "source": [
    "# initial guess thickness vector limits\n",
    "print 'ts =>', np.min(p0[0:n]),'-', np.max(p0[0:n])\n",
    "print 'tm =>', np.min(p0[n:n+n]),'-', np.max(p0[n:n+n])\n",
    "print 'dS0 =>', p0[n+n]"
   ]
  },
  {
   "cell_type": "code",
   "execution_count": 21,
   "metadata": {
    "collapsed": true
   },
   "outputs": [],
   "source": [
    "# defining parameters values limits\n",
    "pjmin = np.zeros((len(ptrue),1))\n",
    "pjmax = np.zeros((len(ptrue),1))\n",
    "pjmin[0:n] = 0.\n",
    "pjmax[0:n] = 20000.\n",
    "pjmin[n:n+n] = 0.\n",
    "pjmax[n:n+n] = 18000.\n",
    "pjmin[n+n] = 0.\n",
    "pjmax[n+n] = 12000."
   ]
  },
  {
   "cell_type": "markdown",
   "metadata": {},
   "source": [
    "### Inversion code"
   ]
  },
  {
   "cell_type": "code",
   "execution_count": 22,
   "metadata": {
    "collapsed": true
   },
   "outputs": [],
   "source": [
    "#Parametros internos para implementacao da funcao (convergencia, numero de iteracoes, etc.)\n",
    "beta = 10**(-3)\n",
    "itmax = 50\n",
    "itmax_marq = 10\n",
    "lamb = 1.\n",
    "mi = 10**(-3)\n",
    "dmi = 10.\n",
    "dp1 = 1.\n",
    "dp2 = 1."
   ]
  },
  {
   "cell_type": "code",
   "execution_count": 23,
   "metadata": {
    "collapsed": true
   },
   "outputs": [],
   "source": [
    "#inicializacao de variaveis\n",
    "ymin = area[0]\n",
    "ymax = area[1]\n",
    "x = np.zeros_like(yc)\n",
    "z = np.zeros_like(yc)-150.0\n",
    "n = len(yc) # numero de dados observados\n",
    "m = 2*n+1 # numero de parametros a inverter\n",
    "    \n",
    "# calculo da contribuicao dos prismas que formam a camada de agua.\n",
    "prism_w = fc.prism_w_function(xmax,xmin,dy,edge,dw,dcc,tw,yc)\n",
    "gzw = prism.gz(np.reshape(x,(n,)),np.reshape(yc,(n,)),np.reshape(z,(n,)),prism_w)"
   ]
  },
  {
   "cell_type": "code",
   "execution_count": 24,
   "metadata": {
    "collapsed": true
   },
   "outputs": [],
   "source": [
    "# matrizes\n",
    "I = np.identity(m)\n",
    "W0 = np.identity(n-1)\n",
    "R0 = fc.R_matrix_function(n,isostatic=True)\n",
    "R = fc.R_matrix_function(n)\n",
    "C = fc.C_matrix_function(ds,dm,dc)\n",
    "D = fc.D_matrix_function(dw,dc)\n",
    "A = fc.A_matrix_function(n,rs,index_rs)\n",
    "B = fc.B_matrix_function(n,rm,index_rm)\n",
    "G0 = fc.G_matrix_function(xmax,xmin,dy,edge,dp1,dp2,S0,dw,ds,dm,dcc,dc,tw,p0,yc)\n",
    "\n",
    "# Hessianas\n",
    "Hess_phi = (2/n)*G0.T.dot(G0)\n",
    "Hess_psi0 = 2*C.T.dot(R0.T.dot(W0.T.dot(W0.dot(R0.dot(C)))))\n",
    "Hess_psi1 = 2*R.T.dot(R)\n",
    "Hess_psi2 = 2*A.T.dot(A)\n",
    "Hess_psi3 = 2*B.T.dot(B)"
   ]
  },
  {
   "cell_type": "code",
   "execution_count": 25,
   "metadata": {
    "collapsed": true
   },
   "outputs": [],
   "source": [
    "# Normalizacao dos vinculos\n",
    "diag_phi = np.diag(Hess_phi)\n",
    "diag_psi0 = np.diag(Hess_psi0)\n",
    "diag_psi1 = np.diag(Hess_psi1)\n",
    "diag_psi2 = np.diag(Hess_psi2)\n",
    "diag_psi3 = np.diag(Hess_psi3)\n",
    "\n",
    "f_phi = np.median(diag_phi)\n",
    "f_psi0 = np.median(diag_psi0)\n",
    "f_psi1 = np.median(diag_psi1)\n",
    "#f_psi2 = np.median(diag_psi2)\n",
    "#f_psi3 = np.median(diag_psi3)\n",
    "f_psi2 = 2.\n",
    "f_psi3 = 2.\n",
    "#print f_phi, f_psi0, f_psi1, f_psi2, f_psi3"
   ]
  },
  {
   "cell_type": "code",
   "execution_count": 26,
   "metadata": {},
   "outputs": [
    {
     "name": "stdout",
     "output_type": "stream",
     "text": [
      "8.01302668874e-12 6.73895544523e-08 0.0 0.0\n"
     ]
    }
   ],
   "source": [
    "# coeficientes dos vinculos\n",
    "alpha0 = (f_phi/f_psi0)*10**(2) # vinculo isostatico\n",
    "alpha1 = (f_phi/f_psi1)*10**(1) # vinculo suavidade\n",
    "alpha2 = 0*(f_phi/f_psi2)*10**(1) # vinculo de igualdade espessura sedimento\n",
    "alpha3 = 0*(f_phi/f_psi3)*10**(2) # vinculo de igualdade espessura (S0 - tm)\n",
    "print alpha0, alpha1, alpha2, alpha3"
   ]
  },
  {
   "cell_type": "code",
   "execution_count": 27,
   "metadata": {},
   "outputs": [
    {
     "name": "stdout",
     "output_type": "stream",
     "text": [
      "k3= 0\n",
      "955.386557629\n",
      "k3= 1\n",
      "41.2432865004\n",
      "k3= 2\n",
      "30.4900188133\n",
      "k0= 0\n",
      "k0= 1\n",
      "k3= 3\n",
      "5.17179273649\n",
      "k0= 2\n",
      "k3= 4\n",
      "4.29483970315\n",
      "k0= 3\n",
      "k3= 5\n",
      "4.19202954149\n",
      "k0= 4\n",
      "k3= 6\n",
      "4.11161118082\n",
      "k0= 5\n",
      "k3= 7\n",
      "4.04042369972\n",
      "k0= 6\n",
      "k3= 8\n",
      "3.97607475229\n",
      "k0= 7\n",
      "k3= 9\n",
      "3.91713265332\n",
      "k0= 8\n",
      "k3= 10\n",
      "3.8626543305\n",
      "k0= 9\n",
      "k3= 11\n",
      "3.81198854969\n",
      "k0= 10\n",
      "k3= 12\n",
      "3.76466518902\n",
      "k0= 11\n",
      "k3= 13\n",
      "3.7203294387\n",
      "k0= 12\n",
      "k3= 14\n",
      "3.67870184018\n",
      "k0= 13\n",
      "k3= 15\n",
      "3.63955364344\n",
      "k0= 14\n",
      "k3= 16\n",
      "3.60269139683\n",
      "k0= 15\n",
      "k3= 17\n",
      "3.567947168\n",
      "k0= 16\n",
      "k3= 18\n",
      "3.53517223235\n",
      "k0= 17\n",
      "k3= 19\n",
      "3.50423291513\n",
      "k0= 18\n",
      "k3= 20\n",
      "3.47500778359\n",
      "k0= 19\n",
      "k3= 21\n",
      "3.44738569326\n",
      "k0= 20\n",
      "k3= 22\n",
      "3.4212643804\n",
      "k0= 21\n",
      "k3= 23\n",
      "3.396549409\n",
      "k0= 22\n",
      "k3= 24\n",
      "3.37315335088\n",
      "k0= 23\n",
      "k3= 25\n",
      "3.35099512357\n",
      "k0= 24\n",
      "k3= 26\n",
      "3.32999943704\n",
      "k0= 25\n",
      "k3= 27\n",
      "3.31009631798\n",
      "k0= 26\n",
      "k3= 28\n",
      "3.29122069219\n",
      "k0= 27\n",
      "k3= 29\n",
      "3.27331201127\n",
      "k0= 28\n",
      "k3= 30\n",
      "3.25631391527\n",
      "k0= 29\n",
      "k3= 31\n",
      "3.24017392508\n",
      "k0= 30\n",
      "k3= 32\n",
      "3.22484316009\n",
      "k0= 31\n",
      "k3= 33\n",
      "3.21027607839\n",
      "k0= 32\n",
      "k3= 34\n",
      "3.19643023721\n",
      "k0= 33\n",
      "k3= 35\n",
      "3.18326607093\n",
      "k0= 34\n",
      "k3= 36\n",
      "3.17074668612\n",
      "k0= 35\n",
      "k3= 37\n",
      "3.15883767169\n",
      "k0= 36\n",
      "k3= 38\n",
      "3.14750692289\n",
      "k0= 37\n",
      "k3= 39\n",
      "3.1367244787\n",
      "k0= 38\n",
      "k3= 40\n",
      "3.12646237094\n",
      "k0= 39\n",
      "k3= 41\n",
      "3.1166944848\n",
      "k0= 40\n",
      "k3= 42\n",
      "3.10739642992\n",
      "k0= 41\n",
      "k3= 43\n",
      "3.09854542102\n",
      "k0= 42\n",
      "k3= 44\n",
      "3.09012016783\n",
      "k0= 43\n",
      "k3= 45\n",
      "3.08210077359\n",
      "k0= 44\n",
      "k3= 46\n",
      "3.0744686418\n",
      "k0= 45\n",
      "k3= 47\n",
      "3.06720639061\n",
      "k0= 46\n",
      "k3= 48\n",
      "3.06029777499\n",
      "k0= 47\n",
      "k3= 49\n",
      "3.05372761638\n"
     ]
    }
   ],
   "source": [
    "p1 = np.copy(p0)\n",
    "g1 = np.copy(g0)\n",
    "\n",
    "gama1 = fc.gama_function(alpha0,alpha1,alpha2,alpha3,lamb,S0,tw,gsyn,g1,p1,rs,rm,W0,R0,C,D,R,A,B)\n",
    "gama_list = [gama1]\n",
    "\n",
    "k0=0\n",
    "k1=0\n",
    "k2=0\n",
    "k3=0\n",
    "\n",
    "#implementacao da funcao\n",
    "for it in range (itmax):\n",
    "\n",
    "    p1_hat = - np.log((pjmax - p1)/(p1-pjmin))\n",
    "    G1 = fc.G_matrix_function(xmax,xmin,dy,edge,dp1,dp2,S0,dw,ds,dm,dcc,dc,tw,p1,yc)\n",
    "    \n",
    "    grad_phi = (-2/n)*G1.T.dot(gsyn - g1)\n",
    "    Hess_phi = (2/n)*G1.T.dot(G1)\n",
    "        \n",
    "    grad_psi0 = fc.grad_ps0_function(S0,tw,p1,W0,R0,C,D)\n",
    "    grad_psi1 = fc.grad_psi1_function(p1,R)\n",
    "    grad_psi2 = fc.grad_psi2_function(p1,rs,A)\n",
    "    grad_psi3 = fc.grad_psi2_function(p1,rm,B)\n",
    "\n",
    "    grad_gama = grad_phi + lamb*(alpha0*grad_psi0+alpha1*grad_psi1+alpha2*grad_psi2+alpha3*grad_psi3)\n",
    "    Hess_gama = Hess_phi+lamb*(alpha0*Hess_psi0+alpha1*Hess_psi1+alpha2*Hess_psi2+alpha3*Hess_psi3)\n",
    "\n",
    "    T = fc.T_matrix_function(pjmin, pjmax, p1)\n",
    "        \n",
    "    for it_marq in range(itmax_marq):\n",
    "            \n",
    "        deltap = np.linalg.solve((Hess_gama.dot(T) + mi*I), -grad_gama)\n",
    "\n",
    "        p2_hat = p1_hat + deltap\n",
    "        p2 = pjmin + ((pjmax - pjmin)/(1 + np.exp(-p2_hat)))\n",
    "        \n",
    "        #Calculo do vetor de dados preditos e da funcao phi\n",
    "        prism_s = fc.prism_s_function(xmax,xmin,dy,edge,ds,dcc,tw,p2,yc)\n",
    "        prism_c = fc.prism_c_function(xmax,xmin,dy,edge,S0,dcc,dc,tw,p2,yc)\n",
    "        prism_m = fc.prism_m_function(xmax,xmin,dy,edge,S0,dcc,dm,p2,yc)\n",
    "        \n",
    "        g2 = np.reshape(fc.g_function(np.reshape(x,(n,)),np.reshape(yc,(n,)),np.reshape(z,(n,)),gzw,prism_s,prism_c,prism_m),(n,1))\n",
    "        gama2 = fc.gama_function(alpha0,alpha1,alpha2,alpha3,lamb,S0,tw,gsyn,g2,p2,rs,rm,W0,R0,C,D,R,A,B)\n",
    "        \n",
    "        #Verificando se a funcao phi esta diminuindo\n",
    "        dgama = gama2 - gama1\n",
    "        if dgama > 0.:\n",
    "            mi *= dmi\n",
    "            print 'k0=',k0\n",
    "            k0 += 1\n",
    "            \n",
    "        else:\n",
    "            mi /= dmi\n",
    "            #print 'k1=',k1\n",
    "            #k1 += 1\n",
    "            break\n",
    "    \n",
    "    p1 = p2.copy()\n",
    "    g1 = g2.copy()\n",
    "    \n",
    "    #Testando convergencia da funcao phi\n",
    "    if (dgama < 0.) & (abs(gama1 - gama2) < beta):\n",
    "    #if fc.convergence_function(gama1, gama2, beta):\n",
    "        #print 'k2=',k2\n",
    "        #k2 += 1\n",
    "        print 'convergence achieved'\n",
    "        break\n",
    "        \n",
    "    #Atualizando variaveis\n",
    "    else:\n",
    "        print 'k3=',k3\n",
    "        k3 += 1       \n",
    "        gama1 = gama2.copy()\n",
    "        print gama1\n",
    "        gama_list.append(gama1)\n",
    "\n",
    "    thicknesses = tw + p2[0:n] + p2[n:n+n]\n",
    "    assert np.alltrue(thicknesses <= S0), 'sum of the thicknesses shall be less than or equal to isostatic compensation surface'\n",
    "    \n",
    "    p = p2.copy()\n",
    "    g = g2.copy()"
   ]
  },
  {
   "cell_type": "code",
   "execution_count": 33,
   "metadata": {},
   "outputs": [
    {
     "data": {
      "image/png": "[encoded data removed]",
      "text/plain": [
       "<matplotlib.figure.Figure at 0x1812cdb590>"
      ]
     },
     "metadata": {},
     "output_type": "display_data"
    }
   ],
   "source": [
    "it = [i for i in range(len(gama_list))]\n",
    "#plt.figure(figsize=(8,8))\n",
    "ax = plt.figure(figsize=(8,8)).gca()\n",
    "ax.xaxis.set_major_locator(MaxNLocator(integer=True))\n",
    "plt.plot(gama_list,'ko')\n",
    "plt.yscale('log')\n",
    "plt.xlabel('$k$', fontsize=18)\n",
    "plt.ylabel('$\\Gamma(\\mathbf{p})$', fontsize=18)\n",
    "plt.grid()\n",
    "#plt.xlim(-1,50)\n",
    "#plt.xlim(-1, len(gama_list)+5)\n",
    "plt.ylim(np.min(gama_list)-3*np.min(gama_list),np.max(gama_list)+3*np.min(gama_list))\n",
    "#mpl.savefig('../data/fig/simple-model-II-gama-list-alphas_2_1_X_X.png', dpi='figure', bbox_inches='tight')\n",
    "plt.show()"
   ]
  },
  {
   "cell_type": "markdown",
   "metadata": {},
   "source": [
    "## Lithostatic Stress"
   ]
  },
  {
   "cell_type": "code",
   "execution_count": 29,
   "metadata": {
    "collapsed": true
   },
   "outputs": [],
   "source": [
    "sgm_true = 9.81*(10**(-6))*(dw*tw + ds*true_ts + dc*(S0-tw-true_ts-true_tm)+dm*true_tm)\n",
    "\n",
    "sgm = 9.81*(10**(-6))*(dw*tw + ds*p[0:n] + dc*(S0-tw-p[0:n]-p[n:n+n])+dm*p[n:n+n])"
   ]
  },
  {
   "cell_type": "markdown",
   "metadata": {},
   "source": [
    "## Inversion model plot"
   ]
  },
  {
   "cell_type": "code",
   "execution_count": 30,
   "metadata": {},
   "outputs": [
    {
     "name": "stdout",
     "output_type": "stream",
     "text": [
      "[ 500.] [ 110.82984683]\n"
     ]
    }
   ],
   "source": [
    "# Inverrsion results\n",
    "RM = S0 + p[n+n]\n",
    "basement = tw + p[0:n]\n",
    "moho = S0 - p[n:n+n]\n",
    "\n",
    "print ptrue[n+n], p[n+n]"
   ]
  },
  {
   "cell_type": "code",
   "execution_count": 31,
   "metadata": {
    "collapsed": true
   },
   "outputs": [],
   "source": [
    "polygons_water = []\n",
    "for (yi, twi) in zip(yc, tw):\n",
    "    y1 = yi - 0.5*dy\n",
    "    y2 = yi + 0.5*dy\n",
    "\n",
    "    polygons_water.append(Polygon(np.array([[y1, y2, y2, y1], \n",
    "                                            [0.0, 0.0, twi, twi]]).T,\n",
    "                                               props={'density': dw - dcc}))\n",
    "polygons_sediments = []\n",
    "for (yi, twi, si, dsi) in zip(yc, np.reshape(tw,(n,)), np.reshape(basement,(n,)), ds):\n",
    "    y1 = yi - 0.5*dy\n",
    "    y2 = yi + 0.5*dy\n",
    "\n",
    "    polygons_sediments.append(Polygon(np.array([[y1, y2, y2, y1], \n",
    "                                                [twi, twi, si, si]]).T,\n",
    "                                                    props={'density': ds - dcc}))\n",
    "\n",
    "polygons_crust = []\n",
    "for (yi, si, Si, dci) in zip(yc, np.reshape(basement,(n,)), np.reshape(moho,(n,)), dc):\n",
    "    y1 = yi - 0.5*dy\n",
    "    y2 = yi + 0.5*dy\n",
    "\n",
    "    polygons_crust.append(Polygon(np.array([[y1, y2, y2, y1], \n",
    "                                            [si, si, Si, Si]]).T,\n",
    "                                                props={'density': dci - dcc})) \n",
    "\n",
    "polygons_mantle = []\n",
    "for (yi, Si) in zip(yc, np.reshape(moho,(n,))):\n",
    "    y1 = yi - 0.5*dy\n",
    "    y2 = yi + 0.5*dy\n",
    "\n",
    "    polygons_mantle.append(Polygon(np.array([[y1, y2, y2, y1], \n",
    "                                                [Si, Si, S0+p[n+n], S0+p[n+n]]]).T,\n",
    "                                                    props={'density': dm - dcc}))"
   ]
  },
  {
   "cell_type": "code",
   "execution_count": 34,
   "metadata": {},
   "outputs": [
    {
     "data": {
      "image/png": "[encoded data removed]",
      "text/plain": [
       "<matplotlib.figure.Figure at 0x1812f49090>"
      ]
     },
     "metadata": {},
     "output_type": "display_data"
    }
   ],
   "source": [
    "%matplotlib inline\n",
    "plt.close('all')\n",
    "fig = plt.figure(figsize=(12,16))\n",
    "\n",
    "import matplotlib.gridspec as gridspec\n",
    "heights = [8, 8, 8, 1]\n",
    "gs = gridspec.GridSpec(4, 1, height_ratios=heights)\n",
    "ax1 = plt.subplot(gs[0])\n",
    "ax2 = plt.subplot(gs[1])\n",
    "ax3 = plt.subplot(gs[2])\n",
    "ax4 = plt.subplot(gs[3])\n",
    "\n",
    "ax1.axhline(y=0.0, xmin=ymin, xmax=ymax, color='k', linestyle='--', linewidth=1)\n",
    "ax1.plot(0.001*yc, gsyn, 'or', mfc='none', markersize=7, label='simulated data')\n",
    "ax1.plot(0.001*yc, g, '-g', label='predicted data')\n",
    "ax1.plot(0.001*yc, g0, '-b', label='initial guess data')\n",
    "ax1.set_xlim(0.001*ymin, 0.001*ymax)\n",
    "ax1.set_ylabel('gravity disturbance (mGal)', fontsize=16)\n",
    "ax1.set_xticklabels(['%g'% (l) for l in ax1.get_xticks()], fontsize=14)\n",
    "ax1.set_yticklabels(['%g'% (l) for l in ax1.get_yticks()], fontsize=14)\n",
    "ax1.legend(loc='best', fontsize=13, facecolor='silver')\n",
    "\n",
    "ax2.plot(0.001*yc, sgm_true, 'or', mfc='none', markersize=7, label='simulated lithostatic stress')\n",
    "ax2.plot(0.001*yc, sgm, '-g', label='predicted lithostatic stress')\n",
    "ax2.set_xlim(0.001*ymin, 0.001*ymax)\n",
    "#ax2.set_ylim(752.,812.)\n",
    "ax2.set_ylabel('Lithostatic Stress (MPa)', fontsize=16)\n",
    "ax2.set_xticklabels(['%g'% (l) for l in ax2.get_xticks()], fontsize=14)\n",
    "ax2.set_yticklabels(['%g'% (l) for l in ax2.get_yticks()], fontsize=14)\n",
    "ax2.legend(loc='best', fontsize=13, facecolor='silver')\n",
    "\n",
    "ax3.axhline(y=0.0, xmin=ymin, xmax=ymax, color='k', linestyle='-', linewidth=1)\n",
    "aux = yc <= COT\n",
    "for (pwi) in (polygons_water):\n",
    "    tmpx = [x for x in pwi.x]\n",
    "    tmpx.append(pwi.x[0])\n",
    "    tmpy = [y for y in pwi.y]\n",
    "    tmpy.append(pwi.y[0])\n",
    "    ax3.plot(tmpx, tmpy, linestyle='None')\n",
    "    ax3.fill(tmpx, tmpy, color='aqua')\n",
    "for (psi) in (polygons_sediments):\n",
    "    tmpx = [x for x in psi.x]\n",
    "    tmpx.append(psi.x[0])\n",
    "    tmpy = [y for y in psi.y]\n",
    "    tmpy.append(psi.y[0])\n",
    "    ax3.plot(tmpx, tmpy, linestyle='None')\n",
    "    ax3.fill(tmpx, tmpy, color='tan')\n",
    "for (pci) in (polygons_crust[:len(yc[aux])]):\n",
    "    tmpx = [x for x in pci.x]\n",
    "    tmpx.append(pci.x[0])\n",
    "    tmpy = [y for y in pci.y]\n",
    "    tmpy.append(pci.y[0])\n",
    "    ax3.plot(tmpx, tmpy, linestyle='None')\n",
    "    ax3.fill(tmpx, tmpy, color='orange')\n",
    "for (pcoi) in (polygons_crust[len(yc[aux]):n]):\n",
    "    tmpx = [x for x in pcoi.x]\n",
    "    tmpx.append(pcoi.x[0])\n",
    "    tmpy = [y for y in pcoi.y]\n",
    "    tmpy.append(pcoi.y[0])\n",
    "    ax3.plot(tmpx, tmpy, linestyle='None')\n",
    "    ax3.fill(tmpx, tmpy, color='orangered')\n",
    "for (pmi) in (polygons_mantle):\n",
    "    tmpx = [x for x in pmi.x]\n",
    "    tmpx.append(pmi.x[0])\n",
    "    tmpy = [y for y in pmi.y]\n",
    "    tmpy.append(pmi.y[0])\n",
    "    ax3.plot(tmpx, tmpy, linestyle='None')\n",
    "    ax3.fill(tmpx, tmpy, color='plum')\n",
    "\n",
    "ax3.plot(yc, tw, '--w', linewidth=2)\n",
    "ax3.plot(yc, basement, '-k', linewidth=2, label='estimated surfaces')\n",
    "ax3.plot(yc, moho, '-k', linewidth=2)\n",
    "ax3.plot(yc, true_basement, '--w', linewidth=2, label='true surfaces')\n",
    "ax3.plot(yc, true_moho, '--w', linewidth=2)\n",
    "ax3.plot(yc, ini_basement, '-.b', linewidth=2, label='initial guess surfaces')\n",
    "ax3.plot(yc, ini_moho, '-.b', linewidth=2)\n",
    "ax3.plot(base_known[:,0], base_known[:,1], 'vc', markersize=9.5, label='known depths (basement)')\n",
    "ax3.plot(moho_known[:,0], moho_known[:,1], 'Dg', markersize=9.5, label='known depths (moho)')\n",
    "ax3.set_ylim((S0+p[n+n]), zmin)\n",
    "ax3.set_xlim(ymin, ymax)\n",
    "ax3.set_xlabel('y (km)', fontsize=16)\n",
    "ax3.set_ylabel('z (km)', fontsize=16)\n",
    "ax3.set_xticklabels(['%g'% (0.001*l) for l in ax3.get_xticks()], fontsize=14)\n",
    "ax3.set_yticklabels(['%g'% (0.001*l) for l in ax3.get_yticks()], fontsize=14)\n",
    "ax3.legend(loc='lower right', fontsize=13, facecolor='silver')    \n",
    "\n",
    "X, Y = fig.get_dpi()*fig.get_size_inches()\n",
    "plt.title('Density (kg/m$^{3}$)', fontsize=17)\n",
    "ax4.axis('off')\n",
    "\n",
    "layers_list1 = ['water', 'sediment', 'continental', 'oceanic', 'mantle']\n",
    "layers_list2 = ['', '', 'crust', 'crust', '']\n",
    "colors_list = ['aqua', 'tan', 'orange', 'orangered', 'plum']\n",
    "density_list = ['1030.0', '2550.0', '2670.0', '2840.0', '3200.0']\n",
    "ncols = len(colors_list)\n",
    "nrows = 1\n",
    "h = Y / nrows\n",
    "w = X / (ncols + 1)\n",
    "\n",
    "i=ncols-1\n",
    "for color, density, layers1, layers2 in zip(colors_list, density_list, layers_list1, layers_list2):\n",
    "    col = i // nrows\n",
    "    row = i % nrows\n",
    "    x = X - (col*w) - w\n",
    "    \n",
    "    yi_line = Y\n",
    "    yf_line = Y - Y*0.15\n",
    "    yi_text1 = Y - Y*0.2\n",
    "    yi_text2 = Y - Y*0.28\n",
    "    yi_text3 = Y - Y*0.075\n",
    "    \n",
    "    i-=1\n",
    "    poly = Polygon(np.array([[x, x+w*0.75, x+w*0.75, x], [yi_line, yi_line, yf_line, yf_line]]).T)\n",
    "    tmpx = [x for x in poly.x]\n",
    "    tmpx.append(poly.x[0])\n",
    "    tmpy = [y for y in poly.y]\n",
    "    tmpy.append(poly.y[0])\n",
    "    ax4.plot(tmpx, tmpy, linestyle='-', color='k', linewidth=1)\n",
    "    ax4.fill(tmpx, tmpy, color=color)\n",
    "    ax4.text(x+w*0.375, yi_text1, layers1, fontsize=(w*0.13), horizontalalignment='center', verticalalignment='top')\n",
    "    ax4.text(x+w*0.375, yi_text2, layers2, fontsize=(w*0.13), horizontalalignment='center', verticalalignment='top')\n",
    "    ax4.text(x+w*0.375, yi_text3, density, fontsize=(w*0.13), horizontalalignment='center', verticalalignment='center')\n",
    "\n",
    "plt.tight_layout()    \n",
    "    \n",
    "#mpl.savefig('../data/fig/simple-model-II-grafics-estimated-model-alphas_2_1_X_X.png', dpi='figure', bbox_inches='tight')\n",
    "plt.show()      "
   ]
  },
  {
   "cell_type": "code",
   "execution_count": null,
   "metadata": {
    "collapsed": true
   },
   "outputs": [],
   "source": []
  },
  {
   "cell_type": "raw",
   "metadata": {
    "collapsed": true
   },
   "source": [
    "np.savetxt('../data/simple-model-II-parameter-vector-alphas_-12(2)_8(1)_X_X.txt', p, fmt='%.18f')\n",
    "np.savetxt('../data/simple-model-II-predicted-gravity-data-alphas_-12(2)_8(1)_X_X.txt', g, fmt='%.18f')\n",
    "np.savetxt('../data/simple-model-II-gama-list-alphas_-12(2)_8(1)_X_X.txt', gama_list, fmt='%.18f')"
   ]
  },
  {
   "cell_type": "code",
   "execution_count": null,
   "metadata": {
    "collapsed": true
   },
   "outputs": [],
   "source": []
  },
  {
   "cell_type": "code",
   "execution_count": null,
   "metadata": {
    "collapsed": true
   },
   "outputs": [],
   "source": []
  },
  {
   "cell_type": "code",
   "execution_count": null,
   "metadata": {
    "collapsed": true
   },
   "outputs": [],
   "source": []
  },
  {
   "cell_type": "code",
   "execution_count": null,
   "metadata": {
    "collapsed": true
   },
   "outputs": [],
   "source": []
  },
  {
   "cell_type": "raw",
   "metadata": {},
   "source": [
    "%matplotlib inline\n",
    "plt.close('all')\n",
    "fig = plt.figure(figsize=(12,13))\n",
    "\n",
    "import matplotlib.gridspec as gridspec\n",
    "heights = [8, 8, 1]\n",
    "gs = gridspec.GridSpec(3, 1, height_ratios=heights)\n",
    "ax1 = plt.subplot(gs[0])\n",
    "ax2 = plt.subplot(gs[1])\n",
    "ax3 = plt.subplot(gs[2])\n",
    "\n",
    "ax1.axhline(y=0.0, xmin=ymin, xmax=ymax, color='k', linestyle='--', linewidth=1)\n",
    "ax1.plot(0.001*yc, gsyn, 'or', mfc='none', markersize=7, label='simulated data')\n",
    "ax1.plot(0.001*yc, g, '-g', label='predicted data')\n",
    "ax1.plot(0.001*yc, g0, '-b', label='initial guess data')\n",
    "ax1.set_xlim(0.001*ymin, 0.001*ymax)\n",
    "ax1.set_ylabel('gravity disturbance (mGal)', fontsize=16)\n",
    "ax1.set_xticklabels(['%g'% (l) for l in ax1.get_xticks()], fontsize=14)\n",
    "ax1.set_yticklabels(['%g'% (l) for l in ax1.get_yticks()], fontsize=14)\n",
    "ax1.legend(loc='best', fontsize=13, facecolor='silver')\n",
    "\n",
    "ax2.axhline(y=0.0, xmin=ymin, xmax=ymax, color='k', linestyle='-', linewidth=1)\n",
    "aux = yc <= COT\n",
    "for (pwi) in (polygons_water):\n",
    "    tmpx = [x for x in pwi.x]\n",
    "    tmpx.append(pwi.x[0])\n",
    "    tmpy = [y for y in pwi.y]\n",
    "    tmpy.append(pwi.y[0])\n",
    "    ax2.plot(tmpx, tmpy, linestyle='None')\n",
    "    ax2.fill(tmpx, tmpy, color='aqua')\n",
    "for (psi) in (polygons_sediments):\n",
    "    tmpx = [x for x in psi.x]\n",
    "    tmpx.append(psi.x[0])\n",
    "    tmpy = [y for y in psi.y]\n",
    "    tmpy.append(psi.y[0])\n",
    "    ax2.plot(tmpx, tmpy, linestyle='None')\n",
    "    ax2.fill(tmpx, tmpy, color='tan')\n",
    "for (pci) in (polygons_crust[:len(yc[aux])]):\n",
    "    tmpx = [x for x in pci.x]\n",
    "    tmpx.append(pci.x[0])\n",
    "    tmpy = [y for y in pci.y]\n",
    "    tmpy.append(pci.y[0])\n",
    "    ax2.plot(tmpx, tmpy, linestyle='None')\n",
    "    ax2.fill(tmpx, tmpy, color='orange')\n",
    "for (pcoi) in (polygons_crust[len(yc[aux]):n]):\n",
    "    tmpx = [x for x in pcoi.x]\n",
    "    tmpx.append(pcoi.x[0])\n",
    "    tmpy = [y for y in pcoi.y]\n",
    "    tmpy.append(pcoi.y[0])\n",
    "    ax2.plot(tmpx, tmpy, linestyle='None')\n",
    "    ax2.fill(tmpx, tmpy, color='orangered')\n",
    "for (pmi) in (polygons_mantle):\n",
    "    tmpx = [x for x in pmi.x]\n",
    "    tmpx.append(pmi.x[0])\n",
    "    tmpy = [y for y in pmi.y]\n",
    "    tmpy.append(pmi.y[0])\n",
    "    ax2.plot(tmpx, tmpy, linestyle='None')\n",
    "    ax2.fill(tmpx, tmpy, color='plum')\n",
    "\n",
    "ax2.axhline(y=S0, xmin=ymin, xmax=ymax, color='w', linestyle='--', linewidth=2)\n",
    "ax2.plot(yc, tw, '--w', linewidth=2)\n",
    "ax2.plot(yc, basement, '-k', linewidth=2, label='estimated surfaces')\n",
    "ax2.plot(yc, moho, '-k', linewidth=2)\n",
    "ax2.plot(yc, true_basement, '--w', linewidth=2, label='true surfaces')\n",
    "ax2.plot(yc, true_moho, '--w', linewidth=2)\n",
    "ax2.plot(yc, ini_basement, '-.b', linewidth=2, label='initial guess surfaces')\n",
    "ax2.plot(yc, ini_moho, '-.b', linewidth=2)\n",
    "ax2.plot(base_known[:,0], base_known[:,1], 'vc', markersize=9.5, label='known depths (basement)')\n",
    "ax2.plot(moho_known[:,0], moho_known[:,1], 'Dg', markersize=9.5, label='known depths (moho)')\n",
    "ax2.set_ylim((S0+p[n+n]), zmin)\n",
    "ax2.set_xlim(ymin, ymax)\n",
    "ax2.set_xlabel('y (km)', fontsize=16)\n",
    "ax2.set_ylabel('z (km)', fontsize=16)\n",
    "ax2.set_xticklabels(['%g'% (0.001*l) for l in ax2.get_xticks()], fontsize=14)\n",
    "ax2.set_yticklabels(['%g'% (0.001*l) for l in ax2.get_yticks()], fontsize=14)\n",
    "ax2.legend(loc='lower right', fontsize=13, facecolor='silver')    \n",
    "\n",
    "X, Y = fig.get_dpi()*fig.get_size_inches()\n",
    "plt.title('Density (kg/m$^{3}$)', fontsize=18)\n",
    "ax3.axis('off')\n",
    "\n",
    "layers_list1 = ['water', 'sediment', 'continental', 'oceanic', 'mantle']\n",
    "layers_list2 = ['', '', 'crust', 'crust', '']\n",
    "colors_list = ['aqua', 'tan', 'orange', 'orangered', 'plum']\n",
    "density_list = ['1030.0', '2550.0', '2670.0', '2840.0', '3200.0']\n",
    "ncols = len(colors_list)\n",
    "nrows = 1\n",
    "h = Y / nrows\n",
    "w = X / (ncols + 1)\n",
    "\n",
    "i=ncols-1\n",
    "for color, density, layers1, layers2 in zip(colors_list, density_list, layers_list1, layers_list2):\n",
    "    col = i // nrows\n",
    "    row = i % nrows\n",
    "    x = X - (col*w) - w\n",
    "    \n",
    "    yi_line = Y\n",
    "    yf_line = Y - Y*0.15\n",
    "    yi_text1 = Y - Y*0.2\n",
    "    yi_text2 = Y - Y*0.27\n",
    "    yi_text3 = Y - Y*0.075\n",
    "    \n",
    "    i-=1\n",
    "    poly = Polygon(np.array([[x, x+w*0.75, x+w*0.75, x], [yi_line, yi_line, yf_line, yf_line]]).T)\n",
    "    tmpx = [x for x in poly.x]\n",
    "    tmpx.append(poly.x[0])\n",
    "    tmpy = [y for y in poly.y]\n",
    "    tmpy.append(poly.y[0])\n",
    "    ax3.plot(tmpx, tmpy, linestyle='-', color='k', linewidth=1)\n",
    "    ax3.fill(tmpx, tmpy, color=color)\n",
    "    ax3.text(x+w*0.375, yi_text1, layers1, fontsize=(w*0.11), horizontalalignment='center', verticalalignment='top')\n",
    "    ax3.text(x+w*0.375, yi_text2, layers2, fontsize=(w*0.11), horizontalalignment='center', verticalalignment='top')\n",
    "    ax3.text(x+w*0.375, yi_text3, density, fontsize=(w*0.11), horizontalalignment='center', verticalalignment='center')\n",
    "\n",
    "plt.tight_layout()    \n",
    "    \n",
    "#mpl.savefig('../data/fig/simple-model-II-estimated-model_-12(2)_-8(1)_-6(2)_-6(2).png', dpi='figure', bbox_inches='tight')\n",
    "plt.show()"
   ]
  }
 ],
 "metadata": {
  "anaconda-cloud": {},
  "kernelspec": {
   "display_name": "Python 2",
   "language": "python",
   "name": "python2"
  },
  "language_info": {
   "codemirror_mode": {
    "name": "ipython",
    "version": 2
   },
   "file_extension": ".py",
   "mimetype": "text/x-python",
   "name": "python",
   "nbconvert_exporter": "python",
   "pygments_lexer": "ipython2",
   "version": "2.7.13"
  }
 },
 "nbformat": 4,
 "nbformat_minor": 1
}
