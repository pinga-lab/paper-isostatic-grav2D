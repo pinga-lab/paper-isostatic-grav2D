{
 "cells": [
  {
   "cell_type": "markdown",
   "metadata": {},
   "source": [
    "# Sensibility Matrix - G"
   ]
  },
  {
   "cell_type": "markdown",
   "metadata": {},
   "source": [
    "Este [IPython Notebook](http://ipython.org/videos.html#the-ipython-notebook) utiliza a biblioteca de código aberto [Fatiando a Terra](http://fatiando.org/)"
   ]
  },
  {
   "cell_type": "code",
   "execution_count": 1,
   "metadata": {},
   "outputs": [
    {
     "name": "stderr",
     "output_type": "stream",
     "text": [
      "/Users/macelabastos/anaconda2/lib/python2.7/site-packages/fatiando/vis/mpl.py:76: UserWarning: This module will be removed in v0.6. We recommend the use of matplotlib.pyplot module directly. Some of the fatiando specific functions will remain.\n",
      "  \"specific functions will remain.\")\n"
     ]
    }
   ],
   "source": [
    "#%matplotlib inline\n",
    "import numpy as np\n",
    "from scipy.misc import derivative\n",
    "import scipy as spy\n",
    "from scipy import interpolate\n",
    "import matplotlib\n",
    "matplotlib.use('TkAgg', force=True)\n",
    "import matplotlib.pyplot as plt\n",
    "import math\n",
    "import cPickle as pickle\n",
    "import datetime\n",
    "#from IPython.display import Image as img\n",
    "#from IPython.display import Markdown as md\n",
    "#from IPython.display import display as dp\n",
    "import string as st\n",
    "\n",
    "from scipy.misc import imread\n",
    "\n",
    "from __future__ import division\n",
    "\n",
    "from fatiando import gravmag, mesher, utils, gridder\n",
    "from fatiando.mesher import Prism, Polygon\n",
    "from fatiando.gravmag import prism\n",
    "from fatiando.utils import ang2vec, si2nt, contaminate\n",
    "from fatiando.gridder import regular\n",
    "from fatiando.vis import mpl\n",
    "\n",
    "from numpy.testing import assert_almost_equal\n",
    "from numpy.testing import assert_array_almost_equal\n",
    "from pytest import raises\n",
    "\n",
    "plt.rc('font', size=16)"
   ]
  },
  {
   "cell_type": "code",
   "execution_count": 2,
   "metadata": {
    "collapsed": true
   },
   "outputs": [],
   "source": [
    "import functions as fc"
   ]
  },
  {
   "cell_type": "code",
   "execution_count": 3,
   "metadata": {
    "collapsed": true
   },
   "outputs": [],
   "source": [
    "# Model`s limits\n",
    "ymin = 0.0\n",
    "ymax = 100000.0\n",
    "zmin = -1000.0\n",
    "zmax = 100000.0\n",
    "xmin = -100000.0\n",
    "xmax =  100000.0\n",
    "\n",
    "area = [ymin, ymax, zmax, zmin]"
   ]
  },
  {
   "cell_type": "code",
   "execution_count": 4,
   "metadata": {
    "collapsed": true
   },
   "outputs": [],
   "source": [
    "ny = 10 # number of observation datas and number of prisms along the profile\n",
    "# coordinates defining the horizontal boundaries of the\n",
    "# adjacent columns along the profile\n",
    "y = np.linspace(ymin, ymax, ny)"
   ]
  },
  {
   "cell_type": "code",
   "execution_count": 5,
   "metadata": {
    "collapsed": true
   },
   "outputs": [],
   "source": [
    "# coordinates of the center of the columns forming the\n",
    "# interpretation model\n",
    "n = ny - 1\n",
    "dy = (ymax - ymin)/n\n",
    "ycmin = ymin + 0.5*dy\n",
    "ycmax = ymax - 0.5*dy\n",
    "yc = np.reshape(np.linspace(ycmin, ycmax, n),(n,1))\n",
    "x = np.zeros_like(yc)\n",
    "z = np.zeros_like(yc)-150.0"
   ]
  },
  {
   "cell_type": "code",
   "execution_count": 6,
   "metadata": {
    "collapsed": true
   },
   "outputs": [],
   "source": [
    "## Edge extension (observation coordinates)\n",
    "sigma = 0.5\n",
    "edge = sigma*dy*n"
   ]
  },
  {
   "cell_type": "code",
   "execution_count": 7,
   "metadata": {
    "collapsed": true
   },
   "outputs": [],
   "source": [
    "# Model densities\n",
    "# Indices and polygons relationship:\n",
    "# cc = continental crust layer\n",
    "# oc = ocean crust layer\n",
    "# w = water layer\n",
    "# s = sediment layer\n",
    "# m = mantle layer\n",
    "dw = np.array([1030.0])\n",
    "ds0 = np.array([2400.0])\n",
    "ds1 = np.array([2800.0])\n",
    "dcc = np.array([2670.0])\n",
    "doc = np.array([2840.0])\n",
    "dm = np.array([3300.0])\n",
    "#dc = dcc\n",
    "# coordinate defining the horizontal boundaries of the continent-ocean boundary\n",
    "COT = 60000.0\n",
    "\n",
    "# list defining crust density variance\n",
    "dc = np.zeros_like(yc)\n",
    "aux = yc <= COT\n",
    "for i in range(len(yc[aux])):\n",
    "    dc[i] = dcc\n",
    "for i in range(len(yc[aux]),n):\n",
    "    dc[i] = doc\n",
    "# defining sediments layers density matrix\n",
    "ds = np.vstack((np.reshape(np.repeat(ds0,n),(1,n)),np.reshape(np.repeat(ds1,n),(1,n))))\n",
    "    \n",
    "# S0 => isostatic compensation surface (Airy's model)\n",
    "# SR = S0+dS0 => reference Moho (Forward modeling)\n",
    "S0 = np.array([40000.0])\n",
    "dS0 = np.array([8000.0])\n",
    "\n",
    "pjmin = np.array([-50.0]) \n",
    "pjmax = np.array([100000.0])\n",
    "dp = 1000."
   ]
  },
  {
   "cell_type": "code",
   "execution_count": 8,
   "metadata": {},
   "outputs": [
    {
     "name": "stdout",
     "output_type": "stream",
     "text": [
      "[ 2400.] (9, 1) (1,) (1,)\n"
     ]
    }
   ],
   "source": [
    "print ds[:1,0], dc.shape, dm.shape, dw.shape"
   ]
  },
  {
   "cell_type": "code",
   "execution_count": 9,
   "metadata": {
    "collapsed": true
   },
   "outputs": [],
   "source": [
    "A = 500.\n",
    "B = 3500.\n",
    "c = 0.00009\n",
    "D = 20000.\n",
    "bathymetry = fc.bathymetry_function(A,B,c,D,yc)\n",
    "tw = bathymetry - 0.0"
   ]
  },
  {
   "cell_type": "raw",
   "metadata": {
    "scrolled": true
   },
   "source": [
    "mpl.close('all')\n",
    "axes = mpl.figure().add_subplot(1,1,1)\n",
    "mpl.ylim(zmax, zmin)\n",
    "mpl.xlim(ymin, ymax)\n",
    "mpl.xlabel('y (m)')\n",
    "mpl.ylabel('z (m)')\n",
    "mpl.paths([[ymin, 0.0]], [[ymax, 0.0]], style='-k', linewidth=1)\n",
    "mpl.plot(yc, bathymetry, '-b', linewidth=1)\n",
    "mpl.plot(yc, sediments_limit, '--r', linewidth=1)\n",
    "\n",
    "draw = mpl.draw_polygon(area, axes, color='r')"
   ]
  },
  {
   "cell_type": "raw",
   "metadata": {},
   "source": [
    "draw"
   ]
  },
  {
   "cell_type": "code",
   "execution_count": 10,
   "metadata": {
    "collapsed": true
   },
   "outputs": [],
   "source": [
    "sediments0 = np.array([[  5342.74193548,  12463.70967742],\n",
    "       [ 12500.        ,  14439.51612903],\n",
    "       [ 19052.41935484,  10971.77419355],\n",
    "       [ 24697.58064516,  11697.58064516],\n",
    "       [ 31653.22580645,   9802.41935484],\n",
    "       [ 39415.32258065,  10770.16129032],\n",
    "       [ 46975.80645161,   8754.03225806],\n",
    "       [ 55745.96774194,   8754.03225806],\n",
    "       [ 60282.25806452,   7383.06451613],\n",
    "       [ 69052.41935484,   8834.67741935],\n",
    "       [ 74294.35483871,   7625.        ],\n",
    "       [ 86592.74193548,   8552.41935484],\n",
    "       [ 90020.16129032,   7383.06451613],\n",
    "       [ 93245.96774194,   7665.32258065],\n",
    "       [ 94254.03225806,   4076.61290323]])"
   ]
  },
  {
   "cell_type": "code",
   "execution_count": 11,
   "metadata": {
    "collapsed": true
   },
   "outputs": [],
   "source": [
    "# change the coordinates of the extremum points in order to\n",
    "# avoid problems for constructing the interpolator\n",
    "sediments0[0,0] = ymin\n",
    "sediments0[-1,0] = ymax\n",
    "\n",
    "sediments_interpolated0 = fc.surface_interpolate_function(sediments0,yc)\n",
    "\n",
    "ts0 = sediments_interpolated0 - tw"
   ]
  },
  {
   "cell_type": "raw",
   "metadata": {
    "scrolled": true
   },
   "source": [
    "mpl.close('all')\n",
    "axes = mpl.figure().add_subplot(1,1,1)\n",
    "mpl.ylim(zmax, zmin)\n",
    "mpl.xlim(ymin, ymax)\n",
    "mpl.xlabel('y (m)')\n",
    "mpl.ylabel('z (m)')\n",
    "mpl.paths([[ymin, 0.0]], [[ymax, 0.0]], style='-k', linewidth=1)\n",
    "mpl.plot(yc, bathymetry, '-b', linewidth=1)\n",
    "mpl.plot(yc, sediments_interpolated0, '--r', linewidth=1)\n",
    "\n",
    "draw = mpl.draw_polygon(area, axes, color='r')"
   ]
  },
  {
   "cell_type": "raw",
   "metadata": {},
   "source": [
    "draw"
   ]
  },
  {
   "cell_type": "code",
   "execution_count": 12,
   "metadata": {
    "collapsed": true
   },
   "outputs": [],
   "source": [
    "sediments1 = np.array([[  6250.        ,  19331.16883117],\n",
    "       [ 21774.19354839,  17418.29004329],\n",
    "       [ 38911.29032258,  16325.21645022],\n",
    "       [ 63306.4516129 ,  14685.60606061],\n",
    "       [ 92741.93548387,  13592.53246753]])"
   ]
  },
  {
   "cell_type": "code",
   "execution_count": 13,
   "metadata": {
    "collapsed": true
   },
   "outputs": [],
   "source": [
    "# change the coordinates of the extremum points in order to\n",
    "# avoid problems for constructing the interpolator\n",
    "sediments1[0,0] = ymin\n",
    "sediments1[-1,0] = ymax\n",
    "\n",
    "sediments_interpolated1 = fc.surface_interpolate_function(sediments1,yc)\n",
    "\n",
    "ts1 = sediments_interpolated1 - sediments_interpolated0"
   ]
  },
  {
   "cell_type": "code",
   "execution_count": 14,
   "metadata": {
    "collapsed": true
   },
   "outputs": [],
   "source": [
    "ts = np.vstack((np.reshape(ts0,(1,n)),np.reshape(ts1,(1,n))))"
   ]
  },
  {
   "cell_type": "code",
   "execution_count": 15,
   "metadata": {},
   "outputs": [],
   "source": [
    "S = fc.moho_function(S0,dw,ds,dcc,dm,dc,tw,ts)\n",
    "\n",
    "tm = S0 - S\n",
    "\n",
    "toc = S - tw - ts0 - ts1 #thickness of the oceanic crust along the profile"
   ]
  },
  {
   "cell_type": "code",
   "execution_count": 16,
   "metadata": {},
   "outputs": [
    {
     "name": "stdout",
     "output_type": "stream",
     "text": [
      "(2, 9) (9, 1) (1,) (1,)\n"
     ]
    }
   ],
   "source": [
    "print ts.shape, tm.shape, S0.shape, dS0.shape"
   ]
  },
  {
   "cell_type": "code",
   "execution_count": 17,
   "metadata": {
    "collapsed": true
   },
   "outputs": [],
   "source": [
    "ptrue = []\n",
    "ptrue = np.vstack((ts1, tm, dS0))"
   ]
  },
  {
   "cell_type": "code",
   "execution_count": 18,
   "metadata": {
    "collapsed": true
   },
   "outputs": [],
   "source": [
    "prism_w_true = fc.prism_w_function(xmax,xmin,dy,edge,dw,dcc,tw,yc)\n",
    "prism_s_true = fc.prism_s_function(xmax,xmin,dy,edge,ds,dcc,tw,ptrue,yc,ts0,two_layers=True)\n",
    "prism_c_true = fc.prism_c_function(xmax,xmin,dy,edge,S0,dcc,dc,tw,ptrue,yc,ts0,two_layers=True)\n",
    "prism_m_true = fc.prism_m_function(xmax,xmin,dy,edge,S0,dcc,dm,ptrue,yc)"
   ]
  },
  {
   "cell_type": "code",
   "execution_count": 19,
   "metadata": {
    "collapsed": true
   },
   "outputs": [],
   "source": [
    "gzw_true = prism.gz(np.reshape(x,(n,)),np.reshape(yc,(n,)),np.reshape(z,(n,)),prism_w_true)\n",
    "gzs0_true = prism.gz(np.reshape(x,(n,)),np.reshape(yc,(n,)),np.reshape(z,(n,)),prism_s_true[1])\n",
    "gzs1_true = prism.gz(np.reshape(x,(n,)),np.reshape(yc,(n,)),np.reshape(z,(n,)),prism_s_true[2])\n",
    "gzc_true = prism.gz(np.reshape(x,(n,)),np.reshape(yc,(n,)),np.reshape(z,(n,)),prism_c_true)\n",
    "gzm_true = prism.gz(np.reshape(x,(n,)),np.reshape(yc,(n,)),np.reshape(z,(n,)),prism_m_true)\n",
    "\n",
    "#Calculo do vetor de dados observados:\n",
    "gobs = fc.g_function(np.reshape(x,(n,)),np.reshape(yc,(n,)),np.reshape(z,(n,)),gzw_true,prism_s_true,prism_c_true,prism_m_true)"
   ]
  },
  {
   "cell_type": "markdown",
   "metadata": {},
   "source": [
    "## Calcula matriz de sensibilidade com plot da variacao do parametro"
   ]
  },
  {
   "cell_type": "code",
   "execution_count": 32,
   "metadata": {
    "collapsed": true
   },
   "outputs": [],
   "source": [
    "G1 = fc.G_matrix_function(xmax,xmin,dy,edge,1000.,1000.,S0,dw,ds,dm,dcc,dc,tw,ptrue,yc,ts0,two_layers=True)"
   ]
  },
  {
   "cell_type": "code",
   "execution_count": 31,
   "metadata": {},
   "outputs": [
    {
     "data": {
      "image/png": "[encoded data removed]",
      "text/plain": [
       "<matplotlib.figure.Figure at 0x180fd0df90>"
      ]
     },
     "metadata": {},
     "output_type": "display_data"
    }
   ],
   "source": [
    "%matplotlib inline\n",
    "G2 = fc.G_matrix_function_all(xmax,xmin,dy,edge,1000.,1000.,S0,dw,ds,dm,dcc,dc,tw,ptrue,yc,area,17,ts0,two_layers=True)"
   ]
  },
  {
   "cell_type": "markdown",
   "metadata": {},
   "source": [
    "## Compara dois metodos de calculo da matriz sensibilidade"
   ]
  },
  {
   "cell_type": "code",
   "execution_count": 33,
   "metadata": {},
   "outputs": [],
   "source": [
    "assert_array_almost_equal(G1, G2, decimal=3)"
   ]
  },
  {
   "cell_type": "markdown",
   "metadata": {},
   "source": [
    "### Teste Mediana"
   ]
  },
  {
   "cell_type": "raw",
   "metadata": {},
   "source": [
    "mediap = np.median(ptrue)\n",
    "dp_tst = ((np.random.random_sample(len(ptrue)))*mediap)/100\n",
    "print mediap\n",
    "h=[]\n",
    "for i in range(10):\n",
    "    h.append(0.5**i)\n",
    "print h"
   ]
  },
  {
   "cell_type": "raw",
   "metadata": {
    "collapsed": true
   },
   "source": [
    "def test_grad(xmax,xmin,dy,edge,ds,doc,dc,tw,yc,dp_tst,h,p0,G):\n",
    "    \n",
    "    \n",
    "\n",
    "    x = np.zeros_like(yc)\n",
    "    z = np.zeros_like(yc)-150.0\n",
    "    n = len(yc)\n",
    "    gp = np.zeros_like(yc)\n",
    "    err = np.zeros((len(h)))\n",
    "    \n",
    "    prism_w = fc.prism_w_function(xmax, xmin, dy, edge, dw, doc, tw, yc)\n",
    "    gzw = prism.gz(x, yc, z, prism_w)\n",
    "    \n",
    "    prism_s0 = fc.prism_s_function(xmax, xmin, dy, edge, ds, doc, tw, p0, yc)\n",
    "    prism_c0 = fc.prism_c_function(xmax, xmin, dy, edge, doc, dc, tw, p0, yc)\n",
    "    prism_m0 = fc.prism_m_function(xmax, xmin, dy, edge, doc, dm, p0, yc)\n",
    "    gp0 = fc.g_function(x, yc, z, gzw, prism_s0, prism_c0, prism_m0)\n",
    "    \n",
    "    for i in range(len(h)):\n",
    "        \n",
    "        p =  p0  + h[i]*dp_tst\n",
    "        prism_s = fc.prism_s_function(xmax, xmin, dy, edge, ds, doc, tw, p, yc)\n",
    "        prism_c = fc.prism_c_function(xmax, xmin, dy, edge, doc, dc, tw, p, yc)\n",
    "        prism_m = fc.prism_m_function(xmax, xmin, dy, edge, doc, dm, p, yc)\n",
    "        gp = fc.g_function(x, yc, z, gzw, prism_s, prism_c, prism_m)\n",
    "    \n",
    "        graddp = gp0 + h[i]*((G.dot(dp_tst)))\n",
    "        res = gp - graddp\n",
    "                             \n",
    "        err[i] = res.T.dot(res)\n",
    "        \n",
    "    return err"
   ]
  },
  {
   "cell_type": "raw",
   "metadata": {},
   "source": [
    "err1 = test_grad(xmax,xmin,dy,edge,ds,doc,dc,tw,yc,dp_tst,h,ptrue,G1)\n",
    "err2 = test_grad(xmax,xmin,dy,edge,ds,doc,dc,tw,yc,dp_tst,h,ptrue,G2)"
   ]
  },
  {
   "cell_type": "raw",
   "metadata": {},
   "source": [
    "logh = np.log2(h)\n",
    "loge1 = np.log2(err1)\n",
    "loge2 = np.log2(err2)\n",
    "\n",
    "tg1 = (loge1[8]-loge1[2])/(logh[8]-logh[2])\n",
    "tg2 = (loge2[8]-loge2[2])/(logh[8]-logh[2])\n",
    "print tg1\n",
    "print tg2"
   ]
  },
  {
   "cell_type": "raw",
   "metadata": {},
   "source": [
    "mpl.close('all')\n",
    "mpl.figure(figsize=(15,10))\n",
    "\n",
    "mpl.loglog(h,err1,color='red',basex=2,basey=2)\n",
    "mpl.loglog(h,err2,basex=2,basey=2)\n"
   ]
  },
  {
   "cell_type": "raw",
   "metadata": {
    "collapsed": true
   },
   "source": [
    "polygons_water = []\n",
    "for (yi, twi) in zip(yc, bathymetry):\n",
    "    y1 = yi - 0.5*dy\n",
    "    y2 = yi + 0.5*dy\n",
    "\n",
    "    polygons_water.append(Polygon(np.array([[y1, y2, y2, y1], \n",
    "                                            [0.0, 0.0, twi, twi]]).T,\n",
    "                                               props={'density': dw - doc}))\n",
    "polygons_sediments = []\n",
    "for (yi, twi, si) in zip(yc, bathymetry, sediments_interpolated):\n",
    "    y1 = yi - 0.5*dy\n",
    "    y2 = yi + 0.5*dy\n",
    "\n",
    "    polygons_sediments.append(Polygon(np.array([[y1, y2, y2, y1], \n",
    "                                                [twi, twi, si, si]]).T,\n",
    "                                                props={'density': ds - doc}))\n",
    "polygons_crust = []\n",
    "for (yi, si, Si, dci) in zip(yc, sediments_interpolated, S, dc):\n",
    "    y1 = yi - 0.5*dy\n",
    "    y2 = yi + 0.5*dy\n",
    "\n",
    "    polygons_crust.append(Polygon(np.array([[y1, y2, y2, y1], \n",
    "                                            [si, si, Si, Si]]).T,\n",
    "                                            props={'density': dci - doc})) \n",
    "polygons_mantle = []\n",
    "for (yi, Si) in zip(yc, S):\n",
    "    y1 = yi - 0.5*dy\n",
    "    y2 = yi + 0.5*dy\n",
    "\n",
    "    polygons_mantle.append(Polygon(np.array([[y1, y2, y2, y1], \n",
    "                                                [Si, Si, S0+2.*dS0, S0+2.*dS0]]).T,\n",
    "                                                props={'density': dm - doc}))"
   ]
  },
  {
   "cell_type": "raw",
   "metadata": {
    "scrolled": false
   },
   "source": [
    "%matplotlib inline\n",
    "mpl.close('all')\n",
    "mpl.figure(figsize=(16,10))\n",
    "mpl.subplot(2,1,1)\n",
    "\n",
    "\n",
    "mpl.title('Sedimentary basin', fontsize=18)\n",
    "\n",
    "\n",
    "\n",
    "dmax = np.max(levels.levels)\n",
    "dmin = np.min(levels.levels)\n",
    "\n",
    "cc = ((dmax - dc)/(dmax - dmin))\n",
    "cw = []\n",
    "cs = []\n",
    "cm = []\n",
    "for i in range(ny):\n",
    "    cw.append((dmax - dw)/(dmax - dmin))\n",
    "    cs.append((dmax - ds)/(dmax - dmin))\n",
    "    cm.append((dmax - dm)/(dmax - dmin))\n",
    "\n",
    "mpl.paths([[ymin, 0.0]], [[ymax, 0.0]], style='-k', linewidth=1)\n",
    "for (pwi, cwi) in zip(polygons_water, cw):\n",
    "    mpl.polygon(pwi, style='-k', linewidth=0, fill=(cwi, cwi, cwi))\n",
    "for (psi, csi) in zip(polygons_sediments, cs):\n",
    "    mpl.polygon(psi, style='-k', linewidth=0, fill=(csi, csi, csi))\n",
    "for (pmi, cmi) in zip(polygons_mantle, cm):\n",
    "    mpl.polygon(pmi, style='-k', linewidth=0, fill=(cmi, cmi, cmi))\n",
    "for (pci, cci) in zip(polygons_crust, cc):\n",
    "    mpl.polygon(pci, style='-k', linewidth=0, fill=(cci, cci, cci))\n",
    "\n",
    "\n",
    "mpl.paths([[ymin, S0]], [[ymax, S0]], style='--y', linewidth=1, label='isostatic compensation surface')\n",
    "mpl.paths([[ymin, S0+dS0]], [[ymax, S0+dS0]], style='--r', linewidth=1, label='reference Moho')\n",
    "mpl.plot(yc, bathymetry, '--r', linewidth=1, label='bathymetry surface')\n",
    "mpl.plot(yc, sediments_interpolated, '--b', linewidth=1, label='basement surface')\n",
    "mpl.plot(yc, S, '--g', linewidth=1, label='moho surface')\n",
    "mpl.ylim(S0+2.*dS0, zmin)\n",
    "mpl.xlim(ymin, ymax)\n",
    "mpl.xlabel('y (km)', fontsize=16)\n",
    "mpl.ylabel('z (km)', fontsize=16)\n",
    "mpl.xticks(fontsize=14)\n",
    "mpl.yticks(fontsize=14)\n",
    "mpl.m2km()\n",
    "#mpl.tight_layout()\n",
    "mpl.legend(loc='lower right', fontsize='medium')\n",
    "#mpl.savefig('model-airy-synthetic_201_38000x4200.png', dpi=600)\n",
    "\n",
    "\n",
    "mpl.subplot(2,1,2)\n",
    "\n",
    "colors = np.hstack((dw, ds, dm, dc))\n",
    "\n",
    "levels = plt.contourf(np.reshape(colors, (colors.size, 1)), 20, \n",
    "                      cmap=mpl.get_cmap('Greys'))\n",
    "cb = mpl.colorbar(orientation='horizontal', format='%.0f', pad=0.2)\n",
    "cb.set_label('Density (kg/m$^{3}$)', fontsize=16)\n",
    "\n",
    "\n",
    "\n",
    "\n",
    "mpl.title('Synthetic gravity disturbance', fontsize=18)\n",
    "mpl.paths([[ymin, 0.]], [[ymax, 0.]], style='--k', linewidth=1)\n",
    "mpl.plot(0.001*yc, gobs, label='synthetic data')\n",
    "mpl.ylim(-50.,50.)\n",
    "mpl.xlim(0.001*ymin, 0.001*ymax)\n",
    "mpl.xlabel('y (km)', fontsize=16)\n",
    "mpl.ylabel('gravity disturbance (mGal)', fontsize=16)\n",
    "mpl.xticks(fontsize=14)\n",
    "mpl.yticks(fontsize=14)\n",
    "mpl.tight_layout()\n",
    "mpl.legend(loc='best')\n",
    "\n",
    "\n",
    "\n",
    "\n",
    "mpl.show()"
   ]
  },
  {
   "cell_type": "code",
   "execution_count": null,
   "metadata": {
    "collapsed": true
   },
   "outputs": [],
   "source": []
  }
 ],
 "metadata": {
  "anaconda-cloud": {},
  "kernelspec": {
   "display_name": "Python 2",
   "language": "python",
   "name": "python2"
  },
  "language_info": {
   "codemirror_mode": {
    "name": "ipython",
    "version": 2
   },
   "file_extension": ".py",
   "mimetype": "text/x-python",
   "name": "python",
   "nbconvert_exporter": "python",
   "pygments_lexer": "ipython2",
   "version": "2.7.13"
  }
 },
 "nbformat": 4,
 "nbformat_minor": 2
}
