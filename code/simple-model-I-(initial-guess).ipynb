{
 "cells": [
  {
   "cell_type": "markdown",
   "metadata": {},
   "source": [
    "# 2D Isostatic gravity inversion - Initial Guess Model"
   ]
  },
  {
   "cell_type": "markdown",
   "metadata": {},
   "source": [
    "Este [IPython Notebook](http://ipython.org/videos.html#the-ipython-notebook) utiliza a biblioteca de código aberto [Fatiando a Terra](http://fatiando.org/)"
   ]
  },
  {
   "cell_type": "raw",
   "metadata": {},
   "source": [
    "Initial Guess model of simple model I."
   ]
  },
  {
   "cell_type": "code",
   "execution_count": 1,
   "metadata": {},
   "outputs": [
    {
     "name": "stderr",
     "output_type": "stream",
     "text": [
      "/Users/macelabastos/anaconda2/lib/python2.7/site-packages/fatiando/vis/mpl.py:76: UserWarning: This module will be removed in v0.6. We recommend the use of matplotlib.pyplot module directly. Some of the fatiando specific functions will remain.\n",
      "  \"specific functions will remain.\")\n"
     ]
    }
   ],
   "source": [
    "#%matplotlib inline\n",
    "import numpy as np\n",
    "from scipy.misc import derivative\n",
    "import scipy as spy\n",
    "from scipy import interpolate\n",
    "import matplotlib\n",
    "matplotlib.use('TkAgg', force=True)\n",
    "import matplotlib.pyplot as plt\n",
    "import math\n",
    "import cPickle as pickle\n",
    "import datetime\n",
    "\n",
    "import string as st\n",
    "\n",
    "from scipy.misc import imread\n",
    "\n",
    "from __future__ import division\n",
    "\n",
    "from fatiando import gravmag, mesher, utils, gridder\n",
    "from fatiando.mesher import Prism, Polygon\n",
    "from fatiando.gravmag import prism\n",
    "from fatiando.utils import ang2vec, si2nt, contaminate\n",
    "from fatiando.gridder import regular\n",
    "from fatiando.vis import mpl\n",
    "\n",
    "from numpy.testing import assert_almost_equal\n",
    "from numpy.testing import assert_array_almost_equal\n",
    "from pytest import raises\n",
    "\n",
    "plt.rc('font', size=16)"
   ]
  },
  {
   "cell_type": "code",
   "execution_count": 2,
   "metadata": {
    "collapsed": true
   },
   "outputs": [],
   "source": [
    "import functions as fc"
   ]
  },
  {
   "cell_type": "markdown",
   "metadata": {},
   "source": [
    "## Observation coordinates."
   ]
  },
  {
   "cell_type": "code",
   "execution_count": 3,
   "metadata": {
    "collapsed": true
   },
   "outputs": [],
   "source": [
    "# Model`s limits\n",
    "ymin = 0.0\n",
    "ymax = 195000.0\n",
    "zmin = -1000.0\n",
    "zmax = 37400.0\n",
    "xmin = -100000.0\n",
    "xmax = 100000.0\n",
    "\n",
    "area = [ymin, ymax, zmax, zmin]"
   ]
  },
  {
   "cell_type": "code",
   "execution_count": 4,
   "metadata": {
    "collapsed": true
   },
   "outputs": [],
   "source": [
    "ny = 150 # number of observation datas and number of prisms along the profile\n",
    "# coordinates defining the horizontal boundaries of the\n",
    "# adjacent columns along the profile\n",
    "y = np.linspace(ymin, ymax, ny)"
   ]
  },
  {
   "cell_type": "code",
   "execution_count": 5,
   "metadata": {
    "collapsed": true
   },
   "outputs": [],
   "source": [
    "# coordinates of the center of the columns forming the\n",
    "# interpretation model\n",
    "n = ny - 1\n",
    "dy = (ymax - ymin)/n\n",
    "ycmin = ymin + 0.5*dy\n",
    "ycmax = ymax - 0.5*dy\n",
    "yc = np.reshape(np.linspace(ycmin, ycmax, n),(n,1))\n",
    "x = np.zeros_like(yc)\n",
    "z = np.zeros_like(yc)-150.0"
   ]
  },
  {
   "cell_type": "code",
   "execution_count": 6,
   "metadata": {
    "collapsed": true
   },
   "outputs": [],
   "source": [
    "## Edge extension (observation coordinates)\n",
    "sigma = 2.0\n",
    "edge = sigma*dy*n"
   ]
  },
  {
   "cell_type": "markdown",
   "metadata": {},
   "source": [
    "## Model parameters"
   ]
  },
  {
   "cell_type": "code",
   "execution_count": 7,
   "metadata": {
    "collapsed": true
   },
   "outputs": [],
   "source": [
    "# Model densities\n",
    "# Indices and polygons relationship:\n",
    "# cc = continental crust layer\n",
    "# oc = ocean crust layer\n",
    "# w = water layer\n",
    "# s = sediment layer\n",
    "# m = mantle layer\n",
    "dw = np.array([1030.0])\n",
    "ds = np.array([2550.0])\n",
    "dcc = np.array([2670.0])\n",
    "doc = np.array([2840.0])\n",
    "dm = np.array([3200.0])\n",
    "#dc = dcc\n",
    "# coordinate defining the horizontal boundaries of the continent-ocean boundary\n",
    "COT = 117000.0\n",
    "\n",
    "# list defining crust density variance\n",
    "dc = np.zeros_like(yc)\n",
    "aux = yc <= COT\n",
    "for i in range(len(yc[aux])):\n",
    "    dc[i] = dcc\n",
    "for i in range(len(yc[aux]),n):\n",
    "    dc[i] = doc\n",
    "# defining sediments layers density vector\n",
    "ds = np.reshape(np.repeat(ds,n),(n,1))\n",
    "    \n",
    "# S0 => isostatic compensation surface (Airy's model)\n",
    "# SR = S0+dS0 => reference Moho (Forward modeling)\n",
    "S0 = np.array([26500.0])\n",
    "dS0 = np.array([5000.0])\n"
   ]
  },
  {
   "cell_type": "markdown",
   "metadata": {},
   "source": [
    "## Synthetic data"
   ]
  },
  {
   "cell_type": "code",
   "execution_count": 8,
   "metadata": {
    "collapsed": true
   },
   "outputs": [],
   "source": [
    "gsyn = np.loadtxt('../data/simple-model-I-synthetic-gravity-data.txt')"
   ]
  },
  {
   "cell_type": "markdown",
   "metadata": {},
   "source": [
    "## Water bottom"
   ]
  },
  {
   "cell_type": "code",
   "execution_count": 9,
   "metadata": {
    "collapsed": true
   },
   "outputs": [],
   "source": [
    "tw = np.reshape(np.loadtxt('../data/simple-model-I-bathymetry.txt'),(n,1))"
   ]
  },
  {
   "cell_type": "markdown",
   "metadata": {},
   "source": [
    "## True surfaces"
   ]
  },
  {
   "cell_type": "code",
   "execution_count": 10,
   "metadata": {
    "collapsed": true
   },
   "outputs": [],
   "source": [
    "true_basement = np.reshape(np.loadtxt('../data/simple-model-I-true-basement-surface.txt'),(n,1))\n",
    "\n",
    "true_moho = np.reshape(np.loadtxt('../data/simple-model-I-true-moho-surface.txt'),(n,1))\n",
    "\n",
    "# True reference moho surface (SR = S0+dS0)\n",
    "true_S0 = np.array([26500.0])\n",
    "true_dS0 = np.array([500.0])"
   ]
  },
  {
   "cell_type": "markdown",
   "metadata": {},
   "source": [
    "## Known depths"
   ]
  },
  {
   "cell_type": "code",
   "execution_count": 11,
   "metadata": {
    "collapsed": true
   },
   "outputs": [],
   "source": [
    "# Known values: basement and moho surfaces\n",
    "\n",
    "base_known = np.loadtxt('../data/simple-model-I-base-known-depths.txt')\n",
    "\n",
    "moho_known = np.loadtxt('../data/simple-model-I-moho-known-depths.txt')"
   ]
  },
  {
   "cell_type": "markdown",
   "metadata": {},
   "source": [
    "# Initial guess surfaces"
   ]
  },
  {
   "cell_type": "markdown",
   "metadata": {},
   "source": [
    "### Basement surface"
   ]
  },
  {
   "cell_type": "raw",
   "metadata": {
    "collapsed": true
   },
   "source": [
    "mpl.close('all')\n",
    "\n",
    "mpl.subplot(2,1,1)\n",
    "mpl.title('Synthetic gravity disturbance', fontsize=14)\n",
    "mpl.paths([[ymin, 0.]], [[ymax, 0.]], style='--k', linewidth=1)\n",
    "mpl.plot(0.001*yc, gobs, label='obs')\n",
    "#mpl.ylim(-70.,5.)\n",
    "mpl.xlim(0.001*ymin, 0.001*ymax)\n",
    "mpl.ylabel('gravity disturbance (mGal)', fontsize=16)\n",
    "mpl.xticks(fontsize=12)\n",
    "mpl.yticks(fontsize=12)\n",
    "mpl.legend(loc='best')\n",
    "\n",
    "axes = mpl.subplot(2,1,2)\n",
    "mpl.ylim(zmax, zmin)\n",
    "mpl.xlim(ymin, ymax)\n",
    "mpl.xticks(fontsize=12)\n",
    "mpl.yticks(fontsize=12)\n",
    "mpl.xlabel('y (m)')\n",
    "mpl.ylabel('z (m)')\n",
    "mpl.paths([[ymin, 0.0]], [[ymax, 0.0]], style='-k', linewidth=1)\n",
    "mpl.plot(yc, tw, '-b', linewidth=1)\n",
    "mpl.plot(yc, true_basement, '-b', linewidth=1)\n",
    "mpl.plot(base_known[:,0], base_known[:,1], '*g', linewidth=1)\n",
    "mpl.plot(moho_known[:,0], moho_known[:,1], '*b', linewidth=1)\n",
    "mpl.m2km()\n",
    "\n",
    "sed_picks = mpl.draw_polygon(area, axes, color='r')"
   ]
  },
  {
   "cell_type": "raw",
   "metadata": {},
   "source": [
    "sed_picks"
   ]
  },
  {
   "cell_type": "code",
   "execution_count": 12,
   "metadata": {
    "collapsed": true
   },
   "outputs": [],
   "source": [
    "sed_picks = np.array([[    393.14516129,    6456.53905054],\n",
    "       [  22212.7016129 ,    6792.57055349],\n",
    "       [  32434.47580645,   10992.96434041],\n",
    "       [ 194213.70967742,   10992.96434041]])"
   ]
  },
  {
   "cell_type": "code",
   "execution_count": 13,
   "metadata": {
    "collapsed": true
   },
   "outputs": [],
   "source": [
    "# change the coordinates of the extremum points in order to\n",
    "# avoid problems for constructing the interpolator\n",
    "sed_picks[0,0] = ymin\n",
    "sed_picks[-1,0] = ymax"
   ]
  },
  {
   "cell_type": "code",
   "execution_count": 14,
   "metadata": {
    "collapsed": true
   },
   "outputs": [],
   "source": [
    "basement = fc.surface_interpolate_function(sed_picks,yc)\n",
    "for i in range(len(basement)):\n",
    "    if basement[i] < tw[i]:\n",
    "        basement[i] = tw[i]"
   ]
  },
  {
   "cell_type": "code",
   "execution_count": 15,
   "metadata": {
    "collapsed": true
   },
   "outputs": [],
   "source": [
    "# layer sediments thickness\n",
    "ts = basement - tw"
   ]
  },
  {
   "cell_type": "raw",
   "metadata": {
    "collapsed": true
   },
   "source": [
    "np.savetxt('../data/simple-model-I-initial-basement-surface.txt', basement, fmt='%.18f')"
   ]
  },
  {
   "cell_type": "markdown",
   "metadata": {},
   "source": [
    "### Moho surface"
   ]
  },
  {
   "cell_type": "raw",
   "metadata": {
    "collapsed": true
   },
   "source": [
    "mpl.close('all')\n",
    "\n",
    "mpl.subplot(2,1,1)\n",
    "mpl.title('Synthetic gravity disturbance', fontsize=14)\n",
    "mpl.paths([[ymin, 0.]], [[ymax, 0.]], style='--k', linewidth=1)\n",
    "mpl.plot(0.001*yc, gobs, label='obs')\n",
    "mpl.xlim(0.001*ymin, 0.001*ymax)\n",
    "mpl.ylabel('gravity disturbance (mGal)', fontsize=16)\n",
    "mpl.xticks(fontsize=12)\n",
    "mpl.yticks(fontsize=12)\n",
    "mpl.legend(loc='best')\n",
    "\n",
    "axes = mpl.subplot(2,1,2)\n",
    "mpl.ylim(zmax, zmin)\n",
    "mpl.xlim(ymin, ymax)\n",
    "mpl.xticks(fontsize=12)\n",
    "mpl.yticks(fontsize=12)\n",
    "mpl.xlabel('y (m)')\n",
    "mpl.ylabel('z (m)')\n",
    "mpl.paths([[ymin, 0.0]], [[ymax, 0.0]], style='-k', linewidth=1)\n",
    "mpl.plot(yc, tw, '-b', linewidth=1)\n",
    "mpl.plot(yc, basement, '-b', linewidth=1)\n",
    "mpl.plot(yc, true_basement, '--r', linewidth=1)\n",
    "mpl.plot(yc, true_moho, '--r', linewidth=1)\n",
    "mpl.plot(base_known[:,0], base_known[:,1], '*g', linewidth=1)\n",
    "mpl.plot(moho_known[:,0], moho_known[:,1], '*b', linewidth=1)\n",
    "mpl.m2km()\n",
    "\n",
    "moho_picks = mpl.draw_polygon(area, axes, color='r')"
   ]
  },
  {
   "cell_type": "raw",
   "metadata": {},
   "source": [
    "moho_picks"
   ]
  },
  {
   "cell_type": "code",
   "execution_count": 16,
   "metadata": {
    "collapsed": true
   },
   "outputs": [],
   "source": [
    "moho_picks = np.array([[   1572.58064516,   25440.        ],\n",
    "       [  36562.5       ,   24068.57142857],\n",
    "       [  51108.87096774,   22268.57142857],\n",
    "       [ 193034.27419355,   21125.71428571]])"
   ]
  },
  {
   "cell_type": "code",
   "execution_count": 17,
   "metadata": {
    "collapsed": true
   },
   "outputs": [],
   "source": [
    "# change the coordinates of the extremum points in order to\n",
    "# avoid problems for constructing the interpolator\n",
    "moho_picks[0,0] = ymin\n",
    "moho_picks[-1,0] = ymax"
   ]
  },
  {
   "cell_type": "code",
   "execution_count": 18,
   "metadata": {
    "collapsed": true
   },
   "outputs": [],
   "source": [
    "moho = fc.surface_interpolate_function(moho_picks,yc)\n",
    "for i in range(len(moho)):\n",
    "    if moho[i] < basement[i]:\n",
    "        moho[i] = basement[i]"
   ]
  },
  {
   "cell_type": "code",
   "execution_count": 19,
   "metadata": {
    "collapsed": true
   },
   "outputs": [],
   "source": [
    "# layer mantle thickness\n",
    "tm = S0 - moho\n",
    "\n",
    "# layer crust thickness\n",
    "toc = moho - tw - ts"
   ]
  },
  {
   "cell_type": "raw",
   "metadata": {
    "collapsed": true
   },
   "source": [
    "np.savetxt('../data/simple-model-I-initial-moho-surface.txt', moho, fmt='%.18f')"
   ]
  },
  {
   "cell_type": "markdown",
   "metadata": {},
   "source": [
    "## Initial guess data"
   ]
  },
  {
   "cell_type": "code",
   "execution_count": 20,
   "metadata": {
    "collapsed": true
   },
   "outputs": [],
   "source": [
    "# initial guess parameters vector\n",
    "p0= []\n",
    "p0 = np.vstack((ts, tm, dS0))"
   ]
  },
  {
   "cell_type": "code",
   "execution_count": 21,
   "metadata": {
    "collapsed": true
   },
   "outputs": [],
   "source": [
    "# prisms calculation by Fatiando a Terra\n",
    "prism_w = fc.prism_w_function(xmax,xmin,dy,edge,dw,dcc,tw,yc)\n",
    "prism_s = fc.prism_s_function(xmax,xmin,dy,edge,ds,dcc,tw,p0,yc)\n",
    "prism_c = fc.prism_c_function(xmax,xmin,dy,edge,S0,dcc,dc,tw,p0,yc)\n",
    "prism_m = fc.prism_m_function(xmax,xmin,dy,edge,S0,dcc,dm,p0,yc)"
   ]
  },
  {
   "cell_type": "code",
   "execution_count": 22,
   "metadata": {
    "collapsed": true
   },
   "outputs": [],
   "source": [
    "# z component of gravity calculation by Fatiando a Terra\n",
    "gzw = prism.gz(np.reshape(x,(n,)),np.reshape(yc,(n,)),np.reshape(z,(n,)),prism_w)\n",
    "gzs = prism.gz(np.reshape(x,(n,)),np.reshape(yc,(n,)),np.reshape(z,(n,)),prism_s[0])\n",
    "gzc = prism.gz(np.reshape(x,(n,)),np.reshape(yc,(n,)),np.reshape(z,(n,)),prism_c)\n",
    "gzm = prism.gz(np.reshape(x,(n,)),np.reshape(yc,(n,)),np.reshape(z,(n,)),prism_m)\n",
    "\n",
    "#Observed data calculation:\n",
    "#g0 = fc.g_function(x,yc,z,gzw,prism_s,prism_c,prism_m)\n",
    "g0 = gzw + gzs + gzc + gzm"
   ]
  },
  {
   "cell_type": "raw",
   "metadata": {
    "collapsed": true
   },
   "source": [
    "np.savetxt('../data/simple-model-I-initial-guess-gravity-data.txt', g0, fmt='%.18f')"
   ]
  },
  {
   "cell_type": "markdown",
   "metadata": {},
   "source": [
    "## Model plot"
   ]
  },
  {
   "cell_type": "code",
   "execution_count": 23,
   "metadata": {
    "collapsed": true
   },
   "outputs": [],
   "source": [
    "polygons_water = []\n",
    "for (yi, twi) in zip(yc, tw):\n",
    "    y1 = yi - 0.5*dy\n",
    "    y2 = yi + 0.5*dy\n",
    "\n",
    "    polygons_water.append(Polygon(np.array([[y1, y2, y2, y1], \n",
    "                                            [0.0, 0.0, twi, twi]]).T,\n",
    "                                               props={'density': dw - dcc}))\n",
    "polygons_sediments = []\n",
    "for (yi, twi, si, dsi) in zip(yc, np.reshape(tw,(n,)), np.reshape(basement,(n,)), ds):\n",
    "    y1 = yi - 0.5*dy\n",
    "    y2 = yi + 0.5*dy\n",
    "\n",
    "    polygons_sediments.append(Polygon(np.array([[y1, y2, y2, y1], \n",
    "                                                [twi, twi, si, si]]).T,\n",
    "                                                    props={'density': ds - dcc}))\n",
    "\n",
    "polygons_crust = []\n",
    "for (yi, si, Si, dci) in zip(yc, np.reshape(basement,(n,)), np.reshape(moho,(n,)), dc):\n",
    "    y1 = yi - 0.5*dy\n",
    "    y2 = yi + 0.5*dy\n",
    "\n",
    "    polygons_crust.append(Polygon(np.array([[y1, y2, y2, y1], \n",
    "                                            [si, si, Si, Si]]).T,\n",
    "                                                props={'density': dci - dcc})) \n",
    "\n",
    "polygons_mantle = []\n",
    "for (yi, Si) in zip(yc, np.reshape(moho,(n,))):\n",
    "    y1 = yi - 0.5*dy\n",
    "    y2 = yi + 0.5*dy\n",
    "\n",
    "    polygons_mantle.append(Polygon(np.array([[y1, y2, y2, y1], \n",
    "                                                [Si, Si, S0+dS0, S0+dS0]]).T,\n",
    "                                                    props={'density': dm - dcc}))"
   ]
  },
  {
   "cell_type": "code",
   "execution_count": 24,
   "metadata": {},
   "outputs": [
    {
     "data": {
      "image/png": "[encoded data removed]",
      "text/plain": [
       "<matplotlib.figure.Figure at 0x115c79150>"
      ]
     },
     "metadata": {},
     "output_type": "display_data"
    }
   ],
   "source": [
    "%matplotlib inline\n",
    "plt.close('all')\n",
    "fig = plt.figure(figsize=(12,13))\n",
    "\n",
    "import matplotlib.gridspec as gridspec\n",
    "heights = [8, 8, 1]\n",
    "gs = gridspec.GridSpec(3, 1, height_ratios=heights)\n",
    "ax3 = plt.subplot(gs[0])\n",
    "ax4 = plt.subplot(gs[1])\n",
    "ax5 = plt.subplot(gs[2])\n",
    "\n",
    "ax3.axhline(y=0.0, xmin=ymin, xmax=ymax, color='k', linestyle='--', linewidth=1)\n",
    "ax3.plot(0.001*yc, gsyn, '-g', linewidth=2, label='simulated data')\n",
    "ax3.plot(0.001*yc, g0, '-b', linewidth=2, label='initial guess data')\n",
    "ax3.set_xlim(0.001*ymin, 0.001*ymax)\n",
    "ax3.set_ylabel('gravity disturbance (mGal)', fontsize=16)\n",
    "ax3.set_xticklabels(['%g'% (l) for l in ax3.get_xticks()], fontsize=14)\n",
    "ax3.set_yticklabels(['%g'% (l) for l in ax3.get_yticks()], fontsize=14)\n",
    "ax3.legend(loc='best', fontsize=14, facecolor='silver')\n",
    "\n",
    "ax4.axhline(y=0.0, xmin=ymin, xmax=ymax, color='k', linestyle='-', linewidth=1)\n",
    "aux = yc <= COT\n",
    "for (pwi) in (polygons_water):\n",
    "    tmpx = [x for x in pwi.x]\n",
    "    tmpx.append(pwi.x[0])\n",
    "    tmpy = [y for y in pwi.y]\n",
    "    tmpy.append(pwi.y[0])\n",
    "    ax4.plot(tmpx, tmpy, linestyle='None')\n",
    "    ax4.fill(tmpx, tmpy, color='lightskyblue')\n",
    "for (psi) in (polygons_sediments):\n",
    "    tmpx = [x for x in psi.x]\n",
    "    tmpx.append(psi.x[0])\n",
    "    tmpy = [y for y in psi.y]\n",
    "    tmpy.append(psi.y[0])\n",
    "    ax4.plot(tmpx, tmpy, linestyle='None')\n",
    "    ax4.fill(tmpx, tmpy, color='tan')\n",
    "for (pci) in (polygons_crust[:len(yc[aux])]):\n",
    "    tmpx = [x for x in pci.x]\n",
    "    tmpx.append(pci.x[0])\n",
    "    tmpy = [y for y in pci.y]\n",
    "    tmpy.append(pci.y[0])\n",
    "    ax4.plot(tmpx, tmpy, linestyle='None')\n",
    "    ax4.fill(tmpx, tmpy, color='orange')\n",
    "for (pcoi) in (polygons_crust[len(yc[aux]):n]):\n",
    "    tmpx = [x for x in pcoi.x]\n",
    "    tmpx.append(pcoi.x[0])\n",
    "    tmpy = [y for y in pcoi.y]\n",
    "    tmpy.append(pcoi.y[0])\n",
    "    ax4.plot(tmpx, tmpy, linestyle='None')\n",
    "    ax4.fill(tmpx, tmpy, color='olive')\n",
    "for (pmi) in (polygons_mantle):\n",
    "    tmpx = [x for x in pmi.x]\n",
    "    tmpx.append(pmi.x[0])\n",
    "    tmpy = [y for y in pmi.y]\n",
    "    tmpy.append(pmi.y[0])\n",
    "    ax4.plot(tmpx, tmpy, linestyle='None')\n",
    "    ax4.fill(tmpx, tmpy, color='pink')\n",
    "\n",
    "#ax4.axhline(y=S0, xmin=ymin, xmax=ymax, color='w', linestyle='--', linewidth=3)\n",
    "ax4.plot(yc, tw, '-k', linewidth=3)\n",
    "ax4.plot(yc, true_basement, '-k', linewidth=3, label='true surfaces')\n",
    "ax4.plot(yc, true_moho, '-k', linewidth=3)\n",
    "ax4.plot(yc, basement, '-.b', linewidth=3, label='initial guess surfaces')\n",
    "ax4.plot(yc, moho, '-.b', linewidth=3)\n",
    "ax4.axhline(y=true_S0+true_dS0, xmin=ymin, xmax=ymax, color='k', linestyle='-', linewidth=3)\n",
    "ax4.axhline(y=S0+dS0, xmin=ymin, xmax=ymax, color='b', linestyle='-.', linewidth=3)\n",
    "ax4.plot(base_known[:,0], base_known[:,1], 'v', color = 'yellow', markersize=15, label='known depths (basement)')\n",
    "ax4.plot(moho_known[:,0], moho_known[:,1], 'D', color = 'lime', markersize=15, label='known depths (moho)')\n",
    "#ax4.set_ylim((S0+dS0), zmin)\n",
    "ax4.set_ylim((33000.0), zmin)\n",
    "ax4.set_xlim(ymin, ymax)\n",
    "ax4.set_xlabel('y (km)', fontsize=16)\n",
    "ax4.set_ylabel('z (km)', fontsize=16)\n",
    "ax4.set_xticklabels(['%g'% (0.001*l) for l in ax4.get_xticks()], fontsize=14)\n",
    "ax4.set_yticklabels(['%g'% (0.001*l) for l in ax4.get_yticks()], fontsize=14)\n",
    "ax4.legend(loc='lower right', fontsize=14, facecolor='silver')\n",
    "\n",
    "X, Y = fig.get_dpi()*fig.get_size_inches()\n",
    "plt.title('Density contrast (kg/m$^{3}$)', fontsize=18)\n",
    "ax5.axis('off')\n",
    "\n",
    "layers_list1 = ['water', 'sediment', 'continental', 'oceanic', 'mantle']\n",
    "layers_list2 = ['', '', 'crust', 'crust', '']\n",
    "colors_list = ['lightskyblue', 'tan', 'orange', 'olive', 'pink']\n",
    "density_list = ['-1640', '-120', '0', '170', '530']\n",
    "ncols = len(colors_list)\n",
    "nrows = 1\n",
    "h = Y / nrows\n",
    "w = X / (ncols + 1)\n",
    "\n",
    "i=ncols-1\n",
    "for color, density, layers1, layers2 in zip(colors_list, density_list, layers_list1, layers_list2):\n",
    "    col = i // nrows\n",
    "    row = i % nrows\n",
    "    x = X - (col*w) - w\n",
    "    \n",
    "    yi_line = Y\n",
    "    yf_line = Y - Y*0.15\n",
    "    yi_text1 = Y - Y*0.2\n",
    "    yi_text2 = Y - Y*0.27\n",
    "    yi_text3 = Y - Y*0.08\n",
    "    \n",
    "    i-=1\n",
    "    poly = Polygon(np.array([[x, x+w*0.75, x+w*0.75, x], [yi_line, yi_line, yf_line, yf_line]]).T)\n",
    "    tmpx = [x for x in poly.x]\n",
    "    tmpx.append(poly.x[0])\n",
    "    tmpy = [y for y in poly.y]\n",
    "    tmpy.append(poly.y[0])\n",
    "    ax5.plot(tmpx, tmpy, linestyle='-', color='k', linewidth=1)\n",
    "    ax5.fill(tmpx, tmpy, color=color)\n",
    "    ax5.text(x+w*0.375, yi_text1, layers1, fontsize=(w*0.14), horizontalalignment='center', verticalalignment='top')\n",
    "    ax5.text(x+w*0.375, yi_text2, layers2, fontsize=(w*0.14), horizontalalignment='center', verticalalignment='top')\n",
    "    ax5.text(x+w*0.375, yi_text3, density, fontsize=(w*0.14), horizontalalignment='center', verticalalignment='center')\n",
    "\n",
    "plt.tight_layout()    \n",
    "    \n",
    "#mpl.savefig('../manuscript/figures/simple-model-I-initial-guess-model-grafics.png', dpi='figure', bbox_inches='tight')\n",
    "plt.show()"
   ]
  },
  {
   "cell_type": "raw",
   "metadata": {},
   "source": [
    "%matplotlib inline\n",
    "plt.close('all')\n",
    "fig = plt.figure(figsize=(12,7))\n",
    "\n",
    "import matplotlib.gridspec as gridspec\n",
    "heights = [8, 1]\n",
    "gs = gridspec.GridSpec(2, 1, height_ratios=heights)\n",
    "ax1 = plt.subplot(gs[0])\n",
    "ax2 = plt.subplot(gs[1])\n",
    "\n",
    "ax1.axhline(y=0.0, xmin=ymin, xmax=ymax, color='k', linestyle='-', linewidth=1)\n",
    "aux = yc <= COT\n",
    "for (pwi) in (polygons_water):\n",
    "    tmpx = [x for x in pwi.x]\n",
    "    tmpx.append(pwi.x[0])\n",
    "    tmpy = [y for y in pwi.y]\n",
    "    tmpy.append(pwi.y[0])\n",
    "    ax1.plot(tmpx, tmpy, linestyle='None')\n",
    "    ax1.fill(tmpx, tmpy, color='aqua')\n",
    "for (psi) in (polygons_sediments):\n",
    "    tmpx = [x for x in psi.x]\n",
    "    tmpx.append(psi.x[0])\n",
    "    tmpy = [y for y in psi.y]\n",
    "    tmpy.append(psi.y[0])\n",
    "    ax1.plot(tmpx, tmpy, linestyle='None')\n",
    "    ax1.fill(tmpx, tmpy, color='tan')\n",
    "for (pci) in (polygons_crust[:len(yc[aux])]):\n",
    "    tmpx = [x for x in pci.x]\n",
    "    tmpx.append(pci.x[0])\n",
    "    tmpy = [y for y in pci.y]\n",
    "    tmpy.append(pci.y[0])\n",
    "    ax1.plot(tmpx, tmpy, linestyle='None')\n",
    "    ax1.fill(tmpx, tmpy, color='orange')\n",
    "for (pcoi) in (polygons_crust[len(yc[aux]):n]):\n",
    "    tmpx = [x for x in pcoi.x]\n",
    "    tmpx.append(pcoi.x[0])\n",
    "    tmpy = [y for y in pcoi.y]\n",
    "    tmpy.append(pcoi.y[0])\n",
    "    ax1.plot(tmpx, tmpy, linestyle='None')\n",
    "    ax1.fill(tmpx, tmpy, color='orangered')\n",
    "for (pmi) in (polygons_mantle):\n",
    "    tmpx = [x for x in pmi.x]\n",
    "    tmpx.append(pmi.x[0])\n",
    "    tmpy = [y for y in pmi.y]\n",
    "    tmpy.append(pmi.y[0])\n",
    "    ax1.plot(tmpx, tmpy, linestyle='None')\n",
    "    ax1.fill(tmpx, tmpy, color='plum')\n",
    "\n",
    "ax1.axhline(y=S0, xmin=ymin, xmax=ymax, color='w', linestyle='--', linewidth=3)\n",
    "ax1.plot(yc, tw, '--w', linewidth=3)\n",
    "ax1.plot(yc, true_basement, '--w', linewidth=3, label='true surfaces')\n",
    "ax1.plot(yc, true_moho, '--w', linewidth=3)\n",
    "ax1.plot(yc, basement, '-.b', linewidth=3, label='initial guess surfaces')\n",
    "ax1.plot(yc, moho, '-.b', linewidth=3)\n",
    "ax1.plot(base_known[:,0], base_known[:,1], 'vc', markersize=9.5, label='known depths (basement)')\n",
    "ax1.plot(moho_known[:,0], moho_known[:,1], 'Dg', markersize=9.5, label='known depths (moho)')\n",
    "ax1.set_ylim((S0+dS0), zmin)\n",
    "ax1.set_xlim(ymin, ymax)\n",
    "ax1.set_xlabel('y (km)', fontsize=16)\n",
    "ax1.set_ylabel('z (km)', fontsize=16)\n",
    "ax1.set_xticklabels(['%g'% (0.001*l) for l in ax1.get_xticks()], fontsize=14)\n",
    "ax1.set_yticklabels(['%g'% (0.001*l) for l in ax1.get_yticks()], fontsize=14)\n",
    "ax1.legend(loc='lower right', fontsize=14, facecolor='silver')\n",
    "\n",
    "X, Y = fig.get_dpi()*fig.get_size_inches()\n",
    "plt.title('Density contrast (kg/m$^{3}$)', fontsize=18)\n",
    "ax2.axis('off')\n",
    "\n",
    "layers_list1 = ['water', 'sediment', 'continental', 'oceanic', 'mantle']\n",
    "layers_list2 = ['', '', 'crust', 'crust', '']\n",
    "colors_list = ['aqua', 'tan', 'orange', 'orangered', 'plum']\n",
    "density_list = ['-1640.0', '-120.0', '0.0', '170.0', '530.0']\n",
    "ncols = len(colors_list)\n",
    "nrows = 1\n",
    "h = Y / nrows\n",
    "w = X / (ncols + 1)\n",
    "\n",
    "i=ncols-1\n",
    "for color, density, layers1, layers2 in zip(colors_list, density_list, layers_list1, layers_list2):\n",
    "    col = i // nrows\n",
    "    row = i % nrows\n",
    "    x = X - (col*w) - w\n",
    "    \n",
    "    yi_line = Y\n",
    "    yf_line = Y - Y*0.15\n",
    "    yi_text1 = Y - Y*0.2\n",
    "    yi_text2 = Y - Y*0.27\n",
    "    yi_text3 = Y - Y*0.08\n",
    "    \n",
    "    i-=1\n",
    "    poly = Polygon(np.array([[x, x+w*0.75, x+w*0.75, x], [yi_line, yi_line, yf_line, yf_line]]).T)\n",
    "    tmpx = [x for x in poly.x]\n",
    "    tmpx.append(poly.x[0])\n",
    "    tmpy = [y for y in poly.y]\n",
    "    tmpy.append(poly.y[0])\n",
    "    ax2.plot(tmpx, tmpy, linestyle='-', color='k', linewidth=1)\n",
    "    ax2.fill(tmpx, tmpy, color=color)\n",
    "    ax2.text(x+w*0.375, yi_text1, layers1, fontsize=(w*0.14), horizontalalignment='center', verticalalignment='top')\n",
    "    ax2.text(x+w*0.375, yi_text2, layers2, fontsize=(w*0.14), horizontalalignment='center', verticalalignment='top')\n",
    "    ax2.text(x+w*0.375, yi_text3, density, fontsize=(w*0.14), horizontalalignment='center', verticalalignment='center')\n",
    "\n",
    "plt.tight_layout()    \n",
    "    \n",
    "#mpl.savefig('../data/fig/simple-model-I-initial-guess-model.png', dpi='figure', bbox_inches='tight')\n",
    "plt.show()"
   ]
  },
  {
   "cell_type": "code",
   "execution_count": null,
   "metadata": {
    "collapsed": true
   },
   "outputs": [],
   "source": []
  }
 ],
 "metadata": {
  "anaconda-cloud": {},
  "kernelspec": {
   "display_name": "Python 2",
   "language": "python",
   "name": "python2"
  },
  "language_info": {
   "codemirror_mode": {
    "name": "ipython",
    "version": 2
   },
   "file_extension": ".py",
   "mimetype": "text/x-python",
   "name": "python",
   "nbconvert_exporter": "python",
   "pygments_lexer": "ipython2",
   "version": "2.7.13"
  }
 },
 "nbformat": 4,
 "nbformat_minor": 2
}
