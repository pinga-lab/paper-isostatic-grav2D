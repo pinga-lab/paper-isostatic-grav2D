{
 "cells": [
  {
   "cell_type": "raw",
   "metadata": {},
   "source": [
    "%matplotlib inline\n",
    "\n",
    "import numpy as np\n",
    "from copy import deepcopy\n",
    "\n",
    "import matplotlib.pyplot as plt\n",
    "\n",
    "from scipy import interpolate\n",
    "from fatiando.gravmag import prism\n",
    "from fatiando.mesher import Prism, Polygon\n",
    "from fatiando.vis import mpl\n",
    "import functions\n",
    "\n",
    "from numpy.testing import assert_almost_equal\n",
    "from numpy.testing import assert_array_almost_equal\n",
    "from pytest import raises"
   ]
  },
  {
   "cell_type": "code",
   "execution_count": 1,
   "metadata": {},
   "outputs": [
    {
     "name": "stderr",
     "output_type": "stream",
     "text": [
      "/Users/macelabastos/anaconda2/lib/python2.7/site-packages/fatiando/vis/mpl.py:76: UserWarning: This module will be removed in v0.6. We recommend the use of matplotlib.pyplot module directly. Some of the fatiando specific functions will remain.\n",
      "  \"specific functions will remain.\")\n"
     ]
    }
   ],
   "source": [
    "%matplotlib inline\n",
    "import numpy as np\n",
    "from copy import deepcopy\n",
    "\n",
    "from scipy.misc import derivative\n",
    "import scipy as spy\n",
    "from scipy import interpolate\n",
    "import matplotlib\n",
    "#matplotlib.use('TkAgg', force=True)\n",
    "import matplotlib.pyplot as plt\n",
    "import math\n",
    "import cPickle as pickle\n",
    "import datetime\n",
    "#from IPython.display import Image as img\n",
    "#from IPython.display import Markdown as md\n",
    "#from IPython.display import display as dp\n",
    "import string as st\n",
    "\n",
    "from scipy.misc import imread\n",
    "\n",
    "from __future__ import division\n",
    "\n",
    "from fatiando import gravmag, mesher, utils, gridder\n",
    "from fatiando.mesher import Prism, Polygon\n",
    "from fatiando.gravmag import prism\n",
    "from fatiando.utils import ang2vec, si2nt, contaminate\n",
    "from fatiando.gridder import regular\n",
    "from fatiando.vis import mpl\n",
    "\n",
    "from numpy.testing import assert_almost_equal\n",
    "from numpy.testing import assert_array_almost_equal\n",
    "from pytest import raises\n",
    "\n",
    "plt.rc('font', size=16)"
   ]
  },
  {
   "cell_type": "code",
   "execution_count": 2,
   "metadata": {
    "collapsed": true
   },
   "outputs": [],
   "source": [
    "import functions as fc"
   ]
  },
  {
   "cell_type": "code",
   "execution_count": 3,
   "metadata": {
    "collapsed": true
   },
   "outputs": [],
   "source": [
    "# Model`s limits\n",
    "ymin = 0.0\n",
    "ymax = 150000.0\n",
    "zmin = -1000.0\n",
    "zmax = 45000.0\n",
    "xmin = -100000.0\n",
    "xmax = 100000.0\n",
    "area = [ymin, ymax, zmax, zmin]\n",
    "# number of observation datas and number of prisms along the profile\n",
    "ny = 10\n",
    "\n",
    "# coordinates defining the horizontal boundaries of the\n",
    "# adjacent columns along the profile\n",
    "y = np.linspace(ymin, ymax, ny)\n",
    "\n",
    "# coordinates of the center of the columns forming the\n",
    "# interpretation model\n",
    "n = ny - 1\n",
    "dy = (ymax - ymin)/n\n",
    "ycmin = ymin + 0.5*dy\n",
    "ycmax = ymax - 0.5*dy\n",
    "yc = np.reshape(np.linspace(ycmin, ycmax, n),(n,1))\n",
    "x = np.zeros_like(yc)\n",
    "z = np.zeros_like(yc)-150.0"
   ]
  },
  {
   "cell_type": "code",
   "execution_count": 4,
   "metadata": {
    "collapsed": true
   },
   "outputs": [],
   "source": [
    "# Model densities\n",
    "dw = np.array([1030.0])\n",
    "ds0 = np.array([2400.0])\n",
    "dsig = np.array([2800.0])\n",
    "dcc = np.array([2670.0])\n",
    "doc = np.array([2840.0])\n",
    "dm = np.array([3300.0])\n",
    "#dc = dcc\n",
    "dc = np.zeros_like(yc)\n",
    "COT = 80000.0\n",
    "aux = yc <= COT\n",
    "for i in range(len(yc[aux])):\n",
    "    dc[i] = dcc\n",
    "for i in range(len(yc[aux]),n):\n",
    "    dc[i] = doc\n",
    "\n",
    "# defining sediments layers density vector\n",
    "ds = np.vstack((np.reshape(np.repeat(ds0,n),(1,n)),np.reshape(np.repeat(dsig,n),(1,n))))\n",
    "\n",
    "# S0 => isostatic compensation surface (Airy's model)\n",
    "# SR = S0+dS0 => reference Moho (Forward modeling)\n",
    "S0 = np.array([45000.0])\n",
    "dS0 = np.array([8300.0])"
   ]
  },
  {
   "cell_type": "code",
   "execution_count": 5,
   "metadata": {
    "collapsed": true
   },
   "outputs": [],
   "source": [
    "assert np.alltrue(dw < ds), 'Sediments densities without geological meaning'\n",
    "assert np.alltrue(ds0 < dc), 'Crust densities without geological meaning'\n",
    "assert np.alltrue(dsig > dcc), 'Crust densities without geological meaning'\n",
    "assert np.alltrue(dsig < doc), 'Crust densities without geological meaning'\n",
    "assert np.alltrue(dc < dm), 'Mantle densities without geological meaning'"
   ]
  },
  {
   "cell_type": "code",
   "execution_count": 6,
   "metadata": {
    "collapsed": true
   },
   "outputs": [],
   "source": [
    "# parameter vector limits\n",
    "#pjmin = np.array([-50.0 - 10**(-10)]) \n",
    "#pjmax = np.array([100000.0 + 10**(-10)])\n",
    "# finite difference step\n",
    "dp1 = 1.\n",
    "dp2 = 1000."
   ]
  },
  {
   "cell_type": "code",
   "execution_count": 7,
   "metadata": {},
   "outputs": [
    {
     "data": {
      "text/plain": [
       "array([[   8333.33333333],\n",
       "       [  25000.        ],\n",
       "       [  41666.66666667],\n",
       "       [  58333.33333333],\n",
       "       [  75000.        ],\n",
       "       [  91666.66666667],\n",
       "       [ 108333.33333333],\n",
       "       [ 125000.        ],\n",
       "       [ 141666.66666667]])"
      ]
     },
     "execution_count": 7,
     "metadata": {},
     "output_type": "execute_result"
    }
   ],
   "source": [
    "yc"
   ]
  },
  {
   "cell_type": "code",
   "execution_count": 8,
   "metadata": {
    "collapsed": true
   },
   "outputs": [],
   "source": [
    "## Edge extension (observation coordinates)\n",
    "sigma = 0.5\n",
    "edge = sigma*dy*n"
   ]
  },
  {
   "cell_type": "code",
   "execution_count": 9,
   "metadata": {
    "collapsed": true
   },
   "outputs": [],
   "source": [
    "#print yc"
   ]
  },
  {
   "cell_type": "raw",
   "metadata": {
    "collapsed": true
   },
   "source": [
    "bath_picks = np.array([[  7.05645161e+02,   2.07913306e+02],\n",
    "       [  1.46774194e+05,   5.60735887e+02],\n",
    "       [  1.58770161e+05,   1.61920363e+03],\n",
    "       [  2.19102823e+05,   3.03049395e+03],\n",
    "       [  2.82258065e+05,   3.03049395e+03],\n",
    "       [  2.94606855e+05,   3.73613911e+03],\n",
    "       [  3.14717742e+05,   3.73613911e+03],\n",
    "       [  3.48588710e+05,   3.73613911e+03]])\n",
    "\n",
    "bath_picks[0,0] = ymin\n",
    "bath_picks[-1,0] = ymax\n",
    "bathymetry = fc.surface_interpolate_function(bath_picks,yc)\n",
    "tw = np.reshape(bathymetry,(n,1))"
   ]
  },
  {
   "cell_type": "code",
   "execution_count": 10,
   "metadata": {
    "collapsed": true
   },
   "outputs": [],
   "source": [
    "bath_picks = np.array([[    453.62903226,    1846.77419355],\n",
    "       [   2570.56451613,    2451.61290323],\n",
    "       [  17086.69354839,    3207.66129032],\n",
    "       [  40070.56451613,    3812.5       ],\n",
    "       [  41885.08064516,    3358.87096774],\n",
    "       [  44304.43548387,    3661.29032258],\n",
    "       [  54889.11290323,    3812.5       ],\n",
    "       [  56098.79032258,    3510.08064516],\n",
    "       [  57762.09677419,    3661.29032258],\n",
    "       [  94354.83870968,    3812.5       ],\n",
    "       [  98286.29032258,    4114.91935484],\n",
    "       [ 100100.80645161,    4266.12903226],\n",
    "       [ 148790.32258065,    4266.12903226]])\n",
    "\n",
    "bath_picks[0,0] = ymin\n",
    "bath_picks[-1,0] = ymax\n",
    "bathymetry = fc.surface_interpolate_function(bath_picks,yc)\n",
    "tw = np.reshape(bathymetry,(n,1))"
   ]
  },
  {
   "cell_type": "code",
   "execution_count": 11,
   "metadata": {
    "collapsed": true
   },
   "outputs": [],
   "source": [
    "toi_picks = np.array([[    705.64516129,    1266.38104839],\n",
    "       [  30342.74193548,    1619.20362903],\n",
    "       [  51864.91935484,    2677.67137097],\n",
    "       [  60685.48387097,    4088.96169355],\n",
    "       [  70211.69354839,    4441.78427419],\n",
    "       [  76209.67741935,    5147.42943548],\n",
    "       [  82560.48387097,    4794.60685484],\n",
    "       [  85030.24193548,    5147.42943548],\n",
    "       [  88558.46774194,    5500.25201613],\n",
    "       [  90322.58064516,    4441.78427419],\n",
    "       [ 110080.64516129,    4794.60685484],\n",
    "       [ 123487.90322581,    6558.71975806],\n",
    "       [ 132661.29032258,    7617.1875    ],\n",
    "       [ 147832.66129032,    6911.54233871],\n",
    "       [ 160534.27419355,    6911.54233871],\n",
    "       [ 163709.67741935,    6205.89717742],\n",
    "       [ 167590.72580645,    6558.71975806],\n",
    "       [ 178175.40322581,    6558.71975806],\n",
    "       [ 202167.33870968,    6911.54233871],\n",
    "       [ 222631.0483871 ,    6911.54233871],\n",
    "       [ 253679.43548387,    7617.1875    ],\n",
    "       [ 271320.56451613,    6205.89717742],\n",
    "       [ 277671.37096774,    6558.71975806],\n",
    "       [ 287903.22580645,    6911.54233871],\n",
    "       [ 299193.5483871 ,    6558.71975806],\n",
    "       [ 305191.53225806,    6911.54233871],\n",
    "       [ 348588.70967742,    6558.71975806]])\n",
    "\n",
    "toi_picks[0,0] = ymin\n",
    "toi_picks[-1,0] = ymax\n",
    "\n",
    "toi = fc.surface_interpolate_function(toi_picks,yc)\n",
    "for i in range(len(toi)):\n",
    "    if toi[i] < bathymetry[i]:\n",
    "        toi[i] = bathymetry[i]\n",
    "\n",
    "ts0 = toi - bathymetry"
   ]
  },
  {
   "cell_type": "code",
   "execution_count": 12,
   "metadata": {
    "collapsed": true
   },
   "outputs": [],
   "source": [
    "basement_picks = np.array([[    705.64516129,    2324.84879032],\n",
    "       [   5997.98387097,    1972.02620968],\n",
    "       [   9879.03225806,    3030.49395161],\n",
    "       [  13760.08064516,    2324.84879032],\n",
    "       [  17993.9516129 ,    3736.1391129 ],\n",
    "       [  25403.22580645,    9381.30040323],\n",
    "       [  31754.03225806,   16790.57459677],\n",
    "       [  39516.12903226,   23847.02620968],\n",
    "       [  47631.0483871 ,   27375.25201613],\n",
    "       [  55040.32258065,   27728.07459677],\n",
    "       [  69506.0483871 ,   24199.84879032],\n",
    "       [  74445.56451613,   25963.96169355],\n",
    "       [  77620.96774194,   26316.78427419],\n",
    "       [  82207.66129032,   25611.1391129 ],\n",
    "       [  91381.0483871 ,   18201.86491935],\n",
    "       [  95614.91935484,   19613.15524194],\n",
    "       [ 100201.61290323,   19613.15524194],\n",
    "       [ 105846.77419355,   18554.6875    ],\n",
    "       [ 111491.93548387,   16790.57459677],\n",
    "       [ 118901.20967742,   11498.2358871 ],\n",
    "       [ 122782.25806452,   12909.52620968],\n",
    "       [ 125604.83870968,   12203.88104839],\n",
    "       [ 135483.87096774,   13615.17137097],\n",
    "       [ 139717.74193548,   12556.70362903],\n",
    "       [ 151360.88709677,   13967.99395161],\n",
    "       [ 155947.58064516,   12556.70362903],\n",
    "       [ 171471.77419355,   13967.99395161],\n",
    "       [ 185937.5       ,   15026.46169355],\n",
    "       [ 189465.72580645,   16437.75201613],\n",
    "       [ 197933.46774194,   16790.57459677],\n",
    "       [ 203225.80645161,   14673.6391129 ],\n",
    "       [ 210282.25806452,   15732.10685484],\n",
    "       [ 213810.48387097,   15379.28427419],\n",
    "       [ 216985.88709677,   16437.75201613],\n",
    "       [ 227923.38709677,   13967.99395161],\n",
    "       [ 233215.72580645,   14320.81653226],\n",
    "       [ 239566.53225806,   13615.17137097],\n",
    "       [ 243800.40322581,   15379.28427419],\n",
    "       [ 249092.74193548,   16084.92943548],\n",
    "       [ 258618.9516129 ,   12556.70362903],\n",
    "       [ 263558.46774194,   14320.81653226],\n",
    "       [ 271320.56451613,   16084.92943548],\n",
    "       [ 285080.64516129,   16084.92943548],\n",
    "       [ 297429.43548387,   13967.99395161],\n",
    "       [ 302721.77419355,   11498.2358871 ],\n",
    "       [ 304485.88709677,    9734.12298387],\n",
    "       [ 348235.88709677,    9381.30040323]])\n",
    "\n",
    "basement_picks[0,0] = ymin\n",
    "basement_picks[-1,0] = ymax\n",
    "\n",
    "basement = fc.surface_interpolate_function(basement_picks,yc)\n",
    "for i in range(len(basement)):\n",
    "    if basement[i] < toi[i]:\n",
    "        basement[i] = toi[i]\n",
    "\n",
    "ts1 = basement - toi"
   ]
  },
  {
   "cell_type": "code",
   "execution_count": 13,
   "metadata": {
    "collapsed": true
   },
   "outputs": [],
   "source": [
    "ts = np.vstack((np.reshape(ts0,(1,n)),np.reshape(ts1,(1,n))))"
   ]
  },
  {
   "cell_type": "code",
   "execution_count": 14,
   "metadata": {
    "collapsed": true
   },
   "outputs": [],
   "source": [
    "S = fc.moho_function(S0,dw,ds,dcc,dm,dc,tw,ts)\n",
    "tm = S0 - S\n",
    "toc = S - tw - ts0 - ts1"
   ]
  },
  {
   "cell_type": "code",
   "execution_count": 15,
   "metadata": {},
   "outputs": [
    {
     "name": "stdout",
     "output_type": "stream",
     "text": [
      "[ 25000.0 , 9074.08074117 ],\n",
      "[ 91666.6666667 , 18297.0710125 ],\n",
      "[ 141666.666667 , 11954.829815 ]\n",
      "[ 41666.6666667 , 40523.5170413 ],\n",
      "[ 125000.0 , 41995.4839384 ]\n"
     ]
    }
   ],
   "source": [
    "print '[', np.reshape(yc,(n,))[1], ',' , np.reshape(basement,(n,))[1], '],'\n",
    "print '[', np.reshape(yc,(n,))[5], ',' , np.reshape(basement,(n,))[5], '],'\n",
    "print '[', np.reshape(yc,(n,))[8], ',' , np.reshape(basement,(n,))[8], ']'\n",
    "\n",
    "print '[', np.reshape(yc,(n,))[2], ',' , np.reshape(S,(n,))[2], '],'\n",
    "print '[', np.reshape(yc,(n,))[7], ',' , np.reshape(S,(n,))[7], ']'\n"
   ]
  },
  {
   "cell_type": "code",
   "execution_count": 16,
   "metadata": {
    "collapsed": true
   },
   "outputs": [],
   "source": [
    "base_known = np.array([[ 25000.0 , 9074.08074117 ],\n",
    "[ 91666.6666667 , 18297.0710125 ],\n",
    "[ 141666.666667 , 11954.829815 ]])\n",
    "moho_known = np.array([[ 41666.6666667 , 40523.5170413 ],\n",
    "[ 125000.0 , 41995.4839384 ]])"
   ]
  },
  {
   "cell_type": "code",
   "execution_count": 17,
   "metadata": {
    "collapsed": true
   },
   "outputs": [],
   "source": [
    "assert np.alltrue(tw <= toi), 'top of igneous layer must be deeper than the seabed'"
   ]
  },
  {
   "cell_type": "code",
   "execution_count": 18,
   "metadata": {
    "collapsed": true
   },
   "outputs": [],
   "source": [
    "assert np.alltrue(toi <= basement), 'basement must be deeper than the top of igneous layer'"
   ]
  },
  {
   "cell_type": "code",
   "execution_count": 19,
   "metadata": {
    "collapsed": true
   },
   "outputs": [],
   "source": [
    "assert np.alltrue(basement <= S), 'Moho must be deeper than the basement'"
   ]
  },
  {
   "cell_type": "code",
   "execution_count": 20,
   "metadata": {
    "collapsed": true
   },
   "outputs": [],
   "source": [
    "assert np.alltrue(S <= S0), 'Compensation depth must be placed below the Moho'"
   ]
  },
  {
   "cell_type": "code",
   "execution_count": 21,
   "metadata": {
    "collapsed": true
   },
   "outputs": [],
   "source": [
    "p = []\n",
    "p = np.vstack((ts1, tm, dS0))\n",
    "#print p.size"
   ]
  },
  {
   "cell_type": "code",
   "execution_count": 22,
   "metadata": {
    "collapsed": true
   },
   "outputs": [],
   "source": [
    "prism_w = fc.prism_w_function(xmax,xmin,dy,edge,dw,dcc,tw,yc)\n",
    "prism_s = fc.prism_s_function(xmax,xmin,dy,edge,ds,dcc,tw,p,yc,ts0,two_layers=True)\n",
    "prism_c = fc.prism_c_function(xmax,xmin,dy,edge,S0,dcc,dc,tw,p,yc,ts0,two_layers=True)\n",
    "prism_m = fc.prism_m_function(xmax,xmin,dy,edge,S0,dcc,dm,p,yc)"
   ]
  },
  {
   "cell_type": "code",
   "execution_count": 23,
   "metadata": {
    "collapsed": true
   },
   "outputs": [],
   "source": [
    "gzw = prism.gz(np.reshape(x,(n,)),np.reshape(yc,(n,)),np.reshape(z,(n,)),prism_w)\n",
    "gzs0 = prism.gz(np.reshape(x,(n,)),np.reshape(yc,(n,)),np.reshape(z,(n,)),prism_s[1])\n",
    "gzs1 = prism.gz(np.reshape(x,(n,)),np.reshape(yc,(n,)),np.reshape(z,(n,)),prism_s[2])\n",
    "dcaux = np.copy(dc)\n",
    "for i in range(n):\n",
    "    dc[i] = dcc\n",
    "prism_caux = fc.prism_c_function(xmax,xmin,dy,edge,S0,dcc,dc,tw,p,yc,ts0,two_layers=True)\n",
    "gzc = prism.gz(np.reshape(x,(n,)),np.reshape(yc,(n,)),np.reshape(z,(n,)),prism_caux)\n",
    "gzm = prism.gz(np.reshape(x,(n,)),np.reshape(yc,(n,)),np.reshape(z,(n,)),prism_m)\n",
    "\n",
    "#Calculo do vetor de dados observados:\n",
    "g = fc.g_function(np.reshape(x,(n,)),np.reshape(yc,(n,)),np.reshape(z,(n,)),gzw,prism_s,prism_caux,prism_m)"
   ]
  },
  {
   "cell_type": "code",
   "execution_count": 24,
   "metadata": {
    "collapsed": true
   },
   "outputs": [],
   "source": [
    "f = 2.34565\n",
    "\n",
    "pdens_w = f*(dw-dcc)\n",
    "pdens_s0 = f*(ds[0,0]-dcc)\n",
    "pdens_s1 = f*(ds[1,0]-dcc)\n",
    "pdens_c = f*(dc[0]-dcc)\n",
    "pdens_m = f*(dm-dcc)\n",
    "\n",
    "gzw2 = prism.gz(np.reshape(x,(n,)),np.reshape(yc,(n,)),np.reshape(z,(n,)),prism_w, dens=pdens_w)\n",
    "gzs02 = prism.gz(np.reshape(x,(n,)),np.reshape(yc,(n,)),np.reshape(z,(n,)),prism_s[1], dens=pdens_s0)\n",
    "gzs12 = prism.gz(np.reshape(x,(n,)),np.reshape(yc,(n,)),np.reshape(z,(n,)),prism_s[2], dens=pdens_s1)\n",
    "gzc2 = prism.gz(np.reshape(x,(n,)),np.reshape(yc,(n,)),np.reshape(z,(n,)),prism_caux, dens=pdens_c)\n",
    "gzm2 = prism.gz(np.reshape(x,(n,)),np.reshape(yc,(n,)),np.reshape(z,(n,)),prism_m, dens=pdens_m)\n",
    "    \n",
    "g2 = gzw2 + gzs02 + gzs12 + gzc2 + gzm2\n",
    "\n",
    "dc = np.copy(dcaux)"
   ]
  },
  {
   "cell_type": "code",
   "execution_count": 25,
   "metadata": {
    "collapsed": true
   },
   "outputs": [],
   "source": [
    "assert_almost_equal(gzw2, f*gzw, decimal=9)"
   ]
  },
  {
   "cell_type": "code",
   "execution_count": 26,
   "metadata": {
    "collapsed": true
   },
   "outputs": [],
   "source": [
    "assert_almost_equal(gzs02, f*gzs0, decimal=9)"
   ]
  },
  {
   "cell_type": "code",
   "execution_count": 27,
   "metadata": {
    "collapsed": true
   },
   "outputs": [],
   "source": [
    "assert_almost_equal(gzs12, f*gzs1, decimal=9)"
   ]
  },
  {
   "cell_type": "code",
   "execution_count": 28,
   "metadata": {
    "collapsed": true
   },
   "outputs": [],
   "source": [
    "assert_almost_equal(gzc2, f*gzc, decimal=9)"
   ]
  },
  {
   "cell_type": "code",
   "execution_count": 29,
   "metadata": {
    "collapsed": true
   },
   "outputs": [],
   "source": [
    "assert_almost_equal(gzm2, f*gzm, decimal=9)"
   ]
  },
  {
   "cell_type": "code",
   "execution_count": 30,
   "metadata": {
    "collapsed": true
   },
   "outputs": [],
   "source": [
    "assert_almost_equal(g2, f*g, decimal=9)"
   ]
  },
  {
   "cell_type": "code",
   "execution_count": 31,
   "metadata": {},
   "outputs": [
    {
     "data": {
      "text/plain": [
       "<ExceptionInfo ValueError tblen=2>"
      ]
     },
     "execution_count": 31,
     "metadata": {},
     "output_type": "execute_result"
    }
   ],
   "source": [
    "raises(ValueError, prism.gz, x[:-2], yc, z, prism_w)\n",
    "raises(ValueError, prism.gz, x, yc[:-2], z, prism_w)\n",
    "raises(ValueError, prism.gz, x, yc, z[:-2], prism_w)\n",
    "raises(ValueError, prism.gz, x[:-5], yc, z[:-2], prism_w)\n"
   ]
  },
  {
   "cell_type": "code",
   "execution_count": 32,
   "metadata": {
    "collapsed": true
   },
   "outputs": [],
   "source": [
    "#parameter_vector = fc.parameter_vector(S0, prism_w, prism_s, prism_c, prism_m)\n",
    "parameter_vector = fc.parameter_vector(S0,prism_w,prism_s,prism_c,prism_m,two_layers=True)\n",
    "\n",
    "assert_almost_equal(p, parameter_vector, decimal=11)"
   ]
  },
  {
   "cell_type": "code",
   "execution_count": 33,
   "metadata": {
    "collapsed": true
   },
   "outputs": [],
   "source": [
    "(rs,index_rs) = fc.base_known_function(dy,tw,yc,base_known,ts0,two_layers=True)\n",
    "(rm,index_rm) = fc.moho_known_function(dy,yc,S0,moho_known)"
   ]
  },
  {
   "cell_type": "code",
   "execution_count": 34,
   "metadata": {
    "collapsed": true
   },
   "outputs": [],
   "source": [
    "index_base = index_rs\n",
    "index_moho = index_rm - n"
   ]
  },
  {
   "cell_type": "code",
   "execution_count": 35,
   "metadata": {
    "collapsed": true
   },
   "outputs": [],
   "source": [
    "assert_almost_equal(base_known[:,0], yc[index_base][:,0], decimal=6)\n",
    "\n",
    "assert_almost_equal(moho_known[:,0], yc[index_moho][:,0], decimal=6)\n",
    "\n",
    "assert_almost_equal(ts1[index_base][:,0], rs[:,0], decimal=6)\n",
    "\n",
    "assert_almost_equal((tm[index_moho][:,0]), rm[:,0], decimal=6)"
   ]
  },
  {
   "cell_type": "code",
   "execution_count": 36,
   "metadata": {
    "collapsed": true
   },
   "outputs": [],
   "source": [
    "t = np.array([4., 6., 8.]).reshape((3,1))\n",
    "v = np.array([1.,2.,3.]).reshape((3,1))\n",
    "\n",
    "tmin = np.reshape(np.repeat(2.,len(t)),(len(t),1))\n",
    "tmax = np.reshape(np.repeat(10.,len(t)),(len(t),1))\n",
    "\n",
    "T1 = fc.T_matrix_function(tmin,tmax,t)\n",
    "v1 = T1.dot(v)\n",
    "\n",
    "T2 = np.array([[1.5, 0, 0],\n",
    "             [0, 2, 0],\n",
    "             [0, 0, 1.5]])\n",
    "v2 = T2.dot(v)\n",
    "\n",
    "assert_array_almost_equal(v1, v2, decimal=11)"
   ]
  },
  {
   "cell_type": "code",
   "execution_count": 37,
   "metadata": {},
   "outputs": [],
   "source": [
    "nr=3\n",
    "R01 = np.array([[1., -1., 0.],\n",
    "               [0., 1., -1.]])\n",
    "\n",
    "R02 = fc.R_matrix_function(nr)\n",
    "\n",
    "assert_array_almost_equal(R01, R02, decimal=11)"
   ]
  },
  {
   "cell_type": "code",
   "execution_count": 38,
   "metadata": {},
   "outputs": [
    {
     "name": "stdout",
     "output_type": "stream",
     "text": [
      "[[ 130.    0.    0.  630.    0.    0.    0.]\n",
      " [   0.  130.    0.    0.  630.    0.    0.]\n",
      " [   0.    0.  -40.    0.    0.  460.    0.]]\n",
      "[[ 130.    0.    0.  630.    0.    0.    0.]\n",
      " [   0.  130.    0.    0.  630.    0.    0.]\n",
      " [  -0.   -0.  -40.    0.    0.  460.    0.]]\n"
     ]
    }
   ],
   "source": [
    "dcaux = np.copy(dc[3:6])\n",
    "dsaux = np.copy(ds[:,3:6])\n",
    "\n",
    "C1 = fc.C_matrix_function(dsaux,dm,dcaux,two_layers=True)\n",
    "\n",
    "I = np.identity(len(dcaux))\n",
    "\n",
    "C2 = np.hstack([(dsaux[1,:] - dcaux)*I, (dm - dcaux)*I, np.zeros((len(dcaux),1))])\n",
    "\n",
    "assert_array_almost_equal(C1, C2, decimal=11)\n",
    "print C1\n",
    "print C2"
   ]
  },
  {
   "cell_type": "code",
   "execution_count": 39,
   "metadata": {},
   "outputs": [
    {
     "name": "stdout",
     "output_type": "stream",
     "text": [
      "[  8.00000000e+02   1.60000000e+03   1.60000000e+03   1.60000000e+03\n",
      "   1.60000000e+03   5.29000000e+04   5.29000000e+04   5.29000000e+04\n",
      "   2.64500000e+04   5.61800000e+05   1.12360000e+06   1.12360000e+06\n",
      "   1.12360000e+06   1.12360000e+06   7.56900000e+05   7.56900000e+05\n",
      "   7.56900000e+05   3.78450000e+05   0.00000000e+00]\n",
      "52900.0\n"
     ]
    }
   ],
   "source": [
    "# iso\n",
    "R0 = fc.R_matrix_function(n)\n",
    "dwiso = np.array([1030.0])\n",
    "ds0iso = np.array([2350.0])\n",
    "ds1iso = np.array([2750.0])\n",
    "dcciso = np.array([2770.0])\n",
    "dociso = np.array([2865.0])\n",
    "dmiso = np.array([3300.0])\n",
    "#dc = dcc\n",
    "# list defining crust density variance\n",
    "dciso = np.zeros_like(yc)\n",
    "aux = yc <= COT\n",
    "for i in range(len(yc[aux])):\n",
    "    dciso[i] = dcciso\n",
    "for i in range(len(yc[aux]),n):\n",
    "    dciso[i] = dociso    \n",
    "# defining sediments layers density matrix\n",
    "dsiso = np.vstack((np.reshape(np.repeat(ds0iso,n),(1,n)),np.reshape(np.repeat(ds1iso,n),(1,n))))\n",
    "\n",
    "Ciso = fc.C_matrix_function(dsiso,dmiso,dciso,two_layers=True)\n",
    "\n",
    "#print Ciso\n",
    "\n",
    "Hess_iso = 2*Ciso.T.dot(R0.T.dot(R0.dot(Ciso)))\n",
    "diag_iso = np.diag(Hess_iso)\n",
    "f_iso = np.median(diag_iso)\n",
    "\n",
    "#print Hess_iso\n",
    "print diag_iso\n",
    "print f_iso"
   ]
  },
  {
   "cell_type": "code",
   "execution_count": 40,
   "metadata": {},
   "outputs": [
    {
     "name": "stdout",
     "output_type": "stream",
     "text": [
      "[  4.50000000e+02   9.00000000e+02   9.00000000e+02   9.00000000e+02\n",
      "   9.00000000e+02   3.60000000e+03   3.60000000e+03   3.60000000e+03\n",
      "   1.80000000e+03   2.59200000e+05   5.18400000e+05   5.18400000e+05\n",
      "   5.18400000e+05   5.18400000e+05   4.76100000e+05   4.76100000e+05\n",
      "   4.76100000e+05   2.38050000e+05   0.00000000e+00]\n",
      "3600.0\n"
     ]
    }
   ],
   "source": [
    "# noiso\n",
    "\n",
    "dwniso = np.array([1030.0])\n",
    "ds0niso = np.array([2350.0])\n",
    "ds1niso = np.array([2855.0])\n",
    "dccniso = np.array([2870.0])\n",
    "docniso = np.array([2885.0])\n",
    "dmniso = np.array([3230.0])\n",
    "# list defining crust density variance\n",
    "dcniso = np.zeros_like(yc)\n",
    "aux = yc <= COT\n",
    "for i in range(len(yc[aux])):\n",
    "    dcniso[i] = dccniso\n",
    "for i in range(len(yc[aux]),n):\n",
    "    dcniso[i] = docniso    \n",
    "# defining sediments layers density matrix\n",
    "dsniso = np.vstack((np.reshape(np.repeat(ds0niso,n),(1,n)),np.reshape(np.repeat(ds1niso,n),(1,n))))\n",
    "\n",
    "Cniso = fc.C_matrix_function(dsniso,dmniso,dcniso,two_layers=True)\n",
    "\n",
    "#print Cniso\n",
    "\n",
    "Hess_niso = 2*Cniso.T.dot(R0.T.dot(R0.dot(Cniso)))\n",
    "diag_niso = np.diag(Hess_niso)\n",
    "f_niso = np.median(diag_niso)\n",
    "\n",
    "#print Hess_niso\n",
    "print diag_niso\n",
    "print f_niso\n"
   ]
  },
  {
   "cell_type": "code",
   "execution_count": 41,
   "metadata": {},
   "outputs": [
    {
     "name": "stdout",
     "output_type": "stream",
     "text": [
      "[[-1640.     0.     0.  -270.     0.     0.  2670.]\n",
      " [    0. -1640.     0.     0.  -270.     0.  2670.]\n",
      " [    0.     0. -1810.     0.     0.  -440.  2840.]]\n",
      "[[-1640.    -0.    -0.  -270.    -0.    -0.  2670.]\n",
      " [   -0. -1640.    -0.    -0.  -270.    -0.  2670.]\n",
      " [   -0.    -0. -1810.    -0.    -0.  -440.  2840.]]\n"
     ]
    }
   ],
   "source": [
    "D1 = fc.D_matrix_function(dw,dcaux,dsaux,two_layers=True)\n",
    "\n",
    "D2 = np.hstack([(dw - dcaux)*I, (dsaux[0,:] - dcaux)*I, dcaux])\n",
    "\n",
    "assert_array_almost_equal(D1, D2, decimal=11)\n",
    "print D1\n",
    "print D2"
   ]
  },
  {
   "cell_type": "code",
   "execution_count": 42,
   "metadata": {},
   "outputs": [
    {
     "name": "stdout",
     "output_type": "stream",
     "text": [
      "[[ 1 -1  0  0  0  0  0]\n",
      " [ 0  1 -1  0  0  0  0]]\n",
      "[[ 1. -1.  0.  0.  0.  0.  0.]\n",
      " [ 0.  1. -1.  0.  0.  0.  0.]]\n"
     ]
    }
   ],
   "source": [
    "ps = np.array([1., 2., 3., 4., 6., 8., 10.]).reshape((7,1))\n",
    "nps = int((len(ps)-1)/2)\n",
    "R = fc.R_matrix_function(nps)\n",
    "Sa1 = np.array([[1, -1, 0, 0, 0, 0, 0],\n",
    "               [0, 1, -1, 0, 0, 0, 0]])\n",
    "print Sa1\n",
    "Sa2 = fc.Sa_matrix_function(nps)\n",
    "print Sa2\n",
    "assert_array_almost_equal(Sa1, Sa2, decimal=11)"
   ]
  },
  {
   "cell_type": "code",
   "execution_count": 43,
   "metadata": {},
   "outputs": [
    {
     "name": "stdout",
     "output_type": "stream",
     "text": [
      "[[ 0  0  0  1 -1  0  0]\n",
      " [ 0  0  0  0  1 -1  0]]\n",
      "[[ 0.  0.  0.  1. -1.  0.  0.]\n",
      " [ 0.  0.  0.  0.  1. -1.  0.]]\n"
     ]
    }
   ],
   "source": [
    "Sb1 = np.array([[0, 0, 0, 1, -1, 0, 0],\n",
    "               [0, 0, 0, 0, 1, -1, 0]])\n",
    "print Sb1\n",
    "Sb2 = fc.Sb_matrix_function(nps)\n",
    "print Sb2\n",
    "assert_array_almost_equal(Sb1, Sb2, decimal=11)"
   ]
  },
  {
   "cell_type": "code",
   "execution_count": 44,
   "metadata": {},
   "outputs": [
    {
     "name": "stdout",
     "output_type": "stream",
     "text": [
      "[[-1.]\n",
      " [-1.]]\n",
      "[[-2.]\n",
      " [-2.]]\n"
     ]
    }
   ],
   "source": [
    "Sap = Sa2.dot(ps)\n",
    "print Sap\n",
    "Sbp = Sb2.dot(ps)\n",
    "print Sbp"
   ]
  },
  {
   "cell_type": "code",
   "execution_count": 45,
   "metadata": {
    "collapsed": true
   },
   "outputs": [],
   "source": [
    "(rs1,index_rs1) = fc.base_known_function(dy,tw,yc,base_known,ts0,two_layers=True)\n",
    "A1 = fc.A_matrix_function(n,rs1,index_rs1)\n",
    "\n",
    "index_rs2 = []\n",
    "indices = np.arange(2*n+1, dtype=int)\n",
    "for bi in range(len(rs1)):\n",
    "    mask = A1[bi,:] == 1.\n",
    "    index_rs2.append(indices[mask])    \n",
    "index_rs2 = (np.array(index_rs2)).reshape(len(rs1))\n",
    "\n",
    "assert_array_almost_equal(index_rs1, index_rs2, decimal=11)"
   ]
  },
  {
   "cell_type": "code",
   "execution_count": 46,
   "metadata": {
    "collapsed": true
   },
   "outputs": [],
   "source": [
    "(rm1,index_rm1) = fc.moho_known_function(dy,yc,S0,moho_known)\n",
    "B1 = fc.B_matrix_function(n,rm1,index_rm1)\n",
    "\n",
    "index_rm2 = []\n",
    "indices = np.arange(2*n+1, dtype=int)\n",
    "for mi in range(len(rm1)):\n",
    "    mask = B1[mi,:] == 1.\n",
    "    index_rm2.append(indices[mask])    \n",
    "index_rm2 = (np.array(index_rm2)).reshape(len(rm1))\n",
    "\n",
    "assert_array_almost_equal(index_rm1, index_rm2, decimal=11)"
   ]
  },
  {
   "cell_type": "code",
   "execution_count": 47,
   "metadata": {
    "collapsed": true
   },
   "outputs": [],
   "source": [
    "W = fc.W_matrix_function(1000.,np.reshape(g,(n,1)),np.reshape(g2,(n,1)))\n",
    "C = fc.C_matrix_function(ds,dm,dc,two_layers=True)\n",
    "D = fc.D_matrix_function(dw,dc,ds,two_layers=True)\n",
    "R = fc.R_matrix_function(n)\n",
    "Sa = fc.Sa_matrix_function(n)\n",
    "Sb = fc.Sb_matrix_function(n)\n",
    "t = np.vstack((tw, ts0, S0))"
   ]
  },
  {
   "cell_type": "code",
   "execution_count": 57,
   "metadata": {},
   "outputs": [
    {
     "name": "stdout",
     "output_type": "stream",
     "text": [
      "444470528.835 444470528.835\n"
     ]
    }
   ],
   "source": [
    "gama1 = fc.gama_function(1.,1.,1.,1.,1.,1.,S0,tw,np.reshape(g,(n,1)),np.reshape(g2,(n,1)),p,rs1,rm1,W,R,C,D,Sa,Sb,A1,B1,ts0,two_layers=True)\n",
    "\n",
    "gama2 = (1./n)*((g - g2).T.dot(g - g2)) + 1.*((1.)*((W.dot(R.dot(D.dot(t))) + W.dot(R.dot(C.dot(p)))).T.dot(W.dot(R.dot(D.dot(t))) + W.dot(R.dot(C.dot(p)))))[0,0] +\n",
    "                                             (1.)*((Sa.dot(p)).T.dot(Sa.dot(p)))[0,0] + \n",
    "                                             (1.)*((Sb.dot(p)).T.dot(Sb.dot(p)))[0,0] + \n",
    "                                             (1.)*((A1.dot(p) - rs1).T.dot((A1.dot(p) - rs1)))[0,0] + \n",
    "                                             (1.)*((B1.dot(p) - rm1).T.dot((B1.dot(p) - rm1)))[0,0])\n",
    "print gama1, gama2\n",
    "assert_array_almost_equal(gama1, gama2, decimal=15)"
   ]
  },
  {
   "cell_type": "code",
   "execution_count": 49,
   "metadata": {},
   "outputs": [],
   "source": [
    "grd_psi0_1 = fc.grad_psi_iso_function(S0,tw,p,W,R,C,D,ts0,two_layers=True)\n",
    "\n",
    "grd_psi0_2 = 2.*(((((C.T.dot(R.T)).dot(W.T)).dot(W)).dot(R)).dot((D.dot(t) + C.dot(p))))\n",
    "\n",
    "assert_array_almost_equal(grd_psi0_1, grd_psi0_2, decimal=15)"
   ]
  },
  {
   "cell_type": "code",
   "execution_count": 50,
   "metadata": {
    "collapsed": true
   },
   "outputs": [],
   "source": [
    "grd_psi1_1 = fc.grad_psi_tk1_function(p,Sa)\n",
    "\n",
    "grd_psi1_2 = 2.*(Sa.T.dot(Sa)).dot(p)\n",
    "\n",
    "assert_array_almost_equal(grd_psi1_1, grd_psi1_2, decimal=15)"
   ]
  },
  {
   "cell_type": "code",
   "execution_count": 51,
   "metadata": {
    "collapsed": true
   },
   "outputs": [],
   "source": [
    "grd_psi2_1 = fc.grad_psi_tk1_function(p,Sb)\n",
    "\n",
    "grd_psi2_2 = 2.*(Sb.T.dot(Sb)).dot(p)\n",
    "\n",
    "assert_array_almost_equal(grd_psi2_1, grd_psi2_2, decimal=15)"
   ]
  },
  {
   "cell_type": "code",
   "execution_count": 52,
   "metadata": {
    "collapsed": true
   },
   "outputs": [],
   "source": [
    "grd_psi3_1 = fc.grad_psi_eq_function(p,rs1,A1)\n",
    "\n",
    "grd_psi3_2 = 2.*A1.T.dot(A1.dot(p)-rs1)\n",
    "\n",
    "assert_array_almost_equal(grd_psi3_1, grd_psi3_2, decimal=15)"
   ]
  },
  {
   "cell_type": "code",
   "execution_count": 53,
   "metadata": {
    "collapsed": true
   },
   "outputs": [],
   "source": [
    "grd_psi4_1 = fc.grad_psi_eq_function(p,rm1,B1)\n",
    "\n",
    "grd_psi4_2 = 2.*B1.T.dot(B1.dot(p)-rm1)\n",
    "\n",
    "assert_array_almost_equal(grd_psi4_1, grd_psi4_2, decimal=15)"
   ]
  },
  {
   "cell_type": "code",
   "execution_count": 54,
   "metadata": {},
   "outputs": [
    {
     "name": "stdout",
     "output_type": "stream",
     "text": [
      "9\n"
     ]
    }
   ],
   "source": [
    "print len(yc)"
   ]
  },
  {
   "cell_type": "code",
   "execution_count": 55,
   "metadata": {},
   "outputs": [],
   "source": [
    "G1 = fc.G_matrix_function(xmax,xmin,dy,edge,dp1,dp2,S0,dw,ds,dm,dcc,dc,tw,p,yc,ts0,two_layers=True)\n",
    "#G2 = fc.G_matrix_function_all(xmax,xmin,dy,edge,dp1,dp2,COT,S0,dw,ds,dm,dcc,dc,tw,p,yc,area,3)\n",
    "#assert_array_almost_equal(G1, G2, decimal=3)\n",
    "\n",
    "#a funcao G2 foi modificada e so funciona com uma camada de sedimento"
   ]
  },
  {
   "cell_type": "raw",
   "metadata": {
    "collapsed": true
   },
   "source": [
    "mediap = np.median(p)\n",
    "dp_vector = ((np.random.random_sample(len(p)))*mediap)/100\n",
    "h=[]\n",
    "for i in range(10):\n",
    "    h.append(0.5**i)\n",
    "\n",
    "gp = np.zeros_like(yc)\n",
    "err1 = np.zeros((len(h)))\n",
    "err2 = np.zeros((len(h)))\n",
    "    \n",
    "prism_s = fc.prism_s_function(xmax, xmin, dy, edge, ds, doc, tw, p, yc)\n",
    "prism_c = fc.prism_c_function(xmax, xmin, dy, edge, doc, dc, tw, p, yc)\n",
    "prism_m = fc.prism_m_function(xmax, xmin, dy, edge, doc, dm, p, yc)\n",
    "gp = fc.g_function(x, yc, z, gzw, prism_s, prism_c, prism_m)\n",
    "    \n",
    "for i in range(len(h)):\n",
    "        \n",
    "    p_up =  p  + h[i]*dp_vector\n",
    "    prism_s_up = fc.prism_s_function(xmax, xmin, dy, edge, ds, doc, tw, p_up, yc)\n",
    "    prism_c_up = fc.prism_c_function(xmax, xmin, dy, edge, doc, dc, tw, p_up, yc)\n",
    "    prism_m_up = fc.prism_m_function(xmax, xmin, dy, edge, doc, dm, p_up, yc)\n",
    "    gp_up = fc.g_function(x, yc, z, gzw, prism_s_up, prism_c_up, prism_m_up)\n",
    "    \n",
    "    graddp1 = gp + h[i]*((G1.dot(dp_vector)))\n",
    "    res1 = gp_up - graddp1                 \n",
    "    err1[i] = res1.T.dot(res1)\n",
    "    \n",
    "    graddp2 = gp + h[i]*((G2.dot(dp_vector)))\n",
    "    res2 = gp_up - graddp2                       \n",
    "    err2[i] = res2.T.dot(res2)\n",
    "\n",
    "logh = np.log2(h)\n",
    "loge1 = np.log2(err1)\n",
    "loge2 = np.log2(err2)\n",
    "\n",
    "tg1 = (loge1[8]-loge1[2])/(logh[8]-logh[2])\n",
    "tg2 = (loge2[9]-loge2[3])/(logh[9]-logh[3])\n",
    "\n",
    "assert_array_almost_equal(tg1, tg2, decimal=2)"
   ]
  },
  {
   "cell_type": "raw",
   "metadata": {
    "collapsed": true
   },
   "source": [
    "plt.close('all')\n",
    "plt.figure(figsize=(15,10))\n",
    "\n",
    "plt.loglog(h,err1,color='red',basex=2,basey=2)\n",
    "plt.loglog(h,err2,basex=2,basey=2)\n"
   ]
  },
  {
   "cell_type": "markdown",
   "metadata": {},
   "source": [
    "## Teste do modelo direto usando funcao analitica"
   ]
  },
  {
   "cell_type": "raw",
   "metadata": {
    "collapsed": true
   },
   "source": [
    "# Model densities\n",
    "d1 = np.array([2400.0])\n",
    "d2 = np.zeros_like(yc)\n",
    "dcaux = np.zeros_like(yc)\n",
    "COT1 = yc[n*0.5]-dy*0.5\n",
    "COT2 = yc[n*0.5]+dy*0.5\n",
    "aux1 = yc <= COT1\n",
    "aux2 = yc >= COT2\n",
    "for i in range(len(yc[aux1])):\n",
    "    d2[i] = d1\n",
    "    dcaux[i] = d1\n",
    "d2[n*0.5] = 3300.0\n",
    "dcaux[n*0.5] = d1\n",
    "for i in range(len(yc[aux2])+1,n):\n",
    "    d2[i] = d1\n",
    "    dcaux[i] = d1\n"
   ]
  },
  {
   "cell_type": "raw",
   "metadata": {
    "collapsed": true
   },
   "source": [
    "bat = np.zeros_like(yc)\n",
    "zs = np.zeros_like(yc)\n",
    "zc = np.zeros_like(yc)\n",
    "zm = np.zeros_like(yc)\n",
    "for i in range(n):\n",
    "    bat[i] = 2000.0\n",
    "    zs[i] = 8000.0\n",
    "    \n",
    "Saux = fc.moho_function(S0, d1, d1, d1, d1, d2, bat, zs)\n",
    "zm =  S0 - Saux\n",
    "zc = Saux - bat - zs\n",
    "    \n",
    "pz = []\n",
    "pz = np.hstack((zs, zm, S0, dS0))"
   ]
  },
  {
   "cell_type": "raw",
   "metadata": {
    "collapsed": true
   },
   "source": [
    "dy2 = dy*0.5\n",
    "polygons_water = []\n",
    "for (yi, bati) in zip(yc, bat):\n",
    "    y1 = yi - dy2\n",
    "    y2 = yi + dy2\n",
    "    polygons_water.append(Polygon(np.array([[y1, y2, y2, y1], \n",
    "                                            [0.0, 0.0, bati, bati]]).T,\n",
    "                                             props={'density': d1 - d1}))\n",
    "polygons_sed = []\n",
    "sed = zs + bat\n",
    "for (yi, bati, si) in zip(yc, bat, sed):\n",
    "    y1 = yi - dy2\n",
    "    y2 = yi + dy2\n",
    "    polygons_sed.append(Polygon(np.array([[y1, y2, y2, y1], \n",
    "                                          [bati, bati, si, si]]).T,\n",
    "                                           props={'density': d1 - d1}))\n",
    "polygons_mantle = []\n",
    "S = S0 - zm\n",
    "for (yi, Si) in zip(yc, S):\n",
    "    y1 = yi - dy2\n",
    "    y2 = yi + dy2\n",
    "    polygons_mantle.append(Polygon(np.array([[y1, y2, y2, y1], \n",
    "                                             [Si, Si, S0, S0]]).T,\n",
    "                                              props={'density': d2 - d1}))\n",
    "polygons_crust = []\n",
    "for (yi, si, Si) in zip(yc, sed, S):\n",
    "    y1 = yi - dy2\n",
    "    y2 = yi + dy2\n",
    "    polygons_crust.append(Polygon(np.array([[y1, y2, y2, y1], \n",
    "                                            [si, si, Si, Si]]).T,\n",
    "                                             props={'density': d1 - d1}))\n",
    "    \n",
    "mpl.close('all')\n",
    "mpl.figure(figsize=(15,10))\n",
    "\n",
    "mpl.title('Sedimentary basin', fontsize=18)\n",
    "\n",
    "colors = np.hstack((d1, d2))\n",
    "levels = plt.contourf(np.reshape(colors, (colors.size, 1)), 20, \n",
    "                      cmap=mpl.get_cmap('Greys'))\n",
    "cb = mpl.colorbar(orientation='horizontal', format='%.0f', pad=0.2)\n",
    "cb.set_label('Density (kg/m$^{3}$)', fontsize=16)\n",
    "dmax = np.max(levels.levels)\n",
    "dmin = np.min(levels.levels)\n",
    "c1 = []\n",
    "for i in range(n):\n",
    "    c1.append((dmax - d1)/(dmax - dmin))\n",
    "c2 = ((dmax - d2)/(dmax - dmin))\n",
    "        \n",
    "\n",
    "mpl.paths([[ycmin, 0.0]], [[ycmax, 0.0]], style='-k', linewidth=1)\n",
    "\n",
    "for (pwi, c1i) in zip(polygons_water, c1):\n",
    "    mpl.polygon(pwi, style='-k', linewidth=0, fill=(c1i, c1i, c1i))\n",
    "for (psi, c1i) in zip(polygons_sed, c1):\n",
    "    mpl.polygon(psi, style='-k', linewidth=0, fill=(c1i, c1i, c1i))\n",
    "for (pmi, c2i) in zip(polygons_mantle, c2):\n",
    "    mpl.polygon(pmi, style='-k', linewidth=0, fill=(c2i, c2i, c2i))\n",
    "for (pci, c1i) in zip(polygons_crust, c1):\n",
    "    mpl.polygon(pci, style='-k', linewidth=0, fill=(c1i, c1i, c1i))\n",
    "\n",
    "mpl.paths([[ycmin, bat]], [[ycmax, bat]], style='-.k', linewidth=1)\n",
    "mpl.paths([[ycmin, sed]], [[ycmax, sed]], style='-.k', linewidth=1)\n",
    "mpl.paths([[ycmin, S-sed]], [[ycmax, S-sed]], style='-.k', linewidth=1)\n",
    "mpl.paths([[ycmin, S0]], [[ycmax, S0]], style='--w', linewidth=1)\n",
    "mpl.ylim(S0+2*dS0, zmin)\n",
    "mpl.xlim(ycmin, ycmax)\n",
    "mpl.xlabel('y (km)', fontsize=16)\n",
    "mpl.ylabel('z (km)', fontsize=16)\n",
    "mpl.xticks(fontsize=14)\n",
    "mpl.yticks(fontsize=14)\n",
    "mpl.m2km()\n",
    "mpl.tight_layout()\n",
    "mpl.show() "
   ]
  },
  {
   "cell_type": "code",
   "execution_count": null,
   "metadata": {
    "collapsed": true
   },
   "outputs": [],
   "source": []
  }
 ],
 "metadata": {
  "anaconda-cloud": {},
  "kernelspec": {
   "display_name": "Python 2",
   "language": "python",
   "name": "python2"
  },
  "language_info": {
   "codemirror_mode": {
    "name": "ipython",
    "version": 2
   },
   "file_extension": ".py",
   "mimetype": "text/x-python",
   "name": "python",
   "nbconvert_exporter": "python",
   "pygments_lexer": "ipython2",
   "version": "2.7.13"
  }
 },
 "nbformat": 4,
 "nbformat_minor": 1
}
