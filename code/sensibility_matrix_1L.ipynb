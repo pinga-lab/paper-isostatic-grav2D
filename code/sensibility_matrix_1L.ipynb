{
 "cells": [
  {
   "cell_type": "markdown",
   "metadata": {},
   "source": [
    "# Sensibility Matrix - G"
   ]
  },
  {
   "cell_type": "markdown",
   "metadata": {},
   "source": [
    "Este [IPython Notebook](http://ipython.org/videos.html#the-ipython-notebook) utiliza a biblioteca de código aberto [Fatiando a Terra](http://fatiando.org/)"
   ]
  },
  {
   "cell_type": "code",
   "execution_count": 1,
   "metadata": {},
   "outputs": [
    {
     "name": "stderr",
     "output_type": "stream",
     "text": [
      "/Users/macelabastos/anaconda2/lib/python2.7/site-packages/fatiando/vis/mpl.py:76: UserWarning: This module will be removed in v0.6. We recommend the use of matplotlib.pyplot module directly. Some of the fatiando specific functions will remain.\n",
      "  \"specific functions will remain.\")\n"
     ]
    }
   ],
   "source": [
    "#%matplotlib inline\n",
    "import numpy as np\n",
    "from scipy.misc import derivative\n",
    "import scipy as spy\n",
    "from scipy import interpolate\n",
    "import matplotlib\n",
    "matplotlib.use('TkAgg', force=True)\n",
    "import matplotlib.pyplot as plt\n",
    "import math\n",
    "import cPickle as pickle\n",
    "import datetime\n",
    "#from IPython.display import Image as img\n",
    "#from IPython.display import Markdown as md\n",
    "#from IPython.display import display as dp\n",
    "import string as st\n",
    "\n",
    "from scipy.misc import imread\n",
    "\n",
    "from __future__ import division\n",
    "\n",
    "from fatiando import gravmag, mesher, utils, gridder\n",
    "from fatiando.mesher import Prism, Polygon\n",
    "from fatiando.gravmag import prism\n",
    "from fatiando.utils import ang2vec, si2nt, contaminate\n",
    "from fatiando.gridder import regular\n",
    "from fatiando.vis import mpl\n",
    "\n",
    "from numpy.testing import assert_almost_equal\n",
    "from numpy.testing import assert_array_almost_equal\n",
    "from pytest import raises\n",
    "\n",
    "plt.rc('font', size=16)"
   ]
  },
  {
   "cell_type": "code",
   "execution_count": 2,
   "metadata": {},
   "outputs": [],
   "source": [
    "import functions as fc"
   ]
  },
  {
   "cell_type": "code",
   "execution_count": 3,
   "metadata": {
    "collapsed": true
   },
   "outputs": [],
   "source": [
    "# Model`s limits\n",
    "ymin = 0.0\n",
    "ymax = 100000.0\n",
    "zmin = -1000.0\n",
    "zmax = 100000.0\n",
    "xmin = -100000.0\n",
    "xmax =  100000.0\n",
    "\n",
    "area = [ymin, ymax, zmax, zmin]"
   ]
  },
  {
   "cell_type": "code",
   "execution_count": 4,
   "metadata": {
    "collapsed": true
   },
   "outputs": [],
   "source": [
    "ny = 10 # number of observation datas and number of prisms along the profile\n",
    "# coordinates defining the horizontal boundaries of the\n",
    "# adjacent columns along the profile\n",
    "y = np.linspace(ymin, ymax, ny)"
   ]
  },
  {
   "cell_type": "code",
   "execution_count": 5,
   "metadata": {
    "collapsed": true
   },
   "outputs": [],
   "source": [
    "# coordinates of the center of the columns forming the\n",
    "# interpretation model\n",
    "n = ny - 1\n",
    "dy = (ymax - ymin)/n\n",
    "ycmin = ymin + 0.5*dy\n",
    "ycmax = ymax - 0.5*dy\n",
    "yc = np.reshape(np.linspace(ycmin, ycmax, n),(n,1))\n",
    "x = np.zeros_like(yc)\n",
    "z = np.zeros_like(yc)-150.0"
   ]
  },
  {
   "cell_type": "code",
   "execution_count": 6,
   "metadata": {
    "collapsed": true
   },
   "outputs": [],
   "source": [
    "## Edge extension (observation coordinates)\n",
    "sigma = 0.5\n",
    "edge = sigma*dy*n"
   ]
  },
  {
   "cell_type": "code",
   "execution_count": 7,
   "metadata": {},
   "outputs": [],
   "source": [
    "# Model densities\n",
    "# Indices and polygons relationship:\n",
    "# cc = continental crust layer\n",
    "# oc = ocean crust layer\n",
    "# w = water layer\n",
    "# s = sediment layer\n",
    "# m = mantle layer\n",
    "dw = np.array([1030.0])\n",
    "ds0 = np.array([2550.0])\n",
    "dcc = np.array([2670.0])\n",
    "doc = np.array([2840.0])\n",
    "dm = np.array([3200.0])\n",
    "#dc = dcc\n",
    "# coordinate defining the horizontal boundaries of the continent-ocean boundary\n",
    "COT = 60000.0\n",
    "\n",
    "# list defining crust density variance\n",
    "dc = np.zeros_like(yc)\n",
    "aux = yc <= COT\n",
    "for i in range(len(yc[aux])):\n",
    "    dc[i] = dcc\n",
    "for i in range(len(yc[aux]),n):\n",
    "    dc[i] = doc\n",
    "# defining sediments layers density matrix\n",
    "ds = np.reshape(np.repeat(ds0,n),(n,1))\n",
    "    \n",
    "# S0 => isostatic compensation surface (Airy's model)\n",
    "# SR = S0+dS0 => reference Moho (Forward modeling)\n",
    "S0 = np.array([40000.0])\n",
    "dS0 = np.array([5000.0])\n",
    "\n",
    "pjmin = np.array([-50.0]) \n",
    "pjmax = np.array([100000.0])\n",
    "dp = 1000."
   ]
  },
  {
   "cell_type": "code",
   "execution_count": 8,
   "metadata": {
    "collapsed": true
   },
   "outputs": [],
   "source": [
    "A = 500.\n",
    "B = 3500.\n",
    "c = 0.00009\n",
    "D = 20000.\n",
    "bathymetry = fc.bathymetry_function(A,B,c,D,yc)\n",
    "tw = bathymetry - 0.0"
   ]
  },
  {
   "cell_type": "raw",
   "metadata": {
    "scrolled": true
   },
   "source": [
    "mpl.close('all')\n",
    "axes = mpl.figure().add_subplot(1,1,1)\n",
    "mpl.ylim(zmax, zmin)\n",
    "mpl.xlim(ymin, ymax)\n",
    "mpl.xlabel('y (m)')\n",
    "mpl.ylabel('z (m)')\n",
    "mpl.paths([[ymin, 0.0]], [[ymax, 0.0]], style='-k', linewidth=1)\n",
    "mpl.plot(yc, bathymetry, '-b', linewidth=1)\n",
    "mpl.plot(yc, sediments_limit, '--r', linewidth=1)\n",
    "\n",
    "draw = mpl.draw_polygon(area, axes, color='r')"
   ]
  },
  {
   "cell_type": "raw",
   "metadata": {},
   "source": [
    "draw"
   ]
  },
  {
   "cell_type": "code",
   "execution_count": 9,
   "metadata": {
    "collapsed": true
   },
   "outputs": [],
   "source": [
    "sediments = np.array([[  6250.        ,  19331.16883117],\n",
    "       [ 21774.19354839,  17418.29004329],\n",
    "       [ 38911.29032258,  16325.21645022],\n",
    "       [ 63306.4516129 ,  14685.60606061],\n",
    "       [ 92741.93548387,  13592.53246753]])"
   ]
  },
  {
   "cell_type": "code",
   "execution_count": 10,
   "metadata": {
    "collapsed": true
   },
   "outputs": [],
   "source": [
    "# change the coordinates of the extremum points in order to\n",
    "# avoid problems for constructing the interpolator\n",
    "sediments[0,0] = ymin\n",
    "sediments[-1,0] = ymax\n",
    "\n",
    "sediments_interpolated = fc.surface_interpolate_function(sediments,yc)\n",
    "\n",
    "ts = sediments_interpolated - tw"
   ]
  },
  {
   "cell_type": "code",
   "execution_count": 11,
   "metadata": {
    "collapsed": true
   },
   "outputs": [],
   "source": [
    "S = fc.moho_function(S0,dw,ds,dcc,dm,dc,tw,ts)\n",
    "\n",
    "tm = S0 - S\n",
    "\n",
    "toc = S - tw - ts #thickness of the oceanic crust along the profile"
   ]
  },
  {
   "cell_type": "code",
   "execution_count": 12,
   "metadata": {},
   "outputs": [
    {
     "name": "stdout",
     "output_type": "stream",
     "text": [
      "(9, 1) (9, 1) (1,) (1,)\n"
     ]
    }
   ],
   "source": [
    "print ts.shape, tm.shape, S0.shape, dS0.shape"
   ]
  },
  {
   "cell_type": "code",
   "execution_count": 13,
   "metadata": {
    "collapsed": true
   },
   "outputs": [],
   "source": [
    "psyn = []\n",
    "psyn = np.vstack((ts, tm, dS0))"
   ]
  },
  {
   "cell_type": "code",
   "execution_count": 14,
   "metadata": {
    "collapsed": true
   },
   "outputs": [],
   "source": [
    "# prisms calculation by Fatiando a Terra\n",
    "prism_w_syn = fc.prism_w_function(xmax,xmin,dy,edge,dw,dcc,tw,yc)\n",
    "prism_s_syn = fc.prism_s_function(xmax,xmin,dy,edge,ds,dcc,tw,psyn,yc)\n",
    "prism_c_syn = fc.prism_c_function(xmax,xmin,dy,edge,S0,dcc,dc,tw,psyn,yc)\n",
    "prism_m_syn = fc.prism_m_function(xmax,xmin,dy,edge,S0,dcc,dm,psyn,yc)"
   ]
  },
  {
   "cell_type": "code",
   "execution_count": 15,
   "metadata": {
    "collapsed": true
   },
   "outputs": [],
   "source": [
    "# z component of gravity calculation by Fatiando a Terra\n",
    "gzw_syn = prism.gz(np.reshape(x,(n,)),np.reshape(yc,(n,)),np.reshape(z,(n,)),prism_w_syn)\n",
    "gzs_syn = prism.gz(np.reshape(x,(n,)),np.reshape(yc,(n,)),np.reshape(z,(n,)),prism_s_syn[0])\n",
    "gzc_syn = prism.gz(np.reshape(x,(n,)),np.reshape(yc,(n,)),np.reshape(z,(n,)),prism_c_syn)\n",
    "gzm_syn = prism.gz(np.reshape(x,(n,)),np.reshape(yc,(n,)),np.reshape(z,(n,)),prism_m_syn)\n",
    "\n",
    "#Observed data calculation:\n",
    "gsyn = gzw_syn + gzs_syn + gzc_syn + gzm_syn\n",
    "#gsyn = fc.g_function(x,yc,z,gzw_syn,prism_s_syn,prism_c_syn,prism_m_syn)"
   ]
  },
  {
   "cell_type": "markdown",
   "metadata": {},
   "source": [
    "## Calcula matriz de sensibilidade com plot da variacao do parametro"
   ]
  },
  {
   "cell_type": "code",
   "execution_count": 16,
   "metadata": {},
   "outputs": [],
   "source": [
    "G1 = fc.G_matrix_function(xmax,xmin,dy,edge,1000.,1000.,S0,dw,ds,dm,dcc,dc,tw,psyn,yc)"
   ]
  },
  {
   "cell_type": "code",
   "execution_count": 17,
   "metadata": {},
   "outputs": [
    {
     "data": {
      "image/png": "[encoded data removed]",
      "text/plain": [
       "<matplotlib.figure.Figure at 0x18154015d0>"
      ]
     },
     "metadata": {},
     "output_type": "display_data"
    }
   ],
   "source": [
    "%matplotlib inline\n",
    "G2 = fc.G_matrix_function_all(xmax,xmin,dy,edge,1000.,1000.,COT,S0,dw,ds,dm,dcc,dc,tw,psyn,yc,area,11)"
   ]
  },
  {
   "cell_type": "markdown",
   "metadata": {},
   "source": [
    "## Compara dois metodos de calculo da matriz sensibilidade"
   ]
  },
  {
   "cell_type": "code",
   "execution_count": 18,
   "metadata": {},
   "outputs": [],
   "source": [
    "assert_array_almost_equal(G1, G2, decimal=3)"
   ]
  },
  {
   "cell_type": "code",
   "execution_count": null,
   "metadata": {
    "collapsed": true
   },
   "outputs": [],
   "source": []
  }
 ],
 "metadata": {
  "anaconda-cloud": {},
  "kernelspec": {
   "display_name": "Python 2",
   "language": "python",
   "name": "python2"
  },
  "language_info": {
   "codemirror_mode": {
    "name": "ipython",
    "version": 2
   },
   "file_extension": ".py",
   "mimetype": "text/x-python",
   "name": "python",
   "nbconvert_exporter": "python",
   "pygments_lexer": "ipython2",
   "version": "2.7.13"
  }
 },
 "nbformat": 4,
 "nbformat_minor": 2
}
