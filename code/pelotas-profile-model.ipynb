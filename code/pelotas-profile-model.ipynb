{
 "cells": [
  {
   "cell_type": "markdown",
   "metadata": {},
   "source": [
    "# 2D Isostatic gravity inversion - Interpretation Model"
   ]
  },
  {
   "cell_type": "markdown",
   "metadata": {},
   "source": [
    "Este [IPython Notebook](http://ipython.org/videos.html#the-ipython-notebook) utiliza a biblioteca de código aberto [Fatiando a Terra](http://fatiando.org/)"
   ]
  },
  {
   "cell_type": "raw",
   "metadata": {},
   "source": [
    "Interpretation model of Pelotas Basin."
   ]
  },
  {
   "cell_type": "code",
   "execution_count": 1,
   "metadata": {},
   "outputs": [
    {
     "name": "stderr",
     "output_type": "stream",
     "text": [
      "/Users/macelabastos/anaconda2/lib/python2.7/site-packages/fatiando/vis/mpl.py:76: UserWarning: This module will be removed in v0.6. We recommend the use of matplotlib.pyplot module directly. Some of the fatiando specific functions will remain.\n",
      "  \"specific functions will remain.\")\n"
     ]
    }
   ],
   "source": [
    "#%matplotlib inline\n",
    "import numpy as np\n",
    "from scipy.misc import derivative\n",
    "import scipy as spy\n",
    "from scipy import interpolate\n",
    "import matplotlib\n",
    "matplotlib.use('TkAgg', force=True)\n",
    "import matplotlib.pyplot as plt\n",
    "import math\n",
    "import cPickle as pickle\n",
    "import datetime\n",
    "import string as st\n",
    "\n",
    "from scipy.misc import imread\n",
    "\n",
    "from __future__ import division\n",
    "\n",
    "from fatiando import gravmag, mesher, utils, gridder\n",
    "from fatiando.mesher import Prism, Polygon\n",
    "from fatiando.gravmag import prism\n",
    "from fatiando.utils import ang2vec, si2nt, contaminate\n",
    "from fatiando.gridder import regular, profile\n",
    "from fatiando.vis import mpl\n",
    "\n",
    "from numpy.testing import assert_almost_equal\n",
    "from numpy.testing import assert_array_almost_equal\n",
    "from pytest import raises\n",
    "\n",
    "plt.rc('font', size=16)"
   ]
  },
  {
   "cell_type": "code",
   "execution_count": 2,
   "metadata": {
    "collapsed": true
   },
   "outputs": [],
   "source": [
    "import functions as fc"
   ]
  },
  {
   "cell_type": "markdown",
   "metadata": {},
   "source": [
    "## Observation coordinates."
   ]
  },
  {
   "cell_type": "code",
   "execution_count": 3,
   "metadata": {
    "collapsed": true
   },
   "outputs": [],
   "source": [
    "# Model`s limits\n",
    "ymin = 0.0\n",
    "ymax = 383000.0\n",
    "zmin = -1000.0\n",
    "zmax = 45000.0\n",
    "#zmax = 40000.0\n",
    "xmin = -100000.0\n",
    "xmax = 100000.0\n",
    "\n",
    "area = [ymin, ymax, zmax, zmin]"
   ]
  },
  {
   "cell_type": "code",
   "execution_count": 4,
   "metadata": {
    "collapsed": true
   },
   "outputs": [],
   "source": [
    "ny = 150 # number of observation datas and number of prisms along the profile\n",
    "# coordinates defining the horizontal boundaries of the\n",
    "# adjacent columns along the profile\n",
    "y = np.linspace(ymin, ymax, ny)"
   ]
  },
  {
   "cell_type": "code",
   "execution_count": 5,
   "metadata": {
    "collapsed": true
   },
   "outputs": [],
   "source": [
    "# coordinates of the center of the columns forming the\n",
    "# interpretation model\n",
    "n = ny - 1\n",
    "dy = (ymax - ymin)/n\n",
    "ycmin = ymin + 0.5*dy\n",
    "ycmax = ymax - 0.5*dy\n",
    "yc = np.reshape(np.linspace(ycmin, ycmax, n),(n,1))\n",
    "x = np.zeros_like(yc)\n",
    "z = np.zeros_like(yc)-150.0"
   ]
  },
  {
   "cell_type": "code",
   "execution_count": 6,
   "metadata": {
    "collapsed": true
   },
   "outputs": [],
   "source": [
    "## Edge extension (observation coordinates)\n",
    "sigma = 2.0\n",
    "edge = sigma*dy*n"
   ]
  },
  {
   "cell_type": "markdown",
   "metadata": {},
   "source": [
    "## Model parameters"
   ]
  },
  {
   "cell_type": "code",
   "execution_count": 7,
   "metadata": {
    "collapsed": true
   },
   "outputs": [],
   "source": [
    "# Model densities\n",
    "# Indices and polygons relationship:\n",
    "# cc = continental crust layer\n",
    "# oc = ocean crust layer\n",
    "# w = water layer\n",
    "# s = sediment layer\n",
    "# m = mantle layer\n",
    "dw = np.array([1030.0])\n",
    "ds0 = np.array([2350.0])\n",
    "ds1 = np.array([2855.0])\n",
    "dcc = np.array([2870.0])\n",
    "doc = np.array([2885.0])\n",
    "dm = np.array([3240.0])\n",
    "#dc = dcc\n",
    "# coordinate defining the horizontal boundaries of the continent-ocean boundary\n",
    "COT = 350000.0\n",
    "# list defining crust density variance\n",
    "dc = np.zeros_like(yc)\n",
    "aux = yc <= COT\n",
    "for i in range(len(yc[aux])):\n",
    "    dc[i] = dcc\n",
    "for i in range(len(yc[aux]),n):\n",
    "    dc[i] = doc    \n",
    "# defining sediments layers density matrix\n",
    "ds = np.vstack((np.reshape(np.repeat(ds0,n),(1,n)),np.reshape(np.repeat(ds1,n),(1,n))))\n",
    "\n",
    "# S0 => isostatic compensation surface (Airy's model)\n",
    "# SR = S0+dS0 => reference Moho (Forward modeling)\n",
    "S0 = np.array([41000.0])\n",
    "dS0 = np.array([2200.0])"
   ]
  },
  {
   "cell_type": "markdown",
   "metadata": {},
   "source": [
    "## For display"
   ]
  },
  {
   "cell_type": "raw",
   "metadata": {
    "collapsed": true
   },
   "source": [
    "img = imread('../data/fig/zalan[2015]_fig2_cropped.png')"
   ]
  },
  {
   "cell_type": "raw",
   "metadata": {
    "collapsed": true
   },
   "source": [
    "shape=(499,1320)\n",
    "extent = [ymin, ymax, zmax, 0.0]\n",
    "def calculate_aspect(shape,extent):\n",
    "    dx = (abs(extent[1] - extent[0]))/float(shape[1])\n",
    "    dy = (abs(extent[3] - extent[2]))/float(shape[0])\n",
    "    return dx/dy"
   ]
  },
  {
   "cell_type": "raw",
   "metadata": {
    "collapsed": true
   },
   "source": [
    "img = imread('../data/fig/L130.jpeg')"
   ]
  },
  {
   "cell_type": "raw",
   "metadata": {
    "collapsed": true
   },
   "source": [
    "shape=(719,1238)\n",
    "extent = [ymin, ymax, zmax, 0.0]\n",
    "def calculate_aspect(shape,extent):\n",
    "    dx = (abs(extent[1] - extent[0]))/float(shape[1])\n",
    "    dy = (abs(extent[3] - extent[2]))/float(shape[0])\n",
    "    return dx/dy"
   ]
  },
  {
   "cell_type": "markdown",
   "metadata": {},
   "source": [
    "## Water bottom"
   ]
  },
  {
   "cell_type": "code",
   "execution_count": 8,
   "metadata": {
    "collapsed": true
   },
   "outputs": [],
   "source": [
    "# layer water thickness\n",
    "bathymetry = np.reshape(np.loadtxt('../data/etopo1-pelotas.txt'),(n,1))\n",
    "tw = 0.0 - bathymetry"
   ]
  },
  {
   "cell_type": "markdown",
   "metadata": {},
   "source": [
    "# Sediments surfaces"
   ]
  },
  {
   "cell_type": "raw",
   "metadata": {},
   "source": [
    "mpl.close('all')\n",
    "\n",
    "axes = mpl.subplot(1,1,1)\n",
    "mpl.ylim(zmax, zmin)\n",
    "mpl.xlim(ymin, ymax)\n",
    "mpl.xticks(fontsize=12)\n",
    "mpl.yticks(fontsize=12)\n",
    "mpl.xlabel('y (km)')\n",
    "mpl.ylabel('z (km)')\n",
    "#mpl.imshow(img, extent=[ymin, ymax, zmax, 0.0], alpha=0.3)\n",
    "mpl.imshow(img, extent=extent, aspect=calculate_aspect(shape,extent), alpha=1.0)\n",
    "mpl.plot(yc, tw, '-b', linewidth=1)\n",
    "#mpl.plot(yc, toi_old, '-b', linewidth=1)\n",
    "#mpl.plot(yc, toi_new, '-b', linewidth=1)\n",
    "mpl.paths([[ymin, 0.0]], [[ymax, 0.0]], style='og', linewidth=0)\n",
    "mpl.m2km()\n",
    "\n",
    "toi_picks = mpl.draw_polygon(area, axes, marker='.', color='r')"
   ]
  },
  {
   "cell_type": "raw",
   "metadata": {},
   "source": [
    "toi_picks"
   ]
  },
  {
   "cell_type": "code",
   "execution_count": 9,
   "metadata": {
    "collapsed": true
   },
   "outputs": [],
   "source": [
    "toi_picks = np.array([[   1544.35483871,    3462.69959273],\n",
    "       [   8880.04032258,    2262.71898636],\n",
    "       [  15057.45967742,    1422.7325619 ],\n",
    "       [  23551.41129032,    1302.73450126],\n",
    "       [  33203.62903226,    1542.73062254],\n",
    "       [  69882.05645161,    4100.00000000],\n",
    "       [  80000.00000000,     4500.0000000],\n",
    "       [  90000.00000000,     5000.0000000],\n",
    "       [ 135073.58870968,    6142.67244166],\n",
    "       [ 143238.91129032,    7400.00000000],\n",
    "       [ 220842.74193548,    7062.64141186],\n",
    "       [ 297674.39516129,    7028.44196457],\n",
    "       [ 306940.52419355,    7028.44196457],\n",
    "       [ 318909.27419355,    7148.44002521],\n",
    "       [ 324700.60483871,    7148.44002521],\n",
    "       [ 327789.31451613,    6908.44390394],\n",
    "       [ 332036.29032258,    7268.43808585],\n",
    "       [ 335897.17741935,    7028.44196457],\n",
    "       [ 337055.44354839,    6788.4458433 ],\n",
    "       [ 341302.41935484,    6908.44390394],\n",
    "       [ 345163.30645161,    6548.44972202],\n",
    "       [ 347479.83870968,    6548.44972202],\n",
    "       [ 354815.52419355,    7028.44196457],\n",
    "       [ 359062.5       ,    6908.44390394],\n",
    "       [ 363309.47580645,    6668.44778266],\n",
    "       [ 365239.91935484,    6548.44972202],\n",
    "       [ 367942.54032258,    6548.44972202],\n",
    "       [ 372189.51612903,    6668.44778266],\n",
    "       [ 376050.40322581,    6668.44778266],\n",
    "       [ 381455.64516129,    6548.44972202]])"
   ]
  },
  {
   "cell_type": "code",
   "execution_count": 10,
   "metadata": {
    "collapsed": true
   },
   "outputs": [],
   "source": [
    "# change the coordinates of the extremum points in order to\n",
    "# avoid problems for constructing the interpolator\n",
    "toi_picks[0,0] = ymin\n",
    "toi_picks[-1,0] = ymax"
   ]
  },
  {
   "cell_type": "code",
   "execution_count": 11,
   "metadata": {
    "collapsed": true
   },
   "outputs": [],
   "source": [
    "toi = fc.surface_interpolate_function(toi_picks,yc)\n",
    "for i in range(len(toi)):\n",
    "    if toi[i] < tw[i]:\n",
    "        toi[i] = tw[i]"
   ]
  },
  {
   "cell_type": "raw",
   "metadata": {
    "collapsed": true
   },
   "source": [
    "np.savetxt('../data/pelotas-profile-interpreted-toi-surface.txt', toi, fmt='%.18f')"
   ]
  },
  {
   "cell_type": "code",
   "execution_count": 12,
   "metadata": {
    "collapsed": true
   },
   "outputs": [],
   "source": [
    "# layer sediments thickness\n",
    "ts0 = toi - tw"
   ]
  },
  {
   "cell_type": "raw",
   "metadata": {
    "collapsed": true
   },
   "source": [
    "mpl.close('all')\n",
    "\n",
    "axes = mpl.subplot(1,1,1)\n",
    "mpl.ylim(zmax, zmin)\n",
    "mpl.xlim(ymin, ymax)\n",
    "mpl.xticks(fontsize=12)\n",
    "mpl.yticks(fontsize=12)\n",
    "mpl.xlabel('y (km)')\n",
    "mpl.ylabel('z (km)')\n",
    "#mpl.imshow(img, extent=[ymin, ymax, zmax, 0.0], alpha=0.3)\n",
    "mpl.imshow(img, extent=extent, aspect=calculate_aspect(shape,extent), alpha=1.0)\n",
    "mpl.plot(yc, toi, '-b', linewidth=1)\n",
    "mpl.plot(yc, basement, '--b', linewidth=1)\n",
    "mpl.plot(yc, moho, '-b', linewidth=1)\n",
    "mpl.paths([[ymin, 0.0]], [[ymax, 0.0]], style='og', linewidth=0)\n",
    "mpl.m2km()\n",
    "\n",
    "basement_picks = mpl.draw_polygon(area, axes, marker='.', color='r')"
   ]
  },
  {
   "cell_type": "raw",
   "metadata": {
    "collapsed": true
   },
   "source": [
    "basement_picks"
   ]
  },
  {
   "cell_type": "code",
   "execution_count": 13,
   "metadata": {
    "collapsed": true
   },
   "outputs": [],
   "source": [
    "basement_picks = np.array([[   1158.26612903,    3000.00],\n",
    "       [   8880.04032258,    2588.51372099],\n",
    "       [  14671.37096774,    1748.52729653],\n",
    "       [  18918.34677419,    1988.5234178 ],\n",
    "       [  26640.12096774,    3548.49820609],\n",
    "       [  43241.93548387,   13628.33529963],\n",
    "       [  55982.86290323,   20348.22669533],\n",
    "       [  63318.5483871 ,   23228.18015062],\n",
    "       [  70654.23387097,   25388.1452421 ],\n",
    "       [  76059.47580645,   24428.160757  ],\n",
    "       [  81850.80645161,   25988.13554528],\n",
    "       [  86483.87096774,   26348.1297272 ],\n",
    "       [  89958.66935484,   25628.14136337],\n",
    "       [  99996.97580645,   18908.24996768],\n",
    "       [ 103085.68548387,   19028.24802831],\n",
    "       [ 106560.48387097,   20108.23057405],\n",
    "       [ 110421.37096774,   20108.23057405],\n",
    "       [ 113896.16935484,   19028.24802831],\n",
    "       [ 122004.03225806,   16868.28293684],\n",
    "       [ 129725.80645161,   12548.35275389],\n",
    "       [ 132814.51612903,   12788.34887517],\n",
    "       [ 134744.95967742,   13028.34499644],\n",
    "       [ 137447.58064516,   12308.35663262],\n",
    "       [ 141694.55645161,   12548.35275389],\n",
    "       [ 146713.70967742,   13388.33917836],\n",
    "       [ 149030.24193548,   13508.33723899],\n",
    "       [ 152891.12903226,   12788.34887517],\n",
    "       [ 155979.83870968,   12668.35081453],\n",
    "       [ 157910.28225806,   12668.35081453],\n",
    "       [ 162929.43548387,   13508.33723899],\n",
    "       [ 167562.5       ,   13748.33336027],\n",
    "       [ 169879.03225806,   13148.34305708],\n",
    "       [ 176828.62903226,   13148.34305708],\n",
    "       [ 181075.60483871,   13148.34305708],\n",
    "       [ 188025.2016129 ,   14108.32754218],\n",
    "       [ 191113.91129032,   14108.32754218],\n",
    "       [ 195360.88709677,   14348.32366346],\n",
    "       [ 200380.04032258,   14828.31590601],\n",
    "       [ 203854.83870968,   15548.30426983],\n",
    "       [ 205399.19354839,   15068.31202728],\n",
    "       [ 207715.72580645,   16268.29263365],\n",
    "       [ 210418.34677419,   17228.27711875],\n",
    "       [ 213120.96774194,   17348.27517939],\n",
    "       [ 217367.94354839,   17228.27711875],\n",
    "       [ 221614.91935484,   15548.30426983],\n",
    "       [ 223545.36290323,   15548.30426983],\n",
    "       [ 228950.60483871,   16148.29457302],\n",
    "       [ 232039.31451613,   16388.29069429],\n",
    "       [ 234355.84677419,   16268.29263365],\n",
    "       [ 237444.55645161,   17108.27905812],\n",
    "       [ 239375.        ,   17108.27905812],\n",
    "       [ 245166.33064516,   16028.29651238],\n",
    "       [ 248641.12903226,   15068.31202728],\n",
    "       [ 250957.66129032,   13868.33142091],\n",
    "       [ 252888.10483871,   13988.32948154],\n",
    "       [ 255976.81451613,   14948.31396664],\n",
    "       [ 262154.23387097,   13508.33723899],\n",
    "       [ 265629.03225806,   15068.31202728],\n",
    "       [ 268331.65322581,   15668.30233047],\n",
    "       [ 274122.98387097,   16148.29457302],\n",
    "       [ 276825.60483871,   15428.30620919],\n",
    "       [ 280686.49193548,   13748.33336027],\n",
    "       [ 283389.11290323,   12188.35857198],\n",
    "       [ 286863.91129032,   14468.32172409],\n",
    "       [ 293041.33064516,   15908.29845174],\n",
    "       [ 300763.10483871,   16508.28875493],\n",
    "       [ 309643.14516129,   16268.29263365],\n",
    "       [ 321997.98387097,   15188.31008792],\n",
    "       [ 328947.58064516,   13148.34305708],\n",
    "       [ 332036.29032258,   10988.37796561],\n",
    "       [ 333966.73387097,    7628.43226776],\n",
    "       [ 334352.82258065,    4988.47493374],\n",
    "       [ 382613.91129032,    5108.47299438]])"
   ]
  },
  {
   "cell_type": "code",
   "execution_count": 14,
   "metadata": {
    "collapsed": true
   },
   "outputs": [],
   "source": [
    "# change the coordinates of the extremum points in order to\n",
    "# avoid problems for constructing the interpolator\n",
    "basement_picks[0,0] = ymin\n",
    "basement_picks[-1,0] = ymax"
   ]
  },
  {
   "cell_type": "code",
   "execution_count": 15,
   "metadata": {
    "collapsed": true
   },
   "outputs": [],
   "source": [
    "basement = fc.surface_interpolate_function(basement_picks,yc)\n",
    "for i in range(len(basement)):\n",
    "    if basement[i] < toi[i]:\n",
    "        basement[i] = toi[i]"
   ]
  },
  {
   "cell_type": "raw",
   "metadata": {
    "collapsed": true
   },
   "source": [
    "np.savetxt('../data/pelotas-profile-interpreted-basement-surface.txt', basement, fmt='%.18f')"
   ]
  },
  {
   "cell_type": "code",
   "execution_count": 16,
   "metadata": {
    "collapsed": true
   },
   "outputs": [],
   "source": [
    "# layer igneous thickness\n",
    "ts1 = basement - toi"
   ]
  },
  {
   "cell_type": "code",
   "execution_count": 17,
   "metadata": {
    "collapsed": true
   },
   "outputs": [],
   "source": [
    "# thickness sediments vector\n",
    "ts = np.vstack((np.reshape(ts0,(1,n)),np.reshape(ts1,(1,n))))"
   ]
  },
  {
   "cell_type": "markdown",
   "metadata": {},
   "source": [
    "## Moho surface"
   ]
  },
  {
   "cell_type": "raw",
   "metadata": {},
   "source": [
    "mpl.close('all')\n",
    "\n",
    "axes = mpl.subplot(1,1,1)\n",
    "mpl.ylim(zmax+10000., zmin)\n",
    "mpl.xlim(ymin, ymax)\n",
    "mpl.xticks(fontsize=12)\n",
    "mpl.yticks(fontsize=12)\n",
    "mpl.xlabel('y (km)')\n",
    "mpl.ylabel('z (km)')\n",
    "#mpl.imshow(img, extent=[ymin, ymax, zmax, 0.0], alpha=0.3)\n",
    "mpl.imshow(img, extent=extent, aspect=calculate_aspect(shape,extent), alpha=1.0)\n",
    "mpl.plot(yc, tw, '-b', linewidth=1)\n",
    "#mpl.plot(yc, toi, '-b', linewidth=1)\n",
    "#mpl.plot(yc, basement, '-g', linewidth=1)\n",
    "#mpl.plot(yc, moho, '--g', linewidth=1)\n",
    "mpl.paths([[ymin, 0.0]], [[ymax, 0.0]], style='og', linewidth=0)\n",
    "mpl.m2km()\n",
    "area2 = [ymin, ymax, zmax+10000., zmin]\n",
    "moho_picks = mpl.draw_polygon(area2, axes, marker='.', color='r')"
   ]
  },
  {
   "cell_type": "raw",
   "metadata": {
    "collapsed": true
   },
   "source": [
    "moho_picks"
   ]
  },
  {
   "cell_type": "code",
   "execution_count": 18,
   "metadata": {
    "collapsed": true
   },
   "outputs": [],
   "source": [
    "moho_picks = np.array([[   1518.33556011,   37872.3690103 ],\n",
    "       [   9985.48495019,   37967.53246753],\n",
    "       [  18981.83117715,   37586.8786386 ],\n",
    "       [  34857.73628355,   36349.75369458],\n",
    "       [  56554.80659562,   34160.99417824],\n",
    "       [  75076.69588642,   32543.21540528],\n",
    "       [  88306.61680842,   31686.74429019],\n",
    "       [ 104182.52191482,   30830.2731751 ],\n",
    "       [ 118470.83651057,   29402.82131661],\n",
    "       [ 127996.37957441,   27309.2252575 ],\n",
    "       [ 138580.31631201,   24073.6677116 ],\n",
    "       [ 148105.85937585,   21313.92745186],\n",
    "       [ 173507.30754608,   21884.90819525],\n",
    "       [ 181445.26009928,   22931.70622481],\n",
    "       [ 192558.39367376,   23122.03313927],\n",
    "       [ 201554.73990072,   23217.19659651],\n",
    "       [ 207375.9051064 ,   23026.86968204],\n",
    "       [ 213726.26714896,   22360.72548142],\n",
    "       [ 221135.02286527,   21028.43708016],\n",
    "       [ 226426.99123407,   20267.1294223 ],\n",
    "       [ 231189.76276599,   20267.1294223 ],\n",
    "       [ 236481.73113479,   20647.78325123],\n",
    "       [ 242832.09317735,   21409.09090909],\n",
    "       [ 249182.45521991,   21409.09090909],\n",
    "       [ 253945.22675183,   21789.74473802],\n",
    "       [ 259237.19512063,   22265.56202418],\n",
    "       [ 271408.72236887,   22265.56202418],\n",
    "       [ 275642.2970639 ,   21789.74473802],\n",
    "       [ 278817.47808518,   21028.43708016],\n",
    "       [ 283580.2496171 ,   20933.27362293],\n",
    "       [ 289401.41482278,   19791.31213614],\n",
    "       [ 295751.77686534,   18459.02373489],\n",
    "       [ 299456.1547235 ,   18268.69682042],\n",
    "       [ 304748.1230923 ,   18839.67756382],\n",
    "       [ 312686.0756455 ,   19600.98522167],\n",
    "       [ 321682.42187246,   19886.47559337],\n",
    "       [ 332795.55544693,   19791.31213614],\n",
    "       [ 337029.13014197,   19600.98522167],\n",
    "       [ 342321.09851077,   18363.86027765],\n",
    "       [ 345496.27953205,   17412.22570533],\n",
    "       [ 380423.27076613,   17031.5718764 ]])"
   ]
  },
  {
   "cell_type": "code",
   "execution_count": 19,
   "metadata": {
    "collapsed": true
   },
   "outputs": [],
   "source": [
    "# change the coordinates of the extremum points in order to\n",
    "# avoid problems for constructing the interpolator\n",
    "moho_picks[0,0] = ymin\n",
    "moho_picks[-1,0] = ymax"
   ]
  },
  {
   "cell_type": "code",
   "execution_count": 20,
   "metadata": {
    "collapsed": true
   },
   "outputs": [],
   "source": [
    "moho = fc.surface_interpolate_function(moho_picks,yc)\n",
    "for i in range(len(moho)):\n",
    "    if moho[i] < basement[i]:\n",
    "        moho[i] = basement[i]"
   ]
  },
  {
   "cell_type": "code",
   "execution_count": 21,
   "metadata": {
    "collapsed": true
   },
   "outputs": [],
   "source": [
    "# layer mantle thickness\n",
    "tm = S0 - moho\n",
    "\n",
    "# layer crust thickness\n",
    "toc = moho - tw - ts0 - ts1"
   ]
  },
  {
   "cell_type": "raw",
   "metadata": {},
   "source": [
    "np.savetxt('../data/pelotas-profile-interpreted-moho-surface.txt', moho, fmt='%.18f')"
   ]
  },
  {
   "cell_type": "markdown",
   "metadata": {},
   "source": [
    "## Synthetic data"
   ]
  },
  {
   "cell_type": "code",
   "execution_count": 22,
   "metadata": {
    "collapsed": true
   },
   "outputs": [],
   "source": [
    "# parameters vector\n",
    "psyn = []\n",
    "psyn = np.vstack((ts1, tm, dS0))"
   ]
  },
  {
   "cell_type": "code",
   "execution_count": 23,
   "metadata": {
    "collapsed": true
   },
   "outputs": [],
   "source": [
    "# prisms calculation by Fatiando a Terra\n",
    "prism_w_syn = fc.prism_w_function(xmax,xmin,dy,edge,dw,dcc,tw,yc)\n",
    "prism_s_syn = fc.prism_s_function(xmax,xmin,dy,edge,ds,dcc,tw,psyn,yc,ts0,two_layers=True)\n",
    "prism_c_syn = fc.prism_c_function(xmax,xmin,dy,edge,S0,dcc,dc,tw,psyn,yc,ts0,two_layers=True)\n",
    "prism_m_syn = fc.prism_m_function(xmax,xmin,dy,edge,S0,dcc,dm,psyn,yc)"
   ]
  },
  {
   "cell_type": "code",
   "execution_count": 24,
   "metadata": {
    "collapsed": true
   },
   "outputs": [],
   "source": [
    "# z component of gravity calculation by Fatiando a Terra\n",
    "gzw_syn = prism.gz(np.reshape(x,(n,)),np.reshape(yc,(n,)),np.reshape(z,(n,)),prism_w_syn)\n",
    "gzs0_syn = prism.gz(np.reshape(x,(n,)),np.reshape(yc,(n,)),np.reshape(z,(n,)),prism_s_syn[1])\n",
    "gzs1_syn = prism.gz(np.reshape(x,(n,)),np.reshape(yc,(n,)),np.reshape(z,(n,)),prism_s_syn[2])\n",
    "gzc_syn = prism.gz(np.reshape(x,(n,)),np.reshape(yc,(n,)),np.reshape(z,(n,)),prism_c_syn)\n",
    "gzm_syn = prism.gz(np.reshape(x,(n,)),np.reshape(yc,(n,)),np.reshape(z,(n,)),prism_m_syn)\n",
    "\n",
    "#Observed data calculation:\n",
    "gsyn = gzw_syn + gzs0_syn + gzs1_syn + gzc_syn + gzm_syn\n",
    "#gsyn = fc.g_function(x,yc,z,gzw_syn,prism_s_syn,prism_c_syn,prism_m_syn)"
   ]
  },
  {
   "cell_type": "raw",
   "metadata": {
    "collapsed": true
   },
   "source": [
    "np.savetxt('../data/pelotas-profile-synthetic-gravity-data.txt', gsyn, fmt='%.18f')"
   ]
  },
  {
   "cell_type": "markdown",
   "metadata": {},
   "source": [
    "## Observed data"
   ]
  },
  {
   "cell_type": "raw",
   "metadata": {},
   "source": [
    "#xcoord = np.reshape(np.loadtxt('../data/EIGEN-6C4_santos_campos_pelotas_2km_51w_x.txt'),(648852,1))\n",
    "ycoord = np.loadtxt('../data/EIGEN-6C4_campos_pelotas_2km_ang2coord_51w_x.txt')\n",
    "xcoord = np.loadtxt('../data/EIGEN-6C4_campos_pelotas_2km_ang2coord_51w_y.txt')\n",
    "gz_xy = np.loadtxt('../data/EIGEN-6C4_campos_pelotas_2km_ang2coord_51w_gz.txt')"
   ]
  },
  {
   "cell_type": "raw",
   "metadata": {
    "collapsed": true
   },
   "source": [
    "point1 = [6930713.2906511000, 773335.4440998170]\n",
    "point2 = [6703542.0000000000, 1086594.000000000]"
   ]
  },
  {
   "cell_type": "raw",
   "metadata": {
    "collapsed": true
   },
   "source": [
    "gz_profile = profile(xcoord, ycoord, gz_xy, point1, point2, n, extrapolate=False)"
   ]
  },
  {
   "cell_type": "raw",
   "metadata": {
    "collapsed": true
   },
   "source": [
    "gobs = np.reshape(gz_profile[3],(n,1))"
   ]
  },
  {
   "cell_type": "raw",
   "metadata": {
    "collapsed": true
   },
   "source": [
    "#np.savetxt('../data/pelotas-gz-profile-x.txt', gz_profile[0], fmt='%.18f')\n",
    "#np.savetxt('../data/pelotas-gz-profile-y.txt', gz_profile[1], fmt='%.18f')\n",
    "np.savetxt('../data/pelotas-gz-profile-gz.txt', gz_profile[3], fmt='%.18f')"
   ]
  },
  {
   "cell_type": "code",
   "execution_count": 25,
   "metadata": {
    "collapsed": true
   },
   "outputs": [],
   "source": [
    "gobs = np.reshape(np.loadtxt('../data/pelotas-profile-gz.txt'),(n,1))"
   ]
  },
  {
   "cell_type": "markdown",
   "metadata": {},
   "source": [
    "## Model plot"
   ]
  },
  {
   "cell_type": "code",
   "execution_count": 26,
   "metadata": {
    "collapsed": true
   },
   "outputs": [],
   "source": [
    "polygons_water = []\n",
    "for (yi, twi) in zip(yc, tw):\n",
    "    y1 = yi - 0.5*dy\n",
    "    y2 = yi + 0.5*dy\n",
    "\n",
    "    polygons_water.append(Polygon(np.array([[y1, y2, y2, y1], \n",
    "                                            [0.0, 0.0, twi, twi]]).T,\n",
    "                                               props={'density': dw - dcc}))\n",
    "polygons_sediments0 = []\n",
    "for (yi, twi, s0i) in zip(yc, np.reshape(tw,(n,)), np.reshape(toi,(n,))):\n",
    "    y1 = yi - 0.5*dy\n",
    "    y2 = yi + 0.5*dy\n",
    "\n",
    "    polygons_sediments0.append(Polygon(np.array([[y1, y2, y2, y1], \n",
    "                                                [twi, twi, s0i, s0i]]).T,\n",
    "                                                    props={'density': ds0 - dcc}))\n",
    "    \n",
    "polygons_sediments1 = []\n",
    "for (yi, s0i, s1i) in zip(yc, np.reshape(toi,(n,)), np.reshape(basement,(n,))):\n",
    "    y1 = yi - 0.5*dy\n",
    "    y2 = yi + 0.5*dy\n",
    "\n",
    "    polygons_sediments1.append(Polygon(np.array([[y1, y2, y2, y1], \n",
    "                                                [s0i, s0i, s1i, s1i]]).T,\n",
    "                                                   props={'density': ds1 - dcc}))\n",
    "    \n",
    "polygons_crust = []\n",
    "for (yi, si, Si, dci) in zip(yc, np.reshape(basement,(n,)), np.reshape(moho,(n,)), dc):\n",
    "    y1 = yi - 0.5*dy\n",
    "    y2 = yi + 0.5*dy\n",
    "\n",
    "    polygons_crust.append(Polygon(np.array([[y1, y2, y2, y1], \n",
    "                                            [si, si, Si, Si]]).T,\n",
    "                                                props={'density': dci - dcc})) \n",
    "\n",
    "polygons_mantle = []\n",
    "for (yi, Si) in zip(yc, np.reshape(moho,(n,))):\n",
    "    y1 = yi - 0.5*dy\n",
    "    y2 = yi + 0.5*dy\n",
    "\n",
    "    polygons_mantle.append(Polygon(np.array([[y1, y2, y2, y1], \n",
    "                                                [Si, Si, S0+dS0, S0+dS0]]).T,\n",
    "                                                    props={'density': dm - dcc}))"
   ]
  },
  {
   "cell_type": "code",
   "execution_count": 27,
   "metadata": {},
   "outputs": [
    {
     "data": {
      "image/png": "[encoded data removed]",
      "text/plain": [
       "<matplotlib.figure.Figure at 0x1818fe2890>"
      ]
     },
     "metadata": {},
     "output_type": "display_data"
    }
   ],
   "source": [
    "%matplotlib inline\n",
    "plt.close('all')\n",
    "fig = plt.figure(figsize=(12,7))\n",
    "\n",
    "import matplotlib.gridspec as gridspec\n",
    "heights = [8, 1]\n",
    "gs = gridspec.GridSpec(2, 1, height_ratios=heights)\n",
    "ax1 = plt.subplot(gs[0])\n",
    "ax2 = plt.subplot(gs[1])\n",
    "\n",
    "ax1.axhline(y=0.0, xmin=ymin, xmax=ymax, color='k', linestyle='-', linewidth=1)\n",
    "aux = yc <= COT\n",
    "for (pwi) in (polygons_water):\n",
    "    tmpx = [x for x in pwi.x]\n",
    "    tmpx.append(pwi.x[0])\n",
    "    tmpy = [y for y in pwi.y]\n",
    "    tmpy.append(pwi.y[0])\n",
    "    ax1.plot(tmpx, tmpy, linestyle='None')\n",
    "    ax1.fill(tmpx, tmpy, color='lightskyblue')\n",
    "for (ps0i) in (polygons_sediments0):\n",
    "    tmpx = [x for x in ps0i.x]\n",
    "    tmpx.append(ps0i.x[0])\n",
    "    tmpy = [y for y in ps0i.y]\n",
    "    tmpy.append(ps0i.y[0])\n",
    "    ax1.plot(tmpx, tmpy, linestyle='None')\n",
    "    ax1.fill(tmpx, tmpy, color='tan')\n",
    "for (ps1i) in (polygons_sediments1):\n",
    "    tmpx = [x for x in ps1i.x]\n",
    "    tmpx.append(ps1i.x[0])\n",
    "    tmpy = [y for y in ps1i.y]\n",
    "    tmpy.append(ps1i.y[0])\n",
    "    ax1.plot(tmpx, tmpy, linestyle='None')\n",
    "    ax1.fill(tmpx, tmpy, color='rosybrown')\n",
    "for (pci) in (polygons_crust[:len(yc[aux])]):\n",
    "    tmpx = [x for x in pci.x]\n",
    "    tmpx.append(pci.x[0])\n",
    "    tmpy = [y for y in pci.y]\n",
    "    tmpy.append(pci.y[0])\n",
    "    ax1.plot(tmpx, tmpy, linestyle='None')\n",
    "    ax1.fill(tmpx, tmpy, color='orange')\n",
    "for (pcoi) in (polygons_crust[len(yc[aux]):n]):\n",
    "    tmpx = [x for x in pcoi.x]\n",
    "    tmpx.append(pcoi.x[0])\n",
    "    tmpy = [y for y in pcoi.y]\n",
    "    tmpy.append(pcoi.y[0])\n",
    "    ax1.plot(tmpx, tmpy, linestyle='None')\n",
    "    ax1.fill(tmpx, tmpy, color='olive')\n",
    "for (pmi) in (polygons_mantle):\n",
    "    tmpx = [x for x in pmi.x]\n",
    "    tmpx.append(pmi.x[0])\n",
    "    tmpy = [y for y in pmi.y]\n",
    "    tmpy.append(pmi.y[0])\n",
    "    ax1.plot(tmpx, tmpy, linestyle='None')\n",
    "    ax1.fill(tmpx, tmpy, color='pink')\n",
    "\n",
    "#ax1.axhline(y=S0, xmin=ymin, xmax=ymax, color='w', linestyle='--', linewidth=3)\n",
    "ax1.axhline(y=S0+dS0, xmin=ymin, xmax=ymax, color='k', linestyle='-', linewidth=3)\n",
    "#ax1.axvline(x=COT, ymin=ybottom, ymax=ytop, linestyle=':', color='w', linewidth=3, label='COT')\n",
    "ax1.plot(yc, tw, '-k', linewidth=3)\n",
    "ax1.plot(yc, toi, '-k', linewidth=3)\n",
    "ax1.plot(yc, basement, '-k', linewidth=3, label='true surfaces')\n",
    "ax1.plot(yc, moho, '-k', linewidth=3)\n",
    "#ax4.set_ylim((S0+dS0), zmin)\n",
    "ax1.set_ylim((50500.0), zmin)\n",
    "ax1.set_xlim(ymin, ymax)\n",
    "ax1.set_xlabel('y (km)', fontsize=16)\n",
    "ax1.set_ylabel('z (km)', fontsize=16)\n",
    "ax1.set_xticklabels(['%g'% (0.001*l) for l in ax1.get_xticks()], fontsize=14)\n",
    "ax1.set_yticklabels(['%g'% (0.001*l) for l in ax1.get_yticks()], fontsize=14)\n",
    "#ax1.legend(loc='lower right', fontsize=14, facecolor='silver')    \n",
    "\n",
    "X, Y = fig.get_dpi()*fig.get_size_inches()\n",
    "plt.title('Density (kg/m$^{3}$)', fontsize=18)\n",
    "ax2.axis('off')\n",
    "\n",
    "layers_list1 = ['water', 'sediment', 'SDR', 'continental', 'oceanic', 'mantle']\n",
    "layers_list2 = ['', '', '', 'crust', 'crust', '']\n",
    "colors_list = ['lightskyblue', 'tan', 'rosybrown', 'orange', 'olive', 'pink']\n",
    "density_list = ['1030', '2350', '2855', '2870', '2885', '3240'] #original\n",
    "ncols = len(colors_list)\n",
    "nrows = 1\n",
    "h = Y / nrows\n",
    "w = X / (ncols + 1)\n",
    "\n",
    "i=ncols-1\n",
    "for color, density, layers1, layers2 in zip(colors_list, density_list, layers_list1, layers_list2):\n",
    "    col = i // nrows\n",
    "    row = i % nrows\n",
    "    x = X - (col*w) - w\n",
    "    \n",
    "    yi_line = Y\n",
    "    yf_line = Y - Y*0.15\n",
    "    yi_text1 = Y - Y*0.2\n",
    "    yi_text2 = Y - Y*0.27\n",
    "    yi_text3 = Y - Y*0.08\n",
    "    \n",
    "    i-=1\n",
    "    poly = Polygon(np.array([[x, x+w*0.75, x+w*0.75, x], [yi_line, yi_line, yf_line, yf_line]]).T)\n",
    "    tmpx = [x for x in poly.x]\n",
    "    tmpx.append(poly.x[0])\n",
    "    tmpy = [y for y in poly.y]\n",
    "    tmpy.append(poly.y[0])\n",
    "    ax2.plot(tmpx, tmpy, linestyle='-', color='k', linewidth=1)\n",
    "    ax2.fill(tmpx, tmpy, color=color)\n",
    "    ax2.text(x+w*0.375, yi_text1, layers1, fontsize=(w*0.14), horizontalalignment='center', verticalalignment='top')\n",
    "    ax2.text(x+w*0.375, yi_text2, layers2, fontsize=(w*0.14), horizontalalignment='center', verticalalignment='top')\n",
    "    ax2.text(x+w*0.375, yi_text3, density, fontsize=(w*0.14), horizontalalignment='center', verticalalignment='center')\n",
    "\n",
    "plt.tight_layout()    \n",
    "    \n",
    "#mpl.savefig('../manuscript/figures/pelotas-profile-interpreted-model.png', dpi='figure', bbox_inches='tight')\n",
    "plt.show()      "
   ]
  },
  {
   "cell_type": "code",
   "execution_count": 28,
   "metadata": {},
   "outputs": [
    {
     "data": {
      "image/png": "[encoded data removed]",
      "text/plain": [
       "<matplotlib.figure.Figure at 0x181b092090>"
      ]
     },
     "metadata": {},
     "output_type": "display_data"
    }
   ],
   "source": [
    "%matplotlib inline\n",
    "plt.close('all')\n",
    "fig = plt.figure(figsize=(12,13))\n",
    "\n",
    "import matplotlib.gridspec as gridspec\n",
    "heights = [8, 8, 1]\n",
    "gs = gridspec.GridSpec(3, 1, height_ratios=heights)\n",
    "ax3 = plt.subplot(gs[0])\n",
    "ax4 = plt.subplot(gs[1])\n",
    "ax5 = plt.subplot(gs[2])\n",
    "\n",
    "ax3.axhline(y=0.0, xmin=ymin, xmax=ymax, color='k', linestyle='--', linewidth=1)\n",
    "ax3.plot(0.001*yc, gsyn, '-g', label='simulated data')\n",
    "ax3.plot(0.001*yc, gobs, 'or', mfc='none', markersize=7, label='observed data')\n",
    "ax3.set_xlim(0.001*ymin, 0.001*ymax)\n",
    "ax3.set_ylabel('gravity disturbance (mGal)', fontsize=16)\n",
    "ax3.set_xticklabels(['%g'% (l) for l in ax1.get_xticks()], fontsize=14)\n",
    "ax3.set_yticklabels(['%g'% (l) for l in ax1.get_yticks()], fontsize=14)\n",
    "ax3.legend(loc='best', fontsize=14, facecolor='silver')\n",
    "\n",
    "ax4.axhline(y=0.0, xmin=ymin, xmax=ymax, color='k', linestyle='-', linewidth=1)\n",
    "aux = yc <= COT\n",
    "for (pwi) in (polygons_water):\n",
    "    tmpx = [x for x in pwi.x]\n",
    "    tmpx.append(pwi.x[0])\n",
    "    tmpy = [y for y in pwi.y]\n",
    "    tmpy.append(pwi.y[0])\n",
    "    ax4.plot(tmpx, tmpy, linestyle='None')\n",
    "    ax4.fill(tmpx, tmpy, color='lightskyblue')\n",
    "for (ps0i) in (polygons_sediments0):\n",
    "    tmpx = [x for x in ps0i.x]\n",
    "    tmpx.append(ps0i.x[0])\n",
    "    tmpy = [y for y in ps0i.y]\n",
    "    tmpy.append(ps0i.y[0])\n",
    "    ax4.plot(tmpx, tmpy, linestyle='None')\n",
    "    ax4.fill(tmpx, tmpy, color='tan')\n",
    "for (ps1i) in (polygons_sediments1):\n",
    "    tmpx = [x for x in ps1i.x]\n",
    "    tmpx.append(ps1i.x[0])\n",
    "    tmpy = [y for y in ps1i.y]\n",
    "    tmpy.append(ps1i.y[0])\n",
    "    ax4.plot(tmpx, tmpy, linestyle='None')\n",
    "    ax4.fill(tmpx, tmpy, color='rosybrown')\n",
    "for (pci) in (polygons_crust[:len(yc[aux])]):\n",
    "    tmpx = [x for x in pci.x]\n",
    "    tmpx.append(pci.x[0])\n",
    "    tmpy = [y for y in pci.y]\n",
    "    tmpy.append(pci.y[0])\n",
    "    ax4.plot(tmpx, tmpy, linestyle='None')\n",
    "    ax4.fill(tmpx, tmpy, color='orange')\n",
    "for (pcoi) in (polygons_crust[len(yc[aux]):n]):\n",
    "    tmpx = [x for x in pcoi.x]\n",
    "    tmpx.append(pcoi.x[0])\n",
    "    tmpy = [y for y in pcoi.y]\n",
    "    tmpy.append(pcoi.y[0])\n",
    "    ax4.plot(tmpx, tmpy, linestyle='None')\n",
    "    ax4.fill(tmpx, tmpy, color='olive')\n",
    "for (pmi) in (polygons_mantle):\n",
    "    tmpx = [x for x in pmi.x]\n",
    "    tmpx.append(pmi.x[0])\n",
    "    tmpy = [y for y in pmi.y]\n",
    "    tmpy.append(pmi.y[0])\n",
    "    ax4.plot(tmpx, tmpy, linestyle='None')\n",
    "    ax4.fill(tmpx, tmpy, color='pink')\n",
    "\n",
    "#ax4.axhline(y=S0, xmin=ymin, xmax=ymax, color='w', linestyle='--', linewidth=3)\n",
    "ax4.axhline(y=S0+dS0, xmin=ymin, xmax=ymax, color='k', linestyle='-', linewidth=3)\n",
    "#ax4.axvline(x=COT, ymin=ybottom, ymax=ytop, linestyle=':', color='w', linewidth=3, label='COT')\n",
    "ax4.plot(yc, tw, '-k', linewidth=3)\n",
    "ax4.plot(yc, toi, '-k', linewidth=3)\n",
    "ax4.plot(yc, basement, '-k', linewidth=3, label='true surfaces')\n",
    "ax4.plot(yc, moho, '-k', linewidth=3)\n",
    "#ax4.set_ylim((S0+dS0), zmin)\n",
    "ax4.set_ylim((50500.0), zmin)\n",
    "ax4.set_xlim(ymin, ymax)\n",
    "ax4.set_xlabel('y (km)', fontsize=16)\n",
    "ax4.set_ylabel('z (km)', fontsize=16)\n",
    "ax4.set_xticklabels(['%g'% (0.001*l) for l in ax4.get_xticks()], fontsize=14)\n",
    "ax4.set_yticklabels(['%g'% (0.001*l) for l in ax4.get_yticks()], fontsize=14)\n",
    "#ax4.legend(loc='lower right', fontsize=14, facecolor='silver')    \n",
    "\n",
    "X, Y = fig.get_dpi()*fig.get_size_inches()\n",
    "plt.title('Density (kg/m$^{3}$)', fontsize=18)\n",
    "ax5.axis('off')\n",
    "\n",
    "layers_list1 = ['water', 'sediment', 'SDR', 'continental', 'oceanic', 'mantle']\n",
    "layers_list2 = ['', '', '', 'crust', 'crust', '']\n",
    "colors_list = ['lightskyblue', 'tan', 'rosybrown', 'orange', 'olive', 'pink']\n",
    "density_list = ['1030', '2350', '2855', '2870', '2885', '3240'] #original\n",
    "ncols = len(colors_list)\n",
    "nrows = 1\n",
    "h = Y / nrows\n",
    "w = X / (ncols + 1)\n",
    "\n",
    "i=ncols-1\n",
    "for color, density, layers1, layers2 in zip(colors_list, density_list, layers_list1, layers_list2):\n",
    "    col = i // nrows\n",
    "    row = i % nrows\n",
    "    x = X - (col*w) - w\n",
    "    \n",
    "    yi_line = Y\n",
    "    yf_line = Y - Y*0.15\n",
    "    yi_text1 = Y - Y*0.2\n",
    "    yi_text2 = Y - Y*0.27\n",
    "    yi_text3 = Y - Y*0.08\n",
    "    \n",
    "    i-=1\n",
    "    poly = Polygon(np.array([[x, x+w*0.75, x+w*0.75, x], [yi_line, yi_line, yf_line, yf_line]]).T)\n",
    "    tmpx = [x for x in poly.x]\n",
    "    tmpx.append(poly.x[0])\n",
    "    tmpy = [y for y in poly.y]\n",
    "    tmpy.append(poly.y[0])\n",
    "    ax5.plot(tmpx, tmpy, linestyle='-', color='k', linewidth=1)\n",
    "    ax5.fill(tmpx, tmpy, color=color)\n",
    "    ax5.text(x+w*0.375, yi_text1, layers1, fontsize=(w*0.14), horizontalalignment='center', verticalalignment='top')\n",
    "    ax5.text(x+w*0.375, yi_text2, layers2, fontsize=(w*0.14), horizontalalignment='center', verticalalignment='top')\n",
    "    ax5.text(x+w*0.375, yi_text3, density, fontsize=(w*0.14), horizontalalignment='center', verticalalignment='center')\n",
    "\n",
    "plt.tight_layout()    \n",
    "    \n",
    "#mpl.savefig('../manuscript/figures/pelotas-profile-interpreted-model-grafics.png', dpi='figure', bbox_inches='tight')\n",
    "plt.show()      "
   ]
  },
  {
   "cell_type": "code",
   "execution_count": null,
   "metadata": {
    "collapsed": true
   },
   "outputs": [],
   "source": []
  }
 ],
 "metadata": {
  "anaconda-cloud": {},
  "kernelspec": {
   "display_name": "Python 2",
   "language": "python",
   "name": "python2"
  },
  "language_info": {
   "codemirror_mode": {
    "name": "ipython",
    "version": 2
   },
   "file_extension": ".py",
   "mimetype": "text/x-python",
   "name": "python",
   "nbconvert_exporter": "python",
   "pygments_lexer": "ipython2",
   "version": "2.7.13"
  }
 },
 "nbformat": 4,
 "nbformat_minor": 2
}
